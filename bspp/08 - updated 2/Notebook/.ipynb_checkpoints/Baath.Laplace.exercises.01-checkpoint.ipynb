{
 "cells": [
  {
   "cell_type": "markdown",
   "metadata": {},
   "source": [
    "# Exercises on Laplace approximation in Rasmus Baath's blog\n",
    "\n",
    "[Easy Laplace Approximation of Bayesian Models in R](http://www.sumsar.net/blog/2013/11/easy-laplace-approximation/)"
   ]
  },
  {
   "cell_type": "markdown",
   "metadata": {},
   "source": [
    "### 1. Model: likelihood, prior, non normalized posterior"
   ]
  },
  {
   "cell_type": "code",
   "execution_count": null,
   "metadata": {},
   "outputs": [],
   "source": [
    "n1<-10\n",
    "n0<-8\n",
    "n<-n0+n1\n",
    "Lik<-function(theta){theta^n1*(1-theta)^n0}\n",
    "# Prior is uniform (constant = 1). \n",
    "# Joint coincides with Lik\n",
    "# Non normalized posterior is equal to the Joint\n",
    "nnh<-Lik"
   ]
  },
  {
   "cell_type": "markdown",
   "metadata": {},
   "source": [
    "#### Laplace approximation"
   ]
  },
  {
   "cell_type": "code",
   "execution_count": null,
   "metadata": {},
   "outputs": [],
   "source": [
    "# q=log(Lik)\n",
    "# Equating q'(theta)=0\n",
    "mu<-n1/n\n",
    "round(mu,4)\n",
    "# \n",
    "# Derived as sigma2= 1/|q''(n1/n)|\n",
    "sigma2<-n1*n0/n^3\n",
    "round(sigma2,4)\n",
    "sigma<-sqrt(sigma2)\n",
    "round(sigma,4)"
   ]
  },
  {
   "cell_type": "code",
   "execution_count": null,
   "metadata": {},
   "outputs": [],
   "source": [
    "Z<-integrate(nnh,0,1)$value\n",
    "h<-function(t){nnh(t)/Z}\n",
    "u<-seq(0,1,length=500)\n",
    "plot(u,h(u),\"l\",lwd=2,col=\"blue\")\n",
    "lines(u,dnorm(u,mean=mu,sd=sigma),col=\"red\",lwd=2)\n",
    "# Alternatively, using the fact that the model is Beta-Binomial, thus the posterior is\n",
    "# Beta(n1+1,n0+1)\n",
    "# lines(u,dbeta(u,shape1=n1+1,shape2=n0+1),col=\"green\",lwd=2)\n",
    "legend(\"topleft\",lwd=2,legend=c(\"Exact posterior pdf\",\"Laplace approximation\"),col=c(\"blue\",\"red\"))"
   ]
  },
  {
   "cell_type": "markdown",
   "metadata": {},
   "source": [
    "#### Repeat same Laplace approximation, now with number of heads $n_{1}=4$ and number of tails $n_{0}=2$"
   ]
  },
  {
   "cell_type": "code",
   "execution_count": null,
   "metadata": {},
   "outputs": [],
   "source": [
    "n1<-4\n",
    "n0<-2\n",
    "n<-n0+n1\n",
    "Lik<-function(theta){theta^n1*(1-theta)^n0}\n",
    "# Prior is uniform (constant = 1). \n",
    "# Joint coincides with Lik\n",
    "# Non normalized posterior is equal to the Joint\n",
    "nnh<-Lik"
   ]
  },
  {
   "cell_type": "code",
   "execution_count": null,
   "metadata": {},
   "outputs": [],
   "source": [
    "mu<-n1/n\n",
    "round(mu,4)\n",
    "sigma2<-n1*n0/n^3\n",
    "round(sigma2,4)\n",
    "sigma<-sqrt(sigma2)\n",
    "round(sigma,4)"
   ]
  },
  {
   "cell_type": "code",
   "execution_count": null,
   "metadata": {},
   "outputs": [],
   "source": [
    "Z<-integrate(nnh,0,1)$value\n",
    "h<-function(t){nnh(t)/Z}\n",
    "u<-seq(0,1,length=500)\n",
    "plot(u,h(u),\"l\",lwd=2,col=\"blue\")\n",
    "lines(u,dnorm(u,mean=mu,sd=sigma),col=\"red\",lwd=2)\n",
    "legend(\"topleft\",lwd=2,legend=c(\"Exact posterior pdf\",\"Laplace approximation\"),col=c(\"blue\",\"red\"))"
   ]
  },
  {
   "cell_type": "markdown",
   "metadata": {},
   "source": [
    "## 2. Normal data with a known $\\mu$\n",
    " \n",
    "### Flat prior for $\\sigma$\n",
    " \n",
    "Likelihood is normal with known $\\mu$ and standard deviation $\\sigma$.\n",
    "\n",
    "Assume a flat prior for $\\sigma$.\n",
    "\n",
    "Laplace approximate posterior of the standard deviation $\\sigma$, given $n$ random numbers distributed as Normal(10, 4): "
   ]
  },
  {
   "cell_type": "code",
   "execution_count": 8,
   "metadata": {},
   "outputs": [],
   "source": [
    "#install.packages(\"extraDistr\",dependencies=TRUE,repos=\"https://cloud.r-project.org\")\n",
    "require(extraDistr)"
   ]
  },
  {
   "cell_type": "code",
   "execution_count": 29,
   "metadata": {},
   "outputs": [
    {
     "data": {
      "text/html": [
       "<ol class=list-inline>\n",
       "\t<li>12.6379</li>\n",
       "\t<li>9.1143</li>\n",
       "\t<li>6.1514</li>\n",
       "\t<li>10.7498</li>\n",
       "\t<li>10.049</li>\n",
       "\t<li>12.8491</li>\n",
       "\t<li>6.9851</li>\n",
       "\t<li>10.1528</li>\n",
       "\t<li>14.7137</li>\n",
       "\t<li>9.3872</li>\n",
       "\t<li>9.3532</li>\n",
       "\t<li>15.841</li>\n",
       "\t<li>18.0378</li>\n",
       "\t<li>9.6882</li>\n",
       "\t<li>15.4174</li>\n",
       "\t<li>5.8913</li>\n",
       "\t<li>5.8353</li>\n",
       "\t<li>6.5175</li>\n",
       "\t<li>13.4125</li>\n",
       "\t<li>7.509</li>\n",
       "\t<li>14.8628</li>\n",
       "\t<li>3.5144</li>\n",
       "\t<li>9.7257</li>\n",
       "\t<li>9.7481</li>\n",
       "\t<li>14.3028</li>\n",
       "\t<li>14.5164</li>\n",
       "\t<li>11.8006</li>\n",
       "\t<li>10.2023</li>\n",
       "\t<li>9.5027</li>\n",
       "\t<li>13.648</li>\n",
       "\t<li>10.8399</li>\n",
       "\t<li>8.4599</li>\n",
       "\t<li>15.4871</li>\n",
       "\t<li>10.6359</li>\n",
       "\t<li>9.1806</li>\n",
       "\t<li>6.5916</li>\n",
       "\t<li>6.7621</li>\n",
       "\t<li>12.1336</li>\n",
       "\t<li>10.275</li>\n",
       "\t<li>7.0529</li>\n",
       "</ol>\n"
      ],
      "text/latex": [
       "\\begin{enumerate*}\n",
       "\\item 12.6379\n",
       "\\item 9.1143\n",
       "\\item 6.1514\n",
       "\\item 10.7498\n",
       "\\item 10.049\n",
       "\\item 12.8491\n",
       "\\item 6.9851\n",
       "\\item 10.1528\n",
       "\\item 14.7137\n",
       "\\item 9.3872\n",
       "\\item 9.3532\n",
       "\\item 15.841\n",
       "\\item 18.0378\n",
       "\\item 9.6882\n",
       "\\item 15.4174\n",
       "\\item 5.8913\n",
       "\\item 5.8353\n",
       "\\item 6.5175\n",
       "\\item 13.4125\n",
       "\\item 7.509\n",
       "\\item 14.8628\n",
       "\\item 3.5144\n",
       "\\item 9.7257\n",
       "\\item 9.7481\n",
       "\\item 14.3028\n",
       "\\item 14.5164\n",
       "\\item 11.8006\n",
       "\\item 10.2023\n",
       "\\item 9.5027\n",
       "\\item 13.648\n",
       "\\item 10.8399\n",
       "\\item 8.4599\n",
       "\\item 15.4871\n",
       "\\item 10.6359\n",
       "\\item 9.1806\n",
       "\\item 6.5916\n",
       "\\item 6.7621\n",
       "\\item 12.1336\n",
       "\\item 10.275\n",
       "\\item 7.0529\n",
       "\\end{enumerate*}\n"
      ],
      "text/markdown": [
       "1. 12.6379\n",
       "2. 9.1143\n",
       "3. 6.1514\n",
       "4. 10.7498\n",
       "5. 10.049\n",
       "6. 12.8491\n",
       "7. 6.9851\n",
       "8. 10.1528\n",
       "9. 14.7137\n",
       "10. 9.3872\n",
       "11. 9.3532\n",
       "12. 15.841\n",
       "13. 18.0378\n",
       "14. 9.6882\n",
       "15. 15.4174\n",
       "16. 5.8913\n",
       "17. 5.8353\n",
       "18. 6.5175\n",
       "19. 13.4125\n",
       "20. 7.509\n",
       "21. 14.8628\n",
       "22. 3.5144\n",
       "23. 9.7257\n",
       "24. 9.7481\n",
       "25. 14.3028\n",
       "26. 14.5164\n",
       "27. 11.8006\n",
       "28. 10.2023\n",
       "29. 9.5027\n",
       "30. 13.648\n",
       "31. 10.8399\n",
       "32. 8.4599\n",
       "33. 15.4871\n",
       "34. 10.6359\n",
       "35. 9.1806\n",
       "36. 6.5916\n",
       "37. 6.7621\n",
       "38. 12.1336\n",
       "39. 10.275\n",
       "40. 7.0529\n",
       "\n",
       "\n"
      ],
      "text/plain": [
       " [1] 12.6379  9.1143  6.1514 10.7498 10.0490 12.8491  6.9851 10.1528 14.7137\n",
       "[10]  9.3872  9.3532 15.8410 18.0378  9.6882 15.4174  5.8913  5.8353  6.5175\n",
       "[19] 13.4125  7.5090 14.8628  3.5144  9.7257  9.7481 14.3028 14.5164 11.8006\n",
       "[28] 10.2023  9.5027 13.6480 10.8399  8.4599 15.4871 10.6359  9.1806  6.5916\n",
       "[37]  6.7621 12.1336 10.2750  7.0529"
      ]
     },
     "metadata": {},
     "output_type": "display_data"
    }
   ],
   "source": [
    "mu<-10\n",
    "n<-40  # n was 8 in the original post\n",
    "sigma.data.gen<-4\n",
    "x<-rnorm(n = n, mean = mu, sd = sigma.data.gen)\n",
    "## [1] 10.770  4.213  8.707 16.489  7.244 18.168 13.775 18.328\n",
    "round(x,4) "
   ]
  },
  {
   "cell_type": "code",
   "execution_count": 30,
   "metadata": {},
   "outputs": [
    {
     "data": {
      "text/html": [
       "<ol class=list-inline>\n",
       "\t<li>11.1753</li>\n",
       "\t<li>2.4989</li>\n",
       "</ol>\n"
      ],
      "text/latex": [
       "\\begin{enumerate*}\n",
       "\\item 11.1753\n",
       "\\item 2.4989\n",
       "\\end{enumerate*}\n"
      ],
      "text/markdown": [
       "1. 11.1753\n",
       "2. 2.4989\n",
       "\n",
       "\n"
      ],
      "text/plain": [
       "[1] 11.1753  2.4989"
      ]
     },
     "metadata": {},
     "output_type": "display_data"
    }
   ],
   "source": [
    "s2mu<-sum((x-mu)^2)/n\n",
    "Laplace.Approx.mean<-s2mu\n",
    "Laplace.Approx.sd<-sqrt(2/n)*s2mu\n",
    "round(c(Laplace.Approx.mean,Laplace.Approx.sd),4)"
   ]
  },
  {
   "cell_type": "markdown",
   "metadata": {},
   "source": [
    "Exact posterior pdf, in terms of $v=\\sigma^{2}$ is:\n",
    "\n",
    "$$\n",
    "    h(v\\,|\\,x)\\propto v^{-n/2}\\cdot\\big\\{-\\dfrac{n\\,s^2(\\mu)}{2\\,v}\\big\\}.\n",
    "$$\n",
    "\n",
    "This is an inverse gamma distribution, $\\operatorname{IG}(\\alpha,\\beta)$, where:\n",
    "\n",
    "$$\n",
    "    \\left\\{\\begin{array}{ccl}\n",
    "    \\alpha &=&\\dfrac{n}{2}-1,\\\\\n",
    "    \\beta  &=&\\dfrac{n\\,s^{2}(\\mu)}{2}.\n",
    "    \\end{array}\\right.\n",
    "$$"
   ]
  },
  {
   "cell_type": "code",
   "execution_count": 31,
   "metadata": {},
   "outputs": [],
   "source": [
    "alpha<-n/2-1\n",
    "beta<-n*s2mu/2"
   ]
  },
  {
   "cell_type": "code",
   "execution_count": 43,
   "metadata": {},
   "outputs": [
    {
     "data": {
      "image/png": "[encoded data removed]",
      "text/plain": [
       "plot without title"
      ]
     },
     "metadata": {},
     "output_type": "display_data"
    }
   ],
   "source": [
    "v<-seq(0,50,length=500)\n",
    "y<-dinvgamma(v,alpha,beta)\n",
    "y.max<-ceiling(50*max(y))/50\n",
    "options(repr.plot.width=5, repr.plot.height=5)\n",
    "plot(v,y,type=\"l\",lwd=2,col=\"blue\",xlab=\"v\",ylab=\"Density\",ylim=c(0,y.max),pin=c(3,3))\n",
    "lines(v,dnorm(v,mean=Laplace.Approx.mean,sd=Laplace.Approx.sd),lwd=2,col=\"red\")\n",
    "legend(\"topright\",lwd=2,legend=c(\"Exact posterior pdf\",\"Laplace approximation\"),col=c(\"blue\",\"red\"))"
   ]
  },
  {
   "cell_type": "code",
   "execution_count": 42,
   "metadata": {},
   "outputs": [
    {
     "data": {
      "text/html": [
       "0.151009302749877"
      ],
      "text/latex": [
       "0.151009302749877"
      ],
      "text/markdown": [
       "0.151009302749877"
      ],
      "text/plain": [
       "[1] 0.1510093"
      ]
     },
     "metadata": {},
     "output_type": "display_data"
    },
    {
     "data": {
      "image/png": "[encoded data removed]",
      "text/plain": [
       "plot without title"
      ]
     },
     "metadata": {},
     "output_type": "display_data"
    }
   ],
   "source": [
    "v<-seq(0.00001,50,length=500) # sequence of non-zeros but values close to zeros in order to avoid nans\n",
    "nnh<-function(v){v^{-n/2}*exp(-n*s2mu/(2*v))}\n",
    "Z<-integrate(nnh,0.0001,50)$value\n",
    "h<-function(t){nnh(t)/Z}\n",
    "options(repr.plot.width=5, repr.plot.height=5)\n",
    "y<-h(v)\n",
    "max(y)\n",
    "y.max<-ceiling(50*max(y))/50\n",
    "plot(v,y,type=\"l\",lwd=2,col=\"blue\",xlab=\"v\",ylab=\"Density\",ylim=c(0,y.max))\n",
    "lines(v,dnorm(v,Laplace.Approx.mean,Laplace.Approx.sd),lwd=2,col=\"red\")\n",
    "legend(\"topright\",lwd=2,legend=c(\"Exact posterior pdf\",\"Laplace approximation\"),col=c(\"blue\",\"red\"))"
   ]
  },
  {
   "cell_type": "markdown",
   "metadata": {},
   "source": [
    "## 3. Normal data with both parameters unknown\n",
    "\n",
    "### Sigma with a nonconjugate prior\n",
    "\n",
    "#### A $\\operatorname{LogNormal}$ instead of an inverse gamma $\\operatorname{IG}$"
   ]
  },
  {
   "cell_type": "markdown",
   "metadata": {},
   "source": [
    "$$\n",
    "    y_{i}\\sim\\operatorname{Normal}(\\mu,\\sigma^{2})\n",
    "$$\n",
    "\n",
    "$$\n",
    "    \\mu\\sim\\operatorname{Normal}(0,100^2)\n",
    "$$\n",
    "\n",
    "$$\n",
    "    \\sigma\\sim\\operatorname{LogNormal}(0,4^2)\n",
    "$$"
   ]
  },
  {
   "cell_type": "markdown",
   "metadata": {},
   "source": [
    "Here $y$ is $n=20$ datapoints generated like the following:"
   ]
  },
  {
   "cell_type": "code",
   "execution_count": 52,
   "metadata": {},
   "outputs": [
    {
     "data": {
      "text/html": [
       "<dl class=dl-horizontal>\n",
       "\t<dt>mean</dt>\n",
       "\t\t<dd>12.7206784421707</dd>\n",
       "\t<dt>sd</dt>\n",
       "\t\t<dd>5.76193928989984</dd>\n",
       "</dl>\n"
      ],
      "text/latex": [
       "\\begin{description*}\n",
       "\\item[mean] 12.7206784421707\n",
       "\\item[sd] 5.76193928989984\n",
       "\\end{description*}\n"
      ],
      "text/markdown": [
       "mean\n",
       ":   12.7206784421707sd\n",
       ":   5.76193928989984\n",
       "\n"
      ],
      "text/plain": [
       "     mean        sd \n",
       "12.720678  5.761939 "
      ]
     },
     "metadata": {},
     "output_type": "display_data"
    }
   ],
   "source": [
    "set.seed(1337)\n",
    "n<-20\n",
    "m<-10\n",
    "s<-5\n",
    "y <- rnorm(n, mean=m,sd=s)\n",
    "c(mean = mean(y), sd = sd(y)) "
   ]
  },
  {
   "cell_type": "markdown",
   "metadata": {},
   "source": [
    "Define a function calculating the unnormalized log posterior of the model above \n",
    "given a parameter vector $p$ and a vector of datapoints $y$."
   ]
  },
  {
   "cell_type": "code",
   "execution_count": 53,
   "metadata": {},
   "outputs": [],
   "source": [
    "model<-function(p,y){\n",
    "    log_lik<-sum(dnorm(y,p[\"mu\"],p[\"sigma\"],log=TRUE))  # the log likelihood\n",
    "    log_post<-log_lik+dnorm(p[\"mu\"],0,100,log = TRUE)+dlnorm(p[\"sigma\"],0,4,log = TRUE)\n",
    "    return(log_post)\n",
    "    } "
   ]
  },
  {
   "cell_type": "code",
   "execution_count": 54,
   "metadata": {},
   "outputs": [
    {
     "data": {
      "text/html": [
       "<dl>\n",
       "\t<dt>$par</dt>\n",
       "\t\t<dd><dl class=dl-horizontal>\n",
       "\t<dt>mu</dt>\n",
       "\t\t<dd>12.7149315821225</dd>\n",
       "\t<dt>sigma</dt>\n",
       "\t\t<dd>5.4641079620208</dd>\n",
       "</dl>\n",
       "</dd>\n",
       "\t<dt>$value</dt>\n",
       "\t\t<dd>-72.5324014293537</dd>\n",
       "\t<dt>$counts</dt>\n",
       "\t\t<dd><dl class=dl-horizontal>\n",
       "\t<dt>function</dt>\n",
       "\t\t<dd>77</dd>\n",
       "\t<dt>gradient</dt>\n",
       "\t\t<dd>&lt;NA&gt;</dd>\n",
       "</dl>\n",
       "</dd>\n",
       "\t<dt>$convergence</dt>\n",
       "\t\t<dd>0</dd>\n",
       "\t<dt>$message</dt>\n",
       "\t\t<dd>NULL</dd>\n",
       "\t<dt>$hessian</dt>\n",
       "\t\t<dd><table>\n",
       "<thead><tr><th></th><th scope=col>mu</th><th scope=col>sigma</th></tr></thead>\n",
       "<tbody>\n",
       "\t<tr><th scope=row>mu</th><td>-0.669971421</td><td>-0.001409068</td></tr>\n",
       "\t<tr><th scope=row>sigma</th><td>-0.001409068</td><td>-1.418103384</td></tr>\n",
       "</tbody>\n",
       "</table>\n",
       "</dd>\n",
       "</dl>\n"
      ],
      "text/latex": [
       "\\begin{description}\n",
       "\\item[\\$par] \\begin{description*}\n",
       "\\item[mu] 12.7149315821225\n",
       "\\item[sigma] 5.4641079620208\n",
       "\\end{description*}\n",
       "\n",
       "\\item[\\$value] -72.5324014293537\n",
       "\\item[\\$counts] \\begin{description*}\n",
       "\\item[function] 77\n",
       "\\item[gradient] <NA>\n",
       "\\end{description*}\n",
       "\n",
       "\\item[\\$convergence] 0\n",
       "\\item[\\$message] NULL\n",
       "\\item[\\$hessian] \\begin{tabular}{r|ll}\n",
       "  & mu & sigma\\\\\n",
       "\\hline\n",
       "\tmu & -0.669971421 & -0.001409068\\\\\n",
       "\tsigma & -0.001409068 & -1.418103384\\\\\n",
       "\\end{tabular}\n",
       "\n",
       "\\end{description}\n"
      ],
      "text/markdown": [
       "$par\n",
       ":   mu\n",
       ":   12.7149315821225sigma\n",
       ":   5.4641079620208\n",
       "\n",
       "\n",
       "$value\n",
       ":   -72.5324014293537\n",
       "$counts\n",
       ":   function\n",
       ":   77gradient\n",
       ":   &lt;NA&gt;\n",
       "\n",
       "\n",
       "$convergence\n",
       ":   0\n",
       "$message\n",
       ":   NULL\n",
       "$hessian\n",
       ":   \n",
       "| <!--/--> | mu | sigma | \n",
       "|---|---|\n",
       "| mu | -0.669971421 | -0.001409068 | \n",
       "| sigma | -0.001409068 | -1.418103384 | \n",
       "\n",
       "\n",
       "\n",
       "\n",
       "\n"
      ],
      "text/plain": [
       "$par\n",
       "       mu     sigma \n",
       "12.714932  5.464108 \n",
       "\n",
       "$value\n",
       "[1] -72.5324\n",
       "\n",
       "$counts\n",
       "function gradient \n",
       "      77       NA \n",
       "\n",
       "$convergence\n",
       "[1] 0\n",
       "\n",
       "$message\n",
       "NULL\n",
       "\n",
       "$hessian\n",
       "                mu        sigma\n",
       "mu    -0.669971421 -0.001409068\n",
       "sigma -0.001409068 -1.418103384\n"
      ]
     },
     "metadata": {},
     "output_type": "display_data"
    }
   ],
   "source": [
    "inits <- c(mu = 0.00001, sigma = 1)\n",
    "fit <- optim(inits, model, control = list(fnscale = -1), hessian = TRUE, y = y)\n",
    "fit"
   ]
  },
  {
   "cell_type": "code",
   "execution_count": 55,
   "metadata": {},
   "outputs": [
    {
     "data": {
      "text/html": [
       "<dl class=dl-horizontal>\n",
       "\t<dt>mu</dt>\n",
       "\t\t<dd>12.7149</dd>\n",
       "\t<dt>sigma</dt>\n",
       "\t\t<dd>5.4641</dd>\n",
       "</dl>\n"
      ],
      "text/latex": [
       "\\begin{description*}\n",
       "\\item[mu] 12.7149\n",
       "\\item[sigma] 5.4641\n",
       "\\end{description*}\n"
      ],
      "text/markdown": [
       "mu\n",
       ":   12.7149sigma\n",
       ":   5.4641\n",
       "\n"
      ],
      "text/plain": [
       "     mu   sigma \n",
       "12.7149  5.4641 "
      ]
     },
     "metadata": {},
     "output_type": "display_data"
    }
   ],
   "source": [
    "param_mean <- fit$par\n",
    "param_cov_mat <- solve(-fit$hessian) #~ gives the inverse for a given non-singular matrix\n",
    "round(param_mean, 4)"
   ]
  },
  {
   "cell_type": "code",
   "execution_count": 56,
   "metadata": {},
   "outputs": [
    {
     "data": {
      "text/html": [
       "<table>\n",
       "<thead><tr><th></th><th scope=col>mu</th><th scope=col>sigma</th></tr></thead>\n",
       "<tbody>\n",
       "\t<tr><th scope=row>mu</th><td> 1.493</td><td>-0.001</td></tr>\n",
       "\t<tr><th scope=row>sigma</th><td>-0.001</td><td> 0.705</td></tr>\n",
       "</tbody>\n",
       "</table>\n"
      ],
      "text/latex": [
       "\\begin{tabular}{r|ll}\n",
       "  & mu & sigma\\\\\n",
       "\\hline\n",
       "\tmu &  1.493 & -0.001\\\\\n",
       "\tsigma & -0.001 &  0.705\\\\\n",
       "\\end{tabular}\n"
      ],
      "text/markdown": [
       "\n",
       "| <!--/--> | mu | sigma | \n",
       "|---|---|\n",
       "| mu |  1.493 | -0.001 | \n",
       "| sigma | -0.001 |  0.705 | \n",
       "\n",
       "\n"
      ],
      "text/plain": [
       "      mu     sigma \n",
       "mu     1.493 -0.001\n",
       "sigma -0.001  0.705"
      ]
     },
     "metadata": {},
     "output_type": "display_data"
    }
   ],
   "source": [
    "round(param_cov_mat, 3)"
   ]
  },
  {
   "cell_type": "code",
   "execution_count": 59,
   "metadata": {},
   "outputs": [],
   "source": [
    "#install.packages(\"mvtnorm\",dependencies=TRUE,repos=\"https://cloud.r-project.org\")\n",
    "require(mvtnorm)\n",
    "samples <- rmvnorm(10000, param_mean, param_cov_mat) #~ matrix of two columns"
   ]
  },
  {
   "cell_type": "code",
   "execution_count": 60,
   "metadata": {},
   "outputs": [
    {
     "name": "stdout",
     "output_type": "stream",
     "text": [
      " num [1:10000, 1:2] 12.4 11.9 16 13 14.3 ...\n",
      " - attr(*, \"dimnames\")=List of 2\n",
      "  ..$ : NULL\n",
      "  ..$ : chr [1:2] \"mu\" \"sigma\"\n"
     ]
    }
   ],
   "source": [
    "str(samples)"
   ]
  },
  {
   "cell_type": "markdown",
   "metadata": {},
   "source": [
    "### Posterior predictive pdf\n",
    "\n",
    "Now we add a third column, `pred`, where we generate $n$ samples, each from the pdf with the parameters $\\mu$ and $\\sigma$ from the first two columns."
   ]
  },
  {
   "cell_type": "code",
   "execution_count": 61,
   "metadata": {},
   "outputs": [],
   "source": [
    "samples <- cbind(samples, pred = rnorm(n = nrow(samples), samples[, \"mu\"], samples[,\"sigma\"]))"
   ]
  },
  {
   "cell_type": "code",
   "execution_count": 62,
   "metadata": {},
   "outputs": [
    {
     "name": "stdout",
     "output_type": "stream",
     "text": [
      " num [1:10000, 1:3] 12.4 11.9 16 13 14.3 ...\n",
      " - attr(*, \"dimnames\")=List of 2\n",
      "  ..$ : NULL\n",
      "  ..$ : chr [1:3] \"mu\" \"sigma\" \"pred\"\n"
     ]
    }
   ],
   "source": [
    "str(samples)"
   ]
  },
  {
   "cell_type": "code",
   "execution_count": 69,
   "metadata": {},
   "outputs": [
    {
     "name": "stderr",
     "output_type": "stream",
     "text": [
      "Loading required package: lattice\n"
     ]
    }
   ],
   "source": [
    "#install.packages(\"coda\",dependencies=TRUE,repos=\"https://cloud.r-project.org\")\n",
    "require(coda)\n",
    "#install.packages(\"lattice\",dependencies=TRUE,repos=\"https://cloud.r-project.org\")\n",
    "require(lattice)\n",
    "samples <- mcmc(samples) #~ casting, only prepare the object to be analysed"
   ]
  },
  {
   "cell_type": "code",
   "execution_count": 70,
   "metadata": {},
   "outputs": [
    {
     "name": "stdout",
     "output_type": "stream",
     "text": [
      " 'mcmc' num [1:10000, 1:3] 12.4 11.9 16 13 14.3 ...\n",
      " - attr(*, \"dimnames\")=List of 2\n",
      "  ..$ : NULL\n",
      "  ..$ : chr [1:3] \"mu\" \"sigma\" \"pred\"\n",
      " - attr(*, \"mcpar\")= num [1:3] 1 10000 1\n"
     ]
    }
   ],
   "source": [
    "str(samples)"
   ]
  },
  {
   "cell_type": "code",
   "execution_count": 71,
   "metadata": {},
   "outputs": [
    {
     "data": {},
     "metadata": {},
     "output_type": "display_data"
    },
    {
     "data": {
      "image/png": "[encoded data removed]",
      "text/plain": [
       "plot without title"
      ]
     },
     "metadata": {},
     "output_type": "display_data"
    }
   ],
   "source": [
    "densityplot(samples)"
   ]
  },
  {
   "cell_type": "code",
   "execution_count": 72,
   "metadata": {},
   "outputs": [
    {
     "data": {
      "text/plain": [
       "\n",
       "Iterations = 1:10000\n",
       "Thinning interval = 1 \n",
       "Number of chains = 1 \n",
       "Sample size per chain = 10000 \n",
       "\n",
       "1. Empirical mean and standard deviation for each variable,\n",
       "   plus standard error of the mean:\n",
       "\n",
       "        Mean     SD Naive SE Time-series SE\n",
       "mu    12.710 1.2334 0.012334       0.012334\n",
       "sigma  5.452 0.8393 0.008393       0.008646\n",
       "pred  12.707 5.6310 0.056310       0.056310\n",
       "\n",
       "2. Quantiles for each variable:\n",
       "\n",
       "        2.5%    25%    50%    75%  97.5%\n",
       "mu    10.295 11.891 12.707 13.540 15.137\n",
       "sigma  3.829  4.881  5.439  6.021  7.093\n",
       "pred   1.522  8.986 12.668 16.416 23.996\n"
      ]
     },
     "metadata": {},
     "output_type": "display_data"
    }
   ],
   "source": [
    "summary(samples)"
   ]
  },
  {
   "cell_type": "code",
   "execution_count": null,
   "metadata": {},
   "outputs": [],
   "source": []
  }
 ],
 "metadata": {
  "kernelspec": {
   "display_name": "R",
   "language": "R",
   "name": "ir"
  },
  "language_info": {
   "codemirror_mode": "r",
   "file_extension": ".r",
   "mimetype": "text/x-r-source",
   "name": "R",
   "pygments_lexer": "r",
   "version": "3.4.3"
  }
 },
 "nbformat": 4,
 "nbformat_minor": 2
}
