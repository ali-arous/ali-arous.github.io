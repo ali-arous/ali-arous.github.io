{
 "cells": [
  {
   "cell_type": "markdown",
   "metadata": {},
   "source": [
    "# Exercises on Laplace approximation in Rasmus Baath's blog - 02\n",
    "\n",
    "\n",
    "[Easy Laplace Approximation of Bayesian Models in R](http://www.sumsar.net/blog/2013/11/easy-laplace-approximation/)"
   ]
  },
  {
   "cell_type": "code",
   "execution_count": 1,
   "metadata": {},
   "outputs": [
    {
     "name": "stderr",
     "output_type": "stream",
     "text": [
      "also installing the dependency 'coda'\n",
      "\n"
     ]
    },
    {
     "name": "stdout",
     "output_type": "stream",
     "text": [
      "package 'coda' successfully unpacked and MD5 sums checked\n",
      "package 'rjags' successfully unpacked and MD5 sums checked\n",
      "\n",
      "The downloaded binary packages are in\n",
      "\tC:\\Users\\ASUS\\AppData\\Local\\Temp\\RtmpIrk35M\\downloaded_packages\n"
     ]
    },
    {
     "name": "stderr",
     "output_type": "stream",
     "text": [
      "Loading required package: rjags\n",
      "Warning message:\n",
      "\"package 'rjags' was built under R version 3.4.4\"Loading required package: coda\n",
      "Warning message:\n",
      "\"package 'coda' was built under R version 3.4.4\"Linked to JAGS 4.3.0\n",
      "Loaded modules: basemod,bugs\n"
     ]
    }
   ],
   "source": [
    "install.packages(\"rjags\",dependencies=TRUE,repos=\"https://cloud.r-project.org\")\n",
    "require(rjags)"
   ]
  },
  {
   "cell_type": "markdown",
   "metadata": {},
   "source": [
    "## 3. Normal data with both parameters unknown - JAGS\n",
    "\n",
    "### Sigma with a nonconjugate prior\n",
    "\n",
    "#### A $\\operatorname{LogNormal}$ instead of an inverse gamma $\\operatorname{IG}$"
   ]
  },
  {
   "cell_type": "markdown",
   "metadata": {},
   "source": [
    "$$\n",
    "    y_{i}\\sim\\operatorname{Normal}(\\mu,\\sigma^{2})\n",
    "$$\n",
    "\n",
    "$$\n",
    "    \\mu\\sim\\operatorname{Normal}(0,100^2)\n",
    "$$\n",
    "\n",
    "$$\n",
    "    \\sigma\\sim\\operatorname{LogNormal}(0,4^2)\n",
    "$$"
   ]
  },
  {
   "cell_type": "markdown",
   "metadata": {},
   "source": [
    "Here $y$ is $n=20$ datapoints generated like the following:"
   ]
  },
  {
   "cell_type": "code",
   "execution_count": 2,
   "metadata": {},
   "outputs": [
    {
     "data": {
      "text/html": [
       "<dl class=dl-horizontal>\n",
       "\t<dt>mean</dt>\n",
       "\t\t<dd>12.7206784421707</dd>\n",
       "\t<dt>sd</dt>\n",
       "\t\t<dd>5.76193928989984</dd>\n",
       "</dl>\n"
      ],
      "text/latex": [
       "\\begin{description*}\n",
       "\\item[mean] 12.7206784421707\n",
       "\\item[sd] 5.76193928989984\n",
       "\\end{description*}\n"
      ],
      "text/markdown": [
       "mean\n",
       ":   12.7206784421707sd\n",
       ":   5.76193928989984\n",
       "\n"
      ],
      "text/plain": [
       "     mean        sd \n",
       "12.720678  5.761939 "
      ]
     },
     "metadata": {},
     "output_type": "display_data"
    }
   ],
   "source": [
    "set.seed(1337)\n",
    "n<-20\n",
    "m<-10\n",
    "s<-5\n",
    "y <- rnorm(n, mean=m,sd=s)\n",
    "c(mean = mean(y), sd = sd(y)) "
   ]
  },
  {
   "cell_type": "code",
   "execution_count": 3,
   "metadata": {},
   "outputs": [],
   "source": [
    "# The model specification\n",
    "#~ remember in jags...\n",
    "#~ stochastic nodes, this symbol: (~)\n",
    "#~ there are stochastic nodes as well as deterministic nodes\n",
    "model_string <- \"model{\n",
    "  for(i in 1:length(y)) {\n",
    "    y[i] ~ dnorm(mu, tau)\n",
    "  }\n",
    "  mu ~ dnorm(0, 0.0001)\n",
    "  sigma ~ dlnorm(0, 0.0625)\n",
    "  tau <- 1 / pow(sigma, 2)\n",
    "}\""
   ]
  },
  {
   "cell_type": "code",
   "execution_count": 4,
   "metadata": {},
   "outputs": [
    {
     "name": "stdout",
     "output_type": "stream",
     "text": [
      "Compiling model graph\n",
      "   Resolving undeclared variables\n",
      "   Allocating nodes\n",
      "Graph information:\n",
      "   Observed stochastic nodes: 20\n",
      "   Unobserved stochastic nodes: 2\n",
      "   Total graph size: 32\n",
      "\n",
      "Initializing model\n",
      "\n"
     ]
    }
   ],
   "source": [
    "# Running the model\n",
    "model <- jags.model(textConnection(model_string), data = list(y = y), n.chains = 3, n.adapt= 10000)\n",
    "update(model, 10000); # Burnin for 10000 samples\n",
    "mcmc_samples <- coda.samples(model, variable.names=c(\"mu\", \"sigma\"), n.iter=20000)"
   ]
  },
  {
   "cell_type": "code",
   "execution_count": 5,
   "metadata": {},
   "outputs": [
    {
     "name": "stdout",
     "output_type": "stream",
     "text": [
      "List of 3\n",
      " $ : 'mcmc' num [1:20000, 1:2] 12.4 13.8 12.6 13.4 13.3 ...\n",
      "  ..- attr(*, \"dimnames\")=List of 2\n",
      "  .. ..$ : NULL\n",
      "  .. ..$ : chr [1:2] \"mu\" \"sigma\"\n",
      "  ..- attr(*, \"mcpar\")= num [1:3] 20001 40000 1\n",
      " $ : 'mcmc' num [1:20000, 1:2] 12.1 12.9 10.4 12.8 11.6 ...\n",
      "  ..- attr(*, \"dimnames\")=List of 2\n",
      "  .. ..$ : NULL\n",
      "  .. ..$ : chr [1:2] \"mu\" \"sigma\"\n",
      "  ..- attr(*, \"mcpar\")= num [1:3] 20001 40000 1\n",
      " $ : 'mcmc' num [1:20000, 1:2] 12.2 10.7 13.7 13.9 12.9 ...\n",
      "  ..- attr(*, \"dimnames\")=List of 2\n",
      "  .. ..$ : NULL\n",
      "  .. ..$ : chr [1:2] \"mu\" \"sigma\"\n",
      "  ..- attr(*, \"mcpar\")= num [1:3] 20001 40000 1\n",
      " - attr(*, \"class\")= chr \"mcmc.list\"\n"
     ]
    }
   ],
   "source": [
    "str(mcmc_samples)"
   ]
  },
  {
   "cell_type": "code",
   "execution_count": 6,
   "metadata": {},
   "outputs": [
    {
     "data": {
      "image/png": "[encoded data removed]",
      "text/plain": [
       "Plot with title \"Density of sigma\""
      ]
     },
     "metadata": {},
     "output_type": "display_data"
    }
   ],
   "source": [
    "plot(mcmc_samples)"
   ]
  },
  {
   "cell_type": "code",
   "execution_count": 7,
   "metadata": {},
   "outputs": [
    {
     "data": {
      "text/plain": [
       "\n",
       "Iterations = 20001:40000\n",
       "Thinning interval = 1 \n",
       "Number of chains = 3 \n",
       "Sample size per chain = 20000 \n",
       "\n",
       "1. Empirical mean and standard deviation for each variable,\n",
       "   plus standard error of the mean:\n",
       "\n",
       "        Mean    SD Naive SE Time-series SE\n",
       "mu    12.724 1.360 0.005551       0.005532\n",
       "sigma  5.988 1.045 0.004266       0.006617\n",
       "\n",
       "2. Quantiles for each variable:\n",
       "\n",
       "        2.5%    25%    50%    75%  97.5%\n",
       "mu    10.044 11.837 12.723 13.608 15.417\n",
       "sigma  4.363  5.253  5.848  6.561  8.428\n"
      ]
     },
     "metadata": {},
     "output_type": "display_data"
    }
   ],
   "source": [
    "summary(mcmc_samples)"
   ]
  },
  {
   "cell_type": "markdown",
   "metadata": {},
   "source": [
    "## 3. Normal data with both parameters unknown - Stan"
   ]
  },
  {
   "cell_type": "code",
   "execution_count": 9,
   "metadata": {},
   "outputs": [],
   "source": [
    "#install.packages(\"rstan\",dependencies=TRUE,repos=\"https://cloud.r-project.org\")\n",
    "require(rstan)\n",
    "# options(mc.cores= parallel::detectCores())\n",
    "# rstan_options(auto_write=TRUE)"
   ]
  },
  {
   "cell_type": "code",
   "execution_count": 10,
   "metadata": {},
   "outputs": [],
   "source": [
    "# The model specification\n",
    "model_string <- \"\n",
    "data {\n",
    "  int<lower=0> N;\n",
    "  real y[N];\n",
    "}\n",
    "\n",
    "parameters {\n",
    "  real mu;\n",
    "  real<lower=0> sigma;\n",
    "}\n",
    "model{\n",
    "  y ~ normal(mu, sigma);\n",
    "  mu ~ normal(0, 100);\n",
    "  sigma ~ lognormal(0, 4);\n",
    "}\"\n",
    "\n",
    "# لو كان بدك ديتيرمينيستيك نودز كان بدك أنوذر بلوك فور ألجبرايك سومسينغ"
   ]
  },
  {
   "cell_type": "code",
   "execution_count": 12,
   "metadata": {},
   "outputs": [
    {
     "name": "stdout",
     "output_type": "stream",
     "text": [
      "In file included from C:/Users/Josep/Documents/R/win-library/3.5/BH/include/boost/config.hpp:39:0,\n",
      "                 from C:/Users/Josep/Documents/R/win-library/3.5/BH/include/boost/math/tools/config.hpp:13,\n",
      "                 from C:/Users/Josep/Documents/R/win-library/3.5/StanHeaders/include/stan/math/rev/core/var.hpp:7,\n",
      "                 from C:/Users/Josep/Documents/R/win-library/3.5/StanHeaders/include/stan/math/rev/core/gevv_vvv_vari.hpp:5,\n",
      "                 from C:/Users/Josep/Documents/R/win-library/3.5/StanHeaders/include/stan/math/rev/core.hpp:12,\n",
      "                 from C:/Users/Josep/Documents/R/win-library/3.5/StanHeaders/include/stan/math/rev/mat.hpp:4,\n",
      "                 from C:/Users/Josep/Documents/R/win-library/3.5/StanHeaders/include/stan/math.hpp:4,\n",
      "                 from C:/Users/Josep/Documents/R/win-library/3.5/StanHeaders/include/src/stan/model/model_header.hpp:4,\n",
      "                 from file3c9434fb618e.cpp:8:\n",
      "C:/Users/Josep/Documents/R/win-library/3.5/BH/include/boost/config/compiler/gcc.hpp:186:0: warning: \"BOOST_NO_CXX11_RVALUE_REFERENCES\" redefined\n",
      " #  define BOOST_NO_CXX11_RVALUE_REFERENCES\n",
      " ^\n",
      "<command-line>:0:0: note: this is the location of the previous definition\n",
      "In file included from C:/Users/Josep/Documents/R/win-library/3.5/StanHeaders/include/stan/math/rev/core.hpp:44:0,\n",
      "                 from C:/Users/Josep/Documents/R/win-library/3.5/StanHeaders/include/stan/math/rev/mat.hpp:4,\n",
      "                 from C:/Users/Josep/Documents/R/win-library/3.5/StanHeaders/include/stan/math.hpp:4,\n",
      "                 from C:/Users/Josep/Documents/R/win-library/3.5/StanHeaders/include/src/stan/model/model_header.hpp:4,\n",
      "                 from file3c9434fb618e.cpp:8:\n",
      "C:/Users/Josep/Documents/R/win-library/3.5/StanHeaders/include/stan/math/rev/core/set_zero_all_adjoints.hpp:14:17: warning: 'void stan::math::set_zero_all_adjoints()' defined but not used [-Wunused-function]\n",
      "     static void set_zero_all_adjoints() {\n",
      "                 ^\n",
      "\n",
      "SAMPLING FOR MODEL '8c4c9b8f4d3bc497dcb6d4fa2c8341e5' NOW (CHAIN 1).\n",
      "\n",
      "Gradient evaluation took 0 seconds\n",
      "1000 transitions using 10 leapfrog steps per transition would take 0 seconds.\n",
      "Adjust your expectations accordingly!\n",
      "\n",
      "\n",
      "Iteration:     1 / 30000 [  0%]  (Warmup)\n",
      "Iteration:  3000 / 30000 [ 10%]  (Warmup)\n",
      "Iteration:  6000 / 30000 [ 20%]  (Warmup)\n",
      "Iteration:  9000 / 30000 [ 30%]  (Warmup)\n",
      "Iteration: 10001 / 30000 [ 33%]  (Sampling)\n",
      "Iteration: 13000 / 30000 [ 43%]  (Sampling)\n",
      "Iteration: 16000 / 30000 [ 53%]  (Sampling)\n",
      "Iteration: 19000 / 30000 [ 63%]  (Sampling)\n",
      "Iteration: 22000 / 30000 [ 73%]  (Sampling)\n",
      "Iteration: 25000 / 30000 [ 83%]  (Sampling)\n",
      "Iteration: 28000 / 30000 [ 93%]  (Sampling)\n",
      "Iteration: 30000 / 30000 [100%]  (Sampling)\n",
      "\n",
      " Elapsed Time: 0.156 seconds (Warm-up)\n",
      "               0.515 seconds (Sampling)\n",
      "               0.671 seconds (Total)\n",
      "\n",
      "\n",
      "SAMPLING FOR MODEL '8c4c9b8f4d3bc497dcb6d4fa2c8341e5' NOW (CHAIN 2).\n",
      "\n",
      "Gradient evaluation took 0 seconds\n",
      "1000 transitions using 10 leapfrog steps per transition would take 0 seconds.\n",
      "Adjust your expectations accordingly!\n",
      "\n",
      "\n",
      "Iteration:     1 / 30000 [  0%]  (Warmup)\n",
      "Iteration:  3000 / 30000 [ 10%]  (Warmup)\n",
      "Iteration:  6000 / 30000 [ 20%]  (Warmup)\n",
      "Iteration:  9000 / 30000 [ 30%]  (Warmup)\n",
      "Iteration: 10001 / 30000 [ 33%]  (Sampling)\n",
      "Iteration: 13000 / 30000 [ 43%]  (Sampling)\n",
      "Iteration: 16000 / 30000 [ 53%]  (Sampling)\n",
      "Iteration: 19000 / 30000 [ 63%]  (Sampling)\n",
      "Iteration: 22000 / 30000 [ 73%]  (Sampling)\n",
      "Iteration: 25000 / 30000 [ 83%]  (Sampling)\n",
      "Iteration: 28000 / 30000 [ 93%]  (Sampling)\n",
      "Iteration: 30000 / 30000 [100%]  (Sampling)\n",
      "\n",
      " Elapsed Time: 0.172 seconds (Warm-up)\n",
      "               0.411 seconds (Sampling)\n",
      "               0.583 seconds (Total)\n",
      "\n",
      "\n",
      "SAMPLING FOR MODEL '8c4c9b8f4d3bc497dcb6d4fa2c8341e5' NOW (CHAIN 3).\n",
      "\n",
      "Gradient evaluation took 0 seconds\n",
      "1000 transitions using 10 leapfrog steps per transition would take 0 seconds.\n",
      "Adjust your expectations accordingly!\n",
      "\n",
      "\n",
      "Iteration:     1 / 30000 [  0%]  (Warmup)\n",
      "Iteration:  3000 / 30000 [ 10%]  (Warmup)\n",
      "Iteration:  6000 / 30000 [ 20%]  (Warmup)\n",
      "Iteration:  9000 / 30000 [ 30%]  (Warmup)\n",
      "Iteration: 10001 / 30000 [ 33%]  (Sampling)\n",
      "Iteration: 13000 / 30000 [ 43%]  (Sampling)\n",
      "Iteration: 16000 / 30000 [ 53%]  (Sampling)\n",
      "Iteration: 19000 / 30000 [ 63%]  (Sampling)\n",
      "Iteration: 22000 / 30000 [ 73%]  (Sampling)\n",
      "Iteration: 25000 / 30000 [ 83%]  (Sampling)\n",
      "Iteration: 28000 / 30000 [ 93%]  (Sampling)\n",
      "Iteration: 30000 / 30000 [100%]  (Sampling)\n",
      "\n",
      " Elapsed Time: 0.156 seconds (Warm-up)\n",
      "               0.397 seconds (Sampling)\n",
      "               0.553 seconds (Total)\n",
      "\n"
     ]
    },
    {
     "name": "stderr",
     "output_type": "stream",
     "text": [
      "Warning message:\n",
      "\"There were 13 transitions after warmup that exceeded the maximum treedepth. Increase max_treedepth above 10. See\n",
      "http://mc-stan.org/misc/warnings.html#maximum-treedepth-exceeded\"Warning message:\n",
      "\"Examine the pairs() plot to diagnose sampling problems\n",
      "\""
     ]
    }
   ],
   "source": [
    "# Running the model\n",
    "mcmc_samples <- stan(model_code=model_string, data=list(N=length(y), y=y), \n",
    "                     pars=c(\"mu\", \"sigma\"), chains=3, iter=30000, warmup=10000)\n",
    "#, control = list(max_treedepth =101)"
   ]
  },
  {
   "cell_type": "code",
   "execution_count": 13,
   "metadata": {},
   "outputs": [
    {
     "data": {},
     "metadata": {},
     "output_type": "display_data"
    },
    {
     "data": {
      "image/png": "[encoded data removed]",
      "text/plain": [
       "plot without title"
      ]
     },
     "metadata": {},
     "output_type": "display_data"
    }
   ],
   "source": [
    "traceplot(mcmc_samples)"
   ]
  },
  {
   "cell_type": "code",
   "execution_count": 14,
   "metadata": {},
   "outputs": [
    {
     "name": "stderr",
     "output_type": "stream",
     "text": [
      "ci_level: 0.8 (80% intervals)\n",
      "outer_level: 0.95 (95% intervals)\n"
     ]
    },
    {
     "data": {},
     "metadata": {},
     "output_type": "display_data"
    },
    {
     "data": {
      "image/png": "[encoded data removed]",
      "text/plain": [
       "plot without title"
      ]
     },
     "metadata": {},
     "output_type": "display_data"
    }
   ],
   "source": [
    "plot(mcmc_samples)"
   ]
  },
  {
   "cell_type": "code",
   "execution_count": 15,
   "metadata": {},
   "outputs": [
    {
     "data": {
      "text/plain": [
       "Inference for Stan model: 8c4c9b8f4d3bc497dcb6d4fa2c8341e5.\n",
       "3 chains, each with iter=30000; warmup=10000; thin=1; \n",
       "post-warmup draws per chain=20000, total post-warmup draws=60000.\n",
       "\n",
       "        mean se_mean   sd   2.5%    25%    50%    75%  97.5% n_eff Rhat\n",
       "mu     12.71    0.01 1.35  10.02  11.83  12.72  13.60  15.37 40632    1\n",
       "sigma   5.98    0.01 1.03   4.38   5.25   5.84   6.56   8.38 35897    1\n",
       "lp__  -45.66    0.01 1.05 -48.51 -46.06 -45.34 -44.92 -44.64 23384    1\n",
       "\n",
       "Samples were drawn using NUTS(diag_e) at Fri Nov 16 09:54:43 2018.\n",
       "For each parameter, n_eff is a crude measure of effective sample size,\n",
       "and Rhat is the potential scale reduction factor on split chains (at \n",
       "convergence, Rhat=1)."
      ]
     },
     "metadata": {},
     "output_type": "display_data"
    }
   ],
   "source": [
    "mcmc_samples"
   ]
  },
  {
   "cell_type": "markdown",
   "metadata": {},
   "source": [
    "## 4. Normal data with both parameters unknown - Laplace's demon"
   ]
  },
  {
   "cell_type": "markdown",
   "metadata": {},
   "source": [
    "Rasmus Baath states in his Blog: `LaplacesDemon` seems to be a rather unknown R package (I’ve found very few mentions of it on R-bloggers for example) which helps you run Bayesian models using only R. LaplacesDemon implements a plethora of different MCMC methods and has great documentation available on [ www.bayesian-inference.com ](http://www.bayesian-inference.com).\n",
    "\n",
    "_Update (by Rasmus Baath): LaplaceDemon is unfortunately gone since mid July 2015, both the web page and the GitHub account has been removed. I’ve tried to contact the author, but has gotten no response. The last version of LaplaceDemon is now available [here](https://github.com/ecbrown/LaplacesDemon), but as the author has “disappeared” the future of the package is uncertain._\n",
    "\n",
    "_More recent update (by myself):_ As of today (2018-11-19) it appears `LaplacesDemon` has been updated by a new team, it is being maintained, and can be found at: [Laplace's demon new (2018) GitHub site](https://github.com/LaplacesDemonR/LaplacesDemon). It should work Ok, then, but it seems that Rasmus Blog's syntax needs to be revised, which I had no time to do, thus the code below crashes."
   ]
  },
  {
   "cell_type": "code",
   "execution_count": 17,
   "metadata": {},
   "outputs": [
    {
     "name": "stderr",
     "output_type": "stream",
     "text": [
      "Loading required package: LaplacesDemon\n"
     ]
    }
   ],
   "source": [
    "#install.packages(\"LaplacesDemon\",dependencies=TRUE,repos=\"https://cloud.r-project.org\")\n",
    "require(LaplacesDemon)"
   ]
  },
  {
   "cell_type": "markdown",
   "metadata": {},
   "source": [
    "$$\n",
    "    y_{i}\\sim\\operatorname{Normal}(\\mu,\\sigma^{2})\n",
    "$$\n",
    "\n",
    "$$\n",
    "    \\mu\\sim\\operatorname{Normal}(0,100^2)\n",
    "$$\n",
    "\n",
    "$$\n",
    "    \\sigma\\sim\\operatorname{LogNormal}(0,4^2)\n",
    "$$"
   ]
  },
  {
   "cell_type": "markdown",
   "metadata": {},
   "source": [
    "Here $y$ is $n=20$ datapoints generated like the following:"
   ]
  },
  {
   "cell_type": "code",
   "execution_count": 16,
   "metadata": {},
   "outputs": [
    {
     "data": {
      "text/html": [
       "<dl class=dl-horizontal>\n",
       "\t<dt>mean</dt>\n",
       "\t\t<dd>12.7206784421707</dd>\n",
       "\t<dt>sd</dt>\n",
       "\t\t<dd>5.76193928989984</dd>\n",
       "</dl>\n"
      ],
      "text/latex": [
       "\\begin{description*}\n",
       "\\item[mean] 12.7206784421707\n",
       "\\item[sd] 5.76193928989984\n",
       "\\end{description*}\n"
      ],
      "text/markdown": [
       "mean\n",
       ":   12.7206784421707sd\n",
       ":   5.76193928989984\n",
       "\n"
      ],
      "text/plain": [
       "     mean        sd \n",
       "12.720678  5.761939 "
      ]
     },
     "metadata": {},
     "output_type": "display_data"
    }
   ],
   "source": [
    "set.seed(1337)\n",
    "n<-20\n",
    "m<-10\n",
    "s<-5\n",
    "y <- rnorm(n, mean=m,sd=s)\n",
    "c(mean = mean(y), sd = sd(y)) "
   ]
  },
  {
   "cell_type": "code",
   "execution_count": 18,
   "metadata": {},
   "outputs": [],
   "source": [
    "# The model specification\n",
    "model <- function(parm, data) {\n",
    "    mu <- parm[1]\n",
    "    sigma <- exp(parm[2])\n",
    "    log_lik <- sum(dnorm(data$y, mu, sigma, log = T))\n",
    "    post_lik <- log_lik + dnorm(mu, 0, 100, log = T) + dlnorm(sigma, 0, 4, log = T)\n",
    "    # This list is returned and has to follow a the format specified by\n",
    "    # LaplacesDemon.\n",
    "    list(LP = post_lik, Dev = -2 * log_lik, Monitor = c(post_lik, sigma), yhat = NA,\n",
    "        parm = parm)\n",
    "}"
   ]
  },
  {
   "cell_type": "code",
   "execution_count": 19,
   "metadata": {},
   "outputs": [],
   "source": [
    "# Running the model\n",
    "data_list <- list(N = length(y), y = y, mon.names = c(\"post_lik\", \"sigma\"),\n",
    "    parm.names = c(\"mu\", \"log.sigma\"))"
   ]
  },
  {
   "cell_type": "code",
   "execution_count": 20,
   "metadata": {},
   "outputs": [
    {
     "name": "stdout",
     "output_type": "stream",
     "text": [
      "\n",
      "Laplace's Demon was called on Fri Nov 16 10:27:17 2018\n",
      "\n",
      "Performing initial checks...\n",
      "WARNING: Initial Values were not supplied.\n"
     ]
    },
    {
     "ename": "ERROR",
     "evalue": "Error in LaplacesDemon(Model = model, Data = data_list, Iterations = 30000, : The Specs argument is incorrectTRUE\n",
     "output_type": "error",
     "traceback": [
      "Error in LaplacesDemon(Model = model, Data = data_list, Iterations = 30000, : The Specs argument is incorrectTRUE\nTraceback:\n",
      "1. LaplacesDemon(Model = model, Data = data_list, Iterations = 30000, \n .     Algorithm = \"HARM\", Thinning = 1, Specs = list(alpha.star = 0.234))",
      "2. stop(\"The Specs argument is incorrect\", file = LogFile, append = TRUE)"
     ]
    }
   ],
   "source": [
    "mcmc_samples <- LaplacesDemon(Model = model, Data = data_list, Iterations = 30000,\n",
    "    Algorithm = \"HARM\", Thinning = 1, Specs = list(alpha.star = 0.234))"
   ]
  },
  {
   "cell_type": "code",
   "execution_count": null,
   "metadata": {},
   "outputs": [],
   "source": []
  }
 ],
 "metadata": {
  "kernelspec": {
   "display_name": "R",
   "language": "R",
   "name": "ir"
  },
  "language_info": {
   "codemirror_mode": "r",
   "file_extension": ".r",
   "mimetype": "text/x-r-source",
   "name": "R",
   "pygments_lexer": "r",
   "version": "3.4.3"
  }
 },
 "nbformat": 4,
 "nbformat_minor": 2
}
