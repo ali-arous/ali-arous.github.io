{
 "cells": [
  {
   "cell_type": "markdown",
   "metadata": {},
   "source": [
    "# Rats tumor data"
   ]
  },
  {
   "cell_type": "markdown",
   "metadata": {},
   "source": [
    "##### Josep Fortiana 2018-12-17"
   ]
  },
  {
   "cell_type": "markdown",
   "metadata": {},
   "source": [
    "## 1. Problem setting and empirical Bayes solution"
   ]
  },
  {
   "cell_type": "markdown",
   "metadata": {},
   "source": [
    "Taken from Gelman et al. (2013), Bayesian Data Analysis, 3ed, 5.1, pag. 102, Alicia Carriquiri, ENAR 2006 Course on Bayesian methods for data analysis, and Aki Vehtari, Markus Paasiniemi, [Bayesian data analysis demo 4.1(5.1)](http://avehtari.github.io/BDA_R_demos/demos_ch5/demo5_1.html). "
   ]
  },
  {
   "cell_type": "markdown",
   "metadata": {},
   "source": [
    "Imagine a single toxicity experiment performed on rats.\n",
    "\n",
    "$\\theta$ is the probability that a rat receiving no treatment develops a tumor."
   ]
  },
  {
   "cell_type": "markdown",
   "metadata": {},
   "source": [
    "#### Data\n",
    "\n",
    "From $n=14$ rats $y=4$ develop a tumor."
   ]
  },
  {
   "cell_type": "code",
   "execution_count": 1,
   "metadata": {},
   "outputs": [
    {
     "data": {
      "text/html": [
       "0.286"
      ],
      "text/latex": [
       "0.286"
      ],
      "text/markdown": [
       "0.286"
      ],
      "text/plain": [
       "[1] 0.286"
      ]
     },
     "metadata": {},
     "output_type": "display_data"
    }
   ],
   "source": [
    "n<-14\n",
    "y<-4\n",
    "tumor.rate<-y/n\n",
    "round(tumor.rate,3)"
   ]
  },
  {
   "cell_type": "markdown",
   "metadata": {},
   "source": [
    "#### Simple Bayesian analysis\n",
    "\n",
    "We set a prior pdf on $\\theta$. For instance a pdf in the conjugate family.\n",
    "\n",
    "$$\n",
    "    \\begin{array}{ll}\n",
    "        &y\\,|\\,\\theta       &\\sim\\operatorname{Binom}(n,\\theta)\\\\\n",
    "    &\\theta\\,|(\\alpha,\\beta)&\\sim\\operatorname{Beta}(\\alpha,\\beta)\n",
    "    \\end{array}\n",
    "$$"
   ]
  },
  {
   "cell_type": "markdown",
   "metadata": {},
   "source": [
    "#### Posterior pdf for $\\theta$\n",
    "\n",
    "Now we know that the posterior pdf is:\n",
    "\n",
    "$$\n",
    "    \\theta\\,|(y,\\alpha,\\beta)\\sim\\operatorname{Beta}(\\alpha+y,\\beta+n-y)=\\operatorname{Beta}(\\alpha+4,\\beta+10).\n",
    "$$\n",
    "\n",
    "From which we can obtain everything we need, such as a 95% credible interval for $\\theta$, or its posterior mean, or a posterior predictive pmf for a new $\\widetilde{y}$ in a further experiment with a new set of $\\widetilde{n}$ rats."
   ]
  },
  {
   "cell_type": "markdown",
   "metadata": {},
   "source": [
    "#### Historical data\n",
    "\n",
    "Which $(\\alpha,\\beta)$ values will we take? In the absence of previous information we could use a Non-Informative Prior such as the uniform or the Jeffreys prior.\n",
    "\n",
    "Assume that historical data are available, from  a collection of $n=70$ previous experiments on similar groups of rats. In the $j$-th historical experiment, let the number of rats with tumors be $y_{j}$ and the total number of rats be $n_{j}$. We model the $y_{j}$’s as independent binomial data, given sample sizes $n_{j}$ and study-specific means $\\theta_{j}$.\n",
    "\t\n",
    "Assuming that a common $\\operatorname{Beta}$ prior distribution with parameters $(\\alpha,\\beta)$ is a good description of the population distribution of the $\\theta_{j}$’s in the historical experiments, we can display the hierarchical model schematically as in Figure 5.1, with $\\theta_{71}$ and $y_{71}$ corresponding to the current experiment (we rename our previous $y$ and $n$ to $n_{71}$ and $n_{71}$)"
   ]
  },
  {
   "cell_type": "code",
   "execution_count": 2,
   "metadata": {},
   "outputs": [
    {
     "name": "stdout",
     "output_type": "stream",
     "text": [
      "'data.frame':\t70 obs. of  2 variables:\n",
      " $ y: int  0 0 0 0 0 0 0 0 0 0 ...\n",
      " $ N: int  20 20 20 20 20 20 20 19 19 19 ...\n"
     ]
    },
    {
     "data": {
      "text/html": [
       "<table>\n",
       "<thead><tr><th scope=col>y</th><th scope=col>N</th></tr></thead>\n",
       "<tbody>\n",
       "\t<tr><td>0 </td><td>20</td></tr>\n",
       "\t<tr><td>0 </td><td>20</td></tr>\n",
       "\t<tr><td>0 </td><td>20</td></tr>\n",
       "\t<tr><td>0 </td><td>20</td></tr>\n",
       "\t<tr><td>0 </td><td>20</td></tr>\n",
       "\t<tr><td>0 </td><td>20</td></tr>\n",
       "</tbody>\n",
       "</table>\n"
      ],
      "text/latex": [
       "\\begin{tabular}{r|ll}\n",
       " y & N\\\\\n",
       "\\hline\n",
       "\t 0  & 20\\\\\n",
       "\t 0  & 20\\\\\n",
       "\t 0  & 20\\\\\n",
       "\t 0  & 20\\\\\n",
       "\t 0  & 20\\\\\n",
       "\t 0  & 20\\\\\n",
       "\\end{tabular}\n"
      ],
      "text/markdown": [
       "\n",
       "y | N | \n",
       "|---|---|---|---|---|---|\n",
       "| 0  | 20 | \n",
       "| 0  | 20 | \n",
       "| 0  | 20 | \n",
       "| 0  | 20 | \n",
       "| 0  | 20 | \n",
       "| 0  | 20 | \n",
       "\n",
       "\n"
      ],
      "text/plain": [
       "  y N \n",
       "1 0 20\n",
       "2 0 20\n",
       "3 0 20\n",
       "4 0 20\n",
       "5 0 20\n",
       "6 0 20"
      ]
     },
     "metadata": {},
     "output_type": "display_data"
    },
    {
     "data": {
      "text/html": [
       "263"
      ],
      "text/latex": [
       "263"
      ],
      "text/markdown": [
       "263"
      ],
      "text/plain": [
       "[1] 263"
      ]
     },
     "metadata": {},
     "output_type": "display_data"
    },
    {
     "data": {
      "text/html": [
       "1725"
      ],
      "text/latex": [
       "1725"
      ],
      "text/markdown": [
       "1725"
      ],
      "text/plain": [
       "[1] 1725"
      ]
     },
     "metadata": {},
     "output_type": "display_data"
    }
   ],
   "source": [
    "y.71<-y\n",
    "n.71<-n\n",
    "f.71<-y.71/n.71\n",
    "#\n",
    "Rats.tumor.data<-read.table(\"Rats.tumor.data.txt\",header=TRUE)\n",
    "str(Rats.tumor.data)\n",
    "#\n",
    "y<-Rats.tumor.data$y\n",
    "N<-Rats.tumor.data$N\n",
    "n<-length(y)\n",
    "#\n",
    "y.tot<-sum(y)\n",
    "n.tot<-sum(N)\n",
    "#\n",
    "head(Rats.tumor.data) # See full data in Table 5.1 BDA3, pag. 102.\n",
    "y.tot\n",
    "n.tot"
   ]
  },
  {
   "cell_type": "markdown",
   "metadata": {},
   "source": [
    "#### Approximate (Empirical Bayes) estimate of the population distribution using the historical data\n",
    "\n",
    "In each $j$-th group, the relative frequency $f_{j}=y_{j}/n_{j}$ is the ML estimator of $\\theta_{j}$ and, considering the set of $70$ values $\\widehat{\\theta}_{j}=f_{j}$ as a sample of $\\operatorname{Beta}(\\alpha,\\beta)$, from which we can _estimate_ $\\alpha$ and $\\beta$."
   ]
  },
  {
   "cell_type": "code",
   "execution_count": 3,
   "metadata": {},
   "outputs": [
    {
     "data": {
      "text/html": [
       "0.136"
      ],
      "text/latex": [
       "0.136"
      ],
      "text/markdown": [
       "0.136"
      ],
      "text/plain": [
       "[1] 0.136"
      ]
     },
     "metadata": {},
     "output_type": "display_data"
    },
    {
     "data": {
      "text/html": [
       "0.103"
      ],
      "text/latex": [
       "0.103"
      ],
      "text/markdown": [
       "0.103"
      ],
      "text/plain": [
       "[1] 0.103"
      ]
     },
     "metadata": {},
     "output_type": "display_data"
    }
   ],
   "source": [
    "f<-y/N\n",
    "mu<-mean(f)\n",
    "sigma<-sd(f)\n",
    "round(mu,3)\n",
    "round(sigma,3)"
   ]
  },
  {
   "cell_type": "markdown",
   "metadata": {},
   "source": [
    "If we set the mean and standard deviation of the population distribution to these values, we can solve for $\\alpha$ and $\\beta$. We saw these formulas in the Binomial data session.\n",
    "    \n",
    "$$\n",
    "   \\begin{array}{lcl}\n",
    "       \\dfrac{\\alpha}{\\alpha+\\beta}&=&\\mu,\\\\\n",
    "       \\dfrac{\\alpha\\cdot\\beta}{(\\alpha+\\beta)^2\\cdot(\\alpha+\\beta+1)}&=&\\sigma^{2}.\n",
    "   \\end{array}\n",
    "$$\n",
    "\n",
    "We isolate $\\alpha$ and $\\beta$ in terms of $\\mu$ and $\\sigma^{2}$:\n",
    "\n",
    "$$\n",
    "    \\begin{array}{lcl}\n",
    "       G     &=&\\dfrac{\\mu\\cdot(1-\\mu)}{\\sigma^{2}}-1,\\\\\n",
    "       \\alpha&=&\\mu\\cdot G,\\\\\n",
    "       \\beta &=&(1-\\mu)\\cdot G.\n",
    "   \\end{array}\n",
    "$$"
   ]
  },
  {
   "cell_type": "code",
   "execution_count": 4,
   "metadata": {},
   "outputs": [
    {
     "data": {
      "text/html": [
       "1.356"
      ],
      "text/latex": [
       "1.356"
      ],
      "text/markdown": [
       "1.356"
      ],
      "text/plain": [
       "[1] 1.356"
      ]
     },
     "metadata": {},
     "output_type": "display_data"
    },
    {
     "data": {
      "text/html": [
       "8.615"
      ],
      "text/latex": [
       "8.615"
      ],
      "text/markdown": [
       "8.615"
      ],
      "text/plain": [
       "[1] 8.615"
      ]
     },
     "metadata": {},
     "output_type": "display_data"
    }
   ],
   "source": [
    "G<-mu*(1-mu)/sigma^2-1\n",
    "alpha<-mu*G\n",
    "beta<-(1-mu)*G\n",
    "round(alpha,3)\n",
    "round(beta,3)"
   ]
  },
  {
   "cell_type": "markdown",
   "metadata": {},
   "source": [
    "#### Posterior pdf of $\\theta$\n",
    "\n",
    "With these $\\alpha$ and $\\beta$, after the $71$-th experiment, the posterior pdf of $\\theta$ is a:\n",
    "\n",
    "$$\n",
    "    \\operatorname{Beta}(1.356+4,8.615+10)\n",
    "$$"
   ]
  },
  {
   "cell_type": "code",
   "execution_count": 5,
   "metadata": {},
   "outputs": [
    {
     "data": {
      "text/html": [
       "5.356"
      ],
      "text/latex": [
       "5.356"
      ],
      "text/markdown": [
       "5.356"
      ],
      "text/plain": [
       "[1] 5.356"
      ]
     },
     "metadata": {},
     "output_type": "display_data"
    },
    {
     "data": {
      "text/html": [
       "18.615"
      ],
      "text/latex": [
       "18.615"
      ],
      "text/markdown": [
       "18.615"
      ],
      "text/plain": [
       "[1] 18.615"
      ]
     },
     "metadata": {},
     "output_type": "display_data"
    }
   ],
   "source": [
    "alpha.post<-alpha+y.71\n",
    "beta.post<-beta+n.71-y.71\n",
    "round(alpha.post,3)\n",
    "round(beta.post,3)"
   ]
  },
  {
   "cell_type": "markdown",
   "metadata": {},
   "source": [
    "whose posterior mean, variance and standard deviation are:"
   ]
  },
  {
   "cell_type": "code",
   "execution_count": 6,
   "metadata": {},
   "outputs": [
    {
     "data": {
      "text/html": [
       "0.223"
      ],
      "text/latex": [
       "0.223"
      ],
      "text/markdown": [
       "0.223"
      ],
      "text/plain": [
       "[1] 0.223"
      ]
     },
     "metadata": {},
     "output_type": "display_data"
    },
    {
     "data": {
      "text/html": [
       "0.008"
      ],
      "text/latex": [
       "0.008"
      ],
      "text/markdown": [
       "0.008"
      ],
      "text/plain": [
       "[1] 0.008"
      ]
     },
     "metadata": {},
     "output_type": "display_data"
    },
    {
     "data": {
      "text/html": [
       "0.087"
      ],
      "text/latex": [
       "0.087"
      ],
      "text/markdown": [
       "0.087"
      ],
      "text/plain": [
       "[1] 0.087"
      ]
     },
     "metadata": {},
     "output_type": "display_data"
    }
   ],
   "source": [
    "mu.post<-alpha.post/(alpha.post+beta.post)\n",
    "sigma2.post<-alpha.post*beta.post/((alpha.post+beta.post)^2*(alpha.post+beta.post-1))\n",
    "sigma.post<-sqrt(sigma2.post)\n",
    "round(mu.post,3)\n",
    "round(sigma2.post,3)\n",
    "round(sigma.post,3)"
   ]
  },
  {
   "cell_type": "markdown",
   "metadata": {},
   "source": [
    "The posterior mean of $\\theta$ can be compared to the much larger sample ML estimate, the relative frequency, which does not take into account any historical information:"
   ]
  },
  {
   "cell_type": "code",
   "execution_count": 7,
   "metadata": {},
   "outputs": [
    {
     "data": {
      "text/html": [
       "0.286"
      ],
      "text/latex": [
       "0.286"
      ],
      "text/markdown": [
       "0.286"
      ],
      "text/plain": [
       "[1] 0.286"
      ]
     },
     "metadata": {},
     "output_type": "display_data"
    }
   ],
   "source": [
    "round(f.71,3)"
   ]
  },
  {
   "cell_type": "markdown",
   "metadata": {},
   "source": [
    "## 2. Full Bayesian solution"
   ]
  },
  {
   "cell_type": "markdown",
   "metadata": {},
   "source": [
    "Approach: place a hyperprior on the parameters $(\\alpha,\\beta)$.\n",
    "\n",
    "Can still use all the data to estimate the hyperparameters.\n",
    "\n",
    "Idea: Bayesian analysis on the joint distribution of all parameters $\\theta=(\\theta_{1},\\dots,\\theta_{71})$ and $(\\alpha,\\beta)$, in order to obtain the joint posterior pdf $h(\\theta,\\alpha,\\beta\\,|\\,y)$ of  $(\\theta,\\alpha,\\beta)$\n",
    "conditional on the vector of all observations $y=(y_{1},\\dots,y_{71})$."
   ]
  },
  {
   "cell_type": "code",
   "execution_count": 9,
   "metadata": {},
   "outputs": [
    {
     "data": {
      "text/html": [
       "71"
      ],
      "text/latex": [
       "71"
      ],
      "text/markdown": [
       "71"
      ],
      "text/plain": [
       "[1] 71"
      ]
     },
     "metadata": {},
     "output_type": "display_data"
    }
   ],
   "source": [
    "# Restore the full sample\n",
    "y<-c(y,y.71)\n",
    "N<-c(N,n.71)\n",
    "J<-length(y)\n",
    "J"
   ]
  },
  {
   "cell_type": "markdown",
   "metadata": {},
   "source": [
    "#### Model\n",
    "\n",
    "Sampling distribution for data from experiments $j=1,\\dots,71$:\n",
    "\n",
    "$$\n",
    "    y_{j}\\sim\\operatorname{Binom}(n_{j},\\theta _{j})\n",
    "$$\n",
    "\n",
    "Tumor rates $\\theta _{j}$ assumed to be independent draws from Beta:\n",
    "\n",
    "$$\n",
    "    \\theta _{j}\\sim\\operatorname{Beta}(\\alpha,\\beta).\n",
    "$$"
   ]
  },
  {
   "cell_type": "markdown",
   "metadata": {},
   "source": [
    "We will choose a non-informative prior $p(\\alpha,\\beta)$ for $(\\alpha,\\beta)$ to indicate prior ignorance.\n",
    "\n",
    "**Notation warning:** following BDA3 notation, from now on we use the same notation $p(\\;\\cdot\\;)$ to designate any pdf, prior, posterior, likelihood or whatever. In this way everything runs smoother. Also the total number of observations (71) will be denoted by $J$.\n",
    "\n",
    "For the moment we do not write $p(\\alpha,\\beta)$ explicitly. However, some limitations must be kept in mind: Since this hyperprior will be non-informative, and perhaps improper, we must check integrability of posterior, that is, that this posterior is a proper _probability_ density function."
   ]
  },
  {
   "cell_type": "markdown",
   "metadata": {},
   "source": [
    "### Different posterior distributions\n",
    "\n",
    "\n",
    "\n",
    "#### 1. Joint posterior pdf of all parameters, given $y$\n",
    "\n",
    "$$\n",
    "    \\begin{array}{lcl}\n",
    "        p(\\theta,\\alpha,\\beta\\,|\\,y)\n",
    "        &\\propto &p(\\alpha,\\beta)\\cdot p(\\theta\\,|\\,\\alpha,\\beta)\\cdot p(y\\,|\\,\\theta,\\alpha,\\beta)\\\\\n",
    "        &\\propto &p(\\alpha,\\beta)\\cdot\\displaystyle\\prod_{j=1}^{J}\\dfrac{\\Gamma(\\alpha+\\beta)}\n",
    "        {\\Gamma(\\alpha)\\cdot\\Gamma(\\beta)}\\cdot\\theta_{j}^{\\alpha-1}\\cdot(1-\\theta_{j})^{\\beta-1}\n",
    "        \\cdot\\displaystyle\\prod_{j=1}^{J}\\theta_{j}^{y_{j}}\\cdot(1-\\theta_{j})^{n_{j}-y_{j}}.\n",
    "    \\end{array}\n",
    "$$"
   ]
  },
  {
   "cell_type": "markdown",
   "metadata": {},
   "source": [
    "#### 2. Conditional posterior pdf of $\\theta$, given $y$ and $(\\alpha,\\beta)$\n",
    "\n",
    "Given $(\\alpha,\\beta)$, the components of $\\theta$ have independent posterior densities, each $j$-th of which is a \n",
    "$\\operatorname{Beta}(\\alpha+y_{j},\\beta+n_{j}-y_{j})$ pdf.\n",
    "\n",
    "$$\n",
    "    \\begin{array}{lcl}\n",
    "        p(\\theta\\,|\\,\\alpha,\\beta,y)\n",
    "        &=&\\displaystyle\\prod_{j=1}^{J}\\dfrac{\\Gamma(\\alpha+\\beta+n_{j})}\n",
    "        {\\Gamma(\\alpha+y_{j})\\cdot\\Gamma(\\beta+n_{j}-y_{j})}\\cdot\n",
    "        \\theta_{j}^{\\alpha+y_{j}-1}\\cdot(1-\\theta_{j})^{\\beta+n_{j}-y_{j}-1}\n",
    "    \\end{array}\n",
    "$$"
   ]
  },
  {
   "cell_type": "markdown",
   "metadata": {},
   "source": [
    "#### 3. Marginal posterior pdf of $(\\alpha,\\beta)$, given $y$\n",
    "\n",
    "Now we want the marginal posterior pdf $p(\\alpha,\\beta\\,|\\,y)$, where $\\theta$ has been integrated out. It is possible to obtain this pdf from the two pdf's above:\n",
    "\n",
    "$$\n",
    "    p(\\alpha,\\beta\\,|\\,y)=\\dfrac{p(\\theta,\\alpha,\\beta\\,|\\,y)}{p(\\theta\\,|\\,\\alpha,\\beta,y)}.\\tag{$\\star$}\n",
    "$$\n",
    "\n",
    "Expanding numerator and denominator according to their definitions:\n",
    "\n",
    "$$\n",
    "    p(\\theta,\\alpha,\\beta\\,|\\,y)=\\dfrac{p(\\theta,\\alpha,\\beta,y)}{p(y)},\n",
    "$$\n",
    "\n",
    "$$\n",
    "    p(\\theta\\,|\\,\\alpha,\\beta,y)=\\dfrac{p(\\theta,\\alpha,\\beta,y)}{p(\\alpha,\\beta,y)}.\n",
    "$$\n",
    "\n",
    "It appears that the quotient in $(\\star)$ is just $p(\\alpha,\\beta,y)/p(y)$"
   ]
  },
  {
   "cell_type": "markdown",
   "metadata": {},
   "source": [
    "This marginal posterior will be expressed, of course, in terms of the so far unknown prior pdf $p(\\alpha,\\beta)$.\n",
    "\n",
    "From 1 and *2* above, substituting in $(\\star)$\n",
    "\n",
    "\n",
    "$$\n",
    "    p(\\alpha,\\beta\\,|\\,y)\\propto\n",
    "    p(\\alpha,\\beta)\\cdot\\displaystyle\\prod_{j=1}^{J}\\left(\\dfrac{\\Gamma(\\alpha+\\beta)}\n",
    "        {\\Gamma(\\alpha)\\cdot\\Gamma(\\beta)}\\cdot\n",
    "        \\dfrac{\\Gamma(\\alpha+y_{j})\\cdot\\Gamma(\\beta+n_{j}-y_{j})}{\\Gamma(\\alpha+\\beta+n_{j})}\\right).\n",
    "$$\n",
    "\n",
    "This expression is quite involved, but easy to evaluate numerically for any values of $(\\alpha,\\beta)$, as it is done below."
   ]
  },
  {
   "cell_type": "markdown",
   "metadata": {},
   "source": [
    "## Choice of a noninformative (hyper)prior $p(\\alpha,\\beta)$\n",
    "\n",
    "\n",
    "### 1. Parametrization\n",
    "\n",
    "As a motivation, remember, from the chapter on binomial data, that when:\n",
    "\n",
    "$$\n",
    "    \\begin{array}{ll}\n",
    "        &y\\,|\\,\\theta       &\\sim\\operatorname{Binom}(n,\\theta)\\\\\n",
    "    &\\theta\\,|(\\alpha,\\beta)&\\sim\\operatorname{Beta}(\\alpha,\\beta)\n",
    "    \\end{array}\n",
    "$$\n",
    "\n",
    "then the posterior pdf is:\n",
    "\n",
    "$$\n",
    "    \\theta\\,|(y,\\alpha,\\beta)\\sim\\operatorname{Beta}(\\alpha+y,\\beta+n-y).\n",
    "$$\n",
    "\n",
    "and the posterior expectation is:\n",
    "\n",
    "$$\n",
    "    \\operatorname{E}(\\theta\\,|\\,y)=\\dfrac{\\alpha+y}{\\alpha+\\beta+n}\n",
    "    =\\lambda\\cdot\\dfrac{y}{n}+(1-\\lambda)\\cdot\\dfrac{\\alpha}{\\alpha+\\beta}\n",
    "$$\n",
    "\n",
    "a convex combination of the ML estimate $y/n$ from the observed data and the prior expectation $\\alpha/(\\alpha+\\beta)$,\n",
    "where the coefficient is:\n",
    "\n",
    "$$\n",
    "    \\lambda=\\dfrac{n}{(\\alpha+\\beta)+n}.\n",
    "$$\n",
    "\n",
    "In both expressions, prior parameters $\\alpha$ and $\\beta$ can be meaningfully organized as:\n",
    "\n",
    "$$\n",
    "    \\pi=\\dfrac{\\alpha}{\\alpha+\\beta}=\\text{\"prior probability\"},\\mskip30mu\n",
    "    \\zeta=\\alpha+\\beta=\\text{\"prior sample size.\"}\n",
    "$$\n",
    "\n",
    "Hence it would seem that a reasonable noninformative prior could be an (improper) uniform pdf on the natural parameters, that is, the usual transforms of $(\\pi,\\zeta)$ to the $(-\\infty,\\infty)$ domain:\n",
    "\n",
    "$$\n",
    "    u=\\operatorname{logit}(\\pi)=\\log\\left(\\dfrac{\\pi}{1-\\pi}\\right)=\\log\\big(\\dfrac{\\alpha}{\\beta}\\big),\n",
    "    \\mskip8mu\\text{and}\\mskip8mu v=\\log(\\zeta)=\\log(\\alpha+\\beta).\n",
    "$$\n",
    "\n",
    "As it happens, the posterior pdf for this prior is improper, so it cannot be used."
   ]
  },
  {
   "cell_type": "markdown",
   "metadata": {},
   "source": [
    "In BDA3, the alternative uniform on:\n",
    "\n",
    "$$\n",
    "     \\pi=\\dfrac{\\alpha}{\\alpha+\\beta},\\mskip8mu\\text{and}\\mskip8mu\n",
    "     w=(\\alpha+\\beta)^{-1/2}.\n",
    "$$\n",
    "\n",
    "The Jacobian for this transformation is:\n",
    "\n",
    "$$\n",
    "    J=\\dfrac{\\partial(\\pi,w)}{\\partial(\\alpha,\\beta)}=\n",
    "    \\left(\\begin{array}{cc}\n",
    "    \\dfrac{\\beta}{(\\alpha+\\beta)^2} &-\\dfrac{\\alpha}{(\\alpha+\\beta)^2}\\\\\n",
    "    -\\dfrac{1}{2}\\,(\\alpha+\\beta)^{-3/2}&-\\dfrac{1}{2}\\,(\\alpha+\\beta)^{-3/2}\n",
    "    \\end{array}\\right),\n",
    "$$\n",
    "\n",
    "which gives $|J|=\\dfrac{1}{2}\\,(\\alpha+\\beta)^{-5/2}$ and, from the uniform pdf on $(\\pi,w)$, the transformed pdf\n",
    "in terms of $(\\alpha,\\beta)$ is:\n",
    "\n",
    "$$\n",
    "    p(\\alpha,\\beta)\\propto (\\alpha+\\beta)^{-5/2}.\n",
    "$$"
   ]
  },
  {
   "cell_type": "markdown",
   "metadata": {},
   "source": [
    "In BDA3 they obtain this hyperprior in terms of the natural parameters:\n",
    "\n",
    "$$\n",
    "    u=\\log\\big(\\dfrac{\\alpha}{\\beta}\\big),\\mskip8mu\\text{and}\\mskip8mu v=\\log(\\alpha+\\beta).\n",
    "$$\n",
    "\n",
    "Now, the Jacobian of the transformation:\n",
    "\n",
    "$$\n",
    "    \\dfrac{\\partial(u,v)}{\\partial(\\alpha,\\beta)}=\\dfrac{1}{\\alpha\\,\\beta},\n",
    "    \\mskip8mu\\text{hence}\\mskip8mu \n",
    "    \\dfrac{\\partial(\\alpha,\\beta)}{\\partial(u,v)}=\\alpha\\,\\beta,\n",
    "$$\n",
    "\n",
    "and the transformed density is:\n",
    "\n",
    "$$\n",
    "    p(u,v)\\propto \\alpha\\,\\beta\\,(\\alpha+\\beta)^{-5/2}.\n",
    "$$"
   ]
  },
  {
   "cell_type": "markdown",
   "metadata": {},
   "source": [
    "## Code from Aki Vehtari\n",
    "\n",
    "Taken from the referenced above tutorial. "
   ]
  },
  {
   "cell_type": "code",
   "execution_count": 1,
   "metadata": {},
   "outputs": [],
   "source": [
    "#install.packages(\"ggplot2\", repos= \"https://cloud.r-project.org\")\n",
    "#install.packages(\"gridExtra\", repos= \"https://cloud.r-project.org\")\n",
    "#install.packages(\"tidyr\", repos= \"https://cloud.r-project.org\")\n",
    "library(ggplot2)\n",
    "library(gridExtra)\n",
    "library(tidyr)"
   ]
  },
  {
   "cell_type": "markdown",
   "metadata": {},
   "source": [
    "Data"
   ]
  },
  {
   "cell_type": "code",
   "execution_count": 2,
   "metadata": {},
   "outputs": [],
   "source": [
    "y <- c(0,0,0,0,0,0,0,0,0,0,0,0,0,0,1,1,1,1,1,1,1,1,2,2,2,2,2,2,2,2,\n",
    "        2,1,5,2,5,3,2,7,7,3,3,2,9,10,4,4,4,4,4,4,4,10,4,4,4,5,11,12,\n",
    "        5,5,6,5,6,6,6,6,16,15,15,9,4)\n",
    "n <- c(20,20,20,20,20,20,20,19,19,19,19,18,18,17,20,20,20,20,19,19,18,18,25,24,\n",
    "       23,20,20,20,20,20,20,10,49,19,46,27,17,49,47,20,20,13,48,50,20,20,20,20,\n",
    "       20,20,20,48,19,19,19,22,46,49,20,20,23,19,22,20,20,20,52,46,47,24,14)"
   ]
  },
  {
   "cell_type": "markdown",
   "metadata": {},
   "source": [
    "Evaluate densities in grid"
   ]
  },
  {
   "cell_type": "code",
   "execution_count": 3,
   "metadata": {},
   "outputs": [],
   "source": [
    "x <- seq(0.0001, 0.9999, length.out = 1000)"
   ]
  },
  {
   "cell_type": "markdown",
   "metadata": {},
   "source": [
    "Helper function to evaluate density over observations"
   ]
  },
  {
   "cell_type": "code",
   "execution_count": 4,
   "metadata": {},
   "outputs": [],
   "source": [
    "bdens <- function(n, y, x)\n",
    "    dbeta(x, y+1, n-y+1)"
   ]
  },
  {
   "cell_type": "markdown",
   "metadata": {},
   "source": [
    "Separate model"
   ]
  },
  {
   "cell_type": "code",
   "execution_count": 5,
   "metadata": {},
   "outputs": [],
   "source": [
    "df_sep <- mapply(bdens, n, y, MoreArgs = list(x = x)) %>%\n",
    "  as.data.frame() %>% cbind(x) %>% gather(ind, p, -x)"
   ]
  },
  {
   "cell_type": "markdown",
   "metadata": {},
   "source": [
    "Plot the separate model"
   ]
  },
  {
   "cell_type": "code",
   "execution_count": 6,
   "metadata": {},
   "outputs": [
    {
     "data": {},
     "metadata": {},
     "output_type": "display_data"
    },
    {
     "data": {
      "image/png": "[encoded data removed]",
      "text/plain": [
       "plot without title"
      ]
     },
     "metadata": {},
     "output_type": "display_data"
    }
   ],
   "source": [
    "labs1 <- paste('posterior of', c('theta_j', 'theta_71'))\n",
    "plot_sep <- ggplot(data = df_sep) +\n",
    "  geom_line(aes(x = x, y = p, color = (ind=='V71'), group = ind)) +\n",
    "  labs(x = expression(theta), y = '', title = 'Separate model', color = '') +\n",
    "  scale_y_continuous(breaks = NULL) +\n",
    "  scale_color_manual(values = c('blue','red'), labels = labs1) +\n",
    "  theme(legend.background = element_blank(), legend.position = c(0.8,0.9))\n",
    "# The last one is for emphasize colored red\n",
    "plot_sep"
   ]
  },
  {
   "cell_type": "markdown",
   "metadata": {},
   "source": [
    "Pooled model"
   ]
  },
  {
   "cell_type": "code",
   "execution_count": 7,
   "metadata": {},
   "outputs": [],
   "source": [
    "df_pool <- data.frame(x = x, p = dbeta(x, sum(y)+1, sum(n)-sum(y)+1))"
   ]
  },
  {
   "cell_type": "markdown",
   "metadata": {},
   "source": [
    "Create a plot for the separate model"
   ]
  },
  {
   "cell_type": "code",
   "execution_count": 8,
   "metadata": {},
   "outputs": [],
   "source": [
    "plot_pool <- ggplot(data = df_pool) +\n",
    "  geom_line(aes(x = x, y = p, color = '1')) +\n",
    "  labs(x = expression(theta), y = '', title = 'Pooled model', color = '') +\n",
    "  scale_y_continuous(breaks = NULL) +\n",
    "  scale_color_manual(values = 'red', labels = 'Posterior of common theta') +\n",
    "  theme(legend.background = element_blank(), legend.position = c(0.7,0.9))"
   ]
  },
  {
   "cell_type": "markdown",
   "metadata": {},
   "source": [
    "Plot both separate and pooled model"
   ]
  },
  {
   "cell_type": "code",
   "execution_count": 9,
   "metadata": {},
   "outputs": [
    {
     "data": {
      "image/png": "[encoded data removed]",
      "text/plain": [
       "plot without title"
      ]
     },
     "metadata": {},
     "output_type": "display_data"
    }
   ],
   "source": [
    "grid.arrange(plot_sep, plot_pool)"
   ]
  },
  {
   "cell_type": "markdown",
   "metadata": {},
   "source": [
    "Compute the marginal posterior of alpha and beta in hierarchical model. Use grid"
   ]
  },
  {
   "cell_type": "code",
   "execution_count": 10,
   "metadata": {},
   "outputs": [],
   "source": [
    "A <- seq(0.5, 6, length.out = 100)\n",
    "B <- seq(3, 33, length.out = 100)"
   ]
  },
  {
   "cell_type": "markdown",
   "metadata": {},
   "source": [
    "Make vectors that contain all pairwise combinations of A and B"
   ]
  },
  {
   "cell_type": "code",
   "execution_count": 11,
   "metadata": {},
   "outputs": [],
   "source": [
    "cA <- rep(A, each = length(B))\n",
    "cB <- rep(B, length(A))"
   ]
  },
  {
   "cell_type": "markdown",
   "metadata": {},
   "source": [
    "Use logarithms for numerical accuracy!"
   ]
  },
  {
   "cell_type": "code",
   "execution_count": 12,
   "metadata": {},
   "outputs": [],
   "source": [
    "lpfun <- function(a, b, y, n) log(a+b)*(-5/2) +\n",
    "  sum(lgamma(a+b)-lgamma(a)-lgamma(b)+lgamma(a+y)+lgamma(b+n-y)-lgamma(a+b+n))\n",
    "lp <- mapply(lpfun, cA, cB, MoreArgs = list(y, n))"
   ]
  },
  {
   "cell_type": "markdown",
   "metadata": {},
   "source": [
    "Subtract maximum value to avoid over/underflow in exponentation"
   ]
  },
  {
   "cell_type": "code",
   "execution_count": 13,
   "metadata": {},
   "outputs": [],
   "source": [
    "df_marg <- data.frame(x = cA, y = cB, p = exp(lp - max(lp)))"
   ]
  },
  {
   "cell_type": "markdown",
   "metadata": {},
   "source": [
    "Create a plot of the marginal posterior density"
   ]
  },
  {
   "cell_type": "code",
   "execution_count": 14,
   "metadata": {},
   "outputs": [
    {
     "data": {},
     "metadata": {},
     "output_type": "display_data"
    },
    {
     "data": {
      "image/png": "[encoded data removed]",
      "text/plain": [
       "plot without title"
      ]
     },
     "metadata": {},
     "output_type": "display_data"
    }
   ],
   "source": [
    "title1 <- 'The marginal posterior of alpha and beta in hierarchical model'\n",
    "ggplot(data = df_marg, aes(x = x, y = y)) +\n",
    "  geom_raster(aes(fill = p, alpha = p), interpolate = T) +\n",
    "  geom_contour(aes(z = p), colour = 'black', size = 0.2) +\n",
    "  coord_cartesian(xlim = c(1,5), ylim = c(4, 26)) +\n",
    "  labs(x = 'alpha', y = 'beta', title = title1) +\n",
    "  scale_fill_gradient(low = 'yellow', high = 'red', guide = F) +\n",
    "  scale_alpha(range = c(0, 1), guide = F)"
   ]
  },
  {
   "cell_type": "markdown",
   "metadata": {},
   "source": [
    "Sample from the grid (with replacement)"
   ]
  },
  {
   "cell_type": "code",
   "execution_count": 15,
   "metadata": {},
   "outputs": [],
   "source": [
    "nsamp <- 100\n",
    "samp_indices <- sample(length(df_marg$p), size = nsamp,\n",
    "                       replace = T, prob = df_marg$p/sum(df_marg$p))\n",
    "samp_A <- cA[samp_indices[1:nsamp]]\n",
    "samp_B <- cB[samp_indices[1:nsamp]]\n",
    "df_psamp <- mapply(function(a, b, x) dbeta(x, a, b),\n",
    "                  samp_A, samp_B, MoreArgs = list(x = x)) %>%\n",
    "  as.data.frame() %>% cbind(x) %>% gather(ind, p, -x)"
   ]
  },
  {
   "cell_type": "markdown",
   "metadata": {},
   "source": [
    "Create plot for samples from the distribution of distributions\n",
    "Beta(alpha,beta), that is, plot Beta(alpha,beta) using posterior\n",
    "samples of alpha and beta"
   ]
  },
  {
   "cell_type": "code",
   "execution_count": 16,
   "metadata": {},
   "outputs": [],
   "source": [
    "# helper function to convert ind to numeric for subsetting\n",
    "indtonum <- function(x) strtoi(substring(x,2))\n",
    "title2 <- 'Posterior samples from the distribution of distributions Beta(a,b)'\n",
    "plot_psamp <- ggplot(data = subset(df_psamp, indtonum(ind) <= 20)) +\n",
    "  geom_line(aes(x = x, y = p, group = ind)) +\n",
    "  labs(x = expression(theta), y = '', title = title2) +\n",
    "  scale_y_continuous(breaks = NULL)"
   ]
  },
  {
   "cell_type": "markdown",
   "metadata": {},
   "source": [
    "The average of above distributions, is the predictive distribution for a new theta, and also the prior distribution for theta_j"
   ]
  },
  {
   "cell_type": "code",
   "execution_count": 17,
   "metadata": {},
   "outputs": [],
   "source": [
    "df_psampmean <- spread(df_psamp, ind, p) %>% subset(select = -x) %>%\n",
    "    rowMeans() %>% data.frame(x = x, p = .)"
   ]
  },
  {
   "cell_type": "markdown",
   "metadata": {},
   "source": [
    "Create plot for samples from the predictive distribution for new theta"
   ]
  },
  {
   "cell_type": "code",
   "execution_count": 18,
   "metadata": {},
   "outputs": [],
   "source": [
    "title3 <- 'Predictive distribution for a new theta and prior for theta_j'\n",
    "plot_psampmean <- ggplot(data = df_psampmean) +\n",
    "  geom_line(aes(x = x, y = p)) +\n",
    "  labs(x = expression(theta), y = '', title = title3) +\n",
    "  scale_y_continuous(breaks = NULL)"
   ]
  },
  {
   "cell_type": "markdown",
   "metadata": {},
   "source": [
    "Combine the plots"
   ]
  },
  {
   "cell_type": "code",
   "execution_count": 19,
   "metadata": {},
   "outputs": [
    {
     "data": {
      "image/png": "[encoded data removed]",
      "text/plain": [
       "plot without title"
      ]
     },
     "metadata": {},
     "output_type": "display_data"
    }
   ],
   "source": [
    "grid.arrange(plot_psamp, plot_psampmean)"
   ]
  },
  {
   "cell_type": "markdown",
   "metadata": {},
   "source": [
    "And finally compare the separate model and hierarchical model\n",
    "(using every seventh sample for clarity)\n",
    "\n",
    "Create plot for the separate model"
   ]
  },
  {
   "cell_type": "code",
   "execution_count": 20,
   "metadata": {},
   "outputs": [],
   "source": [
    "plot_sep7 <- ggplot(data = subset(df_sep, indtonum(ind)%%7==0)) +\n",
    "  geom_line(aes(x = x, y = p, color = (ind=='V49'), group = ind)) +\n",
    "  labs(x = expression(theta), y = '', title = 'Separate model', color = '') +\n",
    "  scale_y_continuous(breaks = NULL) +\n",
    "  scale_color_manual(values = c('blue', 'red'), guide = F) +\n",
    "  theme(legend.background = element_blank(), legend.position = c(0.8,0.9))"
   ]
  },
  {
   "cell_type": "markdown",
   "metadata": {},
   "source": [
    "The hierarchical model\n",
    " \n",
    "Note that these marginal posteriors for theta_j are more narrow than\n",
    "in the separate model case, due to the borrowed information from the\n",
    "other theta_j's\n",
    " \n",
    "Average density over samples (of a and b) for each (n,y)-pair at each point x"
   ]
  },
  {
   "cell_type": "code",
   "execution_count": 21,
   "metadata": {},
   "outputs": [],
   "source": [
    "bdens2 <- function(n, y, a, b, x)\n",
    "  rowMeans(mapply(dbeta, a + y, n - y + b, MoreArgs = list(x = x)))\n",
    "df_hier <- mapply(bdens2, n, y, MoreArgs = list(samp_A, samp_B, x)) %>%\n",
    "  as.data.frame() %>% cbind(x) %>% gather(ind, p, -x)"
   ]
  },
  {
   "cell_type": "markdown",
   "metadata": {},
   "source": [
    "Create plot for the hierarchical model"
   ]
  },
  {
   "cell_type": "code",
   "execution_count": 22,
   "metadata": {},
   "outputs": [],
   "source": [
    "plot_hier7 <- ggplot(data = subset(df_hier, indtonum(ind)%%7==0)) +\n",
    "  geom_line(aes(x = x, y = p, color = (ind=='V49'), group = ind)) +\n",
    "  labs(x = expression(theta), y = '', title = 'Hierarchical model', color = '') +\n",
    "  scale_color_manual(values = c('blue', 'red'), guide = F) +\n",
    "  scale_y_continuous(breaks = NULL) +\n",
    "  theme(legend.background = element_blank(), legend.position = c(0.8,0.9))"
   ]
  },
  {
   "cell_type": "markdown",
   "metadata": {},
   "source": [
    "Combine the plots"
   ]
  },
  {
   "cell_type": "code",
   "execution_count": 23,
   "metadata": {},
   "outputs": [
    {
     "data": {
      "image/png": "[encoded data removed]",
      "text/plain": [
       "plot without title"
      ]
     },
     "metadata": {},
     "output_type": "display_data"
    }
   ],
   "source": [
    "grid.arrange(plot_sep7, plot_hier7)"
   ]
  }
 ],
 "metadata": {
  "kernelspec": {
   "display_name": "R",
   "language": "R",
   "name": "ir"
  },
  "language_info": {
   "codemirror_mode": "r",
   "file_extension": ".r",
   "mimetype": "text/x-r-source",
   "name": "R",
   "pygments_lexer": "r",
   "version": "3.5.1"
  }
 },
 "nbformat": 4,
 "nbformat_minor": 2
}
