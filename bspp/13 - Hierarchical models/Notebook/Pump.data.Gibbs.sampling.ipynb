{
 "cells": [
  {
   "cell_type": "markdown",
   "metadata": {},
   "source": [
    "# Pump failure data - Gibbs sampling"
   ]
  },
  {
   "cell_type": "markdown",
   "metadata": {},
   "source": [
    "#### Josep Fortiana 2018-12-17"
   ]
  },
  {
   "cell_type": "markdown",
   "metadata": {},
   "source": [
    "## Pump failure data"
   ]
  },
  {
   "cell_type": "markdown",
   "metadata": {},
   "source": [
    "Robert, Casella (2010), _Introducing Monte Carlo Methods with R,_ Chapter 7, Example 7.12: Gibbs sampling in the Pump failure dataset."
   ]
  },
  {
   "cell_type": "markdown",
   "metadata": {},
   "source": [
    "A benchmark hierarchical example in the Gibbs sampling literature describes the number of failures and times of observation of ten pumps in a nuclear plant, with the data given in the following table:\n",
    "\t\n",
    "$$\n",
    "\\begin{array}{l|cccccccccc}\n",
    "\t\\hline\n",
    "\t\\text{Pump}    &1\t\t&2\t\t&3\t\t&4\t\t&5\t\t&6\t\t&7\t\t&8\t\t&9\t\t&10\\\\[0.2cm]\n",
    "\t\\hline\n",
    "\t\\text{Failures}&5\t\t&1\t\t&5\t\t&14\t\t&3\t\t&19\t\t&1\t\t&1\t\t&4\t\t&22\\\\[0.2cm]\n",
    "\t\\text{Time}\t&94.32 \t&15.72 \t&62.88 \t&125.76 &5.24 \t&31.44 \t&1.05 \t&1.05 \t&2.10 \t&10.48\\\\[0.2cm]\n",
    "\t\\hline\n",
    "\\end{array}\n",
    "$$\n",
    "\n",
    "Source: Gaver, D. P. & O'Muircheartaigh, I G. (1987). _Robust empirical Bayes analysis of event rates._ Technometrics 29, No. 1, pp. 1-15."
   ]
  },
  {
   "cell_type": "markdown",
   "metadata": {},
   "source": [
    "#### Data"
   ]
  },
  {
   "cell_type": "code",
   "execution_count": 2,
   "metadata": {},
   "outputs": [],
   "source": [
    "x<-c(5, 1, 5, 14, 3, 19, 1, 1, 4, 22)\n",
    "t<-c(94.32, 15.72, 62.88, 125.76, 5.24, 31.44, 1.05, 1.05, 2.10, 10.48)\n",
    "n<-length(x)"
   ]
  },
  {
   "cell_type": "markdown",
   "metadata": {},
   "source": [
    "## Classical treatment"
   ]
  },
  {
   "cell_type": "code",
   "execution_count": 3,
   "metadata": {},
   "outputs": [
    {
     "data": {
      "text/html": [
       "<ol class=list-inline>\n",
       "\t<li>0.053</li>\n",
       "\t<li>0.064</li>\n",
       "\t<li>0.08</li>\n",
       "\t<li>0.111</li>\n",
       "\t<li>0.573</li>\n",
       "\t<li>0.604</li>\n",
       "\t<li>0.952</li>\n",
       "\t<li>0.952</li>\n",
       "\t<li>1.905</li>\n",
       "\t<li>2.099</li>\n",
       "</ol>\n"
      ],
      "text/latex": [
       "\\begin{enumerate*}\n",
       "\\item 0.053\n",
       "\\item 0.064\n",
       "\\item 0.08\n",
       "\\item 0.111\n",
       "\\item 0.573\n",
       "\\item 0.604\n",
       "\\item 0.952\n",
       "\\item 0.952\n",
       "\\item 1.905\n",
       "\\item 2.099\n",
       "\\end{enumerate*}\n"
      ],
      "text/markdown": [
       "1. 0.053\n",
       "2. 0.064\n",
       "3. 0.08\n",
       "4. 0.111\n",
       "5. 0.573\n",
       "6. 0.604\n",
       "7. 0.952\n",
       "8. 0.952\n",
       "9. 1.905\n",
       "10. 2.099\n",
       "\n",
       "\n"
      ],
      "text/plain": [
       " [1] 0.053 0.064 0.080 0.111 0.573 0.604 0.952 0.952 1.905 2.099"
      ]
     },
     "metadata": {},
     "output_type": "display_data"
    },
    {
     "data": {
      "text/html": [
       "0.739"
      ],
      "text/latex": [
       "0.739"
      ],
      "text/markdown": [
       "0.739"
      ],
      "text/plain": [
       "[1] 0.739"
      ]
     },
     "metadata": {},
     "output_type": "display_data"
    }
   ],
   "source": [
    "# Either each lambda.i is ML-estimated from a single observation as x.i/t.i\n",
    "lambda.ML<-x/t\n",
    "# or a common lambda is ML-estimated as the average of the above\n",
    "mean.lambda.ML<-mean(lambda.ML)\n",
    "round(lambda.ML,3)\n",
    "round(mean.lambda.ML,3)"
   ]
  },
  {
   "cell_type": "markdown",
   "metadata": {},
   "source": [
    "## Empirical Bayesian treatment"
   ]
  },
  {
   "cell_type": "markdown",
   "metadata": {},
   "source": [
    "The modeling is based on the assumption that the number of failures of the $i$-th pump follows \n",
    "a Poisson process with parameter $\\lambda_{i}$, $(1\\leq i\\leq 10)$.\n",
    "\n",
    "For an observation time $t_{i}$, the number of failures $X_{i}$ is thus a Poisson \n",
    "$\\operatorname{Poisson}(\\lambda_{i}\\cdot t_{i})$ random variable. \n",
    "The standard prior distributions are gamma distributions, which lead to the hierarchical model:\n",
    "\n",
    "$$\n",
    "    \\begin{array}{cll}\n",
    "        X_{i}      &\\sim\\operatorname{Poisson}(\\lambda_{i}\\cdot t_{i}), &i=1,\\dots,10,\\\\\n",
    "        \\lambda_{i}&\\sim\\operatorname{Gamma}(\\alpha,\\beta),              &i=1,\\dots,10,\\\\\n",
    "    \\end{array}\n",
    "$$\n",
    "\n",
    "The hyperparameters $\\alpha$, $\\beta$ are derived from the \"observed\" set of ML $\\lambda$ estimates."
   ]
  },
  {
   "cell_type": "markdown",
   "metadata": {},
   "source": [
    "A Gamma distribution with parameters $\\alpha$ and $\\beta$ has expectation and variance:\n",
    "\n",
    "$$\n",
    "    \\mu=\\dfrac{\\alpha}{\\beta},\\mskip30mu \\sigma^2=\\dfrac{\\alpha}{\\beta^2}.\n",
    "$$\n",
    "\n",
    "Given $\\mu$ and $\\sigma^2$, we obtain:\n",
    "\n",
    "$$\n",
    "    \\alpha=\\dfrac{\\mu^{2}}{\\sigma^{2}},\\mskip30mu \\beta=\\dfrac{\\mu^{2}}{\\sigma^{2}}.\n",
    "$$"
   ]
  },
  {
   "cell_type": "code",
   "execution_count": 4,
   "metadata": {},
   "outputs": [
    {
     "data": {
      "text/html": [
       "0.567"
      ],
      "text/latex": [
       "0.567"
      ],
      "text/markdown": [
       "0.567"
      ],
      "text/plain": [
       "[1] 0.567"
      ]
     },
     "metadata": {},
     "output_type": "display_data"
    },
    {
     "data": {
      "text/html": [
       "0.964"
      ],
      "text/latex": [
       "0.964"
      ],
      "text/markdown": [
       "0.964"
      ],
      "text/plain": [
       "[1] 0.964"
      ]
     },
     "metadata": {},
     "output_type": "display_data"
    },
    {
     "data": {
      "text/html": [
       "1.304"
      ],
      "text/latex": [
       "1.304"
      ],
      "text/markdown": [
       "1.304"
      ],
      "text/plain": [
       "[1] 1.304"
      ]
     },
     "metadata": {},
     "output_type": "display_data"
    }
   ],
   "source": [
    "var.lambda.ML<-var(lambda.ML)\n",
    "round(var.lambda.ML,3)\n",
    "alpha.hat<-(mean.lambda.ML)^2/var.lambda.ML\n",
    "beta.hat<-mean.lambda.ML/var.lambda.ML\n",
    "round(alpha.hat,3)\n",
    "round(beta.hat,3)"
   ]
  },
  {
   "cell_type": "markdown",
   "metadata": {},
   "source": [
    "Each $i$-th pump has a posterior pdf for $\\lambda_{i}$, given its $t_{i}$ and the observed $x_{i}$.\n",
    "\n",
    "$$\n",
    "    \\lambda_{i}\\,|\\,x_{i}\\sim\\operatorname{Gamma}(\\widehat{\\alpha}+x_{i},\\widehat{\\beta}+t_{i}).\n",
    "$$"
   ]
  },
  {
   "cell_type": "code",
   "execution_count": 5,
   "metadata": {},
   "outputs": [
    {
     "data": {
      "text/html": [
       "<ol class=list-inline>\n",
       "\t<li>5.964</li>\n",
       "\t<li>1.964</li>\n",
       "\t<li>5.964</li>\n",
       "\t<li>14.964</li>\n",
       "\t<li>3.964</li>\n",
       "\t<li>19.964</li>\n",
       "\t<li>1.964</li>\n",
       "\t<li>1.964</li>\n",
       "\t<li>4.964</li>\n",
       "\t<li>22.964</li>\n",
       "</ol>\n"
      ],
      "text/latex": [
       "\\begin{enumerate*}\n",
       "\\item 5.964\n",
       "\\item 1.964\n",
       "\\item 5.964\n",
       "\\item 14.964\n",
       "\\item 3.964\n",
       "\\item 19.964\n",
       "\\item 1.964\n",
       "\\item 1.964\n",
       "\\item 4.964\n",
       "\\item 22.964\n",
       "\\end{enumerate*}\n"
      ],
      "text/markdown": [
       "1. 5.964\n",
       "2. 1.964\n",
       "3. 5.964\n",
       "4. 14.964\n",
       "5. 3.964\n",
       "6. 19.964\n",
       "7. 1.964\n",
       "8. 1.964\n",
       "9. 4.964\n",
       "10. 22.964\n",
       "\n",
       "\n"
      ],
      "text/plain": [
       " [1]  5.964  1.964  5.964 14.964  3.964 19.964  1.964  1.964  4.964 22.964"
      ]
     },
     "metadata": {},
     "output_type": "display_data"
    },
    {
     "data": {
      "text/html": [
       "<ol class=list-inline>\n",
       "\t<li>95.624</li>\n",
       "\t<li>17.024</li>\n",
       "\t<li>64.184</li>\n",
       "\t<li>127.064</li>\n",
       "\t<li>6.544</li>\n",
       "\t<li>32.744</li>\n",
       "\t<li>2.354</li>\n",
       "\t<li>2.354</li>\n",
       "\t<li>3.404</li>\n",
       "\t<li>11.784</li>\n",
       "</ol>\n"
      ],
      "text/latex": [
       "\\begin{enumerate*}\n",
       "\\item 95.624\n",
       "\\item 17.024\n",
       "\\item 64.184\n",
       "\\item 127.064\n",
       "\\item 6.544\n",
       "\\item 32.744\n",
       "\\item 2.354\n",
       "\\item 2.354\n",
       "\\item 3.404\n",
       "\\item 11.784\n",
       "\\end{enumerate*}\n"
      ],
      "text/markdown": [
       "1. 95.624\n",
       "2. 17.024\n",
       "3. 64.184\n",
       "4. 127.064\n",
       "5. 6.544\n",
       "6. 32.744\n",
       "7. 2.354\n",
       "8. 2.354\n",
       "9. 3.404\n",
       "10. 11.784\n",
       "\n",
       "\n"
      ],
      "text/plain": [
       " [1]  95.624  17.024  64.184 127.064   6.544  32.744   2.354   2.354   3.404\n",
       "[10]  11.784"
      ]
     },
     "metadata": {},
     "output_type": "display_data"
    }
   ],
   "source": [
    "alpha.post<-alpha.hat+x\n",
    "beta.post<-beta.hat+t\n",
    "round(alpha.post,3)\n",
    "round(beta.post,3)"
   ]
  },
  {
   "cell_type": "markdown",
   "metadata": {},
   "source": [
    "#### Posterior expectations"
   ]
  },
  {
   "cell_type": "code",
   "execution_count": 6,
   "metadata": {},
   "outputs": [
    {
     "data": {
      "text/html": [
       "<ol class=list-inline>\n",
       "\t<li>0.062</li>\n",
       "\t<li>0.115</li>\n",
       "\t<li>0.093</li>\n",
       "\t<li>0.118</li>\n",
       "\t<li>0.606</li>\n",
       "\t<li>0.61</li>\n",
       "\t<li>0.834</li>\n",
       "\t<li>0.834</li>\n",
       "\t<li>1.458</li>\n",
       "\t<li>1.949</li>\n",
       "</ol>\n"
      ],
      "text/latex": [
       "\\begin{enumerate*}\n",
       "\\item 0.062\n",
       "\\item 0.115\n",
       "\\item 0.093\n",
       "\\item 0.118\n",
       "\\item 0.606\n",
       "\\item 0.61\n",
       "\\item 0.834\n",
       "\\item 0.834\n",
       "\\item 1.458\n",
       "\\item 1.949\n",
       "\\end{enumerate*}\n"
      ],
      "text/markdown": [
       "1. 0.062\n",
       "2. 0.115\n",
       "3. 0.093\n",
       "4. 0.118\n",
       "5. 0.606\n",
       "6. 0.61\n",
       "7. 0.834\n",
       "8. 0.834\n",
       "9. 1.458\n",
       "10. 1.949\n",
       "\n",
       "\n"
      ],
      "text/plain": [
       " [1] 0.062 0.115 0.093 0.118 0.606 0.610 0.834 0.834 1.458 1.949"
      ]
     },
     "metadata": {},
     "output_type": "display_data"
    }
   ],
   "source": [
    "lambda.post.mean<-alpha.post/beta.post\n",
    "round(lambda.post.mean,3)"
   ]
  },
  {
   "cell_type": "markdown",
   "metadata": {},
   "source": [
    "#### Posterior 90% credible intervals"
   ]
  },
  {
   "cell_type": "code",
   "execution_count": 8,
   "metadata": {},
   "outputs": [
    {
     "data": {
      "text/html": [
       "<table>\n",
       "<tbody>\n",
       "\t<tr><td>0.027</td><td>0.020</td><td>0.040</td><td>0.073</td><td>0.206</td><td>0.404</td><td>0.145</td><td>0.145</td><td>0.572</td><td>1.331</td></tr>\n",
       "\t<tr><td>0.109</td><td>0.275</td><td>0.163</td><td>0.172</td><td>1.177</td><td>0.850</td><td>1.990</td><td>1.990</td><td>2.674</td><td>2.662</td></tr>\n",
       "</tbody>\n",
       "</table>\n"
      ],
      "text/latex": [
       "\\begin{tabular}{llllllllll}\n",
       "\t 0.027 & 0.020 & 0.040 & 0.073 & 0.206 & 0.404 & 0.145 & 0.145 & 0.572 & 1.331\\\\\n",
       "\t 0.109 & 0.275 & 0.163 & 0.172 & 1.177 & 0.850 & 1.990 & 1.990 & 2.674 & 2.662\\\\\n",
       "\\end{tabular}\n"
      ],
      "text/markdown": [
       "\n",
       "| 0.027 | 0.020 | 0.040 | 0.073 | 0.206 | 0.404 | 0.145 | 0.145 | 0.572 | 1.331 | \n",
       "| 0.109 | 0.275 | 0.163 | 0.172 | 1.177 | 0.850 | 1.990 | 1.990 | 2.674 | 2.662 | \n",
       "\n",
       "\n"
      ],
      "text/plain": [
       "     [,1]  [,2]  [,3]  [,4]  [,5]  [,6]  [,7]  [,8]  [,9]  [,10]\n",
       "[1,] 0.027 0.020 0.040 0.073 0.206 0.404 0.145 0.145 0.572 1.331\n",
       "[2,] 0.109 0.275 0.163 0.172 1.177 0.850 1.990 1.990 2.674 2.662"
      ]
     },
     "metadata": {},
     "output_type": "display_data"
    }
   ],
   "source": [
    "round(rbind(qgamma(0.05,shape=alpha.post,rate=beta.post),qgamma(0.95,shape=alpha.post,rate=beta.post)),3)"
   ]
  },
  {
   "cell_type": "markdown",
   "metadata": {},
   "source": [
    "#### Posterior MAP estimates\n",
    "\n",
    "Using that the mode of a Gamma distribution is $(\\alpha-1)/\\beta$"
   ]
  },
  {
   "cell_type": "code",
   "execution_count": 9,
   "metadata": {},
   "outputs": [
    {
     "data": {
      "text/html": [
       "<ol class=list-inline>\n",
       "\t<li>0.052</li>\n",
       "\t<li>0.057</li>\n",
       "\t<li>0.077</li>\n",
       "\t<li>0.11</li>\n",
       "\t<li>0.453</li>\n",
       "\t<li>0.579</li>\n",
       "\t<li>0.41</li>\n",
       "\t<li>0.41</li>\n",
       "\t<li>1.165</li>\n",
       "\t<li>1.864</li>\n",
       "</ol>\n"
      ],
      "text/latex": [
       "\\begin{enumerate*}\n",
       "\\item 0.052\n",
       "\\item 0.057\n",
       "\\item 0.077\n",
       "\\item 0.11\n",
       "\\item 0.453\n",
       "\\item 0.579\n",
       "\\item 0.41\n",
       "\\item 0.41\n",
       "\\item 1.165\n",
       "\\item 1.864\n",
       "\\end{enumerate*}\n"
      ],
      "text/markdown": [
       "1. 0.052\n",
       "2. 0.057\n",
       "3. 0.077\n",
       "4. 0.11\n",
       "5. 0.453\n",
       "6. 0.579\n",
       "7. 0.41\n",
       "8. 0.41\n",
       "9. 1.165\n",
       "10. 1.864\n",
       "\n",
       "\n"
      ],
      "text/plain": [
       " [1] 0.052 0.057 0.077 0.110 0.453 0.579 0.410 0.410 1.165 1.864"
      ]
     },
     "metadata": {},
     "output_type": "display_data"
    }
   ],
   "source": [
    "lambda.post.MAP<-(alpha.post-1)/beta.post\n",
    "round(lambda.post.MAP,3)"
   ]
  },
  {
   "cell_type": "code",
   "execution_count": null,
   "metadata": {},
   "outputs": [],
   "source": [
    "round(rbind(lambda.ML,labda.post.MAP),1)"
   ]
  },
  {
   "cell_type": "markdown",
   "metadata": {},
   "source": [
    "## Bayesian treatment"
   ]
  },
  {
   "cell_type": "markdown",
   "metadata": {},
   "source": [
    "The modeling is based on the assumption that the number of failures of the $i$-th pump follows a Poisson process with parameter $\\lambda_{i}$, $(1\\leq i\\leq 10)$.\n",
    "\n",
    "For an observation time $t_{i}$, the number of failures $X_{i}$ is thus a Poisson $\\operatorname{Poisson}(\\lambda_{i}\\cdot t_{i})$ random variable. The standard prior distributions are gamma distributions, which lead to the hierarchical model:\n",
    "\t\n",
    "$$\n",
    "    \\begin{array}{cll}\n",
    "\tX_{i}\t\t&\\sim\\operatorname{Poisson}(\\lambda_{i}\\cdot t_{i}), &i=1,\\dots,10,\\\\\n",
    "    \\lambda_{i}&\\sim\\operatorname{Gamma}(\\alpha,\\beta),              &i=1,\\dots,10,\\\\\n",
    "\t\\beta\t\t&\\sim\\operatorname{Gamma}(\\gamma,\\delta).\n",
    "    \\end{array}\n",
    "$$\n",
    "\n",
    "The hyperparameters $\\alpha$, $\\gamma$ and $\\delta$ take constant values to be decided. Roberts and Casella use $\\alpha=1.8$, $\\gamma=0.01$ and $\\delta=1.0$.\n",
    "\n",
    "In the original paper where this data were first used, George and McCulloch (1993), they use a further prior:\n",
    "\n",
    "$$\n",
    "    \\begin{array}{cll}\n",
    "    \\alpha &\\sim\\operatorname{Exp}(\\omega),&\\mskip120mu\n",
    "    \\end{array}\n",
    "$$\n",
    "\t\n",
    "with $\\omega=1.0$ instead of a constant value."
   ]
  },
  {
   "cell_type": "markdown",
   "metadata": {},
   "source": [
    "One reason for collecting the pump failure data is to identify which pumps are more reliable.\n",
    "\n",
    "a. Run the Gibbs sampler for the pump failure data and get 95% posterior credible intervals for the parameters.\n",
    " \n",
    "b. Based on the analysis, can you identify any pumps that are more or less reliable than the others?\n",
    "\n",
    "c. How does your answer in b change as the hyperparameter values are varied?"
   ]
  },
  {
   "cell_type": "markdown",
   "metadata": {},
   "source": [
    "#### Likelihood\n",
    "\n",
    "Notations: $n=10$, number of pumps, $x=(x_{1},\\dots,x_{n})$ number of failures, $t=(t_{1},\\dots,t_{n})$, observation times.\n",
    "\n",
    "The likelihood is a product of Poisson pmf's:\n",
    "\n",
    "$$\n",
    "    f(x\\,|\\,\\lambda)=\\displaystyle\\prod_{i=1}^{n} e^{-\\lambda_{i}\\cdot t_{i}}\\cdot \n",
    "    \\dfrac{(\\lambda_{i}\\cdot t_{i})^{x_{i}}}{x_{i}!}\n",
    "    \\propto \\displaystyle\\prod_{i=1}^{n} e^{-\\lambda_{i}\\cdot t_{i}}\\cdot \n",
    "    (\\lambda_{i}\\cdot t_{i})^{x_{i}},\n",
    "$$\n",
    "\n",
    "where we take advantage of the $\\propto$ symbol properties to avoid writing a constant factor.\n"
   ]
  },
  {
   "cell_type": "markdown",
   "metadata": {},
   "source": [
    "#### Prior for $\\lambda=(\\lambda_{1},\\dots,\\lambda_{n})$\n",
    "\n",
    "$$\n",
    "    h(\\lambda\\,|\\,\\alpha,\\beta)=\\displaystyle\\prod_{i=1}^{n}\\dfrac{\\beta^\\alpha}{\\Gamma(\\alpha)}\\cdot\n",
    "    \\lambda_{i}^{(\\alpha-1)}\\cdot e^{-\\beta\\cdot\\lambda_{i}}\n",
    "    \\propto\\beta^{n\\,\\alpha}\\displaystyle\\prod_{i=1}^{n}\\lambda_{i}^{(\\alpha-1)}\\cdot e^{-\\beta\\cdot\\lambda_{i}}.\n",
    "$$\n",
    "\n",
    "Assuming $\\alpha=1.8$, constant, the factor with only $\\alpha$ can be omitted. Not the one with $\\beta$, which has its own prior. In case we had considered an exponential prior for $\\alpha$, we would have to keep this term and use that prior pdf."
   ]
  },
  {
   "cell_type": "markdown",
   "metadata": {},
   "source": [
    "#### Prior for $\\beta$ \n",
    "\n",
    "$$\n",
    "    h(\\beta\\,|\\,\\gamma,\\delta) =\\dfrac{\\gamma^{\\delta}}{\\Gamma(\\delta)}\\cdot \\beta^{(\\gamma-1)}\\cdot\n",
    "    e^{-\\delta\\cdot\\beta}\\propto \\beta^{(\\gamma-1)}\\cdot e^{-\\delta\\cdot\\beta}.\n",
    "$$"
   ]
  },
  {
   "cell_type": "markdown",
   "metadata": {},
   "source": [
    "#### Joint posterior pdf for  $(\\lambda,\\beta)$\n",
    "\n",
    "Multiplying all three expressions above we would obtain the joint pdf of $(x,\\lambda,\\beta)$, frow which, by integrating out $(\\lambda,\\beta)$, we could in principle get the $x$ marginal and, by Bayes' formula, the joint\n",
    "posterior of $(\\lambda,\\beta)$, given the observed $x$. With the $\\propto$ symbol we can dispense with all this trouble:\n",
    "\n",
    "$$\n",
    "     h(\\lambda,\\beta\\,|\\,x)\\propto \\displaystyle\\prod_{i=1}^{n}\\left(\n",
    "     e^{-\\lambda_{i}\\cdot(t_{i}+\\beta)}\\cdot \n",
    "    \\lambda_{i}^{(x_{i}+\\alpha-1)}\\right)\\cdot\\beta^{(n\\,\\alpha+\\gamma-1)}\\cdot e^{-\\beta\\cdot\\delta}.\n",
    "$$"
   ]
  },
  {
   "cell_type": "markdown",
   "metadata": {},
   "source": [
    "#### Full conditionals\n",
    "\n",
    "From the joint posterior pdf for $(\\lambda,\\beta)$, by setting successively all parameters but one \n",
    "to a constant value, and omitting again the denominators, we obtain the full conditionals:\n",
    "\n",
    "$$\n",
    "    \\mskip-100mu\n",
    "    \\begin{array}{lcll}\n",
    "    h(\\lambda_{i}\\,|\\,x,\\beta,\\text{all } \\lambda_{j}\\text{ with }j\\neq i)&\\propto \n",
    "        &e^{-\\lambda_{i}\\cdot(t_{i}+\\beta)}\\cdot \\lambda_{i}^{(x_{i}+\\alpha-1)}\n",
    "        &\\sim\\operatorname{Gamma}(x_{i}+\\alpha,t_{i}+\\beta),\n",
    "        \\mskip10mu 1=1,\\dots,n,\\\\\n",
    "    h(\\beta\\,|\\,x,\\lambda)&\\propto \n",
    "       &\\beta^{(n\\,\\alpha+\\gamma-1)}\\cdot e^{-\\beta\\cdot(\\delta+\\sum_{i=1}^{n}\\lambda_{i})}\n",
    "       &\\sim\\operatorname{Gamma}(n\\,\\alpha+\\gamma,\\delta+\\sum_{i=1}^{n}\\lambda_{i}).\n",
    "    \\end{array}\n",
    "$$\n",
    "\n",
    "Thus, to run the Gibbs sampler for this problem we need only to generate Gamma random numbers."
   ]
  },
  {
   "cell_type": "markdown",
   "metadata": {},
   "source": [
    "#### Hyperparameters\n",
    "\n",
    "From the Roberts, Casella book."
   ]
  },
  {
   "cell_type": "code",
   "execution_count": 3,
   "metadata": {},
   "outputs": [],
   "source": [
    "alpha<-1.8\n",
    "gamma1<-0.01\n",
    "delta<-1"
   ]
  },
  {
   "cell_type": "markdown",
   "metadata": {},
   "source": [
    "#### Set chains length and allocate memory"
   ]
  },
  {
   "cell_type": "code",
   "execution_count": 4,
   "metadata": {},
   "outputs": [],
   "source": [
    "nsim<-1.0e04\n",
    "# Allocate a [nsim,n] matrix for the n lambda chains and an [nsim] vector for the beta chain\n",
    "lambda<-array(0,dim=c(nsim,n))\n",
    "beta<-rep(0,nsim)"
   ]
  },
  {
   "cell_type": "markdown",
   "metadata": {},
   "source": [
    "#### Initial values"
   ]
  },
  {
   "cell_type": "code",
   "execution_count": 5,
   "metadata": {},
   "outputs": [],
   "source": [
    "lambda[1,]<-lambda.ML\n",
    "beta[1]<-gamma1/delta"
   ]
  },
  {
   "cell_type": "markdown",
   "metadata": {},
   "source": [
    "#### Gibbs sampler loop"
   ]
  },
  {
   "cell_type": "code",
   "execution_count": 6,
   "metadata": {},
   "outputs": [],
   "source": [
    "for (i in 2:nsim){\n",
    "   for (j in 1:n){\n",
    "      lambda[i,j]=rgamma(1,shape=x[j]+alpha,rate=t[j]+beta[i-1])\n",
    "      }\n",
    "   beta[i]=rgamma(1,shape=gamma1+n*alpha,rate=delta+sum(lambda[i,]))\n",
    "   }"
   ]
  },
  {
   "cell_type": "markdown",
   "metadata": {},
   "source": [
    "#### Discard initial burnIn segment"
   ]
  },
  {
   "cell_type": "code",
   "execution_count": 7,
   "metadata": {},
   "outputs": [],
   "source": [
    "burnIn=floor(0.2*nsim)\n",
    "lambda<-lambda[burnIn:nsim,]\n",
    "beta<-beta[burnIn:nsim]"
   ]
  },
  {
   "cell_type": "markdown",
   "metadata": {},
   "source": [
    "#### Summary"
   ]
  },
  {
   "cell_type": "code",
   "execution_count": 8,
   "metadata": {},
   "outputs": [
    {
     "data": {
      "text/plain": [
       "   lambda.01        lambda.02        lambda.03       lambda.04    \n",
       " Min.   :0.0095   Min.   :0.0025   Min.   :0.013   Min.   :0.033  \n",
       " 1st Qu.:0.0506   1st Qu.:0.0865   1st Qu.:0.074   1st Qu.:0.101  \n",
       " Median :0.0672   Median :0.1350   Median :0.099   Median :0.120  \n",
       " Mean   :0.0704   Mean   :0.1528   Mean   :0.104   Mean   :0.123  \n",
       " 3rd Qu.:0.0862   3rd Qu.:0.2018   3rd Qu.:0.127   3rd Qu.:0.143  \n",
       " Max.   :0.2125   Max.   :0.7059   Max.   :0.372   Max.   :0.286  \n",
       "   lambda.05       lambda.06      lambda.07       lambda.08       lambda.09   \n",
       " Min.   :0.056   Min.   :0.20   Min.   :0.024   Min.   :0.016   Min.   :0.15  \n",
       " 1st Qu.:0.421   1st Qu.:0.52   1st Qu.:0.445   1st Qu.:0.447   1st Qu.:0.89  \n",
       " Median :0.590   Median :0.60   Median :0.708   Median :0.717   Median :1.21  \n",
       " Mean   :0.633   Mean   :0.61   Mean   :0.822   Mean   :0.828   Mean   :1.30  \n",
       " 3rd Qu.:0.802   3rd Qu.:0.70   3rd Qu.:1.074   3rd Qu.:1.080   3rd Qu.:1.61  \n",
       " Max.   :2.447   Max.   :1.20   Max.   :4.019   Max.   :4.367   Max.   :4.64  \n",
       "   lambda.10   \n",
       " Min.   :0.73  \n",
       " 1st Qu.:1.56  \n",
       " Median :1.81  \n",
       " Mean   :1.84  \n",
       " 3rd Qu.:2.10  \n",
       " Max.   :3.89  "
      ]
     },
     "metadata": {},
     "output_type": "display_data"
    }
   ],
   "source": [
    "# Cast lambda to data.frame to take advantage of the summary.data.frame method\n",
    "lambda.df<-as.data.frame(lambda)\n",
    "names(lambda.df)<-sprintf(\"lambda.%0.2d\",1:10)\n",
    "summary(lambda.df,digits=2)"
   ]
  },
  {
   "cell_type": "code",
   "execution_count": 9,
   "metadata": {},
   "outputs": [
    {
     "data": {
      "text/plain": [
       "   Min. 1st Qu.  Median    Mean 3rd Qu.    Max. \n",
       "   0.77    1.90    2.40    2.50    2.90    6.50 "
      ]
     },
     "metadata": {},
     "output_type": "display_data"
    },
    {
     "data": {
      "text/plain": [
       "   Min. 1st Qu.  Median    Mean 3rd Qu.    Max. \n",
       "   0.28    0.63    0.76    0.79    0.92    2.30 "
      ]
     },
     "metadata": {},
     "output_type": "display_data"
    }
   ],
   "source": [
    "summary(beta,digits=2)\n",
    "# Expectation of lambda.i\n",
    "summary(alpha/beta,digits=2)"
   ]
  },
  {
   "cell_type": "markdown",
   "metadata": {},
   "source": [
    "#### Compare the MAP estimators of the lambda.i with the classical ML estimates"
   ]
  },
  {
   "cell_type": "code",
   "execution_count": 10,
   "metadata": {},
   "outputs": [
    {
     "data": {
      "text/html": [
       "<dl class=dl-horizontal>\n",
       "\t<dt>lambda.01</dt>\n",
       "\t\t<dd>0.06</dd>\n",
       "\t<dt>lambda.02</dt>\n",
       "\t\t<dd>0.11</dd>\n",
       "\t<dt>lambda.03</dt>\n",
       "\t\t<dd>0.09</dd>\n",
       "\t<dt>lambda.04</dt>\n",
       "\t\t<dd>0.11</dd>\n",
       "\t<dt>lambda.05</dt>\n",
       "\t\t<dd>0.48</dd>\n",
       "\t<dt>lambda.06</dt>\n",
       "\t\t<dd>0.57</dd>\n",
       "\t<dt>lambda.07</dt>\n",
       "\t\t<dd>0.52</dd>\n",
       "\t<dt>lambda.08</dt>\n",
       "\t\t<dd>0.5</dd>\n",
       "\t<dt>lambda.09</dt>\n",
       "\t\t<dd>1.01</dd>\n",
       "\t<dt>lambda.10</dt>\n",
       "\t\t<dd>1.77</dd>\n",
       "</dl>\n"
      ],
      "text/latex": [
       "\\begin{description*}\n",
       "\\item[lambda.01] 0.06\n",
       "\\item[lambda.02] 0.11\n",
       "\\item[lambda.03] 0.09\n",
       "\\item[lambda.04] 0.11\n",
       "\\item[lambda.05] 0.48\n",
       "\\item[lambda.06] 0.57\n",
       "\\item[lambda.07] 0.52\n",
       "\\item[lambda.08] 0.5\n",
       "\\item[lambda.09] 1.01\n",
       "\\item[lambda.10] 1.77\n",
       "\\end{description*}\n"
      ],
      "text/markdown": [
       "lambda.01\n",
       ":   0.06lambda.02\n",
       ":   0.11lambda.03\n",
       ":   0.09lambda.04\n",
       ":   0.11lambda.05\n",
       ":   0.48lambda.06\n",
       ":   0.57lambda.07\n",
       ":   0.52lambda.08\n",
       ":   0.5lambda.09\n",
       ":   1.01lambda.10\n",
       ":   1.77\n",
       "\n"
      ],
      "text/plain": [
       "lambda.01 lambda.02 lambda.03 lambda.04 lambda.05 lambda.06 lambda.07 lambda.08 \n",
       "     0.06      0.11      0.09      0.11      0.48      0.57      0.52      0.50 \n",
       "lambda.09 lambda.10 \n",
       "     1.01      1.77 "
      ]
     },
     "metadata": {},
     "output_type": "display_data"
    },
    {
     "data": {
      "text/html": [
       "<dl class=dl-horizontal>\n",
       "\t<dt>lambda.01</dt>\n",
       "\t\t<dd>0.05</dd>\n",
       "\t<dt>lambda.02</dt>\n",
       "\t\t<dd>0.06</dd>\n",
       "\t<dt>lambda.03</dt>\n",
       "\t\t<dd>0.08</dd>\n",
       "\t<dt>lambda.04</dt>\n",
       "\t\t<dd>0.11</dd>\n",
       "\t<dt>lambda.05</dt>\n",
       "\t\t<dd>0.57</dd>\n",
       "\t<dt>lambda.06</dt>\n",
       "\t\t<dd>0.6</dd>\n",
       "\t<dt>lambda.07</dt>\n",
       "\t\t<dd>0.95</dd>\n",
       "\t<dt>lambda.08</dt>\n",
       "\t\t<dd>0.95</dd>\n",
       "\t<dt>lambda.09</dt>\n",
       "\t\t<dd>1.9</dd>\n",
       "\t<dt>lambda.10</dt>\n",
       "\t\t<dd>2.1</dd>\n",
       "</dl>\n"
      ],
      "text/latex": [
       "\\begin{description*}\n",
       "\\item[lambda.01] 0.05\n",
       "\\item[lambda.02] 0.06\n",
       "\\item[lambda.03] 0.08\n",
       "\\item[lambda.04] 0.11\n",
       "\\item[lambda.05] 0.57\n",
       "\\item[lambda.06] 0.6\n",
       "\\item[lambda.07] 0.95\n",
       "\\item[lambda.08] 0.95\n",
       "\\item[lambda.09] 1.9\n",
       "\\item[lambda.10] 2.1\n",
       "\\end{description*}\n"
      ],
      "text/markdown": [
       "lambda.01\n",
       ":   0.05lambda.02\n",
       ":   0.06lambda.03\n",
       ":   0.08lambda.04\n",
       ":   0.11lambda.05\n",
       ":   0.57lambda.06\n",
       ":   0.6lambda.07\n",
       ":   0.95lambda.08\n",
       ":   0.95lambda.09\n",
       ":   1.9lambda.10\n",
       ":   2.1\n",
       "\n"
      ],
      "text/plain": [
       "lambda.01 lambda.02 lambda.03 lambda.04 lambda.05 lambda.06 lambda.07 lambda.08 \n",
       "     0.05      0.06      0.08      0.11      0.57      0.60      0.95      0.95 \n",
       "lambda.09 lambda.10 \n",
       "     1.90      2.10 "
      ]
     },
     "metadata": {},
     "output_type": "display_data"
    }
   ],
   "source": [
    "# An auxiliary function to obtain the mode of a posterior pdf\n",
    "MAP<-function(z){\n",
    "    A<-density(z)\n",
    "    return(A$x[which.max(A$y)])\n",
    "    }\n",
    "lambda.MAP<-mapply(MAP,lambda.df)\n",
    "round(lambda.MAP,2)\n",
    "names(lambda.ML)<-sprintf(\"lambda.%0.2d\",1:10)\n",
    "round(lambda.ML,2)"
   ]
  },
  {
   "cell_type": "markdown",
   "metadata": {},
   "source": [
    "#### Compare the MAP estimators, classical ML estimates and empirical Bayes estimators"
   ]
  },
  {
   "cell_type": "code",
   "execution_count": null,
   "metadata": {},
   "outputs": [],
   "source": []
  },
  {
   "cell_type": "markdown",
   "metadata": {},
   "source": [
    "#### Traceplots"
   ]
  },
  {
   "cell_type": "code",
   "execution_count": 11,
   "metadata": {},
   "outputs": [
    {
     "data": {
      "text/html": [
       "<dl>\n",
       "\t<dt>$lambda.01</dt>\n",
       "\t\t<dd>NULL</dd>\n",
       "\t<dt>$lambda.02</dt>\n",
       "\t\t<dd>NULL</dd>\n",
       "\t<dt>$lambda.03</dt>\n",
       "\t\t<dd>NULL</dd>\n",
       "\t<dt>$lambda.04</dt>\n",
       "\t\t<dd>NULL</dd>\n",
       "\t<dt>$lambda.05</dt>\n",
       "\t\t<dd>NULL</dd>\n",
       "\t<dt>$lambda.06</dt>\n",
       "\t\t<dd>NULL</dd>\n",
       "\t<dt>$lambda.07</dt>\n",
       "\t\t<dd>NULL</dd>\n",
       "\t<dt>$lambda.08</dt>\n",
       "\t\t<dd>NULL</dd>\n",
       "\t<dt>$lambda.09</dt>\n",
       "\t\t<dd>NULL</dd>\n",
       "\t<dt>$lambda.10</dt>\n",
       "\t\t<dd>NULL</dd>\n",
       "</dl>\n"
      ],
      "text/latex": [
       "\\begin{description}\n",
       "\\item[\\$lambda.01] NULL\n",
       "\\item[\\$lambda.02] NULL\n",
       "\\item[\\$lambda.03] NULL\n",
       "\\item[\\$lambda.04] NULL\n",
       "\\item[\\$lambda.05] NULL\n",
       "\\item[\\$lambda.06] NULL\n",
       "\\item[\\$lambda.07] NULL\n",
       "\\item[\\$lambda.08] NULL\n",
       "\\item[\\$lambda.09] NULL\n",
       "\\item[\\$lambda.10] NULL\n",
       "\\end{description}\n"
      ],
      "text/markdown": [
       "$lambda.01\n",
       ":   NULL\n",
       "$lambda.02\n",
       ":   NULL\n",
       "$lambda.03\n",
       ":   NULL\n",
       "$lambda.04\n",
       ":   NULL\n",
       "$lambda.05\n",
       ":   NULL\n",
       "$lambda.06\n",
       ":   NULL\n",
       "$lambda.07\n",
       ":   NULL\n",
       "$lambda.08\n",
       ":   NULL\n",
       "$lambda.09\n",
       ":   NULL\n",
       "$lambda.10\n",
       ":   NULL\n",
       "\n",
       "\n"
      ],
      "text/plain": [
       "$lambda.01\n",
       "NULL\n",
       "\n",
       "$lambda.02\n",
       "NULL\n",
       "\n",
       "$lambda.03\n",
       "NULL\n",
       "\n",
       "$lambda.04\n",
       "NULL\n",
       "\n",
       "$lambda.05\n",
       "NULL\n",
       "\n",
       "$lambda.06\n",
       "NULL\n",
       "\n",
       "$lambda.07\n",
       "NULL\n",
       "\n",
       "$lambda.08\n",
       "NULL\n",
       "\n",
       "$lambda.09\n",
       "NULL\n",
       "\n",
       "$lambda.10\n",
       "NULL\n"
      ]
     },
     "metadata": {},
     "output_type": "display_data"
    },
    {
     "data": {
      "image/png": "[encoded data removed]",
      "text/plain": [
       "Plot with title \"lambda.10\""
      ]
     },
     "metadata": {},
     "output_type": "display_data"
    },
    {
     "data": {
      "image/png": "[encoded data removed]",
      "text/plain": [
       "Plot with title \"beta\""
      ]
     },
     "metadata": {},
     "output_type": "display_data"
    }
   ],
   "source": [
    "do.traceplot<-function(z,...){plot(1:length(z),z,type=\"l\",lwd=2.5,col=\"cyan\",...)}\n",
    "old.par<-par(mfrow=c(5,2),mar=c(3,1,3,1))\n",
    "mapply(do.traceplot,lambda.df,main=sprintf(\"lambda.%0.2d\",1:10))\n",
    "par(old.par)\n",
    "do.traceplot(beta,main=expression(beta))"
   ]
  },
  {
   "cell_type": "markdown",
   "metadata": {},
   "source": [
    "#### ACF"
   ]
  },
  {
   "cell_type": "code",
   "execution_count": 12,
   "metadata": {},
   "outputs": [
    {
     "data": {
      "text/html": [
       "<table>\n",
       "<thead><tr><th></th><th scope=col>lambda.01</th><th scope=col>lambda.02</th><th scope=col>lambda.03</th><th scope=col>lambda.04</th><th scope=col>lambda.05</th><th scope=col>lambda.06</th><th scope=col>lambda.07</th><th scope=col>lambda.08</th><th scope=col>lambda.09</th><th scope=col>lambda.10</th></tr></thead>\n",
       "<tbody>\n",
       "\t<tr><th scope=row>acf</th><td>1.0000000000, -0.0048398158, 0.0001671719, -0.0227735475, 0.0048312196, 0.0241861948, 0.0137741956, 0.0008574137, -0.0055865062, 0.0108087736, -0.0112982298, 0.0109514635, -0.0009384327, -0.0020752935, 0.0113779126, -0.0039565894, -0.0021102318, -0.0123910474, -0.0074486863, -0.0010935753, 0.0011176294, 0.0027337094, -0.0102098052, 0.0150148107, 0.0017024335, -0.0097749022, 0.0036930884, -0.0068045184, -0.0151130716, 0.0107974977, 0.0226742609, -0.0241096570, 0.0172207826, 0.0073040466, -0.0234061538, 0.0004547741, 0.0099713722, 0.0125809978, -0.0058552936, 0.0156780007     </td><td>1.0000000000, -0.0061028924, 0.0005742733, -0.0092041726, -0.0039943615, -0.0074702700, 0.0278751267, -0.0034948206, -0.0010112730, 0.0102604038, -0.0003461676, 0.0006267588, -0.0020325719, 0.0157008129, 0.0124444567, 0.0145968082, -0.0019253953, -0.0002965464, 0.0092720875, -0.0027421935, -0.0055806792, -0.0019179166, -0.0016160692, 0.0166575384, -0.0090731455, -0.0171998154, 0.0055585821, -0.0031752937, -0.0091905240, 0.0138286308, -0.0048120415, 0.0047356825, 0.0078748517, 0.0029278683, -0.0200550049, -0.0017388023, -0.0089038485, -0.0036064813, 0.0023954266, 0.0011430317</td><td>1.0000000000, 0.0056343962, -0.0058643295, 0.0058810799, 0.0007888538, -0.0131784800, 0.0031073883, 0.0015558168, -0.0090091556, 0.0141494767, -0.0166293401, 0.0102654249, 0.0152520986, 0.0088879734, -0.0105976435, -0.0183490077, 0.0091687991, 0.0053109515, -0.0075987562, 0.0158411755, -0.0021648983, -0.0187872927, -0.0020551451, 0.0148844944, 0.0100084271, -0.0185763972, -0.0158559563, -0.0077466504, 0.0249706137, -0.0018534390, 0.0038846927, 0.0179264096, 0.0028319908, -0.0163305879, -0.0009556814, 0.0089564026, 0.0095874484, 0.0024753652, 0.0051197561, -0.0130578128      </td><td>1.0000000000, -0.0062370176, 0.0106815994, 0.0042138732, -0.0010275398, -0.0033407595, 0.0095374564, -0.0132167739, 0.0046064158, -0.0010274520, 0.0037274509, 0.0200449885, -0.0075865749, -0.0023648942, -0.0055435230, 0.0079579206, 0.0111213351, 0.0104595215, -0.0192096860, 0.0095653634, -0.0018666871, 0.0046730314, 0.0117004133, 0.0022704859, -0.0019916451, -0.0178178723, -0.0005720286, 0.0186227793, -0.0287896931, -0.0020618498, -0.0073129993, -0.0256630566, 0.0076264221, 0.0201032778, -0.0098164785, -0.0148497654, 0.0201311923, 0.0164960561, 0.0073775853, -0.0214685920   </td><td>1.0000000000, 0.0261804217, 0.0092668643, 0.0182613765, -0.0082717187, -0.0124819066, 0.0016645257, 0.0147811911, -0.0106234338, -0.0222851213, 0.0060356029, 0.0011723765, 0.0107859125, 0.0080771309, -0.0039255101, -0.0169791790, -0.0083706299, -0.0012753632, -0.0087207408, -0.0047309824, -0.0111089389, 0.0138298684, -0.0081568512, -0.0121546202, -0.0041203130, 0.0145175638, -0.0103196664, -0.0052781543, -0.0177762742, 0.0041109273, 0.0051390263, 0.0275010199, -0.0115545233, 0.0001279561, -0.0088118760, -0.0043237855, -0.0118806799, 0.0056574677, 0.0066727508, 0.0010861038  </td><td>1.0000000000, -0.0016068651, -0.0079535607, 0.0070057005, 0.0058730405, -0.0215070119, 0.0161559562, 0.0042638699, -0.0186423929, 0.0175075630, 0.0096558980, -0.0089880087, 0.0006701133, -0.0039930957, 0.0072684120, 0.0186686009, 0.0168500249, 0.0046045338, 0.0067286271, -0.0004525895, -0.0065247495, 0.0032202355, 0.0157009997, -0.0003655579, -0.0069097359, 0.0218176818, 0.0031314061, 0.0049188058, -0.0433354589, 0.0094593344, -0.0060313092, -0.0002289356, -0.0021891410, -0.0006750466, -0.0057423071, -0.0024117472, -0.0086014313, -0.0073914328, 0.0156162145, 0.0192064402    </td><td>1.0000000000, 0.1103848526, 0.0105295759, -0.0098302394, 0.0096141165, -0.0112825939, 0.0148112470, 0.0066147498, -0.0001836344, -0.0083340996, -0.0197703729, 0.0057428052, 0.0042000599, 0.0010192448, 0.0044396585, 0.0029309030, -0.0111931131, -0.0117470892, -0.0180600708, -0.0057999289, 0.0074782415, 0.0025267404, -0.0077602081, 0.0115704080, -0.0005369055, -0.0058902921, 0.0073030903, -0.0111337925, -0.0150431971, 0.0081105713, -0.0277644066, -0.0232137366, -0.0085836156, 0.0098537143, 0.0257523030, 0.0112340170, -0.0135738819, 0.0011920499, -0.0105302558, -0.0045964780   </td><td>1.000000e+00, 1.046884e-01, 3.944178e-02, -1.427551e-02, -2.590751e-02, -1.262334e-02, 3.520314e-03, 2.552463e-03, 1.411206e-02, 7.137806e-03, -1.340919e-03, 1.021346e-02, -5.855442e-04, -2.336229e-03, 5.517491e-03, 6.112514e-03, -7.354436e-03, -1.033568e-02, -3.815878e-03, 1.759726e-02, -9.376988e-03, 5.904735e-03, 4.035572e-03, -6.440622e-03, 1.422666e-02, 5.290872e-03, 6.704665e-05, -1.887565e-02, -3.417795e-02, 4.956983e-03, -1.805579e-02, -2.622928e-02, -1.611891e-02, -7.468368e-03, 1.282227e-02, 6.092322e-04, -1.725435e-03, -2.085395e-03, -4.794273e-03, -2.221827e-02  </td><td>1.0000000000, 0.1051295645, 0.0240944031, 0.0017671753, 0.0101691450, -0.0212251767, 0.0100301630, 0.0033717846, 0.0055918487, 0.0042139883, -0.0201356736, -0.0023524334, 0.0012883886, 0.0179036467, 0.0054230578, -0.0047140199, -0.0117579673, -0.0189018335, -0.0087026296, 0.0065823805, 0.0133515719, 0.0060496360, 0.0078797126, 0.0004279481, -0.0035873309, 0.0017517059, 0.0117868891, -0.0006734429, 0.0068778139, -0.0082449272, -0.0212154968, -0.0063597928, 0.0038331867, -0.0030154687, 0.0103599363, 0.0002381873, -0.0187859227, -0.0147030606, 0.0244856123, 0.0170013363        </td><td>1.0000000000, 0.0677935589, 0.0295740610, 0.0124203171, -0.0094567941, 0.0139326941, 0.0192188424, 0.0013378400, 0.0123229881, 0.0066006752, 0.0120197857, 0.0028749516, -0.0052183087, -0.0049805343, 0.0219824820, -0.0027485937, -0.0081329073, -0.0078798579, 0.0057671447, 0.0001807784, 0.0089595442, 0.0080690080, 0.0086856848, 0.0040813562, -0.0114880907, -0.0068771865, -0.0069384749, 0.0055256118, -0.0247232048, -0.0061531669, 0.0125543977, 0.0006320004, 0.0164693360, -0.0142377579, -0.0112498628, 0.0057794312, 0.0038589357, -0.0124346035, 0.0029893163, -0.0200220214        </td></tr>\n",
       "\t<tr><th scope=row>type</th><td>correlation</td><td>correlation</td><td>correlation</td><td>correlation</td><td>correlation</td><td>correlation</td><td>correlation</td><td>correlation</td><td>correlation</td><td>correlation</td></tr>\n",
       "\t<tr><th scope=row>n.used</th><td>8001</td><td>8001</td><td>8001</td><td>8001</td><td>8001</td><td>8001</td><td>8001</td><td>8001</td><td>8001</td><td>8001</td></tr>\n",
       "\t<tr><th scope=row>lag</th><td>0, 1, 2, 3, 4, 5, 6, 7, 8, 9, 10, 11, 12, 13, 14, 15, 16, 17, 18, 19, 20, 21, 22, 23, 24, 25, 26, 27, 28, 29, 30, 31, 32, 33, 34, 35, 36, 37, 38, 39</td><td>0, 1, 2, 3, 4, 5, 6, 7, 8, 9, 10, 11, 12, 13, 14, 15, 16, 17, 18, 19, 20, 21, 22, 23, 24, 25, 26, 27, 28, 29, 30, 31, 32, 33, 34, 35, 36, 37, 38, 39</td><td>0, 1, 2, 3, 4, 5, 6, 7, 8, 9, 10, 11, 12, 13, 14, 15, 16, 17, 18, 19, 20, 21, 22, 23, 24, 25, 26, 27, 28, 29, 30, 31, 32, 33, 34, 35, 36, 37, 38, 39</td><td>0, 1, 2, 3, 4, 5, 6, 7, 8, 9, 10, 11, 12, 13, 14, 15, 16, 17, 18, 19, 20, 21, 22, 23, 24, 25, 26, 27, 28, 29, 30, 31, 32, 33, 34, 35, 36, 37, 38, 39</td><td>0, 1, 2, 3, 4, 5, 6, 7, 8, 9, 10, 11, 12, 13, 14, 15, 16, 17, 18, 19, 20, 21, 22, 23, 24, 25, 26, 27, 28, 29, 30, 31, 32, 33, 34, 35, 36, 37, 38, 39</td><td>0, 1, 2, 3, 4, 5, 6, 7, 8, 9, 10, 11, 12, 13, 14, 15, 16, 17, 18, 19, 20, 21, 22, 23, 24, 25, 26, 27, 28, 29, 30, 31, 32, 33, 34, 35, 36, 37, 38, 39</td><td>0, 1, 2, 3, 4, 5, 6, 7, 8, 9, 10, 11, 12, 13, 14, 15, 16, 17, 18, 19, 20, 21, 22, 23, 24, 25, 26, 27, 28, 29, 30, 31, 32, 33, 34, 35, 36, 37, 38, 39</td><td>0, 1, 2, 3, 4, 5, 6, 7, 8, 9, 10, 11, 12, 13, 14, 15, 16, 17, 18, 19, 20, 21, 22, 23, 24, 25, 26, 27, 28, 29, 30, 31, 32, 33, 34, 35, 36, 37, 38, 39</td><td>0, 1, 2, 3, 4, 5, 6, 7, 8, 9, 10, 11, 12, 13, 14, 15, 16, 17, 18, 19, 20, 21, 22, 23, 24, 25, 26, 27, 28, 29, 30, 31, 32, 33, 34, 35, 36, 37, 38, 39</td><td>0, 1, 2, 3, 4, 5, 6, 7, 8, 9, 10, 11, 12, 13, 14, 15, 16, 17, 18, 19, 20, 21, 22, 23, 24, 25, 26, 27, 28, 29, 30, 31, 32, 33, 34, 35, 36, 37, 38, 39</td></tr>\n",
       "\t<tr><th scope=row>series</th><td>z</td><td>z</td><td>z</td><td>z</td><td>z</td><td>z</td><td>z</td><td>z</td><td>z</td><td>z</td></tr>\n",
       "\t<tr><th scope=row>snames</th><td>NULL</td><td>NULL</td><td>NULL</td><td>NULL</td><td>NULL</td><td>NULL</td><td>NULL</td><td>NULL</td><td>NULL</td><td>NULL</td></tr>\n",
       "</tbody>\n",
       "</table>\n"
      ],
      "text/latex": [
       "\\begin{tabular}{r|llllllllll}\n",
       "  & lambda.01 & lambda.02 & lambda.03 & lambda.04 & lambda.05 & lambda.06 & lambda.07 & lambda.08 & lambda.09 & lambda.10\\\\\n",
       "\\hline\n",
       "\tacf & 1.0000000000, -0.0048398158, 0.0001671719, -0.0227735475, 0.0048312196, 0.0241861948, 0.0137741956, 0.0008574137, -0.0055865062, 0.0108087736, -0.0112982298, 0.0109514635, -0.0009384327, -0.0020752935, 0.0113779126, -0.0039565894, -0.0021102318, -0.0123910474, -0.0074486863, -0.0010935753, 0.0011176294, 0.0027337094, -0.0102098052, 0.0150148107, 0.0017024335, -0.0097749022, 0.0036930884, -0.0068045184, -0.0151130716, 0.0107974977, 0.0226742609, -0.0241096570, 0.0172207826, 0.0073040466, -0.0234061538, 0.0004547741, 0.0099713722, 0.0125809978, -0.0058552936, 0.0156780007      & 1.0000000000, -0.0061028924, 0.0005742733, -0.0092041726, -0.0039943615, -0.0074702700, 0.0278751267, -0.0034948206, -0.0010112730, 0.0102604038, -0.0003461676, 0.0006267588, -0.0020325719, 0.0157008129, 0.0124444567, 0.0145968082, -0.0019253953, -0.0002965464, 0.0092720875, -0.0027421935, -0.0055806792, -0.0019179166, -0.0016160692, 0.0166575384, -0.0090731455, -0.0171998154, 0.0055585821, -0.0031752937, -0.0091905240, 0.0138286308, -0.0048120415, 0.0047356825, 0.0078748517, 0.0029278683, -0.0200550049, -0.0017388023, -0.0089038485, -0.0036064813, 0.0023954266, 0.0011430317 & 1.0000000000, 0.0056343962, -0.0058643295, 0.0058810799, 0.0007888538, -0.0131784800, 0.0031073883, 0.0015558168, -0.0090091556, 0.0141494767, -0.0166293401, 0.0102654249, 0.0152520986, 0.0088879734, -0.0105976435, -0.0183490077, 0.0091687991, 0.0053109515, -0.0075987562, 0.0158411755, -0.0021648983, -0.0187872927, -0.0020551451, 0.0148844944, 0.0100084271, -0.0185763972, -0.0158559563, -0.0077466504, 0.0249706137, -0.0018534390, 0.0038846927, 0.0179264096, 0.0028319908, -0.0163305879, -0.0009556814, 0.0089564026, 0.0095874484, 0.0024753652, 0.0051197561, -0.0130578128       & 1.0000000000, -0.0062370176, 0.0106815994, 0.0042138732, -0.0010275398, -0.0033407595, 0.0095374564, -0.0132167739, 0.0046064158, -0.0010274520, 0.0037274509, 0.0200449885, -0.0075865749, -0.0023648942, -0.0055435230, 0.0079579206, 0.0111213351, 0.0104595215, -0.0192096860, 0.0095653634, -0.0018666871, 0.0046730314, 0.0117004133, 0.0022704859, -0.0019916451, -0.0178178723, -0.0005720286, 0.0186227793, -0.0287896931, -0.0020618498, -0.0073129993, -0.0256630566, 0.0076264221, 0.0201032778, -0.0098164785, -0.0148497654, 0.0201311923, 0.0164960561, 0.0073775853, -0.0214685920    & 1.0000000000, 0.0261804217, 0.0092668643, 0.0182613765, -0.0082717187, -0.0124819066, 0.0016645257, 0.0147811911, -0.0106234338, -0.0222851213, 0.0060356029, 0.0011723765, 0.0107859125, 0.0080771309, -0.0039255101, -0.0169791790, -0.0083706299, -0.0012753632, -0.0087207408, -0.0047309824, -0.0111089389, 0.0138298684, -0.0081568512, -0.0121546202, -0.0041203130, 0.0145175638, -0.0103196664, -0.0052781543, -0.0177762742, 0.0041109273, 0.0051390263, 0.0275010199, -0.0115545233, 0.0001279561, -0.0088118760, -0.0043237855, -0.0118806799, 0.0056574677, 0.0066727508, 0.0010861038   & 1.0000000000, -0.0016068651, -0.0079535607, 0.0070057005, 0.0058730405, -0.0215070119, 0.0161559562, 0.0042638699, -0.0186423929, 0.0175075630, 0.0096558980, -0.0089880087, 0.0006701133, -0.0039930957, 0.0072684120, 0.0186686009, 0.0168500249, 0.0046045338, 0.0067286271, -0.0004525895, -0.0065247495, 0.0032202355, 0.0157009997, -0.0003655579, -0.0069097359, 0.0218176818, 0.0031314061, 0.0049188058, -0.0433354589, 0.0094593344, -0.0060313092, -0.0002289356, -0.0021891410, -0.0006750466, -0.0057423071, -0.0024117472, -0.0086014313, -0.0073914328, 0.0156162145, 0.0192064402     & 1.0000000000, 0.1103848526, 0.0105295759, -0.0098302394, 0.0096141165, -0.0112825939, 0.0148112470, 0.0066147498, -0.0001836344, -0.0083340996, -0.0197703729, 0.0057428052, 0.0042000599, 0.0010192448, 0.0044396585, 0.0029309030, -0.0111931131, -0.0117470892, -0.0180600708, -0.0057999289, 0.0074782415, 0.0025267404, -0.0077602081, 0.0115704080, -0.0005369055, -0.0058902921, 0.0073030903, -0.0111337925, -0.0150431971, 0.0081105713, -0.0277644066, -0.0232137366, -0.0085836156, 0.0098537143, 0.0257523030, 0.0112340170, -0.0135738819, 0.0011920499, -0.0105302558, -0.0045964780    & 1.000000e+00, 1.046884e-01, 3.944178e-02, -1.427551e-02, -2.590751e-02, -1.262334e-02, 3.520314e-03, 2.552463e-03, 1.411206e-02, 7.137806e-03, -1.340919e-03, 1.021346e-02, -5.855442e-04, -2.336229e-03, 5.517491e-03, 6.112514e-03, -7.354436e-03, -1.033568e-02, -3.815878e-03, 1.759726e-02, -9.376988e-03, 5.904735e-03, 4.035572e-03, -6.440622e-03, 1.422666e-02, 5.290872e-03, 6.704665e-05, -1.887565e-02, -3.417795e-02, 4.956983e-03, -1.805579e-02, -2.622928e-02, -1.611891e-02, -7.468368e-03, 1.282227e-02, 6.092322e-04, -1.725435e-03, -2.085395e-03, -4.794273e-03, -2.221827e-02   & 1.0000000000, 0.1051295645, 0.0240944031, 0.0017671753, 0.0101691450, -0.0212251767, 0.0100301630, 0.0033717846, 0.0055918487, 0.0042139883, -0.0201356736, -0.0023524334, 0.0012883886, 0.0179036467, 0.0054230578, -0.0047140199, -0.0117579673, -0.0189018335, -0.0087026296, 0.0065823805, 0.0133515719, 0.0060496360, 0.0078797126, 0.0004279481, -0.0035873309, 0.0017517059, 0.0117868891, -0.0006734429, 0.0068778139, -0.0082449272, -0.0212154968, -0.0063597928, 0.0038331867, -0.0030154687, 0.0103599363, 0.0002381873, -0.0187859227, -0.0147030606, 0.0244856123, 0.0170013363         & 1.0000000000, 0.0677935589, 0.0295740610, 0.0124203171, -0.0094567941, 0.0139326941, 0.0192188424, 0.0013378400, 0.0123229881, 0.0066006752, 0.0120197857, 0.0028749516, -0.0052183087, -0.0049805343, 0.0219824820, -0.0027485937, -0.0081329073, -0.0078798579, 0.0057671447, 0.0001807784, 0.0089595442, 0.0080690080, 0.0086856848, 0.0040813562, -0.0114880907, -0.0068771865, -0.0069384749, 0.0055256118, -0.0247232048, -0.0061531669, 0.0125543977, 0.0006320004, 0.0164693360, -0.0142377579, -0.0112498628, 0.0057794312, 0.0038589357, -0.0124346035, 0.0029893163, -0.0200220214        \\\\\n",
       "\ttype & correlation & correlation & correlation & correlation & correlation & correlation & correlation & correlation & correlation & correlation\\\\\n",
       "\tn.used & 8001 & 8001 & 8001 & 8001 & 8001 & 8001 & 8001 & 8001 & 8001 & 8001\\\\\n",
       "\tlag & 0, 1, 2, 3, 4, 5, 6, 7, 8, 9, 10, 11, 12, 13, 14, 15, 16, 17, 18, 19, 20, 21, 22, 23, 24, 25, 26, 27, 28, 29, 30, 31, 32, 33, 34, 35, 36, 37, 38, 39 & 0, 1, 2, 3, 4, 5, 6, 7, 8, 9, 10, 11, 12, 13, 14, 15, 16, 17, 18, 19, 20, 21, 22, 23, 24, 25, 26, 27, 28, 29, 30, 31, 32, 33, 34, 35, 36, 37, 38, 39 & 0, 1, 2, 3, 4, 5, 6, 7, 8, 9, 10, 11, 12, 13, 14, 15, 16, 17, 18, 19, 20, 21, 22, 23, 24, 25, 26, 27, 28, 29, 30, 31, 32, 33, 34, 35, 36, 37, 38, 39 & 0, 1, 2, 3, 4, 5, 6, 7, 8, 9, 10, 11, 12, 13, 14, 15, 16, 17, 18, 19, 20, 21, 22, 23, 24, 25, 26, 27, 28, 29, 30, 31, 32, 33, 34, 35, 36, 37, 38, 39 & 0, 1, 2, 3, 4, 5, 6, 7, 8, 9, 10, 11, 12, 13, 14, 15, 16, 17, 18, 19, 20, 21, 22, 23, 24, 25, 26, 27, 28, 29, 30, 31, 32, 33, 34, 35, 36, 37, 38, 39 & 0, 1, 2, 3, 4, 5, 6, 7, 8, 9, 10, 11, 12, 13, 14, 15, 16, 17, 18, 19, 20, 21, 22, 23, 24, 25, 26, 27, 28, 29, 30, 31, 32, 33, 34, 35, 36, 37, 38, 39 & 0, 1, 2, 3, 4, 5, 6, 7, 8, 9, 10, 11, 12, 13, 14, 15, 16, 17, 18, 19, 20, 21, 22, 23, 24, 25, 26, 27, 28, 29, 30, 31, 32, 33, 34, 35, 36, 37, 38, 39 & 0, 1, 2, 3, 4, 5, 6, 7, 8, 9, 10, 11, 12, 13, 14, 15, 16, 17, 18, 19, 20, 21, 22, 23, 24, 25, 26, 27, 28, 29, 30, 31, 32, 33, 34, 35, 36, 37, 38, 39 & 0, 1, 2, 3, 4, 5, 6, 7, 8, 9, 10, 11, 12, 13, 14, 15, 16, 17, 18, 19, 20, 21, 22, 23, 24, 25, 26, 27, 28, 29, 30, 31, 32, 33, 34, 35, 36, 37, 38, 39 & 0, 1, 2, 3, 4, 5, 6, 7, 8, 9, 10, 11, 12, 13, 14, 15, 16, 17, 18, 19, 20, 21, 22, 23, 24, 25, 26, 27, 28, 29, 30, 31, 32, 33, 34, 35, 36, 37, 38, 39\\\\\n",
       "\tseries & z & z & z & z & z & z & z & z & z & z\\\\\n",
       "\tsnames & NULL & NULL & NULL & NULL & NULL & NULL & NULL & NULL & NULL & NULL\\\\\n",
       "\\end{tabular}\n"
      ],
      "text/markdown": [
       "\n",
       "| <!--/--> | lambda.01 | lambda.02 | lambda.03 | lambda.04 | lambda.05 | lambda.06 | lambda.07 | lambda.08 | lambda.09 | lambda.10 | \n",
       "|---|---|---|---|---|---|\n",
       "| acf | 1.0000000000, -0.0048398158, 0.0001671719, -0.0227735475, 0.0048312196, 0.0241861948, 0.0137741956, 0.0008574137, -0.0055865062, 0.0108087736, -0.0112982298, 0.0109514635, -0.0009384327, -0.0020752935, 0.0113779126, -0.0039565894, -0.0021102318, -0.0123910474, -0.0074486863, -0.0010935753, 0.0011176294, 0.0027337094, -0.0102098052, 0.0150148107, 0.0017024335, -0.0097749022, 0.0036930884, -0.0068045184, -0.0151130716, 0.0107974977, 0.0226742609, -0.0241096570, 0.0172207826, 0.0073040466, -0.0234061538, 0.0004547741, 0.0099713722, 0.0125809978, -0.0058552936, 0.0156780007      | 1.0000000000, -0.0061028924, 0.0005742733, -0.0092041726, -0.0039943615, -0.0074702700, 0.0278751267, -0.0034948206, -0.0010112730, 0.0102604038, -0.0003461676, 0.0006267588, -0.0020325719, 0.0157008129, 0.0124444567, 0.0145968082, -0.0019253953, -0.0002965464, 0.0092720875, -0.0027421935, -0.0055806792, -0.0019179166, -0.0016160692, 0.0166575384, -0.0090731455, -0.0171998154, 0.0055585821, -0.0031752937, -0.0091905240, 0.0138286308, -0.0048120415, 0.0047356825, 0.0078748517, 0.0029278683, -0.0200550049, -0.0017388023, -0.0089038485, -0.0036064813, 0.0023954266, 0.0011430317 | 1.0000000000, 0.0056343962, -0.0058643295, 0.0058810799, 0.0007888538, -0.0131784800, 0.0031073883, 0.0015558168, -0.0090091556, 0.0141494767, -0.0166293401, 0.0102654249, 0.0152520986, 0.0088879734, -0.0105976435, -0.0183490077, 0.0091687991, 0.0053109515, -0.0075987562, 0.0158411755, -0.0021648983, -0.0187872927, -0.0020551451, 0.0148844944, 0.0100084271, -0.0185763972, -0.0158559563, -0.0077466504, 0.0249706137, -0.0018534390, 0.0038846927, 0.0179264096, 0.0028319908, -0.0163305879, -0.0009556814, 0.0089564026, 0.0095874484, 0.0024753652, 0.0051197561, -0.0130578128       | 1.0000000000, -0.0062370176, 0.0106815994, 0.0042138732, -0.0010275398, -0.0033407595, 0.0095374564, -0.0132167739, 0.0046064158, -0.0010274520, 0.0037274509, 0.0200449885, -0.0075865749, -0.0023648942, -0.0055435230, 0.0079579206, 0.0111213351, 0.0104595215, -0.0192096860, 0.0095653634, -0.0018666871, 0.0046730314, 0.0117004133, 0.0022704859, -0.0019916451, -0.0178178723, -0.0005720286, 0.0186227793, -0.0287896931, -0.0020618498, -0.0073129993, -0.0256630566, 0.0076264221, 0.0201032778, -0.0098164785, -0.0148497654, 0.0201311923, 0.0164960561, 0.0073775853, -0.0214685920    | 1.0000000000, 0.0261804217, 0.0092668643, 0.0182613765, -0.0082717187, -0.0124819066, 0.0016645257, 0.0147811911, -0.0106234338, -0.0222851213, 0.0060356029, 0.0011723765, 0.0107859125, 0.0080771309, -0.0039255101, -0.0169791790, -0.0083706299, -0.0012753632, -0.0087207408, -0.0047309824, -0.0111089389, 0.0138298684, -0.0081568512, -0.0121546202, -0.0041203130, 0.0145175638, -0.0103196664, -0.0052781543, -0.0177762742, 0.0041109273, 0.0051390263, 0.0275010199, -0.0115545233, 0.0001279561, -0.0088118760, -0.0043237855, -0.0118806799, 0.0056574677, 0.0066727508, 0.0010861038   | 1.0000000000, -0.0016068651, -0.0079535607, 0.0070057005, 0.0058730405, -0.0215070119, 0.0161559562, 0.0042638699, -0.0186423929, 0.0175075630, 0.0096558980, -0.0089880087, 0.0006701133, -0.0039930957, 0.0072684120, 0.0186686009, 0.0168500249, 0.0046045338, 0.0067286271, -0.0004525895, -0.0065247495, 0.0032202355, 0.0157009997, -0.0003655579, -0.0069097359, 0.0218176818, 0.0031314061, 0.0049188058, -0.0433354589, 0.0094593344, -0.0060313092, -0.0002289356, -0.0021891410, -0.0006750466, -0.0057423071, -0.0024117472, -0.0086014313, -0.0073914328, 0.0156162145, 0.0192064402     | 1.0000000000, 0.1103848526, 0.0105295759, -0.0098302394, 0.0096141165, -0.0112825939, 0.0148112470, 0.0066147498, -0.0001836344, -0.0083340996, -0.0197703729, 0.0057428052, 0.0042000599, 0.0010192448, 0.0044396585, 0.0029309030, -0.0111931131, -0.0117470892, -0.0180600708, -0.0057999289, 0.0074782415, 0.0025267404, -0.0077602081, 0.0115704080, -0.0005369055, -0.0058902921, 0.0073030903, -0.0111337925, -0.0150431971, 0.0081105713, -0.0277644066, -0.0232137366, -0.0085836156, 0.0098537143, 0.0257523030, 0.0112340170, -0.0135738819, 0.0011920499, -0.0105302558, -0.0045964780    | 1.000000e+00, 1.046884e-01, 3.944178e-02, -1.427551e-02, -2.590751e-02, -1.262334e-02, 3.520314e-03, 2.552463e-03, 1.411206e-02, 7.137806e-03, -1.340919e-03, 1.021346e-02, -5.855442e-04, -2.336229e-03, 5.517491e-03, 6.112514e-03, -7.354436e-03, -1.033568e-02, -3.815878e-03, 1.759726e-02, -9.376988e-03, 5.904735e-03, 4.035572e-03, -6.440622e-03, 1.422666e-02, 5.290872e-03, 6.704665e-05, -1.887565e-02, -3.417795e-02, 4.956983e-03, -1.805579e-02, -2.622928e-02, -1.611891e-02, -7.468368e-03, 1.282227e-02, 6.092322e-04, -1.725435e-03, -2.085395e-03, -4.794273e-03, -2.221827e-02   | 1.0000000000, 0.1051295645, 0.0240944031, 0.0017671753, 0.0101691450, -0.0212251767, 0.0100301630, 0.0033717846, 0.0055918487, 0.0042139883, -0.0201356736, -0.0023524334, 0.0012883886, 0.0179036467, 0.0054230578, -0.0047140199, -0.0117579673, -0.0189018335, -0.0087026296, 0.0065823805, 0.0133515719, 0.0060496360, 0.0078797126, 0.0004279481, -0.0035873309, 0.0017517059, 0.0117868891, -0.0006734429, 0.0068778139, -0.0082449272, -0.0212154968, -0.0063597928, 0.0038331867, -0.0030154687, 0.0103599363, 0.0002381873, -0.0187859227, -0.0147030606, 0.0244856123, 0.0170013363         | 1.0000000000, 0.0677935589, 0.0295740610, 0.0124203171, -0.0094567941, 0.0139326941, 0.0192188424, 0.0013378400, 0.0123229881, 0.0066006752, 0.0120197857, 0.0028749516, -0.0052183087, -0.0049805343, 0.0219824820, -0.0027485937, -0.0081329073, -0.0078798579, 0.0057671447, 0.0001807784, 0.0089595442, 0.0080690080, 0.0086856848, 0.0040813562, -0.0114880907, -0.0068771865, -0.0069384749, 0.0055256118, -0.0247232048, -0.0061531669, 0.0125543977, 0.0006320004, 0.0164693360, -0.0142377579, -0.0112498628, 0.0057794312, 0.0038589357, -0.0124346035, 0.0029893163, -0.0200220214         | \n",
       "| type | correlation | correlation | correlation | correlation | correlation | correlation | correlation | correlation | correlation | correlation | \n",
       "| n.used | 8001 | 8001 | 8001 | 8001 | 8001 | 8001 | 8001 | 8001 | 8001 | 8001 | \n",
       "| lag | 0, 1, 2, 3, 4, 5, 6, 7, 8, 9, 10, 11, 12, 13, 14, 15, 16, 17, 18, 19, 20, 21, 22, 23, 24, 25, 26, 27, 28, 29, 30, 31, 32, 33, 34, 35, 36, 37, 38, 39 | 0, 1, 2, 3, 4, 5, 6, 7, 8, 9, 10, 11, 12, 13, 14, 15, 16, 17, 18, 19, 20, 21, 22, 23, 24, 25, 26, 27, 28, 29, 30, 31, 32, 33, 34, 35, 36, 37, 38, 39 | 0, 1, 2, 3, 4, 5, 6, 7, 8, 9, 10, 11, 12, 13, 14, 15, 16, 17, 18, 19, 20, 21, 22, 23, 24, 25, 26, 27, 28, 29, 30, 31, 32, 33, 34, 35, 36, 37, 38, 39 | 0, 1, 2, 3, 4, 5, 6, 7, 8, 9, 10, 11, 12, 13, 14, 15, 16, 17, 18, 19, 20, 21, 22, 23, 24, 25, 26, 27, 28, 29, 30, 31, 32, 33, 34, 35, 36, 37, 38, 39 | 0, 1, 2, 3, 4, 5, 6, 7, 8, 9, 10, 11, 12, 13, 14, 15, 16, 17, 18, 19, 20, 21, 22, 23, 24, 25, 26, 27, 28, 29, 30, 31, 32, 33, 34, 35, 36, 37, 38, 39 | 0, 1, 2, 3, 4, 5, 6, 7, 8, 9, 10, 11, 12, 13, 14, 15, 16, 17, 18, 19, 20, 21, 22, 23, 24, 25, 26, 27, 28, 29, 30, 31, 32, 33, 34, 35, 36, 37, 38, 39 | 0, 1, 2, 3, 4, 5, 6, 7, 8, 9, 10, 11, 12, 13, 14, 15, 16, 17, 18, 19, 20, 21, 22, 23, 24, 25, 26, 27, 28, 29, 30, 31, 32, 33, 34, 35, 36, 37, 38, 39 | 0, 1, 2, 3, 4, 5, 6, 7, 8, 9, 10, 11, 12, 13, 14, 15, 16, 17, 18, 19, 20, 21, 22, 23, 24, 25, 26, 27, 28, 29, 30, 31, 32, 33, 34, 35, 36, 37, 38, 39 | 0, 1, 2, 3, 4, 5, 6, 7, 8, 9, 10, 11, 12, 13, 14, 15, 16, 17, 18, 19, 20, 21, 22, 23, 24, 25, 26, 27, 28, 29, 30, 31, 32, 33, 34, 35, 36, 37, 38, 39 | 0, 1, 2, 3, 4, 5, 6, 7, 8, 9, 10, 11, 12, 13, 14, 15, 16, 17, 18, 19, 20, 21, 22, 23, 24, 25, 26, 27, 28, 29, 30, 31, 32, 33, 34, 35, 36, 37, 38, 39 | \n",
       "| series | z | z | z | z | z | z | z | z | z | z | \n",
       "| snames | NULL | NULL | NULL | NULL | NULL | NULL | NULL | NULL | NULL | NULL | \n",
       "\n",
       "\n"
      ],
      "text/plain": [
       "       lambda.01                                                                                                                                                                                                                                                                                                                                                                                                                                                                                                                                                                                       \n",
       "acf    1.0000000000, -0.0048398158, 0.0001671719, -0.0227735475, 0.0048312196, 0.0241861948, 0.0137741956, 0.0008574137, -0.0055865062, 0.0108087736, -0.0112982298, 0.0109514635, -0.0009384327, -0.0020752935, 0.0113779126, -0.0039565894, -0.0021102318, -0.0123910474, -0.0074486863, -0.0010935753, 0.0011176294, 0.0027337094, -0.0102098052, 0.0150148107, 0.0017024335, -0.0097749022, 0.0036930884, -0.0068045184, -0.0151130716, 0.0107974977, 0.0226742609, -0.0241096570, 0.0172207826, 0.0073040466, -0.0234061538, 0.0004547741, 0.0099713722, 0.0125809978, -0.0058552936, 0.0156780007\n",
       "type   correlation                                                                                                                                                                                                                                                                                                                                                                                                                                                                                                                                                                                     \n",
       "n.used 8001                                                                                                                                                                                                                                                                                                                                                                                                                                                                                                                                                                                            \n",
       "lag    0, 1, 2, 3, 4, 5, 6, 7, 8, 9, 10, 11, 12, 13, 14, 15, 16, 17, 18, 19, 20, 21, 22, 23, 24, 25, 26, 27, 28, 29, 30, 31, 32, 33, 34, 35, 36, 37, 38, 39                                                                                                                                                                                                                                                                                                                                                                                                                                            \n",
       "series z                                                                                                                                                                                                                                                                                                                                                                                                                                                                                                                                                                                               \n",
       "snames NULL                                                                                                                                                                                                                                                                                                                                                                                                                                                                                                                                                                                            \n",
       "       lambda.02                                                                                                                                                                                                                                                                                                                                                                                                                                                                                                                                                                                            \n",
       "acf    1.0000000000, -0.0061028924, 0.0005742733, -0.0092041726, -0.0039943615, -0.0074702700, 0.0278751267, -0.0034948206, -0.0010112730, 0.0102604038, -0.0003461676, 0.0006267588, -0.0020325719, 0.0157008129, 0.0124444567, 0.0145968082, -0.0019253953, -0.0002965464, 0.0092720875, -0.0027421935, -0.0055806792, -0.0019179166, -0.0016160692, 0.0166575384, -0.0090731455, -0.0171998154, 0.0055585821, -0.0031752937, -0.0091905240, 0.0138286308, -0.0048120415, 0.0047356825, 0.0078748517, 0.0029278683, -0.0200550049, -0.0017388023, -0.0089038485, -0.0036064813, 0.0023954266, 0.0011430317\n",
       "type   correlation                                                                                                                                                                                                                                                                                                                                                                                                                                                                                                                                                                                          \n",
       "n.used 8001                                                                                                                                                                                                                                                                                                                                                                                                                                                                                                                                                                                                 \n",
       "lag    0, 1, 2, 3, 4, 5, 6, 7, 8, 9, 10, 11, 12, 13, 14, 15, 16, 17, 18, 19, 20, 21, 22, 23, 24, 25, 26, 27, 28, 29, 30, 31, 32, 33, 34, 35, 36, 37, 38, 39                                                                                                                                                                                                                                                                                                                                                                                                                                                 \n",
       "series z                                                                                                                                                                                                                                                                                                                                                                                                                                                                                                                                                                                                    \n",
       "snames NULL                                                                                                                                                                                                                                                                                                                                                                                                                                                                                                                                                                                                 \n",
       "       lambda.03                                                                                                                                                                                                                                                                                                                                                                                                                                                                                                                                                                                      \n",
       "acf    1.0000000000, 0.0056343962, -0.0058643295, 0.0058810799, 0.0007888538, -0.0131784800, 0.0031073883, 0.0015558168, -0.0090091556, 0.0141494767, -0.0166293401, 0.0102654249, 0.0152520986, 0.0088879734, -0.0105976435, -0.0183490077, 0.0091687991, 0.0053109515, -0.0075987562, 0.0158411755, -0.0021648983, -0.0187872927, -0.0020551451, 0.0148844944, 0.0100084271, -0.0185763972, -0.0158559563, -0.0077466504, 0.0249706137, -0.0018534390, 0.0038846927, 0.0179264096, 0.0028319908, -0.0163305879, -0.0009556814, 0.0089564026, 0.0095874484, 0.0024753652, 0.0051197561, -0.0130578128\n",
       "type   correlation                                                                                                                                                                                                                                                                                                                                                                                                                                                                                                                                                                                    \n",
       "n.used 8001                                                                                                                                                                                                                                                                                                                                                                                                                                                                                                                                                                                           \n",
       "lag    0, 1, 2, 3, 4, 5, 6, 7, 8, 9, 10, 11, 12, 13, 14, 15, 16, 17, 18, 19, 20, 21, 22, 23, 24, 25, 26, 27, 28, 29, 30, 31, 32, 33, 34, 35, 36, 37, 38, 39                                                                                                                                                                                                                                                                                                                                                                                                                                           \n",
       "series z                                                                                                                                                                                                                                                                                                                                                                                                                                                                                                                                                                                              \n",
       "snames NULL                                                                                                                                                                                                                                                                                                                                                                                                                                                                                                                                                                                           \n",
       "       lambda.04                                                                                                                                                                                                                                                                                                                                                                                                                                                                                                                                                                                         \n",
       "acf    1.0000000000, -0.0062370176, 0.0106815994, 0.0042138732, -0.0010275398, -0.0033407595, 0.0095374564, -0.0132167739, 0.0046064158, -0.0010274520, 0.0037274509, 0.0200449885, -0.0075865749, -0.0023648942, -0.0055435230, 0.0079579206, 0.0111213351, 0.0104595215, -0.0192096860, 0.0095653634, -0.0018666871, 0.0046730314, 0.0117004133, 0.0022704859, -0.0019916451, -0.0178178723, -0.0005720286, 0.0186227793, -0.0287896931, -0.0020618498, -0.0073129993, -0.0256630566, 0.0076264221, 0.0201032778, -0.0098164785, -0.0148497654, 0.0201311923, 0.0164960561, 0.0073775853, -0.0214685920\n",
       "type   correlation                                                                                                                                                                                                                                                                                                                                                                                                                                                                                                                                                                                       \n",
       "n.used 8001                                                                                                                                                                                                                                                                                                                                                                                                                                                                                                                                                                                              \n",
       "lag    0, 1, 2, 3, 4, 5, 6, 7, 8, 9, 10, 11, 12, 13, 14, 15, 16, 17, 18, 19, 20, 21, 22, 23, 24, 25, 26, 27, 28, 29, 30, 31, 32, 33, 34, 35, 36, 37, 38, 39                                                                                                                                                                                                                                                                                                                                                                                                                                              \n",
       "series z                                                                                                                                                                                                                                                                                                                                                                                                                                                                                                                                                                                                 \n",
       "snames NULL                                                                                                                                                                                                                                                                                                                                                                                                                                                                                                                                                                                              \n",
       "       lambda.05                                                                                                                                                                                                                                                                                                                                                                                                                                                                                                                                                                                          \n",
       "acf    1.0000000000, 0.0261804217, 0.0092668643, 0.0182613765, -0.0082717187, -0.0124819066, 0.0016645257, 0.0147811911, -0.0106234338, -0.0222851213, 0.0060356029, 0.0011723765, 0.0107859125, 0.0080771309, -0.0039255101, -0.0169791790, -0.0083706299, -0.0012753632, -0.0087207408, -0.0047309824, -0.0111089389, 0.0138298684, -0.0081568512, -0.0121546202, -0.0041203130, 0.0145175638, -0.0103196664, -0.0052781543, -0.0177762742, 0.0041109273, 0.0051390263, 0.0275010199, -0.0115545233, 0.0001279561, -0.0088118760, -0.0043237855, -0.0118806799, 0.0056574677, 0.0066727508, 0.0010861038\n",
       "type   correlation                                                                                                                                                                                                                                                                                                                                                                                                                                                                                                                                                                                        \n",
       "n.used 8001                                                                                                                                                                                                                                                                                                                                                                                                                                                                                                                                                                                               \n",
       "lag    0, 1, 2, 3, 4, 5, 6, 7, 8, 9, 10, 11, 12, 13, 14, 15, 16, 17, 18, 19, 20, 21, 22, 23, 24, 25, 26, 27, 28, 29, 30, 31, 32, 33, 34, 35, 36, 37, 38, 39                                                                                                                                                                                                                                                                                                                                                                                                                                               \n",
       "series z                                                                                                                                                                                                                                                                                                                                                                                                                                                                                                                                                                                                  \n",
       "snames NULL                                                                                                                                                                                                                                                                                                                                                                                                                                                                                                                                                                                               \n",
       "       lambda.06                                                                                                                                                                                                                                                                                                                                                                                                                                                                                                                                                                                        \n",
       "acf    1.0000000000, -0.0016068651, -0.0079535607, 0.0070057005, 0.0058730405, -0.0215070119, 0.0161559562, 0.0042638699, -0.0186423929, 0.0175075630, 0.0096558980, -0.0089880087, 0.0006701133, -0.0039930957, 0.0072684120, 0.0186686009, 0.0168500249, 0.0046045338, 0.0067286271, -0.0004525895, -0.0065247495, 0.0032202355, 0.0157009997, -0.0003655579, -0.0069097359, 0.0218176818, 0.0031314061, 0.0049188058, -0.0433354589, 0.0094593344, -0.0060313092, -0.0002289356, -0.0021891410, -0.0006750466, -0.0057423071, -0.0024117472, -0.0086014313, -0.0073914328, 0.0156162145, 0.0192064402\n",
       "type   correlation                                                                                                                                                                                                                                                                                                                                                                                                                                                                                                                                                                                      \n",
       "n.used 8001                                                                                                                                                                                                                                                                                                                                                                                                                                                                                                                                                                                             \n",
       "lag    0, 1, 2, 3, 4, 5, 6, 7, 8, 9, 10, 11, 12, 13, 14, 15, 16, 17, 18, 19, 20, 21, 22, 23, 24, 25, 26, 27, 28, 29, 30, 31, 32, 33, 34, 35, 36, 37, 38, 39                                                                                                                                                                                                                                                                                                                                                                                                                                             \n",
       "series z                                                                                                                                                                                                                                                                                                                                                                                                                                                                                                                                                                                                \n",
       "snames NULL                                                                                                                                                                                                                                                                                                                                                                                                                                                                                                                                                                                             \n",
       "       lambda.07                                                                                                                                                                                                                                                                                                                                                                                                                                                                                                                                                                                         \n",
       "acf    1.0000000000, 0.1103848526, 0.0105295759, -0.0098302394, 0.0096141165, -0.0112825939, 0.0148112470, 0.0066147498, -0.0001836344, -0.0083340996, -0.0197703729, 0.0057428052, 0.0042000599, 0.0010192448, 0.0044396585, 0.0029309030, -0.0111931131, -0.0117470892, -0.0180600708, -0.0057999289, 0.0074782415, 0.0025267404, -0.0077602081, 0.0115704080, -0.0005369055, -0.0058902921, 0.0073030903, -0.0111337925, -0.0150431971, 0.0081105713, -0.0277644066, -0.0232137366, -0.0085836156, 0.0098537143, 0.0257523030, 0.0112340170, -0.0135738819, 0.0011920499, -0.0105302558, -0.0045964780\n",
       "type   correlation                                                                                                                                                                                                                                                                                                                                                                                                                                                                                                                                                                                       \n",
       "n.used 8001                                                                                                                                                                                                                                                                                                                                                                                                                                                                                                                                                                                              \n",
       "lag    0, 1, 2, 3, 4, 5, 6, 7, 8, 9, 10, 11, 12, 13, 14, 15, 16, 17, 18, 19, 20, 21, 22, 23, 24, 25, 26, 27, 28, 29, 30, 31, 32, 33, 34, 35, 36, 37, 38, 39                                                                                                                                                                                                                                                                                                                                                                                                                                              \n",
       "series z                                                                                                                                                                                                                                                                                                                                                                                                                                                                                                                                                                                                 \n",
       "snames NULL                                                                                                                                                                                                                                                                                                                                                                                                                                                                                                                                                                                              \n",
       "       lambda.08                                                                                                                                                                                                                                                                                                                                                                                                                                                                                                                                                                                          \n",
       "acf    1.000000e+00, 1.046884e-01, 3.944178e-02, -1.427551e-02, -2.590751e-02, -1.262334e-02, 3.520314e-03, 2.552463e-03, 1.411206e-02, 7.137806e-03, -1.340919e-03, 1.021346e-02, -5.855442e-04, -2.336229e-03, 5.517491e-03, 6.112514e-03, -7.354436e-03, -1.033568e-02, -3.815878e-03, 1.759726e-02, -9.376988e-03, 5.904735e-03, 4.035572e-03, -6.440622e-03, 1.422666e-02, 5.290872e-03, 6.704665e-05, -1.887565e-02, -3.417795e-02, 4.956983e-03, -1.805579e-02, -2.622928e-02, -1.611891e-02, -7.468368e-03, 1.282227e-02, 6.092322e-04, -1.725435e-03, -2.085395e-03, -4.794273e-03, -2.221827e-02\n",
       "type   correlation                                                                                                                                                                                                                                                                                                                                                                                                                                                                                                                                                                                        \n",
       "n.used 8001                                                                                                                                                                                                                                                                                                                                                                                                                                                                                                                                                                                               \n",
       "lag    0, 1, 2, 3, 4, 5, 6, 7, 8, 9, 10, 11, 12, 13, 14, 15, 16, 17, 18, 19, 20, 21, 22, 23, 24, 25, 26, 27, 28, 29, 30, 31, 32, 33, 34, 35, 36, 37, 38, 39                                                                                                                                                                                                                                                                                                                                                                                                                                               \n",
       "series z                                                                                                                                                                                                                                                                                                                                                                                                                                                                                                                                                                                                  \n",
       "snames NULL                                                                                                                                                                                                                                                                                                                                                                                                                                                                                                                                                                                               \n",
       "       lambda.09                                                                                                                                                                                                                                                                                                                                                                                                                                                                                                                                                                                    \n",
       "acf    1.0000000000, 0.1051295645, 0.0240944031, 0.0017671753, 0.0101691450, -0.0212251767, 0.0100301630, 0.0033717846, 0.0055918487, 0.0042139883, -0.0201356736, -0.0023524334, 0.0012883886, 0.0179036467, 0.0054230578, -0.0047140199, -0.0117579673, -0.0189018335, -0.0087026296, 0.0065823805, 0.0133515719, 0.0060496360, 0.0078797126, 0.0004279481, -0.0035873309, 0.0017517059, 0.0117868891, -0.0006734429, 0.0068778139, -0.0082449272, -0.0212154968, -0.0063597928, 0.0038331867, -0.0030154687, 0.0103599363, 0.0002381873, -0.0187859227, -0.0147030606, 0.0244856123, 0.0170013363\n",
       "type   correlation                                                                                                                                                                                                                                                                                                                                                                                                                                                                                                                                                                                  \n",
       "n.used 8001                                                                                                                                                                                                                                                                                                                                                                                                                                                                                                                                                                                         \n",
       "lag    0, 1, 2, 3, 4, 5, 6, 7, 8, 9, 10, 11, 12, 13, 14, 15, 16, 17, 18, 19, 20, 21, 22, 23, 24, 25, 26, 27, 28, 29, 30, 31, 32, 33, 34, 35, 36, 37, 38, 39                                                                                                                                                                                                                                                                                                                                                                                                                                         \n",
       "series z                                                                                                                                                                                                                                                                                                                                                                                                                                                                                                                                                                                            \n",
       "snames NULL                                                                                                                                                                                                                                                                                                                                                                                                                                                                                                                                                                                         \n",
       "       lambda.10                                                                                                                                                                                                                                                                                                                                                                                                                                                                                                                                                                                    \n",
       "acf    1.0000000000, 0.0677935589, 0.0295740610, 0.0124203171, -0.0094567941, 0.0139326941, 0.0192188424, 0.0013378400, 0.0123229881, 0.0066006752, 0.0120197857, 0.0028749516, -0.0052183087, -0.0049805343, 0.0219824820, -0.0027485937, -0.0081329073, -0.0078798579, 0.0057671447, 0.0001807784, 0.0089595442, 0.0080690080, 0.0086856848, 0.0040813562, -0.0114880907, -0.0068771865, -0.0069384749, 0.0055256118, -0.0247232048, -0.0061531669, 0.0125543977, 0.0006320004, 0.0164693360, -0.0142377579, -0.0112498628, 0.0057794312, 0.0038589357, -0.0124346035, 0.0029893163, -0.0200220214\n",
       "type   correlation                                                                                                                                                                                                                                                                                                                                                                                                                                                                                                                                                                                  \n",
       "n.used 8001                                                                                                                                                                                                                                                                                                                                                                                                                                                                                                                                                                                         \n",
       "lag    0, 1, 2, 3, 4, 5, 6, 7, 8, 9, 10, 11, 12, 13, 14, 15, 16, 17, 18, 19, 20, 21, 22, 23, 24, 25, 26, 27, 28, 29, 30, 31, 32, 33, 34, 35, 36, 37, 38, 39                                                                                                                                                                                                                                                                                                                                                                                                                                         \n",
       "series z                                                                                                                                                                                                                                                                                                                                                                                                                                                                                                                                                                                            \n",
       "snames NULL                                                                                                                                                                                                                                                                                                                                                                                                                                                                                                                                                                                         "
      ]
     },
     "metadata": {},
     "output_type": "display_data"
    },
    {
     "data": {
      "image/png": "[encoded data removed]",
      "text/plain": [
       "Plot with title \"lambda.10\""
      ]
     },
     "metadata": {},
     "output_type": "display_data"
    },
    {
     "data": {
      "image/png": "[encoded data removed]",
      "text/plain": [
       "Plot with title \"beta\""
      ]
     },
     "metadata": {},
     "output_type": "display_data"
    }
   ],
   "source": [
    "do.acf<-function(z,...){acf(z,lwd=2.5,col=\"blue\",xlab=\"\",...)}\n",
    "old.par<-par(mfrow=c(2,5),mar=c(3,1,3,1))\n",
    "mapply(do.acf,lambda.df,main=sprintf(\"lambda.%0.2d\",1:10))\n",
    "par(old.par)\n",
    "acf(beta,lwd=2.5,col=\"blue\",xlab=\"\",main=\"beta\")"
   ]
  },
  {
   "cell_type": "markdown",
   "metadata": {},
   "source": [
    "#### Histograms"
   ]
  },
  {
   "cell_type": "code",
   "execution_count": 13,
   "metadata": {},
   "outputs": [
    {
     "data": {
      "text/html": [
       "<table>\n",
       "<thead><tr><th></th><th scope=col>lambda.01</th><th scope=col>lambda.02</th><th scope=col>lambda.03</th><th scope=col>lambda.04</th><th scope=col>lambda.05</th><th scope=col>lambda.06</th><th scope=col>lambda.07</th><th scope=col>lambda.08</th><th scope=col>lambda.09</th><th scope=col>lambda.10</th></tr></thead>\n",
       "<tbody>\n",
       "\t<tr><th scope=row>breaks</th><td>0.00, 0.01, 0.02, 0.03, 0.04, 0.05, 0.06, 0.07, 0.08, 0.09, 0.10, 0.11, 0.12, 0.13, 0.14, 0.15, 0.16, 0.17, 0.18, 0.19, 0.20, 0.21, 0.22                           </td><td>0.00, 0.05, 0.10, 0.15, 0.20, 0.25, 0.30, 0.35, 0.40, 0.45, 0.50, 0.55, 0.60, 0.65, 0.70, 0.75                                                                     </td><td>0.00, 0.02, 0.04, 0.06, 0.08, 0.10, 0.12, 0.14, 0.16, 0.18, 0.20, 0.22, 0.24, 0.26, 0.28, 0.30, 0.32, 0.34, 0.36, 0.38                                             </td><td>0.03, 0.04, 0.05, 0.06, 0.07, 0.08, 0.09, 0.10, 0.11, 0.12, 0.13, 0.14, 0.15, 0.16, 0.17, 0.18, 0.19, 0.20, 0.21, 0.22, 0.23, 0.24, 0.25, 0.26, 0.27, 0.28, 0.29   </td><td>0.0, 0.1, 0.2, 0.3, 0.4, 0.5, 0.6, 0.7, 0.8, 0.9, 1.0, 1.1, 1.2, 1.3, 1.4, 1.5, 1.6, 1.7, 1.8, 1.9, 2.0, 2.1, 2.2, 2.3, 2.4, 2.5                                   </td><td>0.20, 0.25, 0.30, 0.35, 0.40, 0.45, 0.50, 0.55, 0.60, 0.65, 0.70, 0.75, 0.80, 0.85, 0.90, 0.95, 1.00, 1.05, 1.10, 1.15, 1.20                                       </td><td>0.0, 0.2, 0.4, 0.6, 0.8, 1.0, 1.2, 1.4, 1.6, 1.8, 2.0, 2.2, 2.4, 2.6, 2.8, 3.0, 3.2, 3.4, 3.6, 3.8, 4.0, 4.2                                                       </td><td>0.0, 0.2, 0.4, 0.6, 0.8, 1.0, 1.2, 1.4, 1.6, 1.8, 2.0, 2.2, 2.4, 2.6, 2.8, 3.0, 3.2, 3.4, 3.6, 3.8, 4.0, 4.2, 4.4                                                  </td><td>0.0, 0.2, 0.4, 0.6, 0.8, 1.0, 1.2, 1.4, 1.6, 1.8, 2.0, 2.2, 2.4, 2.6, 2.8, 3.0, 3.2, 3.4, 3.6, 3.8, 4.0, 4.2, 4.4, 4.6, 4.8                                        </td><td>0.7, 0.8, 0.9, 1.0, 1.1, 1.2, 1.3, 1.4, 1.5, 1.6, 1.7, 1.8, 1.9, 2.0, 2.1, 2.2, 2.3, 2.4, 2.5, 2.6, 2.7, 2.8, 2.9, 3.0, 3.1, 3.2, 3.3, 3.4, 3.5, 3.6, 3.7, 3.8, 3.9</td></tr>\n",
       "\t<tr><th scope=row>counts</th><td>2, 43, 261, 601, 1032, 1171, 1243, 1079, 856, 626, 416, 262, 166, 115, 63, 33, 13, 5, 9, 2, 2, 1                                     </td><td>707, 1850, 1994, 1408, 932, 544, 257, 179, 65, 34, 15, 11, 3, 1, 1                                                                   </td><td>2, 180, 794, 1446, 1693, 1466, 1029, 651, 400, 187, 76, 46, 14, 8, 6, 2, 0, 0, 1                                                     </td><td>2, 9, 48, 128, 319, 594, 819, 987, 1065, 1022, 818, 680, 556, 348, 227, 148, 103, 44, 36, 24, 10, 5, 2, 6, 0, 1                      </td><td>20, 217, 586, 951, 1186, 1153, 1050, 820, 658, 458, 319, 216, 136, 98, 54, 38, 20, 13, 5, 1, 0, 1, 0, 0, 1                           </td><td>2, 15, 93, 256, 491, 816, 1051, 1157, 1146, 956, 767, 506, 330, 195, 98, 66, 29, 19, 6, 2                                            </td><td>427, 1254, 1525, 1380, 1071, 776, 531, 372, 231, 156, 97, 74, 36, 30, 15, 11, 5, 5, 2, 2, 1                                          </td><td>390, 1234, 1524, 1383, 1074, 833, 534, 374, 240, 153, 87, 57, 43, 23, 13, 14, 9, 6, 5, 2, 2, 1                                       </td><td>2, 103, 515, 909, 1205, 1225, 1073, 928, 667, 474, 348, 194, 138, 79, 44, 32, 29, 14, 5, 6, 5, 3, 2, 1                               </td><td>5, 8, 34, 70, 158, 288, 422, 547, 751, 780, 859, 814, 672, 604, 555, 406, 325, 232, 159, 112, 80, 38, 37, 19, 6, 11, 2, 3, 2, 0, 1, 1</td></tr>\n",
       "\t<tr><th scope=row>density</th><td>0.02499688, 0.53743282, 3.26209224, 7.51156105, 12.89838770, 14.63567054, 15.53555806, 13.48581427, 10.69866267, 7.82402200, 5.19935008, 3.27459068, 2.07474066, 1.43732033, 0.78740157, 0.41244844, 0.16247969, 0.06249219, 0.11248594, 0.02499688, 0.02499688, 0.01249844                                                                                                                                                   </td><td>1.767279090, 4.624421947, 4.984376953, 3.519560055, 2.329708786, 1.359830021, 0.642419698, 0.447444069, 0.162479690, 0.084989376, 0.037495313, 0.027496563, 0.007499063, 0.002499688, 0.002499688                                                                                                                                                                                                                             </td><td>0.012498438, 1.124859393, 4.961879765, 9.036370454, 10.579927509, 9.161354831, 6.430446194, 4.068241470, 2.499687539, 1.168603925, 0.474940632, 0.287464067, 0.087489064, 0.049993751, 0.037495313, 0.012498438, 0.000000000, 0.000000000, 0.006249219                                                                                                                                                                        </td><td>0.02499688, 0.11248594, 0.59992501, 1.59980002, 3.98700162, 7.42407199, 10.23622047, 12.33595801, 13.31083615, 12.77340332, 10.22372203, 8.49893763, 6.94913136, 4.34945632, 2.83714536, 1.84976878, 1.28733908, 0.54993126, 0.44994376, 0.29996250, 0.12498438, 0.06249219, 0.02499688, 0.07499063, 0.00000000, 0.01249844                                                                                                   </td><td>0.024996875, 0.271216098, 0.732408449, 1.188601425, 1.482314711, 1.441069866, 1.312335958, 1.024871891, 0.822397200, 0.572428446, 0.398700162, 0.269966254, 0.169978753, 0.122484689, 0.067491564, 0.047494063, 0.024996875, 0.016247969, 0.006249219, 0.001249844, 0.000000000, 0.001249844, 0.000000000, 0.000000000, 0.001249844                                                                                           </td><td>0.004999375, 0.037495313, 0.232470941, 0.639920010, 1.227346582, 2.039745032, 2.627171604, 2.892138483, 2.864641920, 2.389701287, 1.917260342, 1.264841895, 0.824896888, 0.487439070, 0.244969379, 0.164979378, 0.072490939, 0.047494063, 0.014998125, 0.004999375                                                                                                                                                            </td><td>0.2668416448, 0.7836520435, 0.9530058743, 0.8623922010, 0.6692913386, 0.4849393826, 0.3318335208, 0.2324709411, 0.1443569554, 0.0974878140, 0.0606174228, 0.0462442195, 0.0224971879, 0.0187476565, 0.0093738283, 0.0068741407, 0.0031246094, 0.0031246094, 0.0012498438, 0.0012498438, 0.0006249219                                                                                                                          </td><td>0.2437195351, 0.7711536058, 0.9523809524, 0.8642669666, 0.6711661042, 0.5205599300, 0.3337082865, 0.2337207849, 0.1499812523, 0.0956130484, 0.0543682040, 0.0356205474, 0.0268716410, 0.0143732033, 0.0081239845, 0.0087489064, 0.0056242970, 0.0037495313, 0.0031246094, 0.0012498438, 0.0012498438, 0.0006249219                                                                                                            </td><td>0.0012498438, 0.0643669541, 0.3218347707, 0.5680539933, 0.7530308711, 0.7655293088, 0.6705411824, 0.5799275091, 0.4168228971, 0.2962129734, 0.2174728159, 0.1212348456, 0.0862392201, 0.0493688289, 0.0274965629, 0.0199975003, 0.0181227347, 0.0087489064, 0.0031246094, 0.0037495313, 0.0031246094, 0.0018747657, 0.0012498438, 0.0006249219                                                                                </td><td>0.006249219, 0.009998750, 0.042494688, 0.087489064, 0.197475316, 0.359955006, 0.527434071, 0.683664542, 0.938632671, 0.974878140, 1.073615798, 1.017372828, 0.839895013, 0.754905637, 0.693663292, 0.507436570, 0.406199225, 0.289963755, 0.198725159, 0.139982502, 0.099987502, 0.047494063, 0.046244219, 0.023747032, 0.007499063, 0.013748281, 0.002499688, 0.003749531, 0.002499688, 0.000000000, 0.001249844, 0.001249844</td></tr>\n",
       "\t<tr><th scope=row>mids</th><td>0.005, 0.015, 0.025, 0.035, 0.045, 0.055, 0.065, 0.075, 0.085, 0.095, 0.105, 0.115, 0.125, 0.135, 0.145, 0.155, 0.165, 0.175, 0.185, 0.195, 0.205, 0.215                                      </td><td>0.025, 0.075, 0.125, 0.175, 0.225, 0.275, 0.325, 0.375, 0.425, 0.475, 0.525, 0.575, 0.625, 0.675, 0.725                                                                                       </td><td>0.01, 0.03, 0.05, 0.07, 0.09, 0.11, 0.13, 0.15, 0.17, 0.19, 0.21, 0.23, 0.25, 0.27, 0.29, 0.31, 0.33, 0.35, 0.37                                                                              </td><td>0.035, 0.045, 0.055, 0.065, 0.075, 0.085, 0.095, 0.105, 0.115, 0.125, 0.135, 0.145, 0.155, 0.165, 0.175, 0.185, 0.195, 0.205, 0.215, 0.225, 0.235, 0.245, 0.255, 0.265, 0.275, 0.285          </td><td>0.05, 0.15, 0.25, 0.35, 0.45, 0.55, 0.65, 0.75, 0.85, 0.95, 1.05, 1.15, 1.25, 1.35, 1.45, 1.55, 1.65, 1.75, 1.85, 1.95, 2.05, 2.15, 2.25, 2.35, 2.45                                          </td><td>0.225, 0.275, 0.325, 0.375, 0.425, 0.475, 0.525, 0.575, 0.625, 0.675, 0.725, 0.775, 0.825, 0.875, 0.925, 0.975, 1.025, 1.075, 1.125, 1.175                                                    </td><td>0.1, 0.3, 0.5, 0.7, 0.9, 1.1, 1.3, 1.5, 1.7, 1.9, 2.1, 2.3, 2.5, 2.7, 2.9, 3.1, 3.3, 3.5, 3.7, 3.9, 4.1                                                                                       </td><td>0.1, 0.3, 0.5, 0.7, 0.9, 1.1, 1.3, 1.5, 1.7, 1.9, 2.1, 2.3, 2.5, 2.7, 2.9, 3.1, 3.3, 3.5, 3.7, 3.9, 4.1, 4.3                                                                                  </td><td>0.1, 0.3, 0.5, 0.7, 0.9, 1.1, 1.3, 1.5, 1.7, 1.9, 2.1, 2.3, 2.5, 2.7, 2.9, 3.1, 3.3, 3.5, 3.7, 3.9, 4.1, 4.3, 4.5, 4.7                                                                        </td><td>0.75, 0.85, 0.95, 1.05, 1.15, 1.25, 1.35, 1.45, 1.55, 1.65, 1.75, 1.85, 1.95, 2.05, 2.15, 2.25, 2.35, 2.45, 2.55, 2.65, 2.75, 2.85, 2.95, 3.05, 3.15, 3.25, 3.35, 3.45, 3.55, 3.65, 3.75, 3.85</td></tr>\n",
       "\t<tr><th scope=row>xname</th><td>u</td><td>u</td><td>u</td><td>u</td><td>u</td><td>u</td><td>u</td><td>u</td><td>u</td><td>u</td></tr>\n",
       "\t<tr><th scope=row>equidist</th><td>TRUE</td><td>TRUE</td><td>TRUE</td><td>TRUE</td><td>TRUE</td><td>TRUE</td><td>TRUE</td><td>TRUE</td><td>TRUE</td><td>TRUE</td></tr>\n",
       "</tbody>\n",
       "</table>\n"
      ],
      "text/latex": [
       "\\begin{tabular}{r|llllllllll}\n",
       "  & lambda.01 & lambda.02 & lambda.03 & lambda.04 & lambda.05 & lambda.06 & lambda.07 & lambda.08 & lambda.09 & lambda.10\\\\\n",
       "\\hline\n",
       "\tbreaks & 0.00, 0.01, 0.02, 0.03, 0.04, 0.05, 0.06, 0.07, 0.08, 0.09, 0.10, 0.11, 0.12, 0.13, 0.14, 0.15, 0.16, 0.17, 0.18, 0.19, 0.20, 0.21, 0.22                            & 0.00, 0.05, 0.10, 0.15, 0.20, 0.25, 0.30, 0.35, 0.40, 0.45, 0.50, 0.55, 0.60, 0.65, 0.70, 0.75                                                                      & 0.00, 0.02, 0.04, 0.06, 0.08, 0.10, 0.12, 0.14, 0.16, 0.18, 0.20, 0.22, 0.24, 0.26, 0.28, 0.30, 0.32, 0.34, 0.36, 0.38                                              & 0.03, 0.04, 0.05, 0.06, 0.07, 0.08, 0.09, 0.10, 0.11, 0.12, 0.13, 0.14, 0.15, 0.16, 0.17, 0.18, 0.19, 0.20, 0.21, 0.22, 0.23, 0.24, 0.25, 0.26, 0.27, 0.28, 0.29    & 0.0, 0.1, 0.2, 0.3, 0.4, 0.5, 0.6, 0.7, 0.8, 0.9, 1.0, 1.1, 1.2, 1.3, 1.4, 1.5, 1.6, 1.7, 1.8, 1.9, 2.0, 2.1, 2.2, 2.3, 2.4, 2.5                                    & 0.20, 0.25, 0.30, 0.35, 0.40, 0.45, 0.50, 0.55, 0.60, 0.65, 0.70, 0.75, 0.80, 0.85, 0.90, 0.95, 1.00, 1.05, 1.10, 1.15, 1.20                                        & 0.0, 0.2, 0.4, 0.6, 0.8, 1.0, 1.2, 1.4, 1.6, 1.8, 2.0, 2.2, 2.4, 2.6, 2.8, 3.0, 3.2, 3.4, 3.6, 3.8, 4.0, 4.2                                                        & 0.0, 0.2, 0.4, 0.6, 0.8, 1.0, 1.2, 1.4, 1.6, 1.8, 2.0, 2.2, 2.4, 2.6, 2.8, 3.0, 3.2, 3.4, 3.6, 3.8, 4.0, 4.2, 4.4                                                   & 0.0, 0.2, 0.4, 0.6, 0.8, 1.0, 1.2, 1.4, 1.6, 1.8, 2.0, 2.2, 2.4, 2.6, 2.8, 3.0, 3.2, 3.4, 3.6, 3.8, 4.0, 4.2, 4.4, 4.6, 4.8                                         & 0.7, 0.8, 0.9, 1.0, 1.1, 1.2, 1.3, 1.4, 1.5, 1.6, 1.7, 1.8, 1.9, 2.0, 2.1, 2.2, 2.3, 2.4, 2.5, 2.6, 2.7, 2.8, 2.9, 3.0, 3.1, 3.2, 3.3, 3.4, 3.5, 3.6, 3.7, 3.8, 3.9\\\\\n",
       "\tcounts & 2, 43, 261, 601, 1032, 1171, 1243, 1079, 856, 626, 416, 262, 166, 115, 63, 33, 13, 5, 9, 2, 2, 1                                      & 707, 1850, 1994, 1408, 932, 544, 257, 179, 65, 34, 15, 11, 3, 1, 1                                                                    & 2, 180, 794, 1446, 1693, 1466, 1029, 651, 400, 187, 76, 46, 14, 8, 6, 2, 0, 0, 1                                                      & 2, 9, 48, 128, 319, 594, 819, 987, 1065, 1022, 818, 680, 556, 348, 227, 148, 103, 44, 36, 24, 10, 5, 2, 6, 0, 1                       & 20, 217, 586, 951, 1186, 1153, 1050, 820, 658, 458, 319, 216, 136, 98, 54, 38, 20, 13, 5, 1, 0, 1, 0, 0, 1                            & 2, 15, 93, 256, 491, 816, 1051, 1157, 1146, 956, 767, 506, 330, 195, 98, 66, 29, 19, 6, 2                                             & 427, 1254, 1525, 1380, 1071, 776, 531, 372, 231, 156, 97, 74, 36, 30, 15, 11, 5, 5, 2, 2, 1                                           & 390, 1234, 1524, 1383, 1074, 833, 534, 374, 240, 153, 87, 57, 43, 23, 13, 14, 9, 6, 5, 2, 2, 1                                        & 2, 103, 515, 909, 1205, 1225, 1073, 928, 667, 474, 348, 194, 138, 79, 44, 32, 29, 14, 5, 6, 5, 3, 2, 1                                & 5, 8, 34, 70, 158, 288, 422, 547, 751, 780, 859, 814, 672, 604, 555, 406, 325, 232, 159, 112, 80, 38, 37, 19, 6, 11, 2, 3, 2, 0, 1, 1\\\\\n",
       "\tdensity & 0.02499688, 0.53743282, 3.26209224, 7.51156105, 12.89838770, 14.63567054, 15.53555806, 13.48581427, 10.69866267, 7.82402200, 5.19935008, 3.27459068, 2.07474066, 1.43732033, 0.78740157, 0.41244844, 0.16247969, 0.06249219, 0.11248594, 0.02499688, 0.02499688, 0.01249844                                                                                                                                                    & 1.767279090, 4.624421947, 4.984376953, 3.519560055, 2.329708786, 1.359830021, 0.642419698, 0.447444069, 0.162479690, 0.084989376, 0.037495313, 0.027496563, 0.007499063, 0.002499688, 0.002499688                                                                                                                                                                                                                              & 0.012498438, 1.124859393, 4.961879765, 9.036370454, 10.579927509, 9.161354831, 6.430446194, 4.068241470, 2.499687539, 1.168603925, 0.474940632, 0.287464067, 0.087489064, 0.049993751, 0.037495313, 0.012498438, 0.000000000, 0.000000000, 0.006249219                                                                                                                                                                         & 0.02499688, 0.11248594, 0.59992501, 1.59980002, 3.98700162, 7.42407199, 10.23622047, 12.33595801, 13.31083615, 12.77340332, 10.22372203, 8.49893763, 6.94913136, 4.34945632, 2.83714536, 1.84976878, 1.28733908, 0.54993126, 0.44994376, 0.29996250, 0.12498438, 0.06249219, 0.02499688, 0.07499063, 0.00000000, 0.01249844                                                                                                    & 0.024996875, 0.271216098, 0.732408449, 1.188601425, 1.482314711, 1.441069866, 1.312335958, 1.024871891, 0.822397200, 0.572428446, 0.398700162, 0.269966254, 0.169978753, 0.122484689, 0.067491564, 0.047494063, 0.024996875, 0.016247969, 0.006249219, 0.001249844, 0.000000000, 0.001249844, 0.000000000, 0.000000000, 0.001249844                                                                                            & 0.004999375, 0.037495313, 0.232470941, 0.639920010, 1.227346582, 2.039745032, 2.627171604, 2.892138483, 2.864641920, 2.389701287, 1.917260342, 1.264841895, 0.824896888, 0.487439070, 0.244969379, 0.164979378, 0.072490939, 0.047494063, 0.014998125, 0.004999375                                                                                                                                                             & 0.2668416448, 0.7836520435, 0.9530058743, 0.8623922010, 0.6692913386, 0.4849393826, 0.3318335208, 0.2324709411, 0.1443569554, 0.0974878140, 0.0606174228, 0.0462442195, 0.0224971879, 0.0187476565, 0.0093738283, 0.0068741407, 0.0031246094, 0.0031246094, 0.0012498438, 0.0012498438, 0.0006249219                                                                                                                           & 0.2437195351, 0.7711536058, 0.9523809524, 0.8642669666, 0.6711661042, 0.5205599300, 0.3337082865, 0.2337207849, 0.1499812523, 0.0956130484, 0.0543682040, 0.0356205474, 0.0268716410, 0.0143732033, 0.0081239845, 0.0087489064, 0.0056242970, 0.0037495313, 0.0031246094, 0.0012498438, 0.0012498438, 0.0006249219                                                                                                             & 0.0012498438, 0.0643669541, 0.3218347707, 0.5680539933, 0.7530308711, 0.7655293088, 0.6705411824, 0.5799275091, 0.4168228971, 0.2962129734, 0.2174728159, 0.1212348456, 0.0862392201, 0.0493688289, 0.0274965629, 0.0199975003, 0.0181227347, 0.0087489064, 0.0031246094, 0.0037495313, 0.0031246094, 0.0018747657, 0.0012498438, 0.0006249219                                                                                 & 0.006249219, 0.009998750, 0.042494688, 0.087489064, 0.197475316, 0.359955006, 0.527434071, 0.683664542, 0.938632671, 0.974878140, 1.073615798, 1.017372828, 0.839895013, 0.754905637, 0.693663292, 0.507436570, 0.406199225, 0.289963755, 0.198725159, 0.139982502, 0.099987502, 0.047494063, 0.046244219, 0.023747032, 0.007499063, 0.013748281, 0.002499688, 0.003749531, 0.002499688, 0.000000000, 0.001249844, 0.001249844\\\\\n",
       "\tmids & 0.005, 0.015, 0.025, 0.035, 0.045, 0.055, 0.065, 0.075, 0.085, 0.095, 0.105, 0.115, 0.125, 0.135, 0.145, 0.155, 0.165, 0.175, 0.185, 0.195, 0.205, 0.215                                       & 0.025, 0.075, 0.125, 0.175, 0.225, 0.275, 0.325, 0.375, 0.425, 0.475, 0.525, 0.575, 0.625, 0.675, 0.725                                                                                        & 0.01, 0.03, 0.05, 0.07, 0.09, 0.11, 0.13, 0.15, 0.17, 0.19, 0.21, 0.23, 0.25, 0.27, 0.29, 0.31, 0.33, 0.35, 0.37                                                                               & 0.035, 0.045, 0.055, 0.065, 0.075, 0.085, 0.095, 0.105, 0.115, 0.125, 0.135, 0.145, 0.155, 0.165, 0.175, 0.185, 0.195, 0.205, 0.215, 0.225, 0.235, 0.245, 0.255, 0.265, 0.275, 0.285           & 0.05, 0.15, 0.25, 0.35, 0.45, 0.55, 0.65, 0.75, 0.85, 0.95, 1.05, 1.15, 1.25, 1.35, 1.45, 1.55, 1.65, 1.75, 1.85, 1.95, 2.05, 2.15, 2.25, 2.35, 2.45                                           & 0.225, 0.275, 0.325, 0.375, 0.425, 0.475, 0.525, 0.575, 0.625, 0.675, 0.725, 0.775, 0.825, 0.875, 0.925, 0.975, 1.025, 1.075, 1.125, 1.175                                                     & 0.1, 0.3, 0.5, 0.7, 0.9, 1.1, 1.3, 1.5, 1.7, 1.9, 2.1, 2.3, 2.5, 2.7, 2.9, 3.1, 3.3, 3.5, 3.7, 3.9, 4.1                                                                                        & 0.1, 0.3, 0.5, 0.7, 0.9, 1.1, 1.3, 1.5, 1.7, 1.9, 2.1, 2.3, 2.5, 2.7, 2.9, 3.1, 3.3, 3.5, 3.7, 3.9, 4.1, 4.3                                                                                   & 0.1, 0.3, 0.5, 0.7, 0.9, 1.1, 1.3, 1.5, 1.7, 1.9, 2.1, 2.3, 2.5, 2.7, 2.9, 3.1, 3.3, 3.5, 3.7, 3.9, 4.1, 4.3, 4.5, 4.7                                                                         & 0.75, 0.85, 0.95, 1.05, 1.15, 1.25, 1.35, 1.45, 1.55, 1.65, 1.75, 1.85, 1.95, 2.05, 2.15, 2.25, 2.35, 2.45, 2.55, 2.65, 2.75, 2.85, 2.95, 3.05, 3.15, 3.25, 3.35, 3.45, 3.55, 3.65, 3.75, 3.85\\\\\n",
       "\txname & u & u & u & u & u & u & u & u & u & u\\\\\n",
       "\tequidist & TRUE & TRUE & TRUE & TRUE & TRUE & TRUE & TRUE & TRUE & TRUE & TRUE\\\\\n",
       "\\end{tabular}\n"
      ],
      "text/markdown": [
       "\n",
       "| <!--/--> | lambda.01 | lambda.02 | lambda.03 | lambda.04 | lambda.05 | lambda.06 | lambda.07 | lambda.08 | lambda.09 | lambda.10 | \n",
       "|---|---|---|---|---|---|\n",
       "| breaks | 0.00, 0.01, 0.02, 0.03, 0.04, 0.05, 0.06, 0.07, 0.08, 0.09, 0.10, 0.11, 0.12, 0.13, 0.14, 0.15, 0.16, 0.17, 0.18, 0.19, 0.20, 0.21, 0.22                            | 0.00, 0.05, 0.10, 0.15, 0.20, 0.25, 0.30, 0.35, 0.40, 0.45, 0.50, 0.55, 0.60, 0.65, 0.70, 0.75                                                                      | 0.00, 0.02, 0.04, 0.06, 0.08, 0.10, 0.12, 0.14, 0.16, 0.18, 0.20, 0.22, 0.24, 0.26, 0.28, 0.30, 0.32, 0.34, 0.36, 0.38                                              | 0.03, 0.04, 0.05, 0.06, 0.07, 0.08, 0.09, 0.10, 0.11, 0.12, 0.13, 0.14, 0.15, 0.16, 0.17, 0.18, 0.19, 0.20, 0.21, 0.22, 0.23, 0.24, 0.25, 0.26, 0.27, 0.28, 0.29    | 0.0, 0.1, 0.2, 0.3, 0.4, 0.5, 0.6, 0.7, 0.8, 0.9, 1.0, 1.1, 1.2, 1.3, 1.4, 1.5, 1.6, 1.7, 1.8, 1.9, 2.0, 2.1, 2.2, 2.3, 2.4, 2.5                                    | 0.20, 0.25, 0.30, 0.35, 0.40, 0.45, 0.50, 0.55, 0.60, 0.65, 0.70, 0.75, 0.80, 0.85, 0.90, 0.95, 1.00, 1.05, 1.10, 1.15, 1.20                                        | 0.0, 0.2, 0.4, 0.6, 0.8, 1.0, 1.2, 1.4, 1.6, 1.8, 2.0, 2.2, 2.4, 2.6, 2.8, 3.0, 3.2, 3.4, 3.6, 3.8, 4.0, 4.2                                                        | 0.0, 0.2, 0.4, 0.6, 0.8, 1.0, 1.2, 1.4, 1.6, 1.8, 2.0, 2.2, 2.4, 2.6, 2.8, 3.0, 3.2, 3.4, 3.6, 3.8, 4.0, 4.2, 4.4                                                   | 0.0, 0.2, 0.4, 0.6, 0.8, 1.0, 1.2, 1.4, 1.6, 1.8, 2.0, 2.2, 2.4, 2.6, 2.8, 3.0, 3.2, 3.4, 3.6, 3.8, 4.0, 4.2, 4.4, 4.6, 4.8                                         | 0.7, 0.8, 0.9, 1.0, 1.1, 1.2, 1.3, 1.4, 1.5, 1.6, 1.7, 1.8, 1.9, 2.0, 2.1, 2.2, 2.3, 2.4, 2.5, 2.6, 2.7, 2.8, 2.9, 3.0, 3.1, 3.2, 3.3, 3.4, 3.5, 3.6, 3.7, 3.8, 3.9 | \n",
       "| counts | 2, 43, 261, 601, 1032, 1171, 1243, 1079, 856, 626, 416, 262, 166, 115, 63, 33, 13, 5, 9, 2, 2, 1                                      | 707, 1850, 1994, 1408, 932, 544, 257, 179, 65, 34, 15, 11, 3, 1, 1                                                                    | 2, 180, 794, 1446, 1693, 1466, 1029, 651, 400, 187, 76, 46, 14, 8, 6, 2, 0, 0, 1                                                      | 2, 9, 48, 128, 319, 594, 819, 987, 1065, 1022, 818, 680, 556, 348, 227, 148, 103, 44, 36, 24, 10, 5, 2, 6, 0, 1                       | 20, 217, 586, 951, 1186, 1153, 1050, 820, 658, 458, 319, 216, 136, 98, 54, 38, 20, 13, 5, 1, 0, 1, 0, 0, 1                            | 2, 15, 93, 256, 491, 816, 1051, 1157, 1146, 956, 767, 506, 330, 195, 98, 66, 29, 19, 6, 2                                             | 427, 1254, 1525, 1380, 1071, 776, 531, 372, 231, 156, 97, 74, 36, 30, 15, 11, 5, 5, 2, 2, 1                                           | 390, 1234, 1524, 1383, 1074, 833, 534, 374, 240, 153, 87, 57, 43, 23, 13, 14, 9, 6, 5, 2, 2, 1                                        | 2, 103, 515, 909, 1205, 1225, 1073, 928, 667, 474, 348, 194, 138, 79, 44, 32, 29, 14, 5, 6, 5, 3, 2, 1                                | 5, 8, 34, 70, 158, 288, 422, 547, 751, 780, 859, 814, 672, 604, 555, 406, 325, 232, 159, 112, 80, 38, 37, 19, 6, 11, 2, 3, 2, 0, 1, 1 | \n",
       "| density | 0.02499688, 0.53743282, 3.26209224, 7.51156105, 12.89838770, 14.63567054, 15.53555806, 13.48581427, 10.69866267, 7.82402200, 5.19935008, 3.27459068, 2.07474066, 1.43732033, 0.78740157, 0.41244844, 0.16247969, 0.06249219, 0.11248594, 0.02499688, 0.02499688, 0.01249844                                                                                                                                                    | 1.767279090, 4.624421947, 4.984376953, 3.519560055, 2.329708786, 1.359830021, 0.642419698, 0.447444069, 0.162479690, 0.084989376, 0.037495313, 0.027496563, 0.007499063, 0.002499688, 0.002499688                                                                                                                                                                                                                              | 0.012498438, 1.124859393, 4.961879765, 9.036370454, 10.579927509, 9.161354831, 6.430446194, 4.068241470, 2.499687539, 1.168603925, 0.474940632, 0.287464067, 0.087489064, 0.049993751, 0.037495313, 0.012498438, 0.000000000, 0.000000000, 0.006249219                                                                                                                                                                         | 0.02499688, 0.11248594, 0.59992501, 1.59980002, 3.98700162, 7.42407199, 10.23622047, 12.33595801, 13.31083615, 12.77340332, 10.22372203, 8.49893763, 6.94913136, 4.34945632, 2.83714536, 1.84976878, 1.28733908, 0.54993126, 0.44994376, 0.29996250, 0.12498438, 0.06249219, 0.02499688, 0.07499063, 0.00000000, 0.01249844                                                                                                    | 0.024996875, 0.271216098, 0.732408449, 1.188601425, 1.482314711, 1.441069866, 1.312335958, 1.024871891, 0.822397200, 0.572428446, 0.398700162, 0.269966254, 0.169978753, 0.122484689, 0.067491564, 0.047494063, 0.024996875, 0.016247969, 0.006249219, 0.001249844, 0.000000000, 0.001249844, 0.000000000, 0.000000000, 0.001249844                                                                                            | 0.004999375, 0.037495313, 0.232470941, 0.639920010, 1.227346582, 2.039745032, 2.627171604, 2.892138483, 2.864641920, 2.389701287, 1.917260342, 1.264841895, 0.824896888, 0.487439070, 0.244969379, 0.164979378, 0.072490939, 0.047494063, 0.014998125, 0.004999375                                                                                                                                                             | 0.2668416448, 0.7836520435, 0.9530058743, 0.8623922010, 0.6692913386, 0.4849393826, 0.3318335208, 0.2324709411, 0.1443569554, 0.0974878140, 0.0606174228, 0.0462442195, 0.0224971879, 0.0187476565, 0.0093738283, 0.0068741407, 0.0031246094, 0.0031246094, 0.0012498438, 0.0012498438, 0.0006249219                                                                                                                           | 0.2437195351, 0.7711536058, 0.9523809524, 0.8642669666, 0.6711661042, 0.5205599300, 0.3337082865, 0.2337207849, 0.1499812523, 0.0956130484, 0.0543682040, 0.0356205474, 0.0268716410, 0.0143732033, 0.0081239845, 0.0087489064, 0.0056242970, 0.0037495313, 0.0031246094, 0.0012498438, 0.0012498438, 0.0006249219                                                                                                             | 0.0012498438, 0.0643669541, 0.3218347707, 0.5680539933, 0.7530308711, 0.7655293088, 0.6705411824, 0.5799275091, 0.4168228971, 0.2962129734, 0.2174728159, 0.1212348456, 0.0862392201, 0.0493688289, 0.0274965629, 0.0199975003, 0.0181227347, 0.0087489064, 0.0031246094, 0.0037495313, 0.0031246094, 0.0018747657, 0.0012498438, 0.0006249219                                                                                 | 0.006249219, 0.009998750, 0.042494688, 0.087489064, 0.197475316, 0.359955006, 0.527434071, 0.683664542, 0.938632671, 0.974878140, 1.073615798, 1.017372828, 0.839895013, 0.754905637, 0.693663292, 0.507436570, 0.406199225, 0.289963755, 0.198725159, 0.139982502, 0.099987502, 0.047494063, 0.046244219, 0.023747032, 0.007499063, 0.013748281, 0.002499688, 0.003749531, 0.002499688, 0.000000000, 0.001249844, 0.001249844 | \n",
       "| mids | 0.005, 0.015, 0.025, 0.035, 0.045, 0.055, 0.065, 0.075, 0.085, 0.095, 0.105, 0.115, 0.125, 0.135, 0.145, 0.155, 0.165, 0.175, 0.185, 0.195, 0.205, 0.215                                       | 0.025, 0.075, 0.125, 0.175, 0.225, 0.275, 0.325, 0.375, 0.425, 0.475, 0.525, 0.575, 0.625, 0.675, 0.725                                                                                        | 0.01, 0.03, 0.05, 0.07, 0.09, 0.11, 0.13, 0.15, 0.17, 0.19, 0.21, 0.23, 0.25, 0.27, 0.29, 0.31, 0.33, 0.35, 0.37                                                                               | 0.035, 0.045, 0.055, 0.065, 0.075, 0.085, 0.095, 0.105, 0.115, 0.125, 0.135, 0.145, 0.155, 0.165, 0.175, 0.185, 0.195, 0.205, 0.215, 0.225, 0.235, 0.245, 0.255, 0.265, 0.275, 0.285           | 0.05, 0.15, 0.25, 0.35, 0.45, 0.55, 0.65, 0.75, 0.85, 0.95, 1.05, 1.15, 1.25, 1.35, 1.45, 1.55, 1.65, 1.75, 1.85, 1.95, 2.05, 2.15, 2.25, 2.35, 2.45                                           | 0.225, 0.275, 0.325, 0.375, 0.425, 0.475, 0.525, 0.575, 0.625, 0.675, 0.725, 0.775, 0.825, 0.875, 0.925, 0.975, 1.025, 1.075, 1.125, 1.175                                                     | 0.1, 0.3, 0.5, 0.7, 0.9, 1.1, 1.3, 1.5, 1.7, 1.9, 2.1, 2.3, 2.5, 2.7, 2.9, 3.1, 3.3, 3.5, 3.7, 3.9, 4.1                                                                                        | 0.1, 0.3, 0.5, 0.7, 0.9, 1.1, 1.3, 1.5, 1.7, 1.9, 2.1, 2.3, 2.5, 2.7, 2.9, 3.1, 3.3, 3.5, 3.7, 3.9, 4.1, 4.3                                                                                   | 0.1, 0.3, 0.5, 0.7, 0.9, 1.1, 1.3, 1.5, 1.7, 1.9, 2.1, 2.3, 2.5, 2.7, 2.9, 3.1, 3.3, 3.5, 3.7, 3.9, 4.1, 4.3, 4.5, 4.7                                                                         | 0.75, 0.85, 0.95, 1.05, 1.15, 1.25, 1.35, 1.45, 1.55, 1.65, 1.75, 1.85, 1.95, 2.05, 2.15, 2.25, 2.35, 2.45, 2.55, 2.65, 2.75, 2.85, 2.95, 3.05, 3.15, 3.25, 3.35, 3.45, 3.55, 3.65, 3.75, 3.85 | \n",
       "| xname | u | u | u | u | u | u | u | u | u | u | \n",
       "| equidist | TRUE | TRUE | TRUE | TRUE | TRUE | TRUE | TRUE | TRUE | TRUE | TRUE | \n",
       "\n",
       "\n"
      ],
      "text/plain": [
       "         lambda.01                                                                                                                                                                                                                                                                  \n",
       "breaks   0.00, 0.01, 0.02, 0.03, 0.04, 0.05, 0.06, 0.07, 0.08, 0.09, 0.10, 0.11, 0.12, 0.13, 0.14, 0.15, 0.16, 0.17, 0.18, 0.19, 0.20, 0.21, 0.22                                                                                                                                   \n",
       "counts   2, 43, 261, 601, 1032, 1171, 1243, 1079, 856, 626, 416, 262, 166, 115, 63, 33, 13, 5, 9, 2, 2, 1                                                                                                                                                                           \n",
       "density  0.02499688, 0.53743282, 3.26209224, 7.51156105, 12.89838770, 14.63567054, 15.53555806, 13.48581427, 10.69866267, 7.82402200, 5.19935008, 3.27459068, 2.07474066, 1.43732033, 0.78740157, 0.41244844, 0.16247969, 0.06249219, 0.11248594, 0.02499688, 0.02499688, 0.01249844\n",
       "mids     0.005, 0.015, 0.025, 0.035, 0.045, 0.055, 0.065, 0.075, 0.085, 0.095, 0.105, 0.115, 0.125, 0.135, 0.145, 0.155, 0.165, 0.175, 0.185, 0.195, 0.205, 0.215                                                                                                                   \n",
       "xname    u                                                                                                                                                                                                                                                                          \n",
       "equidist TRUE                                                                                                                                                                                                                                                                       \n",
       "         lambda.02                                                                                                                                                                                        \n",
       "breaks   0.00, 0.05, 0.10, 0.15, 0.20, 0.25, 0.30, 0.35, 0.40, 0.45, 0.50, 0.55, 0.60, 0.65, 0.70, 0.75                                                                                                   \n",
       "counts   707, 1850, 1994, 1408, 932, 544, 257, 179, 65, 34, 15, 11, 3, 1, 1                                                                                                                               \n",
       "density  1.767279090, 4.624421947, 4.984376953, 3.519560055, 2.329708786, 1.359830021, 0.642419698, 0.447444069, 0.162479690, 0.084989376, 0.037495313, 0.027496563, 0.007499063, 0.002499688, 0.002499688\n",
       "mids     0.025, 0.075, 0.125, 0.175, 0.225, 0.275, 0.325, 0.375, 0.425, 0.475, 0.525, 0.575, 0.625, 0.675, 0.725                                                                                          \n",
       "xname    u                                                                                                                                                                                                \n",
       "equidist TRUE                                                                                                                                                                                             \n",
       "         lambda.03                                                                                                                                                                                                                                             \n",
       "breaks   0.00, 0.02, 0.04, 0.06, 0.08, 0.10, 0.12, 0.14, 0.16, 0.18, 0.20, 0.22, 0.24, 0.26, 0.28, 0.30, 0.32, 0.34, 0.36, 0.38                                                                                                                                \n",
       "counts   2, 180, 794, 1446, 1693, 1466, 1029, 651, 400, 187, 76, 46, 14, 8, 6, 2, 0, 0, 1                                                                                                                                                                      \n",
       "density  0.012498438, 1.124859393, 4.961879765, 9.036370454, 10.579927509, 9.161354831, 6.430446194, 4.068241470, 2.499687539, 1.168603925, 0.474940632, 0.287464067, 0.087489064, 0.049993751, 0.037495313, 0.012498438, 0.000000000, 0.000000000, 0.006249219\n",
       "mids     0.01, 0.03, 0.05, 0.07, 0.09, 0.11, 0.13, 0.15, 0.17, 0.19, 0.21, 0.23, 0.25, 0.27, 0.29, 0.31, 0.33, 0.35, 0.37                                                                                                                                      \n",
       "xname    u                                                                                                                                                                                                                                                     \n",
       "equidist TRUE                                                                                                                                                                                                                                                  \n",
       "         lambda.04                                                                                                                                                                                                                                                                                                                  \n",
       "breaks   0.03, 0.04, 0.05, 0.06, 0.07, 0.08, 0.09, 0.10, 0.11, 0.12, 0.13, 0.14, 0.15, 0.16, 0.17, 0.18, 0.19, 0.20, 0.21, 0.22, 0.23, 0.24, 0.25, 0.26, 0.27, 0.28, 0.29                                                                                                                                                           \n",
       "counts   2, 9, 48, 128, 319, 594, 819, 987, 1065, 1022, 818, 680, 556, 348, 227, 148, 103, 44, 36, 24, 10, 5, 2, 6, 0, 1                                                                                                                                                                                                            \n",
       "density  0.02499688, 0.11248594, 0.59992501, 1.59980002, 3.98700162, 7.42407199, 10.23622047, 12.33595801, 13.31083615, 12.77340332, 10.22372203, 8.49893763, 6.94913136, 4.34945632, 2.83714536, 1.84976878, 1.28733908, 0.54993126, 0.44994376, 0.29996250, 0.12498438, 0.06249219, 0.02499688, 0.07499063, 0.00000000, 0.01249844\n",
       "mids     0.035, 0.045, 0.055, 0.065, 0.075, 0.085, 0.095, 0.105, 0.115, 0.125, 0.135, 0.145, 0.155, 0.165, 0.175, 0.185, 0.195, 0.205, 0.215, 0.225, 0.235, 0.245, 0.255, 0.265, 0.275, 0.285                                                                                                                                       \n",
       "xname    u                                                                                                                                                                                                                                                                                                                          \n",
       "equidist TRUE                                                                                                                                                                                                                                                                                                                       \n",
       "         lambda.05                                                                                                                                                                                                                                                                                                                          \n",
       "breaks   0.0, 0.1, 0.2, 0.3, 0.4, 0.5, 0.6, 0.7, 0.8, 0.9, 1.0, 1.1, 1.2, 1.3, 1.4, 1.5, 1.6, 1.7, 1.8, 1.9, 2.0, 2.1, 2.2, 2.3, 2.4, 2.5                                                                                                                                                                                                   \n",
       "counts   20, 217, 586, 951, 1186, 1153, 1050, 820, 658, 458, 319, 216, 136, 98, 54, 38, 20, 13, 5, 1, 0, 1, 0, 0, 1                                                                                                                                                                                                                         \n",
       "density  0.024996875, 0.271216098, 0.732408449, 1.188601425, 1.482314711, 1.441069866, 1.312335958, 1.024871891, 0.822397200, 0.572428446, 0.398700162, 0.269966254, 0.169978753, 0.122484689, 0.067491564, 0.047494063, 0.024996875, 0.016247969, 0.006249219, 0.001249844, 0.000000000, 0.001249844, 0.000000000, 0.000000000, 0.001249844\n",
       "mids     0.05, 0.15, 0.25, 0.35, 0.45, 0.55, 0.65, 0.75, 0.85, 0.95, 1.05, 1.15, 1.25, 1.35, 1.45, 1.55, 1.65, 1.75, 1.85, 1.95, 2.05, 2.15, 2.25, 2.35, 2.45                                                                                                                                                                               \n",
       "xname    u                                                                                                                                                                                                                                                                                                                                  \n",
       "equidist TRUE                                                                                                                                                                                                                                                                                                                               \n",
       "         lambda.06                                                                                                                                                                                                                                                         \n",
       "breaks   0.20, 0.25, 0.30, 0.35, 0.40, 0.45, 0.50, 0.55, 0.60, 0.65, 0.70, 0.75, 0.80, 0.85, 0.90, 0.95, 1.00, 1.05, 1.10, 1.15, 1.20                                                                                                                                      \n",
       "counts   2, 15, 93, 256, 491, 816, 1051, 1157, 1146, 956, 767, 506, 330, 195, 98, 66, 29, 19, 6, 2                                                                                                                                                                         \n",
       "density  0.004999375, 0.037495313, 0.232470941, 0.639920010, 1.227346582, 2.039745032, 2.627171604, 2.892138483, 2.864641920, 2.389701287, 1.917260342, 1.264841895, 0.824896888, 0.487439070, 0.244969379, 0.164979378, 0.072490939, 0.047494063, 0.014998125, 0.004999375\n",
       "mids     0.225, 0.275, 0.325, 0.375, 0.425, 0.475, 0.525, 0.575, 0.625, 0.675, 0.725, 0.775, 0.825, 0.875, 0.925, 0.975, 1.025, 1.075, 1.125, 1.175                                                                                                                        \n",
       "xname    u                                                                                                                                                                                                                                                                 \n",
       "equidist TRUE                                                                                                                                                                                                                                                              \n",
       "         lambda.07                                                                                                                                                                                                                                                                                           \n",
       "breaks   0.0, 0.2, 0.4, 0.6, 0.8, 1.0, 1.2, 1.4, 1.6, 1.8, 2.0, 2.2, 2.4, 2.6, 2.8, 3.0, 3.2, 3.4, 3.6, 3.8, 4.0, 4.2                                                                                                                                                                                        \n",
       "counts   427, 1254, 1525, 1380, 1071, 776, 531, 372, 231, 156, 97, 74, 36, 30, 15, 11, 5, 5, 2, 2, 1                                                                                                                                                                                                         \n",
       "density  0.2668416448, 0.7836520435, 0.9530058743, 0.8623922010, 0.6692913386, 0.4849393826, 0.3318335208, 0.2324709411, 0.1443569554, 0.0974878140, 0.0606174228, 0.0462442195, 0.0224971879, 0.0187476565, 0.0093738283, 0.0068741407, 0.0031246094, 0.0031246094, 0.0012498438, 0.0012498438, 0.0006249219\n",
       "mids     0.1, 0.3, 0.5, 0.7, 0.9, 1.1, 1.3, 1.5, 1.7, 1.9, 2.1, 2.3, 2.5, 2.7, 2.9, 3.1, 3.3, 3.5, 3.7, 3.9, 4.1                                                                                                                                                                                             \n",
       "xname    u                                                                                                                                                                                                                                                                                                   \n",
       "equidist TRUE                                                                                                                                                                                                                                                                                                \n",
       "         lambda.08                                                                                                                                                                                                                                                                                                         \n",
       "breaks   0.0, 0.2, 0.4, 0.6, 0.8, 1.0, 1.2, 1.4, 1.6, 1.8, 2.0, 2.2, 2.4, 2.6, 2.8, 3.0, 3.2, 3.4, 3.6, 3.8, 4.0, 4.2, 4.4                                                                                                                                                                                                 \n",
       "counts   390, 1234, 1524, 1383, 1074, 833, 534, 374, 240, 153, 87, 57, 43, 23, 13, 14, 9, 6, 5, 2, 2, 1                                                                                                                                                                                                                    \n",
       "density  0.2437195351, 0.7711536058, 0.9523809524, 0.8642669666, 0.6711661042, 0.5205599300, 0.3337082865, 0.2337207849, 0.1499812523, 0.0956130484, 0.0543682040, 0.0356205474, 0.0268716410, 0.0143732033, 0.0081239845, 0.0087489064, 0.0056242970, 0.0037495313, 0.0031246094, 0.0012498438, 0.0012498438, 0.0006249219\n",
       "mids     0.1, 0.3, 0.5, 0.7, 0.9, 1.1, 1.3, 1.5, 1.7, 1.9, 2.1, 2.3, 2.5, 2.7, 2.9, 3.1, 3.3, 3.5, 3.7, 3.9, 4.1, 4.3                                                                                                                                                                                                      \n",
       "xname    u                                                                                                                                                                                                                                                                                                                 \n",
       "equidist TRUE                                                                                                                                                                                                                                                                                                              \n",
       "         lambda.09                                                                                                                                                                                                                                                                                                                                     \n",
       "breaks   0.0, 0.2, 0.4, 0.6, 0.8, 1.0, 1.2, 1.4, 1.6, 1.8, 2.0, 2.2, 2.4, 2.6, 2.8, 3.0, 3.2, 3.4, 3.6, 3.8, 4.0, 4.2, 4.4, 4.6, 4.8                                                                                                                                                                                                                   \n",
       "counts   2, 103, 515, 909, 1205, 1225, 1073, 928, 667, 474, 348, 194, 138, 79, 44, 32, 29, 14, 5, 6, 5, 3, 2, 1                                                                                                                                                                                                                                        \n",
       "density  0.0012498438, 0.0643669541, 0.3218347707, 0.5680539933, 0.7530308711, 0.7655293088, 0.6705411824, 0.5799275091, 0.4168228971, 0.2962129734, 0.2174728159, 0.1212348456, 0.0862392201, 0.0493688289, 0.0274965629, 0.0199975003, 0.0181227347, 0.0087489064, 0.0031246094, 0.0037495313, 0.0031246094, 0.0018747657, 0.0012498438, 0.0006249219\n",
       "mids     0.1, 0.3, 0.5, 0.7, 0.9, 1.1, 1.3, 1.5, 1.7, 1.9, 2.1, 2.3, 2.5, 2.7, 2.9, 3.1, 3.3, 3.5, 3.7, 3.9, 4.1, 4.3, 4.5, 4.7                                                                                                                                                                                                                        \n",
       "xname    u                                                                                                                                                                                                                                                                                                                                             \n",
       "equidist TRUE                                                                                                                                                                                                                                                                                                                                          \n",
       "         lambda.10                                                                                                                                                                                                                                                                                                                                                                                                                     \n",
       "breaks   0.7, 0.8, 0.9, 1.0, 1.1, 1.2, 1.3, 1.4, 1.5, 1.6, 1.7, 1.8, 1.9, 2.0, 2.1, 2.2, 2.3, 2.4, 2.5, 2.6, 2.7, 2.8, 2.9, 3.0, 3.1, 3.2, 3.3, 3.4, 3.5, 3.6, 3.7, 3.8, 3.9                                                                                                                                                                                                                                                           \n",
       "counts   5, 8, 34, 70, 158, 288, 422, 547, 751, 780, 859, 814, 672, 604, 555, 406, 325, 232, 159, 112, 80, 38, 37, 19, 6, 11, 2, 3, 2, 0, 1, 1                                                                                                                                                                                                                                                                                         \n",
       "density  0.006249219, 0.009998750, 0.042494688, 0.087489064, 0.197475316, 0.359955006, 0.527434071, 0.683664542, 0.938632671, 0.974878140, 1.073615798, 1.017372828, 0.839895013, 0.754905637, 0.693663292, 0.507436570, 0.406199225, 0.289963755, 0.198725159, 0.139982502, 0.099987502, 0.047494063, 0.046244219, 0.023747032, 0.007499063, 0.013748281, 0.002499688, 0.003749531, 0.002499688, 0.000000000, 0.001249844, 0.001249844\n",
       "mids     0.75, 0.85, 0.95, 1.05, 1.15, 1.25, 1.35, 1.45, 1.55, 1.65, 1.75, 1.85, 1.95, 2.05, 2.15, 2.25, 2.35, 2.45, 2.55, 2.65, 2.75, 2.85, 2.95, 3.05, 3.15, 3.25, 3.35, 3.45, 3.55, 3.65, 3.75, 3.85                                                                                                                                                                                                                                \n",
       "xname    u                                                                                                                                                                                                                                                                                                                                                                                                                             \n",
       "equidist TRUE                                                                                                                                                                                                                                                                                                                                                                                                                          "
      ]
     },
     "metadata": {},
     "output_type": "display_data"
    },
    {
     "data": {
      "image/png": "[encoded data removed]",
      "text/plain": [
       "Plot with title \"lambda.10\""
      ]
     },
     "metadata": {},
     "output_type": "display_data"
    },
    {
     "data": {
      "image/png": "[encoded data removed]",
      "text/plain": [
       "Plot with title \"beta\""
      ]
     },
     "metadata": {},
     "output_type": "display_data"
    }
   ],
   "source": [
    "h1<-function(u,...){hist(u,breaks=25,col=\"gold\",freq=FALSE,...)}\n",
    "old.par<-par(mfrow=c(2,5),mar=c(2,1,2,1))\n",
    "mapply(h1,lambda.df,main=sprintf(\"lambda.%0.2d\",1:10))\n",
    "par(old.par)\n",
    "hist(beta,breaks=25,col=\"sienna\",xlab=\"\",main=expression(beta),freq=FALSE)"
   ]
  },
  {
   "cell_type": "markdown",
   "metadata": {},
   "source": [
    "#### 95% posterior credible intervals"
   ]
  },
  {
   "cell_type": "code",
   "execution_count": null,
   "metadata": {},
   "outputs": [],
   "source": [
    "# Auxiliary function\n",
    "Post.Credible.Interval<-function(z,p=0.95,...){\n",
    "    return(quantile(z,prob=c(0.5*(1-p),0.5*(1+p))))\n",
    "    }"
   ]
  },
  {
   "cell_type": "code",
   "execution_count": null,
   "metadata": {},
   "outputs": [],
   "source": []
  }
 ],
 "metadata": {
  "kernelspec": {
   "display_name": "R",
   "language": "R",
   "name": "ir"
  },
  "language_info": {
   "codemirror_mode": "r",
   "file_extension": ".r",
   "mimetype": "text/x-r-source",
   "name": "R",
   "pygments_lexer": "r",
   "version": "3.4.3"
  }
 },
 "nbformat": 4,
 "nbformat_minor": 2
}
