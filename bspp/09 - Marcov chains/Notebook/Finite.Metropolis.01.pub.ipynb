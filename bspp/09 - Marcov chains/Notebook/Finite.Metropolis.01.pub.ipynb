{
 "cells": [
  {
   "cell_type": "markdown",
   "metadata": {},
   "source": [
    "# Finite Metropolis algorithm"
   ]
  },
  {
   "cell_type": "markdown",
   "metadata": {},
   "source": [
    "#### Josep Fortiana 2018-11-21"
   ]
  },
  {
   "cell_type": "markdown",
   "metadata": {},
   "source": [
    "### Metropolis algorithm for a finite state space\n",
    "\n",
    "Observations $x$ follow a binomial $\\operatorname{B}(n,\\theta)$ distribution. Its support is the set of integers \n",
    "\n",
    "$$\n",
    "    \\left\\{0,1,\\dots,n\\right\\}.\n",
    "$$"
   ]
  },
  {
   "cell_type": "markdown",
   "metadata": {},
   "source": [
    "### Prior distribution of $\\theta$\n",
    "\n",
    "A discrete uniform distribution with support on the set:\n",
    "\n",
    "$$\n",
    "\tI_m=\\left\\{0,\\,\\frac{1}{m},\\,\\frac{2}{m},\\,\\dots,\\,\\frac{m-1}{m},\\,\\frac{m}{m}=1\\right\\},\t\n",
    "$$\t\t\t\t\t\t\t\t\t\t\n",
    "\n",
    "with $(m+1)$ equally probable points, each with probability mass $\\dfrac{1}{m+1}$"
   ]
  },
  {
   "cell_type": "code",
   "execution_count": 1,
   "metadata": {},
   "outputs": [],
   "source": [
    "m<-10  # A small value, to be able to visualize everything\n",
    "theta.values<-(0:m)/m #~ possible values of the probability parameter in the likelihood\n",
    "prior<-rep(1/(m+1),m+1)"
   ]
  },
  {
   "cell_type": "markdown",
   "metadata": {},
   "source": [
    "###\tLikelihood\n",
    "\n",
    "A function $\\cal{L}(x\\,|\\,\\theta)$ of the observation(s) $x$, probability mass function of $x$, given $\\theta$.\n",
    "\n",
    "By default, the function `Lik` is written so that $x$ is a scalar (not a vector) and the returned object is a vector, with the $(m+1)$ probabilities of $x$  values, given all possible $\\theta$ values. \n",
    "\n",
    "`Liks` is a matrix with $(n+1)$ rows and $(m+1)$ columns. One row for each possible $x$, $0$ to $n$. One column for each of the $m+1$ possible $\\theta$ values, $0$ to $1$, by increments of $1/m$.\n",
    "\n",
    "Each column contains the values of the pmf, given the corresponding $\\theta$ value.\n",
    "\n",
    "Thus, `Liks` is a matrix of column profiles (in the notation given in the chapter on bivariate distributions); each column is a probability vector, adding up to 1."
   ]
  },
  {
   "cell_type": "code",
   "execution_count": 2,
   "metadata": {},
   "outputs": [
    {
     "data": {
      "text/html": [
       "<table>\n",
       "<tbody>\n",
       "\t<tr><td>1    </td><td>0.430</td><td>0.168</td><td>0.058</td><td>0.017</td><td>0.004</td><td>0.001</td><td>0.000</td><td>0.000</td><td>0.000</td><td>0    </td></tr>\n",
       "\t<tr><td>0    </td><td>0.383</td><td>0.336</td><td>0.198</td><td>0.090</td><td>0.031</td><td>0.008</td><td>0.001</td><td>0.000</td><td>0.000</td><td>0    </td></tr>\n",
       "\t<tr><td>0    </td><td>0.149</td><td>0.294</td><td>0.296</td><td>0.209</td><td>0.109</td><td>0.041</td><td>0.010</td><td>0.001</td><td>0.000</td><td>0    </td></tr>\n",
       "\t<tr><td>0    </td><td>0.033</td><td>0.147</td><td>0.254</td><td>0.279</td><td>0.219</td><td>0.124</td><td>0.047</td><td>0.009</td><td>0.000</td><td>0    </td></tr>\n",
       "\t<tr><td>0    </td><td>0.005</td><td>0.046</td><td>0.136</td><td>0.232</td><td>0.273</td><td>0.232</td><td>0.136</td><td>0.046</td><td>0.005</td><td>0    </td></tr>\n",
       "\t<tr><td>0    </td><td>0.000</td><td>0.009</td><td>0.047</td><td>0.124</td><td>0.219</td><td>0.279</td><td>0.254</td><td>0.147</td><td>0.033</td><td>0    </td></tr>\n",
       "\t<tr><td>0    </td><td>0.000</td><td>0.001</td><td>0.010</td><td>0.041</td><td>0.109</td><td>0.209</td><td>0.296</td><td>0.294</td><td>0.149</td><td>0    </td></tr>\n",
       "\t<tr><td>0    </td><td>0.000</td><td>0.000</td><td>0.001</td><td>0.008</td><td>0.031</td><td>0.090</td><td>0.198</td><td>0.336</td><td>0.383</td><td>0    </td></tr>\n",
       "\t<tr><td>0    </td><td>0.000</td><td>0.000</td><td>0.000</td><td>0.001</td><td>0.004</td><td>0.017</td><td>0.058</td><td>0.168</td><td>0.430</td><td>1    </td></tr>\n",
       "</tbody>\n",
       "</table>\n"
      ],
      "text/latex": [
       "\\begin{tabular}{lllllllllll}\n",
       "\t 1     & 0.430 & 0.168 & 0.058 & 0.017 & 0.004 & 0.001 & 0.000 & 0.000 & 0.000 & 0    \\\\\n",
       "\t 0     & 0.383 & 0.336 & 0.198 & 0.090 & 0.031 & 0.008 & 0.001 & 0.000 & 0.000 & 0    \\\\\n",
       "\t 0     & 0.149 & 0.294 & 0.296 & 0.209 & 0.109 & 0.041 & 0.010 & 0.001 & 0.000 & 0    \\\\\n",
       "\t 0     & 0.033 & 0.147 & 0.254 & 0.279 & 0.219 & 0.124 & 0.047 & 0.009 & 0.000 & 0    \\\\\n",
       "\t 0     & 0.005 & 0.046 & 0.136 & 0.232 & 0.273 & 0.232 & 0.136 & 0.046 & 0.005 & 0    \\\\\n",
       "\t 0     & 0.000 & 0.009 & 0.047 & 0.124 & 0.219 & 0.279 & 0.254 & 0.147 & 0.033 & 0    \\\\\n",
       "\t 0     & 0.000 & 0.001 & 0.010 & 0.041 & 0.109 & 0.209 & 0.296 & 0.294 & 0.149 & 0    \\\\\n",
       "\t 0     & 0.000 & 0.000 & 0.001 & 0.008 & 0.031 & 0.090 & 0.198 & 0.336 & 0.383 & 0    \\\\\n",
       "\t 0     & 0.000 & 0.000 & 0.000 & 0.001 & 0.004 & 0.017 & 0.058 & 0.168 & 0.430 & 1    \\\\\n",
       "\\end{tabular}\n"
      ],
      "text/markdown": [
       "\n",
       "| 1     | 0.430 | 0.168 | 0.058 | 0.017 | 0.004 | 0.001 | 0.000 | 0.000 | 0.000 | 0     | \n",
       "| 0     | 0.383 | 0.336 | 0.198 | 0.090 | 0.031 | 0.008 | 0.001 | 0.000 | 0.000 | 0     | \n",
       "| 0     | 0.149 | 0.294 | 0.296 | 0.209 | 0.109 | 0.041 | 0.010 | 0.001 | 0.000 | 0     | \n",
       "| 0     | 0.033 | 0.147 | 0.254 | 0.279 | 0.219 | 0.124 | 0.047 | 0.009 | 0.000 | 0     | \n",
       "| 0     | 0.005 | 0.046 | 0.136 | 0.232 | 0.273 | 0.232 | 0.136 | 0.046 | 0.005 | 0     | \n",
       "| 0     | 0.000 | 0.009 | 0.047 | 0.124 | 0.219 | 0.279 | 0.254 | 0.147 | 0.033 | 0     | \n",
       "| 0     | 0.000 | 0.001 | 0.010 | 0.041 | 0.109 | 0.209 | 0.296 | 0.294 | 0.149 | 0     | \n",
       "| 0     | 0.000 | 0.000 | 0.001 | 0.008 | 0.031 | 0.090 | 0.198 | 0.336 | 0.383 | 0     | \n",
       "| 0     | 0.000 | 0.000 | 0.000 | 0.001 | 0.004 | 0.017 | 0.058 | 0.168 | 0.430 | 1     | \n",
       "\n",
       "\n"
      ],
      "text/plain": [
       "      [,1] [,2]  [,3]  [,4]  [,5]  [,6]  [,7]  [,8]  [,9]  [,10] [,11]\n",
       " [1,] 1    0.430 0.168 0.058 0.017 0.004 0.001 0.000 0.000 0.000 0    \n",
       " [2,] 0    0.383 0.336 0.198 0.090 0.031 0.008 0.001 0.000 0.000 0    \n",
       " [3,] 0    0.149 0.294 0.296 0.209 0.109 0.041 0.010 0.001 0.000 0    \n",
       " [4,] 0    0.033 0.147 0.254 0.279 0.219 0.124 0.047 0.009 0.000 0    \n",
       " [5,] 0    0.005 0.046 0.136 0.232 0.273 0.232 0.136 0.046 0.005 0    \n",
       " [6,] 0    0.000 0.009 0.047 0.124 0.219 0.279 0.254 0.147 0.033 0    \n",
       " [7,] 0    0.000 0.001 0.010 0.041 0.109 0.209 0.296 0.294 0.149 0    \n",
       " [8,] 0    0.000 0.000 0.001 0.008 0.031 0.090 0.198 0.336 0.383 0    \n",
       " [9,] 0    0.000 0.000 0.000 0.001 0.004 0.017 0.058 0.168 0.430 1    "
      ]
     },
     "metadata": {},
     "output_type": "display_data"
    }
   ],
   "source": [
    "n<-8   # A small value, to be able to visualize everything\n",
    "x.values<-0:n\n",
    "Lik<-function(x,theta=theta.values){dbinom(x,size=n,prob=theta)}\n",
    "Liks<-t(sapply(x.values,Lik))\n",
    "round(Liks,3)"
   ]
  },
  {
   "cell_type": "markdown",
   "metadata": {},
   "source": [
    "Check that columns add up to 1"
   ]
  },
  {
   "cell_type": "code",
   "execution_count": 3,
   "metadata": {},
   "outputs": [
    {
     "data": {
      "text/html": [
       "<ol class=list-inline>\n",
       "\t<li>1</li>\n",
       "\t<li>1</li>\n",
       "\t<li>1</li>\n",
       "\t<li>1</li>\n",
       "\t<li>1</li>\n",
       "\t<li>1</li>\n",
       "\t<li>1</li>\n",
       "\t<li>1</li>\n",
       "\t<li>1</li>\n",
       "\t<li>1</li>\n",
       "\t<li>1</li>\n",
       "</ol>\n"
      ],
      "text/latex": [
       "\\begin{enumerate*}\n",
       "\\item 1\n",
       "\\item 1\n",
       "\\item 1\n",
       "\\item 1\n",
       "\\item 1\n",
       "\\item 1\n",
       "\\item 1\n",
       "\\item 1\n",
       "\\item 1\n",
       "\\item 1\n",
       "\\item 1\n",
       "\\end{enumerate*}\n"
      ],
      "text/markdown": [
       "1. 1\n",
       "2. 1\n",
       "3. 1\n",
       "4. 1\n",
       "5. 1\n",
       "6. 1\n",
       "7. 1\n",
       "8. 1\n",
       "9. 1\n",
       "10. 1\n",
       "11. 1\n",
       "\n",
       "\n"
      ],
      "text/plain": [
       " [1] 1 1 1 1 1 1 1 1 1 1 1"
      ]
     },
     "metadata": {},
     "output_type": "display_data"
    }
   ],
   "source": [
    "apply(Liks,2,sum)"
   ]
  },
  {
   "cell_type": "markdown",
   "metadata": {},
   "source": [
    "### Joint distribution of the pair $(x,\\theta)$\n",
    "\n",
    "`Joint` is a matrix with $(n+1)$ rows and $(m+1)$ columns, containing the joint pmf of $(x,\\theta)$\n",
    "\n",
    "$$\n",
    "\\texttt{Joint[i,j]}=\\operatorname{Prob}(x=\\texttt{x.values[i]},\\theta=\\texttt{theta.values[j]})\n",
    "$$\n",
    "\n",
    "`Joint` can be computed either as a matrix product, by multiplying each column by the corresponding prior probability: \n",
    "\n",
    "```\n",
    "Joint<-Liks %*% diag(prior)\n",
    "```\n",
    "\n",
    "or, taking advantage of the product vectorization in R, as follows:"
   ]
  },
  {
   "cell_type": "code",
   "execution_count": 4,
   "metadata": {},
   "outputs": [
    {
     "data": {
      "text/html": [
       "<table>\n",
       "<tbody>\n",
       "\t<tr><td>0.091</td><td>0.039</td><td>0.015</td><td>0.005</td><td>0.002</td><td>0.000</td><td>0.000</td><td>0.000</td><td>0.000</td><td>0.000</td><td>0.000</td></tr>\n",
       "\t<tr><td>0.000</td><td>0.035</td><td>0.031</td><td>0.018</td><td>0.008</td><td>0.003</td><td>0.001</td><td>0.000</td><td>0.000</td><td>0.000</td><td>0.000</td></tr>\n",
       "\t<tr><td>0.000</td><td>0.014</td><td>0.027</td><td>0.027</td><td>0.019</td><td>0.010</td><td>0.004</td><td>0.001</td><td>0.000</td><td>0.000</td><td>0.000</td></tr>\n",
       "\t<tr><td>0.000</td><td>0.003</td><td>0.013</td><td>0.023</td><td>0.025</td><td>0.020</td><td>0.011</td><td>0.004</td><td>0.001</td><td>0.000</td><td>0.000</td></tr>\n",
       "\t<tr><td>0.000</td><td>0.000</td><td>0.004</td><td>0.012</td><td>0.021</td><td>0.025</td><td>0.021</td><td>0.012</td><td>0.004</td><td>0.000</td><td>0.000</td></tr>\n",
       "\t<tr><td>0.000</td><td>0.000</td><td>0.001</td><td>0.004</td><td>0.011</td><td>0.020</td><td>0.025</td><td>0.023</td><td>0.013</td><td>0.003</td><td>0.000</td></tr>\n",
       "\t<tr><td>0.000</td><td>0.000</td><td>0.000</td><td>0.001</td><td>0.004</td><td>0.010</td><td>0.019</td><td>0.027</td><td>0.027</td><td>0.014</td><td>0.000</td></tr>\n",
       "\t<tr><td>0.000</td><td>0.000</td><td>0.000</td><td>0.000</td><td>0.001</td><td>0.003</td><td>0.008</td><td>0.018</td><td>0.031</td><td>0.035</td><td>0.000</td></tr>\n",
       "\t<tr><td>0.000</td><td>0.000</td><td>0.000</td><td>0.000</td><td>0.000</td><td>0.000</td><td>0.002</td><td>0.005</td><td>0.015</td><td>0.039</td><td>0.091</td></tr>\n",
       "</tbody>\n",
       "</table>\n"
      ],
      "text/latex": [
       "\\begin{tabular}{lllllllllll}\n",
       "\t 0.091 & 0.039 & 0.015 & 0.005 & 0.002 & 0.000 & 0.000 & 0.000 & 0.000 & 0.000 & 0.000\\\\\n",
       "\t 0.000 & 0.035 & 0.031 & 0.018 & 0.008 & 0.003 & 0.001 & 0.000 & 0.000 & 0.000 & 0.000\\\\\n",
       "\t 0.000 & 0.014 & 0.027 & 0.027 & 0.019 & 0.010 & 0.004 & 0.001 & 0.000 & 0.000 & 0.000\\\\\n",
       "\t 0.000 & 0.003 & 0.013 & 0.023 & 0.025 & 0.020 & 0.011 & 0.004 & 0.001 & 0.000 & 0.000\\\\\n",
       "\t 0.000 & 0.000 & 0.004 & 0.012 & 0.021 & 0.025 & 0.021 & 0.012 & 0.004 & 0.000 & 0.000\\\\\n",
       "\t 0.000 & 0.000 & 0.001 & 0.004 & 0.011 & 0.020 & 0.025 & 0.023 & 0.013 & 0.003 & 0.000\\\\\n",
       "\t 0.000 & 0.000 & 0.000 & 0.001 & 0.004 & 0.010 & 0.019 & 0.027 & 0.027 & 0.014 & 0.000\\\\\n",
       "\t 0.000 & 0.000 & 0.000 & 0.000 & 0.001 & 0.003 & 0.008 & 0.018 & 0.031 & 0.035 & 0.000\\\\\n",
       "\t 0.000 & 0.000 & 0.000 & 0.000 & 0.000 & 0.000 & 0.002 & 0.005 & 0.015 & 0.039 & 0.091\\\\\n",
       "\\end{tabular}\n"
      ],
      "text/markdown": [
       "\n",
       "| 0.091 | 0.039 | 0.015 | 0.005 | 0.002 | 0.000 | 0.000 | 0.000 | 0.000 | 0.000 | 0.000 | \n",
       "| 0.000 | 0.035 | 0.031 | 0.018 | 0.008 | 0.003 | 0.001 | 0.000 | 0.000 | 0.000 | 0.000 | \n",
       "| 0.000 | 0.014 | 0.027 | 0.027 | 0.019 | 0.010 | 0.004 | 0.001 | 0.000 | 0.000 | 0.000 | \n",
       "| 0.000 | 0.003 | 0.013 | 0.023 | 0.025 | 0.020 | 0.011 | 0.004 | 0.001 | 0.000 | 0.000 | \n",
       "| 0.000 | 0.000 | 0.004 | 0.012 | 0.021 | 0.025 | 0.021 | 0.012 | 0.004 | 0.000 | 0.000 | \n",
       "| 0.000 | 0.000 | 0.001 | 0.004 | 0.011 | 0.020 | 0.025 | 0.023 | 0.013 | 0.003 | 0.000 | \n",
       "| 0.000 | 0.000 | 0.000 | 0.001 | 0.004 | 0.010 | 0.019 | 0.027 | 0.027 | 0.014 | 0.000 | \n",
       "| 0.000 | 0.000 | 0.000 | 0.000 | 0.001 | 0.003 | 0.008 | 0.018 | 0.031 | 0.035 | 0.000 | \n",
       "| 0.000 | 0.000 | 0.000 | 0.000 | 0.000 | 0.000 | 0.002 | 0.005 | 0.015 | 0.039 | 0.091 | \n",
       "\n",
       "\n"
      ],
      "text/plain": [
       "      [,1]  [,2]  [,3]  [,4]  [,5]  [,6]  [,7]  [,8]  [,9]  [,10] [,11]\n",
       " [1,] 0.091 0.039 0.015 0.005 0.002 0.000 0.000 0.000 0.000 0.000 0.000\n",
       " [2,] 0.000 0.035 0.031 0.018 0.008 0.003 0.001 0.000 0.000 0.000 0.000\n",
       " [3,] 0.000 0.014 0.027 0.027 0.019 0.010 0.004 0.001 0.000 0.000 0.000\n",
       " [4,] 0.000 0.003 0.013 0.023 0.025 0.020 0.011 0.004 0.001 0.000 0.000\n",
       " [5,] 0.000 0.000 0.004 0.012 0.021 0.025 0.021 0.012 0.004 0.000 0.000\n",
       " [6,] 0.000 0.000 0.001 0.004 0.011 0.020 0.025 0.023 0.013 0.003 0.000\n",
       " [7,] 0.000 0.000 0.000 0.001 0.004 0.010 0.019 0.027 0.027 0.014 0.000\n",
       " [8,] 0.000 0.000 0.000 0.000 0.001 0.003 0.008 0.018 0.031 0.035 0.000\n",
       " [9,] 0.000 0.000 0.000 0.000 0.000 0.000 0.002 0.005 0.015 0.039 0.091"
      ]
     },
     "metadata": {},
     "output_type": "display_data"
    }
   ],
   "source": [
    "Joint<-Liks*prior\n",
    "round(Joint,3)"
   ]
  },
  {
   "cell_type": "markdown",
   "metadata": {},
   "source": [
    "### Marginal distribution of $x$\n",
    "\n",
    "In this simple example we can compute explicitly the marginal distribution of $x$ (that is, the prior predictive distribution), and, given an observed $x$, $x=x_0$, say, the posterior distribution of $\\theta$.\n",
    "\n",
    "We do this, but later we will undertake a Metropolis MCMC simulation of this posterior distribution and compare both results.\n",
    "\n",
    "`Marginal.x` is a vector of length $(n+1)$. \n",
    "\n",
    "MCMC simulation requires only the posterior numerator, not this marginal of $x$, which appears in the denominator."
   ]
  },
  {
   "cell_type": "code",
   "execution_count": 5,
   "metadata": {},
   "outputs": [
    {
     "data": {
      "text/html": [
       "<ol class=list-inline>\n",
       "\t<li>0.152</li>\n",
       "\t<li>0.095</li>\n",
       "\t<li>0.101</li>\n",
       "\t<li>0.101</li>\n",
       "\t<li>0.101</li>\n",
       "\t<li>0.101</li>\n",
       "\t<li>0.101</li>\n",
       "\t<li>0.095</li>\n",
       "\t<li>0.152</li>\n",
       "</ol>\n"
      ],
      "text/latex": [
       "\\begin{enumerate*}\n",
       "\\item 0.152\n",
       "\\item 0.095\n",
       "\\item 0.101\n",
       "\\item 0.101\n",
       "\\item 0.101\n",
       "\\item 0.101\n",
       "\\item 0.101\n",
       "\\item 0.095\n",
       "\\item 0.152\n",
       "\\end{enumerate*}\n"
      ],
      "text/markdown": [
       "1. 0.152\n",
       "2. 0.095\n",
       "3. 0.101\n",
       "4. 0.101\n",
       "5. 0.101\n",
       "6. 0.101\n",
       "7. 0.101\n",
       "8. 0.095\n",
       "9. 0.152\n",
       "\n",
       "\n"
      ],
      "text/plain": [
       "[1] 0.152 0.095 0.101 0.101 0.101 0.101 0.101 0.095 0.152"
      ]
     },
     "metadata": {},
     "output_type": "display_data"
    }
   ],
   "source": [
    "Marginal.x<-apply(Joint,1,sum)\n",
    "round(Marginal.x,3)"
   ]
  },
  {
   "cell_type": "markdown",
   "metadata": {},
   "source": [
    "### Posterior distribution of $\\theta$\n",
    "\n",
    "In a real problem we would compute the posterior pmf of theta for the observed $x_0$.\n",
    "\n",
    "Since this is a toy example, we are able to obtain a whole collection of posterior pmf's, for all possible values of $x$. The result is `Posteriors`, an $(n+1)\\times(m+1)$ matrix, where each row contains the posterior pmf of theta, given the corresponding $x$.\n",
    "\n",
    "Algebraically, `Posteriors` is the row profiles matrix of `Joint`:\n",
    "\n",
    "Each $i$-th row contains the pmf of theta, conditioned to the corresponding $i$-th $x$ value, that is, the posterior distribution of theta assuming we observed $x=\\texttt{x.values[i]}$. Thus, each row is a probability vector, with sum equal to 1."
   ]
  },
  {
   "cell_type": "code",
   "execution_count": 6,
   "metadata": {},
   "outputs": [
    {
     "data": {
      "text/html": [
       "<table>\n",
       "<tbody>\n",
       "\t<tr><td>0.596</td><td>0.257</td><td>0.100</td><td>0.034</td><td>0.010</td><td>0.002</td><td>0.000</td><td>0.000</td><td>0.000</td><td>0.000</td><td>0.000</td></tr>\n",
       "\t<tr><td>0.000</td><td>0.366</td><td>0.321</td><td>0.189</td><td>0.086</td><td>0.030</td><td>0.008</td><td>0.001</td><td>0.000</td><td>0.000</td><td>0.000</td></tr>\n",
       "\t<tr><td>0.000</td><td>0.134</td><td>0.265</td><td>0.267</td><td>0.188</td><td>0.099</td><td>0.037</td><td>0.009</td><td>0.001</td><td>0.000</td><td>0.000</td></tr>\n",
       "\t<tr><td>0.000</td><td>0.030</td><td>0.132</td><td>0.229</td><td>0.251</td><td>0.197</td><td>0.111</td><td>0.042</td><td>0.008</td><td>0.000</td><td>0.000</td></tr>\n",
       "\t<tr><td>0.000</td><td>0.004</td><td>0.041</td><td>0.123</td><td>0.209</td><td>0.246</td><td>0.209</td><td>0.123</td><td>0.041</td><td>0.004</td><td>0.000</td></tr>\n",
       "\t<tr><td>0.000</td><td>0.000</td><td>0.008</td><td>0.042</td><td>0.111</td><td>0.197</td><td>0.251</td><td>0.229</td><td>0.132</td><td>0.030</td><td>0.000</td></tr>\n",
       "\t<tr><td>0.000</td><td>0.000</td><td>0.001</td><td>0.009</td><td>0.037</td><td>0.099</td><td>0.188</td><td>0.267</td><td>0.265</td><td>0.134</td><td>0.000</td></tr>\n",
       "\t<tr><td>0.000</td><td>0.000</td><td>0.000</td><td>0.001</td><td>0.008</td><td>0.030</td><td>0.086</td><td>0.189</td><td>0.321</td><td>0.366</td><td>0.000</td></tr>\n",
       "\t<tr><td>0.000</td><td>0.000</td><td>0.000</td><td>0.000</td><td>0.000</td><td>0.002</td><td>0.010</td><td>0.034</td><td>0.100</td><td>0.257</td><td>0.596</td></tr>\n",
       "</tbody>\n",
       "</table>\n"
      ],
      "text/latex": [
       "\\begin{tabular}{lllllllllll}\n",
       "\t 0.596 & 0.257 & 0.100 & 0.034 & 0.010 & 0.002 & 0.000 & 0.000 & 0.000 & 0.000 & 0.000\\\\\n",
       "\t 0.000 & 0.366 & 0.321 & 0.189 & 0.086 & 0.030 & 0.008 & 0.001 & 0.000 & 0.000 & 0.000\\\\\n",
       "\t 0.000 & 0.134 & 0.265 & 0.267 & 0.188 & 0.099 & 0.037 & 0.009 & 0.001 & 0.000 & 0.000\\\\\n",
       "\t 0.000 & 0.030 & 0.132 & 0.229 & 0.251 & 0.197 & 0.111 & 0.042 & 0.008 & 0.000 & 0.000\\\\\n",
       "\t 0.000 & 0.004 & 0.041 & 0.123 & 0.209 & 0.246 & 0.209 & 0.123 & 0.041 & 0.004 & 0.000\\\\\n",
       "\t 0.000 & 0.000 & 0.008 & 0.042 & 0.111 & 0.197 & 0.251 & 0.229 & 0.132 & 0.030 & 0.000\\\\\n",
       "\t 0.000 & 0.000 & 0.001 & 0.009 & 0.037 & 0.099 & 0.188 & 0.267 & 0.265 & 0.134 & 0.000\\\\\n",
       "\t 0.000 & 0.000 & 0.000 & 0.001 & 0.008 & 0.030 & 0.086 & 0.189 & 0.321 & 0.366 & 0.000\\\\\n",
       "\t 0.000 & 0.000 & 0.000 & 0.000 & 0.000 & 0.002 & 0.010 & 0.034 & 0.100 & 0.257 & 0.596\\\\\n",
       "\\end{tabular}\n"
      ],
      "text/markdown": [
       "\n",
       "| 0.596 | 0.257 | 0.100 | 0.034 | 0.010 | 0.002 | 0.000 | 0.000 | 0.000 | 0.000 | 0.000 | \n",
       "| 0.000 | 0.366 | 0.321 | 0.189 | 0.086 | 0.030 | 0.008 | 0.001 | 0.000 | 0.000 | 0.000 | \n",
       "| 0.000 | 0.134 | 0.265 | 0.267 | 0.188 | 0.099 | 0.037 | 0.009 | 0.001 | 0.000 | 0.000 | \n",
       "| 0.000 | 0.030 | 0.132 | 0.229 | 0.251 | 0.197 | 0.111 | 0.042 | 0.008 | 0.000 | 0.000 | \n",
       "| 0.000 | 0.004 | 0.041 | 0.123 | 0.209 | 0.246 | 0.209 | 0.123 | 0.041 | 0.004 | 0.000 | \n",
       "| 0.000 | 0.000 | 0.008 | 0.042 | 0.111 | 0.197 | 0.251 | 0.229 | 0.132 | 0.030 | 0.000 | \n",
       "| 0.000 | 0.000 | 0.001 | 0.009 | 0.037 | 0.099 | 0.188 | 0.267 | 0.265 | 0.134 | 0.000 | \n",
       "| 0.000 | 0.000 | 0.000 | 0.001 | 0.008 | 0.030 | 0.086 | 0.189 | 0.321 | 0.366 | 0.000 | \n",
       "| 0.000 | 0.000 | 0.000 | 0.000 | 0.000 | 0.002 | 0.010 | 0.034 | 0.100 | 0.257 | 0.596 | \n",
       "\n",
       "\n"
      ],
      "text/plain": [
       "      [,1]  [,2]  [,3]  [,4]  [,5]  [,6]  [,7]  [,8]  [,9]  [,10] [,11]\n",
       " [1,] 0.596 0.257 0.100 0.034 0.010 0.002 0.000 0.000 0.000 0.000 0.000\n",
       " [2,] 0.000 0.366 0.321 0.189 0.086 0.030 0.008 0.001 0.000 0.000 0.000\n",
       " [3,] 0.000 0.134 0.265 0.267 0.188 0.099 0.037 0.009 0.001 0.000 0.000\n",
       " [4,] 0.000 0.030 0.132 0.229 0.251 0.197 0.111 0.042 0.008 0.000 0.000\n",
       " [5,] 0.000 0.004 0.041 0.123 0.209 0.246 0.209 0.123 0.041 0.004 0.000\n",
       " [6,] 0.000 0.000 0.008 0.042 0.111 0.197 0.251 0.229 0.132 0.030 0.000\n",
       " [7,] 0.000 0.000 0.001 0.009 0.037 0.099 0.188 0.267 0.265 0.134 0.000\n",
       " [8,] 0.000 0.000 0.000 0.001 0.008 0.030 0.086 0.189 0.321 0.366 0.000\n",
       " [9,] 0.000 0.000 0.000 0.000 0.000 0.002 0.010 0.034 0.100 0.257 0.596"
      ]
     },
     "metadata": {},
     "output_type": "display_data"
    }
   ],
   "source": [
    "Posteriors<-diag(1/Marginal.x)%*%Joint\n",
    "round(Posteriors,3)"
   ]
  },
  {
   "cell_type": "markdown",
   "metadata": {},
   "source": [
    "Check that rows of `Posteriors` add up to 1"
   ]
  },
  {
   "cell_type": "code",
   "execution_count": 7,
   "metadata": {},
   "outputs": [
    {
     "data": {
      "text/html": [
       "<ol class=list-inline>\n",
       "\t<li>1</li>\n",
       "\t<li>1</li>\n",
       "\t<li>1</li>\n",
       "\t<li>1</li>\n",
       "\t<li>1</li>\n",
       "\t<li>1</li>\n",
       "\t<li>1</li>\n",
       "\t<li>1</li>\n",
       "\t<li>1</li>\n",
       "</ol>\n"
      ],
      "text/latex": [
       "\\begin{enumerate*}\n",
       "\\item 1\n",
       "\\item 1\n",
       "\\item 1\n",
       "\\item 1\n",
       "\\item 1\n",
       "\\item 1\n",
       "\\item 1\n",
       "\\item 1\n",
       "\\item 1\n",
       "\\end{enumerate*}\n"
      ],
      "text/markdown": [
       "1. 1\n",
       "2. 1\n",
       "3. 1\n",
       "4. 1\n",
       "5. 1\n",
       "6. 1\n",
       "7. 1\n",
       "8. 1\n",
       "9. 1\n",
       "\n",
       "\n"
      ],
      "text/plain": [
       "[1] 1 1 1 1 1 1 1 1 1"
      ]
     },
     "metadata": {},
     "output_type": "display_data"
    }
   ],
   "source": [
    "apply(Posteriors,1,sum)"
   ]
  },
  {
   "cell_type": "markdown",
   "metadata": {},
   "source": [
    "### Non-normalized posterior (for Metropolis algorithm)\n",
    "\n",
    "Now, once we have the whole set of possible posterior pdf's, we will concentrate on a realistic MCMC simulation scenario, with a single posterior, associated with an $x$ observation. \n",
    "\n",
    "Henceforth we fix a value $x=x_0$, which we take as the observed value of $x$.\n",
    "\n",
    "Since the $x$ marginal, the denominator which will get cancelled when computing the Metropolis probabilities of transition is not needed for the simulation, we omit it and obtain, for $x=x_0$, the non-normalized posterior.\n",
    "\n",
    "The result, `PosteriorNUM` is a vector with $(m+1)$ entries, the $x=x_0$ row of `Joint`, times the prior pdf of $\\theta$."
   ]
  },
  {
   "cell_type": "code",
   "execution_count": null,
   "metadata": {},
   "outputs": [],
   "source": []
  },
  {
   "cell_type": "code",
   "execution_count": 8,
   "metadata": {},
   "outputs": [
    {
     "data": {
      "text/html": [
       "<ol class=list-inline>\n",
       "\t<li>0</li>\n",
       "\t<li>0</li>\n",
       "\t<li>0.004</li>\n",
       "\t<li>0.012</li>\n",
       "\t<li>0.021</li>\n",
       "\t<li>0.025</li>\n",
       "\t<li>0.021</li>\n",
       "\t<li>0.012</li>\n",
       "\t<li>0.004</li>\n",
       "\t<li>0</li>\n",
       "\t<li>0</li>\n",
       "</ol>\n"
      ],
      "text/latex": [
       "\\begin{enumerate*}\n",
       "\\item 0\n",
       "\\item 0\n",
       "\\item 0.004\n",
       "\\item 0.012\n",
       "\\item 0.021\n",
       "\\item 0.025\n",
       "\\item 0.021\n",
       "\\item 0.012\n",
       "\\item 0.004\n",
       "\\item 0\n",
       "\\item 0\n",
       "\\end{enumerate*}\n"
      ],
      "text/markdown": [
       "1. 0\n",
       "2. 0\n",
       "3. 0.004\n",
       "4. 0.012\n",
       "5. 0.021\n",
       "6. 0.025\n",
       "7. 0.021\n",
       "8. 0.012\n",
       "9. 0.004\n",
       "10. 0\n",
       "11. 0\n",
       "\n",
       "\n"
      ],
      "text/plain": [
       " [1] 0.000 0.000 0.004 0.012 0.021 0.025 0.021 0.012 0.004 0.000 0.000"
      ]
     },
     "metadata": {},
     "output_type": "display_data"
    }
   ],
   "source": [
    "x0<-4\n",
    "posteriorNUM<-Joint[x0+1,] # rows start at x=0\n",
    "round(posteriorNUM,3)"
   ]
  },
  {
   "cell_type": "code",
   "execution_count": 9,
   "metadata": {},
   "outputs": [
    {
     "data": {
      "text/html": [
       "0.101"
      ],
      "text/latex": [
       "0.101"
      ],
      "text/markdown": [
       "0.101"
      ],
      "text/plain": [
       "[1] 0.101"
      ]
     },
     "metadata": {},
     "output_type": "display_data"
    }
   ],
   "source": [
    "round(sum(posteriorNUM),3)"
   ]
  },
  {
   "cell_type": "markdown",
   "metadata": {},
   "source": [
    "Note that `sum(posteriorNUM)` is not 1; `posteriorNUM` is NOT a pmf, it is just _proportional_ to a pmf, which is enough for the simulation.\n",
    "\n",
    "However, should we be able to normalize it, which is easily done in this toy example, but not in general in MCMC simulation real situations, either discrete or continuous, obvioulsy we would obtain a pmf. \n",
    "\n",
    "Actually this posterior pmf is the target of MCMC simulation: we design a Markov chain such that its limiting stationary distribution is this posterior and then, using its transition matrix, we generate trajectories of a given length $L$ and study the frequencies of their ending points, which we expect will be good approximations of their posterior  probabilities.\n",
    "\n",
    "Here we evaluate it for comparison purposes. Check that the result is row $x_0+1=5$ in `Posteriors`."
   ]
  },
  {
   "cell_type": "code",
   "execution_count": 10,
   "metadata": {},
   "outputs": [
    {
     "data": {
      "text/html": [
       "<ol class=list-inline>\n",
       "\t<li>0</li>\n",
       "\t<li>0.004</li>\n",
       "\t<li>0.041</li>\n",
       "\t<li>0.123</li>\n",
       "\t<li>0.209</li>\n",
       "\t<li>0.246</li>\n",
       "\t<li>0.209</li>\n",
       "\t<li>0.123</li>\n",
       "\t<li>0.041</li>\n",
       "\t<li>0.004</li>\n",
       "\t<li>0</li>\n",
       "</ol>\n"
      ],
      "text/latex": [
       "\\begin{enumerate*}\n",
       "\\item 0\n",
       "\\item 0.004\n",
       "\\item 0.041\n",
       "\\item 0.123\n",
       "\\item 0.209\n",
       "\\item 0.246\n",
       "\\item 0.209\n",
       "\\item 0.123\n",
       "\\item 0.041\n",
       "\\item 0.004\n",
       "\\item 0\n",
       "\\end{enumerate*}\n"
      ],
      "text/markdown": [
       "1. 0\n",
       "2. 0.004\n",
       "3. 0.041\n",
       "4. 0.123\n",
       "5. 0.209\n",
       "6. 0.246\n",
       "7. 0.209\n",
       "8. 0.123\n",
       "9. 0.041\n",
       "10. 0.004\n",
       "11. 0\n",
       "\n",
       "\n"
      ],
      "text/plain": [
       " [1] 0.000 0.004 0.041 0.123 0.209 0.246 0.209 0.123 0.041 0.004 0.000"
      ]
     },
     "metadata": {},
     "output_type": "display_data"
    }
   ],
   "source": [
    "posterior<-posteriorNUM/sum(posteriorNUM)\n",
    "round(posterior,3)"
   ]
  },
  {
   "cell_type": "markdown",
   "metadata": {},
   "source": [
    "## MCMC simulation"
   ]
  },
  {
   "cell_type": "markdown",
   "metadata": {},
   "source": [
    "### Candidates\n",
    "\n",
    "$K$ must be a square, symmetric, stochastic $(m+1)\\times (m+1)$ matrix (as many rows and columns as $\\theta$ states).\n",
    "\n",
    "Each row contains the transition probabilities from the current state within $\\texttt{theta.values}$ to a new, proposed _candidate_ state. \n",
    "\n",
    "Then we will either accept or reject this candidate\n",
    "\n",
    "Here we take for $K$ the transition matrix of a symmetric cyclic random walk. That is, in a given time, we can either proceed to the right or to the left with equal probability, except when the current position is an extreme, right or left, where there is 50% probability to go to the opposite one."
   ]
  },
  {
   "cell_type": "code",
   "execution_count": 11,
   "metadata": {},
   "outputs": [
    {
     "data": {
      "text/html": [
       "<table>\n",
       "<tbody>\n",
       "\t<tr><td>0.0</td><td>0.5</td><td>0.0</td><td>0.0</td><td>0.0</td><td>0.0</td><td>0.0</td><td>0.0</td><td>0.0</td><td>0.0</td><td>0.5</td></tr>\n",
       "\t<tr><td>0.5</td><td>0.0</td><td>0.5</td><td>0.0</td><td>0.0</td><td>0.0</td><td>0.0</td><td>0.0</td><td>0.0</td><td>0.0</td><td>0.0</td></tr>\n",
       "\t<tr><td>0.0</td><td>0.5</td><td>0.0</td><td>0.5</td><td>0.0</td><td>0.0</td><td>0.0</td><td>0.0</td><td>0.0</td><td>0.0</td><td>0.0</td></tr>\n",
       "\t<tr><td>0.0</td><td>0.0</td><td>0.5</td><td>0.0</td><td>0.5</td><td>0.0</td><td>0.0</td><td>0.0</td><td>0.0</td><td>0.0</td><td>0.0</td></tr>\n",
       "\t<tr><td>0.0</td><td>0.0</td><td>0.0</td><td>0.5</td><td>0.0</td><td>0.5</td><td>0.0</td><td>0.0</td><td>0.0</td><td>0.0</td><td>0.0</td></tr>\n",
       "\t<tr><td>0.0</td><td>0.0</td><td>0.0</td><td>0.0</td><td>0.5</td><td>0.0</td><td>0.5</td><td>0.0</td><td>0.0</td><td>0.0</td><td>0.0</td></tr>\n",
       "\t<tr><td>0.0</td><td>0.0</td><td>0.0</td><td>0.0</td><td>0.0</td><td>0.5</td><td>0.0</td><td>0.5</td><td>0.0</td><td>0.0</td><td>0.0</td></tr>\n",
       "\t<tr><td>0.0</td><td>0.0</td><td>0.0</td><td>0.0</td><td>0.0</td><td>0.0</td><td>0.5</td><td>0.0</td><td>0.5</td><td>0.0</td><td>0.0</td></tr>\n",
       "\t<tr><td>0.0</td><td>0.0</td><td>0.0</td><td>0.0</td><td>0.0</td><td>0.0</td><td>0.0</td><td>0.5</td><td>0.0</td><td>0.5</td><td>0.0</td></tr>\n",
       "\t<tr><td>0.0</td><td>0.0</td><td>0.0</td><td>0.0</td><td>0.0</td><td>0.0</td><td>0.0</td><td>0.0</td><td>0.5</td><td>0.0</td><td>0.5</td></tr>\n",
       "\t<tr><td>0.5</td><td>0.0</td><td>0.0</td><td>0.0</td><td>0.0</td><td>0.0</td><td>0.0</td><td>0.0</td><td>0.0</td><td>0.5</td><td>0.0</td></tr>\n",
       "</tbody>\n",
       "</table>\n"
      ],
      "text/latex": [
       "\\begin{tabular}{lllllllllll}\n",
       "\t 0.0 & 0.5 & 0.0 & 0.0 & 0.0 & 0.0 & 0.0 & 0.0 & 0.0 & 0.0 & 0.5\\\\\n",
       "\t 0.5 & 0.0 & 0.5 & 0.0 & 0.0 & 0.0 & 0.0 & 0.0 & 0.0 & 0.0 & 0.0\\\\\n",
       "\t 0.0 & 0.5 & 0.0 & 0.5 & 0.0 & 0.0 & 0.0 & 0.0 & 0.0 & 0.0 & 0.0\\\\\n",
       "\t 0.0 & 0.0 & 0.5 & 0.0 & 0.5 & 0.0 & 0.0 & 0.0 & 0.0 & 0.0 & 0.0\\\\\n",
       "\t 0.0 & 0.0 & 0.0 & 0.5 & 0.0 & 0.5 & 0.0 & 0.0 & 0.0 & 0.0 & 0.0\\\\\n",
       "\t 0.0 & 0.0 & 0.0 & 0.0 & 0.5 & 0.0 & 0.5 & 0.0 & 0.0 & 0.0 & 0.0\\\\\n",
       "\t 0.0 & 0.0 & 0.0 & 0.0 & 0.0 & 0.5 & 0.0 & 0.5 & 0.0 & 0.0 & 0.0\\\\\n",
       "\t 0.0 & 0.0 & 0.0 & 0.0 & 0.0 & 0.0 & 0.5 & 0.0 & 0.5 & 0.0 & 0.0\\\\\n",
       "\t 0.0 & 0.0 & 0.0 & 0.0 & 0.0 & 0.0 & 0.0 & 0.5 & 0.0 & 0.5 & 0.0\\\\\n",
       "\t 0.0 & 0.0 & 0.0 & 0.0 & 0.0 & 0.0 & 0.0 & 0.0 & 0.5 & 0.0 & 0.5\\\\\n",
       "\t 0.5 & 0.0 & 0.0 & 0.0 & 0.0 & 0.0 & 0.0 & 0.0 & 0.0 & 0.5 & 0.0\\\\\n",
       "\\end{tabular}\n"
      ],
      "text/markdown": [
       "\n",
       "| 0.0 | 0.5 | 0.0 | 0.0 | 0.0 | 0.0 | 0.0 | 0.0 | 0.0 | 0.0 | 0.5 | \n",
       "| 0.5 | 0.0 | 0.5 | 0.0 | 0.0 | 0.0 | 0.0 | 0.0 | 0.0 | 0.0 | 0.0 | \n",
       "| 0.0 | 0.5 | 0.0 | 0.5 | 0.0 | 0.0 | 0.0 | 0.0 | 0.0 | 0.0 | 0.0 | \n",
       "| 0.0 | 0.0 | 0.5 | 0.0 | 0.5 | 0.0 | 0.0 | 0.0 | 0.0 | 0.0 | 0.0 | \n",
       "| 0.0 | 0.0 | 0.0 | 0.5 | 0.0 | 0.5 | 0.0 | 0.0 | 0.0 | 0.0 | 0.0 | \n",
       "| 0.0 | 0.0 | 0.0 | 0.0 | 0.5 | 0.0 | 0.5 | 0.0 | 0.0 | 0.0 | 0.0 | \n",
       "| 0.0 | 0.0 | 0.0 | 0.0 | 0.0 | 0.5 | 0.0 | 0.5 | 0.0 | 0.0 | 0.0 | \n",
       "| 0.0 | 0.0 | 0.0 | 0.0 | 0.0 | 0.0 | 0.5 | 0.0 | 0.5 | 0.0 | 0.0 | \n",
       "| 0.0 | 0.0 | 0.0 | 0.0 | 0.0 | 0.0 | 0.0 | 0.5 | 0.0 | 0.5 | 0.0 | \n",
       "| 0.0 | 0.0 | 0.0 | 0.0 | 0.0 | 0.0 | 0.0 | 0.0 | 0.5 | 0.0 | 0.5 | \n",
       "| 0.5 | 0.0 | 0.0 | 0.0 | 0.0 | 0.0 | 0.0 | 0.0 | 0.0 | 0.5 | 0.0 | \n",
       "\n",
       "\n"
      ],
      "text/plain": [
       "      [,1] [,2] [,3] [,4] [,5] [,6] [,7] [,8] [,9] [,10] [,11]\n",
       " [1,] 0.0  0.5  0.0  0.0  0.0  0.0  0.0  0.0  0.0  0.0   0.5  \n",
       " [2,] 0.5  0.0  0.5  0.0  0.0  0.0  0.0  0.0  0.0  0.0   0.0  \n",
       " [3,] 0.0  0.5  0.0  0.5  0.0  0.0  0.0  0.0  0.0  0.0   0.0  \n",
       " [4,] 0.0  0.0  0.5  0.0  0.5  0.0  0.0  0.0  0.0  0.0   0.0  \n",
       " [5,] 0.0  0.0  0.0  0.5  0.0  0.5  0.0  0.0  0.0  0.0   0.0  \n",
       " [6,] 0.0  0.0  0.0  0.0  0.5  0.0  0.5  0.0  0.0  0.0   0.0  \n",
       " [7,] 0.0  0.0  0.0  0.0  0.0  0.5  0.0  0.5  0.0  0.0   0.0  \n",
       " [8,] 0.0  0.0  0.0  0.0  0.0  0.0  0.5  0.0  0.5  0.0   0.0  \n",
       " [9,] 0.0  0.0  0.0  0.0  0.0  0.0  0.0  0.5  0.0  0.5   0.0  \n",
       "[10,] 0.0  0.0  0.0  0.0  0.0  0.0  0.0  0.0  0.5  0.0   0.5  \n",
       "[11,] 0.5  0.0  0.0  0.0  0.0  0.0  0.0  0.0  0.0  0.5   0.0  "
      ]
     },
     "metadata": {},
     "output_type": "display_data"
    }
   ],
   "source": [
    "K<-matrix(rep(0,(m+1)*(m+1)),nrow=m+1)\n",
    "K[1,2]<-0.5;K[1,m+1]<-0.5\n",
    "K[m+1,m]<-0.5;K[m+1,1]<-0.5\n",
    "for (j in 2:m){\n",
    "    K[j,j-1]<-0.5\n",
    "    K[j,j+1]<-0.5\n",
    "    }\n",
    "round(K,2)"
   ]
  },
  {
   "cell_type": "markdown",
   "metadata": {},
   "source": [
    "###\tAcceptance probabilities\n",
    "\n",
    "Each transition is acted upon by an acceptance probability. The matrix $U$ with these acceptance probabilities is an $(m+1)\\times (m+1)$ matrix, with entries:\n",
    "\n",
    "$$\n",
    "\tU[\\theta_1,\\theta_2]=\\min\\left\\{1,\n",
    "    \\dfrac{\\texttt{posteriorNUM}[\\theta_2]}{\\texttt{posteriorNUM}[\\theta_1]}\\right\\}\n",
    "$$\n",
    "\n",
    "A little something to avoid NaN's: entries in $U$ smaller than a given $\\varepsilon$ are set to 1 before putting them as the denominator in this formula. Finally we set all diagonal entries in $U$ to 0. \n",
    "\n",
    "Later on diagonal entries in the transition matrix, obtained by Hadamard (elementwise) product of $K$ and $U$, will be set to 1 minus the sum of the remaining entries in the row, to form a stochastic matrix, see below."
   ]
  },
  {
   "cell_type": "code",
   "execution_count": 12,
   "metadata": {},
   "outputs": [
    {
     "data": {
      "text/html": [
       "<table>\n",
       "<tbody>\n",
       "\t<tr><td>0    </td><td>0.000</td><td>0.004</td><td>0.012</td><td>0.021</td><td>0.025</td><td>0.021</td><td>0.012</td><td>0.004</td><td>0.000</td><td>0    </td></tr>\n",
       "\t<tr><td>0    </td><td>0.000</td><td>1.000</td><td>1.000</td><td>1.000</td><td>1.000</td><td>1.000</td><td>1.000</td><td>1.000</td><td>1.000</td><td>0    </td></tr>\n",
       "\t<tr><td>0    </td><td>0.100</td><td>0.000</td><td>1.000</td><td>1.000</td><td>1.000</td><td>1.000</td><td>1.000</td><td>1.000</td><td>0.100</td><td>0    </td></tr>\n",
       "\t<tr><td>0    </td><td>0.034</td><td>0.337</td><td>0.000</td><td>1.000</td><td>1.000</td><td>1.000</td><td>1.000</td><td>0.337</td><td>0.034</td><td>0    </td></tr>\n",
       "\t<tr><td>0    </td><td>0.020</td><td>0.198</td><td>0.586</td><td>0.000</td><td>1.000</td><td>1.000</td><td>0.586</td><td>0.198</td><td>0.020</td><td>0    </td></tr>\n",
       "\t<tr><td>0    </td><td>0.017</td><td>0.168</td><td>0.498</td><td>0.849</td><td>0.000</td><td>0.849</td><td>0.498</td><td>0.168</td><td>0.017</td><td>0    </td></tr>\n",
       "\t<tr><td>0    </td><td>0.020</td><td>0.198</td><td>0.586</td><td>1.000</td><td>1.000</td><td>0.000</td><td>0.586</td><td>0.198</td><td>0.020</td><td>0    </td></tr>\n",
       "\t<tr><td>0    </td><td>0.034</td><td>0.337</td><td>1.000</td><td>1.000</td><td>1.000</td><td>1.000</td><td>0.000</td><td>0.337</td><td>0.034</td><td>0    </td></tr>\n",
       "\t<tr><td>0    </td><td>0.100</td><td>1.000</td><td>1.000</td><td>1.000</td><td>1.000</td><td>1.000</td><td>1.000</td><td>0.000</td><td>0.100</td><td>0    </td></tr>\n",
       "\t<tr><td>0    </td><td>1.000</td><td>1.000</td><td>1.000</td><td>1.000</td><td>1.000</td><td>1.000</td><td>1.000</td><td>1.000</td><td>0.000</td><td>0    </td></tr>\n",
       "\t<tr><td>0    </td><td>0.000</td><td>0.004</td><td>0.012</td><td>0.021</td><td>0.025</td><td>0.021</td><td>0.012</td><td>0.004</td><td>0.000</td><td>0    </td></tr>\n",
       "</tbody>\n",
       "</table>\n"
      ],
      "text/latex": [
       "\\begin{tabular}{lllllllllll}\n",
       "\t 0     & 0.000 & 0.004 & 0.012 & 0.021 & 0.025 & 0.021 & 0.012 & 0.004 & 0.000 & 0    \\\\\n",
       "\t 0     & 0.000 & 1.000 & 1.000 & 1.000 & 1.000 & 1.000 & 1.000 & 1.000 & 1.000 & 0    \\\\\n",
       "\t 0     & 0.100 & 0.000 & 1.000 & 1.000 & 1.000 & 1.000 & 1.000 & 1.000 & 0.100 & 0    \\\\\n",
       "\t 0     & 0.034 & 0.337 & 0.000 & 1.000 & 1.000 & 1.000 & 1.000 & 0.337 & 0.034 & 0    \\\\\n",
       "\t 0     & 0.020 & 0.198 & 0.586 & 0.000 & 1.000 & 1.000 & 0.586 & 0.198 & 0.020 & 0    \\\\\n",
       "\t 0     & 0.017 & 0.168 & 0.498 & 0.849 & 0.000 & 0.849 & 0.498 & 0.168 & 0.017 & 0    \\\\\n",
       "\t 0     & 0.020 & 0.198 & 0.586 & 1.000 & 1.000 & 0.000 & 0.586 & 0.198 & 0.020 & 0    \\\\\n",
       "\t 0     & 0.034 & 0.337 & 1.000 & 1.000 & 1.000 & 1.000 & 0.000 & 0.337 & 0.034 & 0    \\\\\n",
       "\t 0     & 0.100 & 1.000 & 1.000 & 1.000 & 1.000 & 1.000 & 1.000 & 0.000 & 0.100 & 0    \\\\\n",
       "\t 0     & 1.000 & 1.000 & 1.000 & 1.000 & 1.000 & 1.000 & 1.000 & 1.000 & 0.000 & 0    \\\\\n",
       "\t 0     & 0.000 & 0.004 & 0.012 & 0.021 & 0.025 & 0.021 & 0.012 & 0.004 & 0.000 & 0    \\\\\n",
       "\\end{tabular}\n"
      ],
      "text/markdown": [
       "\n",
       "| 0     | 0.000 | 0.004 | 0.012 | 0.021 | 0.025 | 0.021 | 0.012 | 0.004 | 0.000 | 0     | \n",
       "| 0     | 0.000 | 1.000 | 1.000 | 1.000 | 1.000 | 1.000 | 1.000 | 1.000 | 1.000 | 0     | \n",
       "| 0     | 0.100 | 0.000 | 1.000 | 1.000 | 1.000 | 1.000 | 1.000 | 1.000 | 0.100 | 0     | \n",
       "| 0     | 0.034 | 0.337 | 0.000 | 1.000 | 1.000 | 1.000 | 1.000 | 0.337 | 0.034 | 0     | \n",
       "| 0     | 0.020 | 0.198 | 0.586 | 0.000 | 1.000 | 1.000 | 0.586 | 0.198 | 0.020 | 0     | \n",
       "| 0     | 0.017 | 0.168 | 0.498 | 0.849 | 0.000 | 0.849 | 0.498 | 0.168 | 0.017 | 0     | \n",
       "| 0     | 0.020 | 0.198 | 0.586 | 1.000 | 1.000 | 0.000 | 0.586 | 0.198 | 0.020 | 0     | \n",
       "| 0     | 0.034 | 0.337 | 1.000 | 1.000 | 1.000 | 1.000 | 0.000 | 0.337 | 0.034 | 0     | \n",
       "| 0     | 0.100 | 1.000 | 1.000 | 1.000 | 1.000 | 1.000 | 1.000 | 0.000 | 0.100 | 0     | \n",
       "| 0     | 1.000 | 1.000 | 1.000 | 1.000 | 1.000 | 1.000 | 1.000 | 1.000 | 0.000 | 0     | \n",
       "| 0     | 0.000 | 0.004 | 0.012 | 0.021 | 0.025 | 0.021 | 0.012 | 0.004 | 0.000 | 0     | \n",
       "\n",
       "\n"
      ],
      "text/plain": [
       "      [,1] [,2]  [,3]  [,4]  [,5]  [,6]  [,7]  [,8]  [,9]  [,10] [,11]\n",
       " [1,] 0    0.000 0.004 0.012 0.021 0.025 0.021 0.012 0.004 0.000 0    \n",
       " [2,] 0    0.000 1.000 1.000 1.000 1.000 1.000 1.000 1.000 1.000 0    \n",
       " [3,] 0    0.100 0.000 1.000 1.000 1.000 1.000 1.000 1.000 0.100 0    \n",
       " [4,] 0    0.034 0.337 0.000 1.000 1.000 1.000 1.000 0.337 0.034 0    \n",
       " [5,] 0    0.020 0.198 0.586 0.000 1.000 1.000 0.586 0.198 0.020 0    \n",
       " [6,] 0    0.017 0.168 0.498 0.849 0.000 0.849 0.498 0.168 0.017 0    \n",
       " [7,] 0    0.020 0.198 0.586 1.000 1.000 0.000 0.586 0.198 0.020 0    \n",
       " [8,] 0    0.034 0.337 1.000 1.000 1.000 1.000 0.000 0.337 0.034 0    \n",
       " [9,] 0    0.100 1.000 1.000 1.000 1.000 1.000 1.000 0.000 0.100 0    \n",
       "[10,] 0    1.000 1.000 1.000 1.000 1.000 1.000 1.000 1.000 0.000 0    \n",
       "[11,] 0    0.000 0.004 0.012 0.021 0.025 0.021 0.012 0.004 0.000 0    "
      ]
     },
     "metadata": {},
     "output_type": "display_data"
    }
   ],
   "source": [
    "#~ epsilor is not important here, just to avoid infinities or nans or so on.\n",
    "epsilon<-1.0e-5\n",
    "posteriorNUM.1<-ifelse(posteriorNUM<epsilon,1,posteriorNUM)\n",
    "ones<-matrix(1,nrow=m+1,ncol=m+1)\n",
    "#~ str(posteriorNUM.1)\n",
    "#~ str(posteriorNUM)\n",
    "U<-pmin(ones,(1/posteriorNUM.1)%*%t(posteriorNUM)) #~ The matrix version containing the coefficients of the probabilities Pij (يلي كتبنا عليها ملاحظة انها اليمينت وايز)\n",
    "diag(U)<-0\n",
    "round(U,3)"
   ]
  },
  {
   "cell_type": "markdown",
   "metadata": {},
   "source": [
    "#### Transition matrix\n",
    "\n",
    "To prepare the transition matrix, according to the Metropolis algorithm, we need to multiply elementwise: \n",
    "\n",
    "$$\n",
    "    P_0[i,j]=K[i,j]\\cdot U[i,j]\n",
    "$$\n",
    "\n",
    "In matrix notation, $P_0=K \\cdot U$, this is a Hadamard, not matrix, product. \n",
    "\n",
    "Finally set diagonal entries in $P_0$ (which currently are zero) to the values needed so that the resulting $P$ is a stochastic matrix."
   ]
  },
  {
   "cell_type": "code",
   "execution_count": 13,
   "metadata": {},
   "outputs": [
    {
     "data": {
      "text/html": [
       "<table>\n",
       "<tbody>\n",
       "\t<tr><td>0    </td><td>0.00 </td><td>0.000</td><td>0.000</td><td>0.000</td><td>0.0  </td><td>0.000</td><td>0.000</td><td>0.000</td><td>0.00 </td><td>0    </td></tr>\n",
       "\t<tr><td>0    </td><td>0.00 </td><td>0.500</td><td>0.000</td><td>0.000</td><td>0.0  </td><td>0.000</td><td>0.000</td><td>0.000</td><td>0.00 </td><td>0    </td></tr>\n",
       "\t<tr><td>0    </td><td>0.05 </td><td>0.000</td><td>0.500</td><td>0.000</td><td>0.0  </td><td>0.000</td><td>0.000</td><td>0.000</td><td>0.00 </td><td>0    </td></tr>\n",
       "\t<tr><td>0    </td><td>0.00 </td><td>0.168</td><td>0.000</td><td>0.500</td><td>0.0  </td><td>0.000</td><td>0.000</td><td>0.000</td><td>0.00 </td><td>0    </td></tr>\n",
       "\t<tr><td>0    </td><td>0.00 </td><td>0.000</td><td>0.293</td><td>0.000</td><td>0.5  </td><td>0.000</td><td>0.000</td><td>0.000</td><td>0.00 </td><td>0    </td></tr>\n",
       "\t<tr><td>0    </td><td>0.00 </td><td>0.000</td><td>0.000</td><td>0.425</td><td>0.0  </td><td>0.425</td><td>0.000</td><td>0.000</td><td>0.00 </td><td>0    </td></tr>\n",
       "\t<tr><td>0    </td><td>0.00 </td><td>0.000</td><td>0.000</td><td>0.000</td><td>0.5  </td><td>0.000</td><td>0.293</td><td>0.000</td><td>0.00 </td><td>0    </td></tr>\n",
       "\t<tr><td>0    </td><td>0.00 </td><td>0.000</td><td>0.000</td><td>0.000</td><td>0.0  </td><td>0.500</td><td>0.000</td><td>0.168</td><td>0.00 </td><td>0    </td></tr>\n",
       "\t<tr><td>0    </td><td>0.00 </td><td>0.000</td><td>0.000</td><td>0.000</td><td>0.0  </td><td>0.000</td><td>0.500</td><td>0.000</td><td>0.05 </td><td>0    </td></tr>\n",
       "\t<tr><td>0    </td><td>0.00 </td><td>0.000</td><td>0.000</td><td>0.000</td><td>0.0  </td><td>0.000</td><td>0.000</td><td>0.500</td><td>0.00 </td><td>0    </td></tr>\n",
       "\t<tr><td>0    </td><td>0.00 </td><td>0.000</td><td>0.000</td><td>0.000</td><td>0.0  </td><td>0.000</td><td>0.000</td><td>0.000</td><td>0.00 </td><td>0    </td></tr>\n",
       "</tbody>\n",
       "</table>\n"
      ],
      "text/latex": [
       "\\begin{tabular}{lllllllllll}\n",
       "\t 0     & 0.00  & 0.000 & 0.000 & 0.000 & 0.0   & 0.000 & 0.000 & 0.000 & 0.00  & 0    \\\\\n",
       "\t 0     & 0.00  & 0.500 & 0.000 & 0.000 & 0.0   & 0.000 & 0.000 & 0.000 & 0.00  & 0    \\\\\n",
       "\t 0     & 0.05  & 0.000 & 0.500 & 0.000 & 0.0   & 0.000 & 0.000 & 0.000 & 0.00  & 0    \\\\\n",
       "\t 0     & 0.00  & 0.168 & 0.000 & 0.500 & 0.0   & 0.000 & 0.000 & 0.000 & 0.00  & 0    \\\\\n",
       "\t 0     & 0.00  & 0.000 & 0.293 & 0.000 & 0.5   & 0.000 & 0.000 & 0.000 & 0.00  & 0    \\\\\n",
       "\t 0     & 0.00  & 0.000 & 0.000 & 0.425 & 0.0   & 0.425 & 0.000 & 0.000 & 0.00  & 0    \\\\\n",
       "\t 0     & 0.00  & 0.000 & 0.000 & 0.000 & 0.5   & 0.000 & 0.293 & 0.000 & 0.00  & 0    \\\\\n",
       "\t 0     & 0.00  & 0.000 & 0.000 & 0.000 & 0.0   & 0.500 & 0.000 & 0.168 & 0.00  & 0    \\\\\n",
       "\t 0     & 0.00  & 0.000 & 0.000 & 0.000 & 0.0   & 0.000 & 0.500 & 0.000 & 0.05  & 0    \\\\\n",
       "\t 0     & 0.00  & 0.000 & 0.000 & 0.000 & 0.0   & 0.000 & 0.000 & 0.500 & 0.00  & 0    \\\\\n",
       "\t 0     & 0.00  & 0.000 & 0.000 & 0.000 & 0.0   & 0.000 & 0.000 & 0.000 & 0.00  & 0    \\\\\n",
       "\\end{tabular}\n"
      ],
      "text/markdown": [
       "\n",
       "| 0     | 0.00  | 0.000 | 0.000 | 0.000 | 0.0   | 0.000 | 0.000 | 0.000 | 0.00  | 0     | \n",
       "| 0     | 0.00  | 0.500 | 0.000 | 0.000 | 0.0   | 0.000 | 0.000 | 0.000 | 0.00  | 0     | \n",
       "| 0     | 0.05  | 0.000 | 0.500 | 0.000 | 0.0   | 0.000 | 0.000 | 0.000 | 0.00  | 0     | \n",
       "| 0     | 0.00  | 0.168 | 0.000 | 0.500 | 0.0   | 0.000 | 0.000 | 0.000 | 0.00  | 0     | \n",
       "| 0     | 0.00  | 0.000 | 0.293 | 0.000 | 0.5   | 0.000 | 0.000 | 0.000 | 0.00  | 0     | \n",
       "| 0     | 0.00  | 0.000 | 0.000 | 0.425 | 0.0   | 0.425 | 0.000 | 0.000 | 0.00  | 0     | \n",
       "| 0     | 0.00  | 0.000 | 0.000 | 0.000 | 0.5   | 0.000 | 0.293 | 0.000 | 0.00  | 0     | \n",
       "| 0     | 0.00  | 0.000 | 0.000 | 0.000 | 0.0   | 0.500 | 0.000 | 0.168 | 0.00  | 0     | \n",
       "| 0     | 0.00  | 0.000 | 0.000 | 0.000 | 0.0   | 0.000 | 0.500 | 0.000 | 0.05  | 0     | \n",
       "| 0     | 0.00  | 0.000 | 0.000 | 0.000 | 0.0   | 0.000 | 0.000 | 0.500 | 0.00  | 0     | \n",
       "| 0     | 0.00  | 0.000 | 0.000 | 0.000 | 0.0   | 0.000 | 0.000 | 0.000 | 0.00  | 0     | \n",
       "\n",
       "\n"
      ],
      "text/plain": [
       "      [,1] [,2] [,3]  [,4]  [,5]  [,6] [,7]  [,8]  [,9]  [,10] [,11]\n",
       " [1,] 0    0.00 0.000 0.000 0.000 0.0  0.000 0.000 0.000 0.00  0    \n",
       " [2,] 0    0.00 0.500 0.000 0.000 0.0  0.000 0.000 0.000 0.00  0    \n",
       " [3,] 0    0.05 0.000 0.500 0.000 0.0  0.000 0.000 0.000 0.00  0    \n",
       " [4,] 0    0.00 0.168 0.000 0.500 0.0  0.000 0.000 0.000 0.00  0    \n",
       " [5,] 0    0.00 0.000 0.293 0.000 0.5  0.000 0.000 0.000 0.00  0    \n",
       " [6,] 0    0.00 0.000 0.000 0.425 0.0  0.425 0.000 0.000 0.00  0    \n",
       " [7,] 0    0.00 0.000 0.000 0.000 0.5  0.000 0.293 0.000 0.00  0    \n",
       " [8,] 0    0.00 0.000 0.000 0.000 0.0  0.500 0.000 0.168 0.00  0    \n",
       " [9,] 0    0.00 0.000 0.000 0.000 0.0  0.000 0.500 0.000 0.05  0    \n",
       "[10,] 0    0.00 0.000 0.000 0.000 0.0  0.000 0.000 0.500 0.00  0    \n",
       "[11,] 0    0.00 0.000 0.000 0.000 0.0  0.000 0.000 0.000 0.00  0    "
      ]
     },
     "metadata": {},
     "output_type": "display_data"
    },
    {
     "data": {
      "text/html": [
       "<ol class=list-inline>\n",
       "\t<li>0</li>\n",
       "\t<li>0.5</li>\n",
       "\t<li>0.55</li>\n",
       "\t<li>0.668</li>\n",
       "\t<li>0.793</li>\n",
       "\t<li>0.849</li>\n",
       "\t<li>0.793</li>\n",
       "\t<li>0.668</li>\n",
       "\t<li>0.55</li>\n",
       "\t<li>0.5</li>\n",
       "\t<li>0</li>\n",
       "</ol>\n"
      ],
      "text/latex": [
       "\\begin{enumerate*}\n",
       "\\item 0\n",
       "\\item 0.5\n",
       "\\item 0.55\n",
       "\\item 0.668\n",
       "\\item 0.793\n",
       "\\item 0.849\n",
       "\\item 0.793\n",
       "\\item 0.668\n",
       "\\item 0.55\n",
       "\\item 0.5\n",
       "\\item 0\n",
       "\\end{enumerate*}\n"
      ],
      "text/markdown": [
       "1. 0\n",
       "2. 0.5\n",
       "3. 0.55\n",
       "4. 0.668\n",
       "5. 0.793\n",
       "6. 0.849\n",
       "7. 0.793\n",
       "8. 0.668\n",
       "9. 0.55\n",
       "10. 0.5\n",
       "11. 0\n",
       "\n",
       "\n"
      ],
      "text/plain": [
       " [1] 0.000 0.500 0.550 0.668 0.793 0.849 0.793 0.668 0.550 0.500 0.000"
      ]
     },
     "metadata": {},
     "output_type": "display_data"
    },
    {
     "data": {
      "text/html": [
       "<table>\n",
       "<tbody>\n",
       "\t<tr><td>1    </td><td>0.00 </td><td>0.000</td><td>0.000</td><td>0.000</td><td>0.000</td><td>0.000</td><td>0.000</td><td>0.000</td><td>0.00 </td><td>0    </td></tr>\n",
       "\t<tr><td>0    </td><td>0.50 </td><td>0.500</td><td>0.000</td><td>0.000</td><td>0.000</td><td>0.000</td><td>0.000</td><td>0.000</td><td>0.00 </td><td>0    </td></tr>\n",
       "\t<tr><td>0    </td><td>0.05 </td><td>0.450</td><td>0.500</td><td>0.000</td><td>0.000</td><td>0.000</td><td>0.000</td><td>0.000</td><td>0.00 </td><td>0    </td></tr>\n",
       "\t<tr><td>0    </td><td>0.00 </td><td>0.168</td><td>0.332</td><td>0.500</td><td>0.000</td><td>0.000</td><td>0.000</td><td>0.000</td><td>0.00 </td><td>0    </td></tr>\n",
       "\t<tr><td>0    </td><td>0.00 </td><td>0.000</td><td>0.293</td><td>0.207</td><td>0.500</td><td>0.000</td><td>0.000</td><td>0.000</td><td>0.00 </td><td>0    </td></tr>\n",
       "\t<tr><td>0    </td><td>0.00 </td><td>0.000</td><td>0.000</td><td>0.425</td><td>0.151</td><td>0.425</td><td>0.000</td><td>0.000</td><td>0.00 </td><td>0    </td></tr>\n",
       "\t<tr><td>0    </td><td>0.00 </td><td>0.000</td><td>0.000</td><td>0.000</td><td>0.500</td><td>0.207</td><td>0.293</td><td>0.000</td><td>0.00 </td><td>0    </td></tr>\n",
       "\t<tr><td>0    </td><td>0.00 </td><td>0.000</td><td>0.000</td><td>0.000</td><td>0.000</td><td>0.500</td><td>0.332</td><td>0.168</td><td>0.00 </td><td>0    </td></tr>\n",
       "\t<tr><td>0    </td><td>0.00 </td><td>0.000</td><td>0.000</td><td>0.000</td><td>0.000</td><td>0.000</td><td>0.500</td><td>0.450</td><td>0.05 </td><td>0    </td></tr>\n",
       "\t<tr><td>0    </td><td>0.00 </td><td>0.000</td><td>0.000</td><td>0.000</td><td>0.000</td><td>0.000</td><td>0.000</td><td>0.500</td><td>0.50 </td><td>0    </td></tr>\n",
       "\t<tr><td>0    </td><td>0.00 </td><td>0.000</td><td>0.000</td><td>0.000</td><td>0.000</td><td>0.000</td><td>0.000</td><td>0.000</td><td>0.00 </td><td>1    </td></tr>\n",
       "</tbody>\n",
       "</table>\n"
      ],
      "text/latex": [
       "\\begin{tabular}{lllllllllll}\n",
       "\t 1     & 0.00  & 0.000 & 0.000 & 0.000 & 0.000 & 0.000 & 0.000 & 0.000 & 0.00  & 0    \\\\\n",
       "\t 0     & 0.50  & 0.500 & 0.000 & 0.000 & 0.000 & 0.000 & 0.000 & 0.000 & 0.00  & 0    \\\\\n",
       "\t 0     & 0.05  & 0.450 & 0.500 & 0.000 & 0.000 & 0.000 & 0.000 & 0.000 & 0.00  & 0    \\\\\n",
       "\t 0     & 0.00  & 0.168 & 0.332 & 0.500 & 0.000 & 0.000 & 0.000 & 0.000 & 0.00  & 0    \\\\\n",
       "\t 0     & 0.00  & 0.000 & 0.293 & 0.207 & 0.500 & 0.000 & 0.000 & 0.000 & 0.00  & 0    \\\\\n",
       "\t 0     & 0.00  & 0.000 & 0.000 & 0.425 & 0.151 & 0.425 & 0.000 & 0.000 & 0.00  & 0    \\\\\n",
       "\t 0     & 0.00  & 0.000 & 0.000 & 0.000 & 0.500 & 0.207 & 0.293 & 0.000 & 0.00  & 0    \\\\\n",
       "\t 0     & 0.00  & 0.000 & 0.000 & 0.000 & 0.000 & 0.500 & 0.332 & 0.168 & 0.00  & 0    \\\\\n",
       "\t 0     & 0.00  & 0.000 & 0.000 & 0.000 & 0.000 & 0.000 & 0.500 & 0.450 & 0.05  & 0    \\\\\n",
       "\t 0     & 0.00  & 0.000 & 0.000 & 0.000 & 0.000 & 0.000 & 0.000 & 0.500 & 0.50  & 0    \\\\\n",
       "\t 0     & 0.00  & 0.000 & 0.000 & 0.000 & 0.000 & 0.000 & 0.000 & 0.000 & 0.00  & 1    \\\\\n",
       "\\end{tabular}\n"
      ],
      "text/markdown": [
       "\n",
       "| 1     | 0.00  | 0.000 | 0.000 | 0.000 | 0.000 | 0.000 | 0.000 | 0.000 | 0.00  | 0     | \n",
       "| 0     | 0.50  | 0.500 | 0.000 | 0.000 | 0.000 | 0.000 | 0.000 | 0.000 | 0.00  | 0     | \n",
       "| 0     | 0.05  | 0.450 | 0.500 | 0.000 | 0.000 | 0.000 | 0.000 | 0.000 | 0.00  | 0     | \n",
       "| 0     | 0.00  | 0.168 | 0.332 | 0.500 | 0.000 | 0.000 | 0.000 | 0.000 | 0.00  | 0     | \n",
       "| 0     | 0.00  | 0.000 | 0.293 | 0.207 | 0.500 | 0.000 | 0.000 | 0.000 | 0.00  | 0     | \n",
       "| 0     | 0.00  | 0.000 | 0.000 | 0.425 | 0.151 | 0.425 | 0.000 | 0.000 | 0.00  | 0     | \n",
       "| 0     | 0.00  | 0.000 | 0.000 | 0.000 | 0.500 | 0.207 | 0.293 | 0.000 | 0.00  | 0     | \n",
       "| 0     | 0.00  | 0.000 | 0.000 | 0.000 | 0.000 | 0.500 | 0.332 | 0.168 | 0.00  | 0     | \n",
       "| 0     | 0.00  | 0.000 | 0.000 | 0.000 | 0.000 | 0.000 | 0.500 | 0.450 | 0.05  | 0     | \n",
       "| 0     | 0.00  | 0.000 | 0.000 | 0.000 | 0.000 | 0.000 | 0.000 | 0.500 | 0.50  | 0     | \n",
       "| 0     | 0.00  | 0.000 | 0.000 | 0.000 | 0.000 | 0.000 | 0.000 | 0.000 | 0.00  | 1     | \n",
       "\n",
       "\n"
      ],
      "text/plain": [
       "      [,1] [,2] [,3]  [,4]  [,5]  [,6]  [,7]  [,8]  [,9]  [,10] [,11]\n",
       " [1,] 1    0.00 0.000 0.000 0.000 0.000 0.000 0.000 0.000 0.00  0    \n",
       " [2,] 0    0.50 0.500 0.000 0.000 0.000 0.000 0.000 0.000 0.00  0    \n",
       " [3,] 0    0.05 0.450 0.500 0.000 0.000 0.000 0.000 0.000 0.00  0    \n",
       " [4,] 0    0.00 0.168 0.332 0.500 0.000 0.000 0.000 0.000 0.00  0    \n",
       " [5,] 0    0.00 0.000 0.293 0.207 0.500 0.000 0.000 0.000 0.00  0    \n",
       " [6,] 0    0.00 0.000 0.000 0.425 0.151 0.425 0.000 0.000 0.00  0    \n",
       " [7,] 0    0.00 0.000 0.000 0.000 0.500 0.207 0.293 0.000 0.00  0    \n",
       " [8,] 0    0.00 0.000 0.000 0.000 0.000 0.500 0.332 0.168 0.00  0    \n",
       " [9,] 0    0.00 0.000 0.000 0.000 0.000 0.000 0.500 0.450 0.05  0    \n",
       "[10,] 0    0.00 0.000 0.000 0.000 0.000 0.000 0.000 0.500 0.50  0    \n",
       "[11,] 0    0.00 0.000 0.000 0.000 0.000 0.000 0.000 0.000 0.00  1    "
      ]
     },
     "metadata": {},
     "output_type": "display_data"
    }
   ],
   "source": [
    "#~ starting from a non-normalized posterior and a random walk, I obtained...\n",
    "P0<-K*U\n",
    "round(P0,3)\n",
    "P0.rows.sum<-apply(P0,1,sum) \n",
    "round(P0.rows.sum,3)\n",
    "P<-P0+diag(1-P0.rows.sum)\n",
    "round(P,3)"
   ]
  },
  {
   "cell_type": "markdown",
   "metadata": {},
   "source": [
    "Check that indeed this transition matrix does define a Markov chain whose stationary distribution is the posterior distribution. To do this, \n",
    "\n",
    "1. Compute the eigen decomposition: $P = V^{-1} \\cdot D \\cdot V$. The `eigen()` function returns $V$.\n",
    "\n",
    "2. Compute $V_1 = V^{-1}$.\n",
    "\n",
    "3. The stationary distribution will be the first row in $V_1$, after being standardized to sum $1$."
   ]
  },
  {
   "cell_type": "code",
   "execution_count": 14,
   "metadata": {},
   "outputs": [
    {
     "data": {
      "text/html": [
       "<ol class=list-inline>\n",
       "\t<li>0</li>\n",
       "\t<li>0.004</li>\n",
       "\t<li>0.041</li>\n",
       "\t<li>0.123</li>\n",
       "\t<li>0.209</li>\n",
       "\t<li>0.246</li>\n",
       "\t<li>0.209</li>\n",
       "\t<li>0.123</li>\n",
       "\t<li>0.041</li>\n",
       "\t<li>0.004</li>\n",
       "\t<li>0</li>\n",
       "</ol>\n"
      ],
      "text/latex": [
       "\\begin{enumerate*}\n",
       "\\item 0\n",
       "\\item 0.004\n",
       "\\item 0.041\n",
       "\\item 0.123\n",
       "\\item 0.209\n",
       "\\item 0.246\n",
       "\\item 0.209\n",
       "\\item 0.123\n",
       "\\item 0.041\n",
       "\\item 0.004\n",
       "\\item 0\n",
       "\\end{enumerate*}\n"
      ],
      "text/markdown": [
       "1. 0\n",
       "2. 0.004\n",
       "3. 0.041\n",
       "4. 0.123\n",
       "5. 0.209\n",
       "6. 0.246\n",
       "7. 0.209\n",
       "8. 0.123\n",
       "9. 0.041\n",
       "10. 0.004\n",
       "11. 0\n",
       "\n",
       "\n"
      ],
      "text/plain": [
       " [1] 0.000 0.004 0.041 0.123 0.209 0.246 0.209 0.123 0.041 0.004 0.000"
      ]
     },
     "metadata": {},
     "output_type": "display_data"
    },
    {
     "data": {
      "text/html": [
       "<ol class=list-inline>\n",
       "\t<li>0</li>\n",
       "\t<li>0.004</li>\n",
       "\t<li>0.041</li>\n",
       "\t<li>0.123</li>\n",
       "\t<li>0.209</li>\n",
       "\t<li>0.246</li>\n",
       "\t<li>0.209</li>\n",
       "\t<li>0.123</li>\n",
       "\t<li>0.041</li>\n",
       "\t<li>0.004</li>\n",
       "\t<li>0</li>\n",
       "</ol>\n"
      ],
      "text/latex": [
       "\\begin{enumerate*}\n",
       "\\item 0\n",
       "\\item 0.004\n",
       "\\item 0.041\n",
       "\\item 0.123\n",
       "\\item 0.209\n",
       "\\item 0.246\n",
       "\\item 0.209\n",
       "\\item 0.123\n",
       "\\item 0.041\n",
       "\\item 0.004\n",
       "\\item 0\n",
       "\\end{enumerate*}\n"
      ],
      "text/markdown": [
       "1. 0\n",
       "2. 0.004\n",
       "3. 0.041\n",
       "4. 0.123\n",
       "5. 0.209\n",
       "6. 0.246\n",
       "7. 0.209\n",
       "8. 0.123\n",
       "9. 0.041\n",
       "10. 0.004\n",
       "11. 0\n",
       "\n",
       "\n"
      ],
      "text/plain": [
       " [1] 0.000 0.004 0.041 0.123 0.209 0.246 0.209 0.123 0.041 0.004 0.000"
      ]
     },
     "metadata": {},
     "output_type": "display_data"
    }
   ],
   "source": [
    "a<-eigen(P)\n",
    "V<-a$vectors\n",
    "V1<-solve(V)\n",
    "v<-V1[1,]\n",
    "w<-v/sum(v)\n",
    "round(w,3)\n",
    "# (compare with the posterior probability above)\n",
    "round(posterior,3)"
   ]
  },
  {
   "cell_type": "markdown",
   "metadata": {},
   "source": [
    "#### Prepare the Metropolis MCMC simulation\n",
    "\n",
    "We prepare some auxiliary functions "
   ]
  },
  {
   "cell_type": "code",
   "execution_count": 15,
   "metadata": {},
   "outputs": [],
   "source": [
    "#\n",
    "# r.idx \n",
    "#\n",
    "# Auxiliary function.\n",
    "#\n",
    "# Generate a random integer r in the set 1:m according to the probability vector d. \n",
    "#\n",
    "# Then, if we want a random vector from a vector x such that length(x)=m, we just return x[r]\n",
    "# We assume (though no formal check is performed) that d is a well-formed probability vector.\n",
    "#\n",
    "# --------------------------------------------------------------------------------------------------\n",
    "r.idx<-function(d){\n",
    "    m<-length(d)\n",
    "    return(sample.int(m,size=1,prob=d))\n",
    "    }"
   ]
  },
  {
   "cell_type": "code",
   "execution_count": 16,
   "metadata": {},
   "outputs": [],
   "source": [
    "#\n",
    "# one.trajectory\n",
    "#\n",
    "# Auxiliary function.\n",
    "#\n",
    "# Generate a single trajectory of length L of the Markov chain with transition probabilities \n",
    "# matrix P and initial probability p. \n",
    "#\n",
    "# Only indexes in the vector x of values are obtained. \n",
    "#\n",
    "# --------------------------------------------------------------------------------------------------\n",
    "one.trajectory<-function(L=100,P,p){\n",
    "    idx.j<-r.idx(p)\n",
    "    trajectory<-rep(0,L) \n",
    "    for (j in 1:L){\n",
    "        idx.j<-r.idx(P[idx.j,])\n",
    "        trajectory[j]<-idx.j\n",
    "        }\n",
    "    return(trajectory)\n",
    "    }"
   ]
  },
  {
   "cell_type": "code",
   "execution_count": 21,
   "metadata": {},
   "outputs": [],
   "source": [
    "#\n",
    "# N.trajectories\n",
    "#\n",
    "# Auxiliary function.\n",
    "#\n",
    "# Generate N length L trajectories of the Markov chain with transition probabilities matrix P \n",
    "# and initial probability p. \n",
    "#\n",
    "# Returns an [N,L] matrix. Each row is a trajectory.\n",
    "#\n",
    "# Only indexes in the vector x of values are obtained. \n",
    "#\n",
    "# --------------------------------------------------------------------------------------------------\n",
    "N.trajectories<-function(N=500,L=100,P,p){\n",
    "    trajectories<-matrix(0,nrow=N,ncol=L)\n",
    "    for (i in 1:N){\n",
    "        trajectories[i,]<-one.trajectory(L,P,p)\n",
    "        }\n",
    "    return(trajectories)\n",
    "    }"
   ]
  },
  {
   "cell_type": "code",
   "execution_count": 22,
   "metadata": {},
   "outputs": [],
   "source": [
    "#\n",
    "# limit.prob\n",
    "#\n",
    "# Auxiliary function.\n",
    "#\n",
    "# Estimate the limit probability of the Markov chain with transition probabilities matrix P and \n",
    "# initial probability p. To this end we generate N trajectories of length L and tabulate their\n",
    "# end points.\n",
    "#\n",
    "# --------------------------------------------------------------------------------------------------\n",
    "limit.prob<-function(N,L,P,p){\n",
    "    trajectories<-N.trajectories(N,L,P,p)\n",
    "    prob<-tabulate(trajectories[,L])/N\n",
    "    return(prob)\n",
    "    }"
   ]
  },
  {
   "cell_type": "code",
   "execution_count": 19,
   "metadata": {},
   "outputs": [],
   "source": [
    "#\n",
    "# limit.prob.k\n",
    "#\n",
    "# Auxiliary function.\n",
    "#\n",
    "# (modification of the above)\n",
    "# Estimate the limit probability of the Markov chain with transition probabilities matrix P and \n",
    "# initial probability p. \n",
    "# To this end we generate N trajectories of length L and tabulate their end segments of length k.\n",
    "#\n",
    "# --------------------------------------------------------------------------------------------------\n",
    "limit.prob.k<-function(N,L,P,p,k){\n",
    "    trajectories<-N.trajectories(N,L,P,p)\n",
    "    Z<-trajectories[,(L-k+1):L]\n",
    "    prob<-tabulate(as.numeric(Z))/(N*k)\n",
    "    return(prob)\n",
    "    }"
   ]
  },
  {
   "cell_type": "markdown",
   "metadata": {},
   "source": [
    "### Now launch the Metropolis MCMC simulation"
   ]
  },
  {
   "cell_type": "code",
   "execution_count": 23,
   "metadata": {},
   "outputs": [
    {
     "data": {
      "text/html": [
       "<ol class=list-inline>\n",
       "\t<li>0.001</li>\n",
       "\t<li>0.004</li>\n",
       "\t<li>0.04</li>\n",
       "\t<li>0.121</li>\n",
       "\t<li>0.207</li>\n",
       "\t<li>0.244</li>\n",
       "\t<li>0.207</li>\n",
       "\t<li>0.122</li>\n",
       "\t<li>0.04</li>\n",
       "\t<li>0.004</li>\n",
       "\t<li>0.01</li>\n",
       "</ol>\n"
      ],
      "text/latex": [
       "\\begin{enumerate*}\n",
       "\\item 0.001\n",
       "\\item 0.004\n",
       "\\item 0.04\n",
       "\\item 0.121\n",
       "\\item 0.207\n",
       "\\item 0.244\n",
       "\\item 0.207\n",
       "\\item 0.122\n",
       "\\item 0.04\n",
       "\\item 0.004\n",
       "\\item 0.01\n",
       "\\end{enumerate*}\n"
      ],
      "text/markdown": [
       "1. 0.001\n",
       "2. 0.004\n",
       "3. 0.04\n",
       "4. 0.121\n",
       "5. 0.207\n",
       "6. 0.244\n",
       "7. 0.207\n",
       "8. 0.122\n",
       "9. 0.04\n",
       "10. 0.004\n",
       "11. 0.01\n",
       "\n",
       "\n"
      ],
      "text/plain": [
       " [1] 0.001 0.004 0.040 0.121 0.207 0.244 0.207 0.122 0.040 0.004 0.010"
      ]
     },
     "metadata": {},
     "output_type": "display_data"
    }
   ],
   "source": [
    "#p<-limit.prob(500,1000,P,prior);round(p,3)\n",
    "p<-limit.prob.k(100,10000,P,prior,1000);round(p,3)"
   ]
  },
  {
   "cell_type": "markdown",
   "metadata": {},
   "source": [
    "#### Chi square test\n",
    "\n",
    "Since for this toy example we know the exact posterior pdf, we can test the goodness-of-fit of the simulated Markov chain limit to the exact pdf."
   ]
  },
  {
   "cell_type": "code",
   "execution_count": 24,
   "metadata": {},
   "outputs": [],
   "source": [
    "#\n",
    "# chisq1d\n",
    "#\n",
    "# Auxiliary function.\n",
    "#\n",
    "# One dimensional chi-square test to compare a probability (or absolute frequencies) vector nn\n",
    "# to a probability vector p, taken as reference.\n",
    "#\n",
    "# --------------------------------------------------------------------------------------------------\n",
    "chisq1d<-function(nn,p,df=length(nn)-1,alpha=0.05){\n",
    "    n<-sum(nn)\n",
    "    ff<-nn/n\n",
    "    chi2<-n*sum(((ff-p)^2)/p)\n",
    "    pval=1-pchisq(chi2,df=df)\n",
    "    valcrit=qchisq(1-alpha,df=df)\n",
    "    return(list(chi2=chi2,df=df,pval=pval,valcrit=valcrit))\n",
    "    }"
   ]
  },
  {
   "cell_type": "code",
   "execution_count": 25,
   "metadata": {},
   "outputs": [
    {
     "data": {
      "text/html": [
       "<dl>\n",
       "\t<dt>$chi2</dt>\n",
       "\t\t<dd>6.26985482803159e-05</dd>\n",
       "\t<dt>$df</dt>\n",
       "\t\t<dd>8</dd>\n",
       "\t<dt>$pval</dt>\n",
       "\t\t<dd>1</dd>\n",
       "\t<dt>$valcrit</dt>\n",
       "\t\t<dd>15.5073130558655</dd>\n",
       "</dl>\n"
      ],
      "text/latex": [
       "\\begin{description}\n",
       "\\item[\\$chi2] 6.26985482803159e-05\n",
       "\\item[\\$df] 8\n",
       "\\item[\\$pval] 1\n",
       "\\item[\\$valcrit] 15.5073130558655\n",
       "\\end{description}\n"
      ],
      "text/markdown": [
       "$chi2\n",
       ":   6.26985482803159e-05\n",
       "$df\n",
       ":   8\n",
       "$pval\n",
       ":   1\n",
       "$valcrit\n",
       ":   15.5073130558655\n",
       "\n",
       "\n"
      ],
      "text/plain": [
       "$chi2\n",
       "[1] 6.269855e-05\n",
       "\n",
       "$df\n",
       "[1] 8\n",
       "\n",
       "$pval\n",
       "[1] 1\n",
       "\n",
       "$valcrit\n",
       "[1] 15.50731\n"
      ]
     },
     "metadata": {},
     "output_type": "display_data"
    }
   ],
   "source": [
    "# Applying the chi-square test. Ignore 0 values in the posterior vector, as they would give NaN in the formula.\n",
    "J<-posterior==0\n",
    "chisq1d(p[!J],posterior[!J])"
   ]
  },
  {
   "cell_type": "markdown",
   "metadata": {},
   "source": [
    "### Exercise\n",
    "\n",
    "Redo the above computations with a prior pdf $\\operatorname{Beta}(\\alpha,\\beta)$, for $(\\alpha,\\beta)\\neq(1,1)$, discretized on a grid of $m$ (or $m+1$) points. _Hint:_ Be careful with the number of points and intervals."
   ]
  },
  {
   "cell_type": "code",
   "execution_count": null,
   "metadata": {
    "collapsed": true
   },
   "outputs": [],
   "source": [
    "#~ just for you to check that you have understood all the steps in ..."
   ]
  }
 ],
 "metadata": {
  "kernelspec": {
   "display_name": "R",
   "language": "R",
   "name": "ir"
  },
  "language_info": {
   "codemirror_mode": "r",
   "file_extension": ".r",
   "mimetype": "text/x-r-source",
   "name": "R",
   "pygments_lexer": "r",
   "version": "3.4.3"
  }
 },
 "nbformat": 4,
 "nbformat_minor": 2
}
