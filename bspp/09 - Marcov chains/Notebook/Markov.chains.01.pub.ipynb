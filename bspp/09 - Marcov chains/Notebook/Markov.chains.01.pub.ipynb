{
 "cells": [
  {
   "cell_type": "markdown",
   "metadata": {},
   "source": [
    "# Markov chains"
   ]
  },
  {
   "cell_type": "markdown",
   "metadata": {},
   "source": [
    "#### Josep Fortiana 2018-11-21"
   ]
  },
  {
   "cell_type": "markdown",
   "metadata": {
    "collapsed": true
   },
   "source": [
    "## Two-state Markov chain: daily rainfall in Tel-Aviv"
   ]
  },
  {
   "cell_type": "markdown",
   "metadata": {},
   "source": [
    "#### Model\n",
    "\n",
    "Occurrence of wet and dry days during the rainy period: December, January, February. Probability $\\alpha$ of a wet day following a dry day is 0.250. Probability $\\beta$ of a dry day following a wet day is 0.338.\n",
    "\n",
    "From the classical article: Gabriel, K. Reuben and Neumann, J. (1962), _A Markov chain model for daily rainfall occurrence at Tel Aviv,_ Quarterly Journal of the Royal Meteorological Society 88(375):90-95."
   ]
  },
  {
   "cell_type": "markdown",
   "metadata": {},
   "source": [
    "#### Data"
   ]
  },
  {
   "cell_type": "code",
   "execution_count": 1,
   "metadata": {},
   "outputs": [
    {
     "data": {
      "text/html": [
       "<table>\n",
       "<thead><tr><th></th><th scope=col>Dry</th><th scope=col>Wet</th></tr></thead>\n",
       "<tbody>\n",
       "\t<tr><th scope=row>Dry</th><td>1049</td><td>350 </td></tr>\n",
       "\t<tr><th scope=row>Wet</th><td> 351</td><td>687 </td></tr>\n",
       "</tbody>\n",
       "</table>\n"
      ],
      "text/latex": [
       "\\begin{tabular}{r|ll}\n",
       "  & Dry & Wet\\\\\n",
       "\\hline\n",
       "\tDry & 1049 & 350 \\\\\n",
       "\tWet &  351 & 687 \\\\\n",
       "\\end{tabular}\n"
      ],
      "text/markdown": [
       "\n",
       "| <!--/--> | Dry | Wet | \n",
       "|---|---|\n",
       "| Dry | 1049 | 350  | \n",
       "| Wet |  351 | 687  | \n",
       "\n",
       "\n"
      ],
      "text/plain": [
       "         Actual\n",
       "Preceding Dry  Wet\n",
       "      Dry 1049 350\n",
       "      Wet  351 687"
      ]
     },
     "metadata": {},
     "output_type": "display_data"
    }
   ],
   "source": [
    "# Matrix of observed data\n",
    "X<-matrix(c(1049,351,350,687),nrow=2)\n",
    "rownames(X)<-c(\"Dry\",\"Wet\")\n",
    "colnames(X)<-c(\"Dry\",\"Wet\")\n",
    "names(dimnames(X))<-c(\"Preceding\",\"Actual\")\n",
    "X"
   ]
  },
  {
   "cell_type": "markdown",
   "metadata": {},
   "source": [
    "#### Transition probabilities"
   ]
  },
  {
   "cell_type": "code",
   "execution_count": 2,
   "metadata": {},
   "outputs": [
    {
     "data": {
      "text/html": [
       "<table>\n",
       "<thead><tr><th scope=col>Dry</th><th scope=col>Wet</th></tr></thead>\n",
       "<tbody>\n",
       "\t<tr><td>1399</td><td>1038</td></tr>\n",
       "</tbody>\n",
       "</table>\n"
      ],
      "text/latex": [
       "\\begin{tabular}{ll}\n",
       " Dry & Wet\\\\\n",
       "\\hline\n",
       "\t 1399 & 1038\\\\\n",
       "\\end{tabular}\n"
      ],
      "text/markdown": [
       "\n",
       "Dry | Wet | \n",
       "|---|\n",
       "| 1399 | 1038 | \n",
       "\n",
       "\n"
      ],
      "text/plain": [
       "     Dry  Wet \n",
       "[1,] 1399 1038"
      ]
     },
     "metadata": {},
     "output_type": "display_data"
    },
    {
     "data": {
      "text/html": [
       "<table>\n",
       "<thead><tr><th></th><th scope=col>Dry</th><th scope=col>Wet</th></tr></thead>\n",
       "<tbody>\n",
       "\t<tr><th scope=row>Dry</th><td>0.750</td><td>0.250</td></tr>\n",
       "\t<tr><th scope=row>Wet</th><td>0.338</td><td>0.662</td></tr>\n",
       "</tbody>\n",
       "</table>\n"
      ],
      "text/latex": [
       "\\begin{tabular}{r|ll}\n",
       "  & Dry & Wet\\\\\n",
       "\\hline\n",
       "\tDry & 0.750 & 0.250\\\\\n",
       "\tWet & 0.338 & 0.662\\\\\n",
       "\\end{tabular}\n"
      ],
      "text/markdown": [
       "\n",
       "| <!--/--> | Dry | Wet | \n",
       "|---|---|\n",
       "| Dry | 0.750 | 0.250 | \n",
       "| Wet | 0.338 | 0.662 | \n",
       "\n",
       "\n"
      ],
      "text/plain": [
       "     Actual\n",
       "      Dry   Wet  \n",
       "  Dry 0.750 0.250\n",
       "  Wet 0.338 0.662"
      ]
     },
     "metadata": {},
     "output_type": "display_data"
    },
    {
     "data": {
      "text/html": [
       "0.25"
      ],
      "text/latex": [
       "0.25"
      ],
      "text/markdown": [
       "0.25"
      ],
      "text/plain": [
       "[1] 0.25"
      ]
     },
     "metadata": {},
     "output_type": "display_data"
    },
    {
     "data": {
      "text/html": [
       "0.338"
      ],
      "text/latex": [
       "0.338"
      ],
      "text/markdown": [
       "0.338"
      ],
      "text/plain": [
       "[1] 0.338"
      ]
     },
     "metadata": {},
     "output_type": "display_data"
    }
   ],
   "source": [
    "# Divide each row by its total, to give an estimate of transition probabilities\n",
    "# Row totals\n",
    "X.rt<-apply(X,1,sum)\n",
    "t(X.rt)\n",
    "# Divide each row by its total to give an etimate of the transition matrix \n",
    "P<-diag(1/X.rt)%*%X \n",
    "rownames(P)<-c(\"Dry\",\"Wet\")   # Names MIA\n",
    "round(P,3)\n",
    "alpha<-P[1,2]\n",
    "beta<-P[2,1]\n",
    "round(alpha,3)\n",
    "round(beta,3)"
   ]
  },
  {
   "cell_type": "markdown",
   "metadata": {},
   "source": [
    "#### Assuming today is a dry day"
   ]
  },
  {
   "cell_type": "code",
   "execution_count": 3,
   "metadata": {},
   "outputs": [
    {
     "data": {
      "text/html": [
       "<ol class=list-inline>\n",
       "\t<li>0.75</li>\n",
       "\t<li>0.25</li>\n",
       "</ol>\n"
      ],
      "text/latex": [
       "\\begin{enumerate*}\n",
       "\\item 0.75\n",
       "\\item 0.25\n",
       "\\end{enumerate*}\n"
      ],
      "text/markdown": [
       "1. 0.75\n",
       "2. 0.25\n",
       "\n",
       "\n"
      ],
      "text/plain": [
       "[1] 0.75 0.25"
      ]
     },
     "metadata": {},
     "output_type": "display_data"
    },
    {
     "data": {
      "text/html": [
       "<ol class=list-inline>\n",
       "\t<li>0.647</li>\n",
       "\t<li>0.353</li>\n",
       "</ol>\n"
      ],
      "text/latex": [
       "\\begin{enumerate*}\n",
       "\\item 0.647\n",
       "\\item 0.353\n",
       "\\end{enumerate*}\n"
      ],
      "text/markdown": [
       "1. 0.647\n",
       "2. 0.353\n",
       "\n",
       "\n"
      ],
      "text/plain": [
       "[1] 0.647 0.353"
      ]
     },
     "metadata": {},
     "output_type": "display_data"
    }
   ],
   "source": [
    "p0<-c(1,0)        # State as of today\n",
    "p1<-p0%*%P        # Probabilities for tomorrow\n",
    "round(as.numeric(p1),3)\n",
    "p2<-p1%*%P        # Probabilities for the day after tomorrow\n",
    "round(as.numeric(p2),3)\n",
    "p<-p2"
   ]
  },
  {
   "cell_type": "markdown",
   "metadata": {},
   "source": [
    "#### And so on $\\dots$ until stabilization"
   ]
  },
  {
   "cell_type": "code",
   "execution_count": 4,
   "metadata": {},
   "outputs": [
    {
     "data": {
      "text/html": [
       "<ol class=list-inline>\n",
       "\t<li>0.604</li>\n",
       "\t<li>0.396</li>\n",
       "</ol>\n"
      ],
      "text/latex": [
       "\\begin{enumerate*}\n",
       "\\item 0.604\n",
       "\\item 0.396\n",
       "\\end{enumerate*}\n"
      ],
      "text/markdown": [
       "1. 0.604\n",
       "2. 0.396\n",
       "\n",
       "\n"
      ],
      "text/plain": [
       "[1] 0.604 0.396"
      ]
     },
     "metadata": {},
     "output_type": "display_data"
    }
   ],
   "source": [
    "p<-p%*%P\n",
    "round(as.numeric(p),3)    # Execute this cell several times"
   ]
  },
  {
   "cell_type": "markdown",
   "metadata": {},
   "source": [
    "#### Using the eigenvalue decomposition"
   ]
  },
  {
   "cell_type": "code",
   "execution_count": 5,
   "metadata": {},
   "outputs": [
    {
     "data": {
      "text/html": [
       "<ol class=list-inline>\n",
       "\t<li>1</li>\n",
       "\t<li>0.412</li>\n",
       "</ol>\n"
      ],
      "text/latex": [
       "\\begin{enumerate*}\n",
       "\\item 1\n",
       "\\item 0.412\n",
       "\\end{enumerate*}\n"
      ],
      "text/markdown": [
       "1. 1\n",
       "2. 0.412\n",
       "\n",
       "\n"
      ],
      "text/plain": [
       "[1] 1.000 0.412"
      ]
     },
     "metadata": {},
     "output_type": "display_data"
    },
    {
     "data": {
      "text/html": [
       "<table>\n",
       "<tbody>\n",
       "\t<tr><td>0.707 </td><td>-0.595</td></tr>\n",
       "\t<tr><td>0.707 </td><td> 0.804</td></tr>\n",
       "</tbody>\n",
       "</table>\n"
      ],
      "text/latex": [
       "\\begin{tabular}{ll}\n",
       "\t 0.707  & -0.595\\\\\n",
       "\t 0.707  &  0.804\\\\\n",
       "\\end{tabular}\n"
      ],
      "text/markdown": [
       "\n",
       "| 0.707  | -0.595 | \n",
       "| 0.707  |  0.804 | \n",
       "\n",
       "\n"
      ],
      "text/plain": [
       "     [,1]  [,2]  \n",
       "[1,] 0.707 -0.595\n",
       "[2,] 0.707  0.804"
      ]
     },
     "metadata": {},
     "output_type": "display_data"
    },
    {
     "data": {
      "text/html": [
       "<table>\n",
       "<tbody>\n",
       "\t<tr><td> 0.813</td><td>0.601 </td></tr>\n",
       "\t<tr><td>-0.715</td><td>0.715 </td></tr>\n",
       "</tbody>\n",
       "</table>\n"
      ],
      "text/latex": [
       "\\begin{tabular}{ll}\n",
       "\t  0.813 & 0.601 \\\\\n",
       "\t -0.715 & 0.715 \\\\\n",
       "\\end{tabular}\n"
      ],
      "text/markdown": [
       "\n",
       "|  0.813 | 0.601  | \n",
       "| -0.715 | 0.715  | \n",
       "\n",
       "\n"
      ],
      "text/plain": [
       "     [,1]   [,2] \n",
       "[1,]  0.813 0.601\n",
       "[2,] -0.715 0.715"
      ]
     },
     "metadata": {},
     "output_type": "display_data"
    }
   ],
   "source": [
    "eP<-eigen(P)\n",
    "round(eP$values,3) # First, larger eigenvalue is equal to 1 ()\n",
    "D<-diag(eP$values)\n",
    "U<-eP$vectors\n",
    "round(U,3)\n",
    "U1<-solve(U)      # Inverse matrix\n",
    "round(U1,3)\n",
    "#~ p.inf<-U1[1,]1,1/sum(U1[1,]))"
   ]
  },
  {
   "cell_type": "markdown",
   "metadata": {
    "collapsed": true
   },
   "source": [
    "#### Exercise \n",
    "\n",
    "Check that product of the result of the eigendecomposition is equal to $P$. In which order?"
   ]
  },
  {
   "cell_type": "code",
   "execution_count": null,
   "metadata": {
    "collapsed": true
   },
   "outputs": [],
   "source": [
    "#\n",
    "# Insert here your code\n",
    "#"
   ]
  },
  {
   "cell_type": "markdown",
   "metadata": {},
   "source": [
    "#### Extracting the stable probability vector\n",
    "\n",
    "The stable vector is the first row of the matrix of left eigenvectors of $P$, the inverse matrix of $U$, the matrix of right eigenvectors of $P$, normalized to sum 1."
   ]
  },
  {
   "cell_type": "code",
   "execution_count": 8,
   "metadata": {},
   "outputs": [
    {
     "data": {
      "text/html": [
       "<ol class=list-inline>\n",
       "\t<li>0.575</li>\n",
       "\t<li>0.425</li>\n",
       "</ol>\n"
      ],
      "text/latex": [
       "\\begin{enumerate*}\n",
       "\\item 0.575\n",
       "\\item 0.425\n",
       "\\end{enumerate*}\n"
      ],
      "text/markdown": [
       "1. 0.575\n",
       "2. 0.425\n",
       "\n",
       "\n"
      ],
      "text/plain": [
       "[1] 0.575 0.425"
      ]
     },
     "metadata": {},
     "output_type": "display_data"
    }
   ],
   "source": [
    "v<-U1[1,]\n",
    "p.inf<-v/sum(v)\n",
    "round(p.inf,3)"
   ]
  },
  {
   "cell_type": "markdown",
   "metadata": {
    "collapsed": true
   },
   "source": [
    "## Weather in the Land of Oz"
   ]
  },
  {
   "cell_type": "markdown",
   "metadata": {
    "collapsed": true
   },
   "source": [
    "According to Kemeny, Snell, and Thompson (J. G. Kemeny, J. L. Snell, G. L. Thompson, _Introduction to Finite Mathematics, 3rd ed.,_\tEnglewood Cliffs, NJ: Prentice-Hall, 1974), the Land of Oz is blessed by many things, but not by good weather. \n",
    "\n",
    "They never have two nice days in a row. If they have a nice day, they are just as likely to have snow as rain the next day. If they have snow or rain, they have an even chance of having the same the next day. If there is change from snow or rain, only half of the time is this a change to a nice day. \n",
    "\n",
    "With this information we can write a Markov chain model for this peculiar weather. We take as states: $R$ (rainy), $N$ (nice), and $S$ (snowy)."
   ]
  },
  {
   "cell_type": "markdown",
   "metadata": {
    "collapsed": true
   },
   "source": [
    "#### Exercise\n",
    "\n",
    "From this information verify that the matrix $\\mathbf{P}$ below is indeed the transition matrix of this model:\n",
    "\n",
    "$$\n",
    "\t\\begin{array}{cc|ccc}\n",
    "\t\t\t\t&\t&R \t&\tN& S  \\\\\n",
    "\t\t\t\t\\hline\n",
    "\t\t\t\t&R \t&1/2& 1/4& 1/4 \\\\\n",
    "\t\t\t&N \t&1/2&  0 & 1/2 \\\\\n",
    "\t\t\t\t&S \t&1/4& 1/4& 1/2\n",
    "\t\\end{array}\n",
    "$$"
   ]
  },
  {
   "cell_type": "markdown",
   "metadata": {},
   "source": [
    "#### Exercise\n",
    "\n",
    "Compute the first 6 powers $\\mathbf{P}^{j}$, $1\\leq j\\leq 6$, of the transition matrix, and use them to obtain the probabilities of each weather state on day  $j$, provided we know the weather today (day 0)."
   ]
  },
  {
   "cell_type": "code",
   "execution_count": 7,
   "metadata": {},
   "outputs": [],
   "source": [
    "#\n",
    "# Insert here your code\n",
    "#"
   ]
  },
  {
   "cell_type": "markdown",
   "metadata": {},
   "source": [
    "Uncomment the code below, to check whether this chain has a stationary probability distribution and, if so, obtain it."
   ]
  },
  {
   "cell_type": "code",
   "execution_count": 8,
   "metadata": {},
   "outputs": [],
   "source": [
    "#eP<-eigen(P)\n",
    "#U<-eP$vectors\n",
    "#U1<-solve(U)      # Inverse matrix\n",
    "#v<-U1[1,]\n",
    "#p.inf<-v/sum(v)\n",
    "#round(p.inf,3)\n",
    "#\n",
    "# Result should be:\n",
    "# (0.4, 0.2, 0.4)"
   ]
  },
  {
   "cell_type": "markdown",
   "metadata": {},
   "source": [
    "## Ehrenfest model"
   ]
  },
  {
   "cell_type": "markdown",
   "metadata": {},
   "source": [
    "#### Exercise\n",
    "\n",
    "Write a function returning the transition matrix for the Ehrenfest model for each $n$."
   ]
  },
  {
   "cell_type": "code",
   "execution_count": 9,
   "metadata": {},
   "outputs": [],
   "source": [
    "#\n",
    "# Insert here your code\n",
    "#"
   ]
  },
  {
   "cell_type": "markdown",
   "metadata": {},
   "source": [
    "#### Exercise\n",
    "\n",
    "Compute the stationary distribution of the Ehrenfest model for $n=2,3,4,5$."
   ]
  },
  {
   "cell_type": "code",
   "execution_count": 10,
   "metadata": {},
   "outputs": [],
   "source": [
    "#\n",
    "# Insert here your code\n",
    "#"
   ]
  },
  {
   "cell_type": "markdown",
   "metadata": {},
   "source": [
    "## Drunkard's walk\n",
    "\n",
    "There is a sequence of $2n + 1$ pubs on a street. A drunkard starts at the middle house. At every time step, if he is at pub number $i$, then with probability $1/2$ he goes to pub number $i-1$ and with probability $1/2$ to pub $i+1$."
   ]
  },
  {
   "cell_type": "markdown",
   "metadata": {},
   "source": [
    "#### Exercise\n",
    "\n",
    "Check that this description can be fitted with a Markov chain model, and write its transition matrix (as a function of $n$).\n",
    "_Remark:_ The above description does not determine completely the transition matrix, as behavior at both extreme points is not specified. There are two reasonable possibilities: either go to the (only) next pub with probability 1, as in the Ehrenfest model, or stay forever at the reached extreme. In the latter case such states are called _absorbent._"
   ]
  },
  {
   "cell_type": "code",
   "execution_count": 11,
   "metadata": {},
   "outputs": [],
   "source": [
    "#\n",
    "# Insert here your code\n",
    "#\n",
    "# The first version has \"bouncing\" (reflecting) extreme points.\n",
    "# The second version has absorbent extreme points."
   ]
  },
  {
   "cell_type": "markdown",
   "metadata": {},
   "source": [
    "#### Exercise\n",
    "\n",
    "How many time steps does it take him to reach either the first or the last pub?\n",
    "\n",
    "_Hint:_ $m$ steps correspond to $m$ coin tosses, and the distance from the starting point is simply the difference between the number of heads and the number of tails. We need this difference to be $n$. Recall then that the number of heads follows approximately a normal distribution with mean $\\mu=\\frac{1}{2}\\,m$ and standard deviation $\\sigma=\\frac{1}{2}\\,\\sqrt{m}$. Finally, given a high probability value, $p=0.99$, say, compute the number of steps needed to reach either of the extreme points $\\pm n$ with probability $p$. Conclude that this number is proportional to $n^2$."
   ]
  },
  {
   "cell_type": "code",
   "execution_count": 11,
   "metadata": {},
   "outputs": [],
   "source": [
    "#\n",
    "# Insert here your code\n",
    "#"
   ]
  },
  {
   "cell_type": "markdown",
   "metadata": {},
   "source": [
    "## Simulating  trajectories of Markov chains\n",
    "\n",
    "\n",
    "The following function generates $n$ independent random numbers following the finite discrete distribution with vector of values $x$ and vector of probabilities $d$:"
   ]
  },
  {
   "cell_type": "code",
   "execution_count": 12,
   "metadata": {},
   "outputs": [],
   "source": [
    "r.disc.rv<-function(n,x,d){\n",
    "    x<-sample(x,size=n,replace=TRUE,prob=d)\n",
    "    return(x)\n",
    "    }"
   ]
  },
  {
   "cell_type": "markdown",
   "metadata": {},
   "source": [
    "The following code generates a simulated length $n$ trajectory of a finite Markov chain with $k$ states, initial vector of probabilities $d$, and transition probabilities matrix $P$:"
   ]
  },
  {
   "cell_type": "code",
   "execution_count": 13,
   "metadata": {},
   "outputs": [],
   "source": [
    "#~ This code is largely suboptimal\n",
    "r.traj<-function(n,d,P){\n",
    "    k<-length(d)\n",
    "    s<-1:k\n",
    "    x<-rep(0,n)\n",
    "    xt<-r.disc.rv(1,s,d)\n",
    "    for (t in 1:n){\n",
    "        x[t]<-xt \n",
    "        xt<-r.disc.rv(1,s,P[xt,])\n",
    "        }\n",
    "    return(x)\n",
    "    }"
   ]
  },
  {
   "cell_type": "markdown",
   "metadata": {},
   "source": [
    "#### Exercise\n",
    "\n",
    "Compute and plot trajectories of the Markov chains in the examples above."
   ]
  },
  {
   "cell_type": "code",
   "execution_count": 14,
   "metadata": {},
   "outputs": [
    {
     "data": {
      "image/png": "[encoded data removed]",
      "text/plain": [
       "plot without title"
      ]
     },
     "metadata": {},
     "output_type": "display_data"
    }
   ],
   "source": [
    "#\n",
    "# Insert here your code\n",
    "#\n",
    "# Example, with Ehrenfest Markov chain\n",
    "#\n",
    "#~ P<-matrix(c(0,1/3,0,0,1,0,2/3,0,0,2/3,0,1,0,0,1/3,0).nrowm()\n",
    "#~ plot(1:100,r.traj(100,c(1,0,0,0),P,\"l\",col=\"red\",ylab=\"\")\n",
    "plot(1:100,r.traj(100,c(1,rep(0,10)),Ehrenfest.P(10)),\"l\",col=\"red\",ylab=\"\")"
   ]
  },
  {
   "cell_type": "markdown",
   "metadata": {},
   "source": [
    "#### Exercise\n",
    "\n",
    "Write a code to simulate a number $N$ of length $n$ trajectories of a Markov chain with initial probabilities vector $d$ and transition matrix $P$."
   ]
  },
  {
   "cell_type": "code",
   "execution_count": 15,
   "metadata": {},
   "outputs": [],
   "source": [
    "#\n",
    "# Insert here your code\n",
    "#"
   ]
  },
  {
   "cell_type": "markdown",
   "metadata": {},
   "source": [
    "#### Exercise\n",
    "\n",
    "Apply the code to simulate $N$ trajectories of a Markov chain to check experimentally that, indeed, after a long time the distribution of states in each of the examples above (Weather in Tel Aviv, in the Land of Oz, Ehrenfest model, drunkard's walk) approximates a stationary distribution."
   ]
  },
  {
   "cell_type": "code",
   "execution_count": 15,
   "metadata": {},
   "outputs": [],
   "source": [
    "#\n",
    "# Insert here your code\n",
    "#"
   ]
  },
  {
   "cell_type": "markdown",
   "metadata": {},
   "source": [
    "#### Exercise\n",
    "\n",
    "Apply the code to simulate $N$ trajectories of a Markov chain to estimate the number of steps the drunkard needs to reach one of the extreme pubs."
   ]
  },
  {
   "cell_type": "code",
   "execution_count": 16,
   "metadata": {},
   "outputs": [],
   "source": [
    "#\n",
    "# Insert here your code\n",
    "#"
   ]
  },
  {
   "cell_type": "markdown",
   "metadata": {},
   "source": [
    "#### Exercise\n",
    "\n",
    "Apply the code to simulate $N$ trajectories of a Markov chain to estimate the time needed _(mixing time)_ to obtain a sufficiently good approximation to the limit distribution."
   ]
  },
  {
   "cell_type": "code",
   "execution_count": 17,
   "metadata": {},
   "outputs": [],
   "source": [
    "#\n",
    "# Insert here your code\n",
    "#"
   ]
  },
  {
   "cell_type": "markdown",
   "metadata": {},
   "source": [
    "## Reversible Markov chains"
   ]
  },
  {
   "cell_type": "code",
   "execution_count": 18,
   "metadata": {},
   "outputs": [
    {
     "data": {
      "text/html": [
       "<table>\n",
       "<tbody>\n",
       "\t<tr><td>0.0  </td><td>1.000</td><td>0.000</td></tr>\n",
       "\t<tr><td>0.5  </td><td>0.000</td><td>0.500</td></tr>\n",
       "\t<tr><td>0.0  </td><td>0.333</td><td>0.667</td></tr>\n",
       "</tbody>\n",
       "</table>\n"
      ],
      "text/latex": [
       "\\begin{tabular}{lll}\n",
       "\t 0.0   & 1.000 & 0.000\\\\\n",
       "\t 0.5   & 0.000 & 0.500\\\\\n",
       "\t 0.0   & 0.333 & 0.667\\\\\n",
       "\\end{tabular}\n"
      ],
      "text/markdown": [
       "\n",
       "| 0.0   | 1.000 | 0.000 | \n",
       "| 0.5   | 0.000 | 0.500 | \n",
       "| 0.0   | 0.333 | 0.667 | \n",
       "\n",
       "\n"
      ],
      "text/plain": [
       "     [,1] [,2]  [,3] \n",
       "[1,] 0.0  1.000 0.000\n",
       "[2,] 0.5  0.000 0.500\n",
       "[3,] 0.0  0.333 0.667"
      ]
     },
     "metadata": {},
     "output_type": "display_data"
    }
   ],
   "source": [
    "P<-matrix(c(0,0.5,0,1,0,1/3,0,1/2,2/3),nrow=3)\n",
    "round(P,3)"
   ]
  },
  {
   "cell_type": "code",
   "execution_count": 19,
   "metadata": {},
   "outputs": [
    {
     "data": {
      "text/html": [
       "<ol class=list-inline>\n",
       "\t<li>0.167</li>\n",
       "\t<li>0.333</li>\n",
       "\t<li>0.5</li>\n",
       "</ol>\n"
      ],
      "text/latex": [
       "\\begin{enumerate*}\n",
       "\\item 0.167\n",
       "\\item 0.333\n",
       "\\item 0.5\n",
       "\\end{enumerate*}\n"
      ],
      "text/markdown": [
       "1. 0.167\n",
       "2. 0.333\n",
       "3. 0.5\n",
       "\n",
       "\n"
      ],
      "text/plain": [
       "[1] 0.167 0.333 0.500"
      ]
     },
     "metadata": {},
     "output_type": "display_data"
    }
   ],
   "source": [
    "limit.pmf<-function(P){\n",
    "    epsilon<-1.0e-10\n",
    "    eP<-eigen(P)\n",
    "    U<-eP$vectors\n",
    "    d<-eP$values\n",
    "    j<-which(abs(d-1)<epsilon)  \t# Find eigenvalue == 1\n",
    "    U1<-solve(U)                \t# Inverse matrix\n",
    "    v<-U1[j,]\n",
    "    p.inf<-v/sum(v)\n",
    "    return(p.inf)\n",
    "    }\n",
    "p<-limit.pmf(P)\n",
    "round(p,3)"
   ]
  },
  {
   "cell_type": "markdown",
   "metadata": {},
   "source": [
    "Check that this chain is reversible with respect to $p$"
   ]
  },
  {
   "cell_type": "code",
   "execution_count": 20,
   "metadata": {},
   "outputs": [
    {
     "data": {
      "text/html": [
       "<table>\n",
       "<tbody>\n",
       "\t<tr><td>0.0  </td><td>1.000</td><td>0.000</td></tr>\n",
       "\t<tr><td>0.5  </td><td>0.000</td><td>0.500</td></tr>\n",
       "\t<tr><td>0.0  </td><td>0.333</td><td>0.667</td></tr>\n",
       "</tbody>\n",
       "</table>\n"
      ],
      "text/latex": [
       "\\begin{tabular}{lll}\n",
       "\t 0.0   & 1.000 & 0.000\\\\\n",
       "\t 0.5   & 0.000 & 0.500\\\\\n",
       "\t 0.0   & 0.333 & 0.667\\\\\n",
       "\\end{tabular}\n"
      ],
      "text/markdown": [
       "\n",
       "| 0.0   | 1.000 | 0.000 | \n",
       "| 0.5   | 0.000 | 0.500 | \n",
       "| 0.0   | 0.333 | 0.667 | \n",
       "\n",
       "\n"
      ],
      "text/plain": [
       "     [,1] [,2]  [,3] \n",
       "[1,] 0.0  1.000 0.000\n",
       "[2,] 0.5  0.000 0.500\n",
       "[3,] 0.0  0.333 0.667"
      ]
     },
     "metadata": {},
     "output_type": "display_data"
    }
   ],
   "source": [
    "P.tilde<-diag(1/p)%*%t(P)%*%diag(p)\n",
    "round(P.tilde,3)"
   ]
  }
 ],
 "metadata": {
  "kernelspec": {
   "display_name": "R",
   "language": "R",
   "name": "ir"
  },
  "language_info": {
   "codemirror_mode": "r",
   "file_extension": ".r",
   "mimetype": "text/x-r-source",
   "name": "R",
   "pygments_lexer": "r",
   "version": "3.4.3"
  }
 },
 "nbformat": 4,
 "nbformat_minor": 2
}
