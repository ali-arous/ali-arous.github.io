{
 "cells": [
  {
   "cell_type": "markdown",
   "metadata": {},
   "source": [
    "# Metropolis-Hastings 02b"
   ]
  },
  {
   "cell_type": "markdown",
   "metadata": {},
   "source": [
    "#### Josep Fortiana 2018-11-28"
   ]
  },
  {
   "cell_type": "markdown",
   "metadata": {},
   "source": [
    "## Exercise 2"
   ]
  },
  {
   "cell_type": "markdown",
   "metadata": {},
   "source": [
    "Prepare and run a Metropolis-Hastings MCMC simulation for a simple least squares regression model.\n",
    "\n",
    "This exercise closely follows the explanatory text and R scripts in [Florian Hartig's blog.](https://theoreticalecology.wordpress.com/2010/09/17/metropolis-hastings-mcmc-in-r/)\n",
    "\n",
    "It is advisable to work in parallel, performing computations here and reading the blog explanations.\n",
    "\n",
    "Warning: I switched labels `a` and `b` for intercept and slope from Hartig's notation."
   ]
  },
  {
   "cell_type": "markdown",
   "metadata": {
    "collapsed": true
   },
   "source": [
    "#### Creating test data"
   ]
  },
  {
   "cell_type": "code",
   "execution_count": 1,
   "metadata": {},
   "outputs": [
    {
     "data": {
      "image/png": "[encoded data removed]",
      "text/plain": [
       "Plot with title \"Test Data\""
      ]
     },
     "metadata": {},
     "output_type": "display_data"
    }
   ],
   "source": [
    "set.seed(24025)\n",
    "trueA<-0  # R notation for abline: b is the slope\n",
    "trueB<-5\n",
    "trueSd<-10\n",
    "sampleSize<-31\n",
    "# create independent x-values \n",
    "x<-(-(sampleSize-1)/2):((sampleSize-1)/2)\n",
    "# create dependent values according to a + b*x + N(0,sd)\n",
    "y<-trueA+trueB*x+rnorm(n=sampleSize,mean=0,sd=trueSd)\n",
    "plot(x,y,pch='+',col=\"blue\",main=\"Test Data\")\n",
    "abline(trueA,trueB,lwd=2.5,col=\"cyan\")"
   ]
  },
  {
   "cell_type": "markdown",
   "metadata": {},
   "source": [
    "#### Adjust a classical linear model\n",
    "\n",
    "Assuming the common standard deviation is a known constant."
   ]
  },
  {
   "cell_type": "code",
   "execution_count": 2,
   "metadata": {},
   "outputs": [
    {
     "data": {
      "text/plain": [
       "\n",
       "Call:\n",
       "lm(formula = y ~ x)\n",
       "\n",
       "Residuals:\n",
       "    Min      1Q  Median      3Q     Max \n",
       "-12.743  -7.732  -0.552   5.520  20.432 \n",
       "\n",
       "Coefficients:\n",
       "            Estimate Std. Error t value Pr(>|t|)    \n",
       "(Intercept)   1.2031     1.6579   0.726    0.474    \n",
       "x             4.7915     0.1854  25.851   <2e-16 ***\n",
       "---\n",
       "Signif. codes:  0 '***' 0.001 '**' 0.01 '*' 0.05 '.' 0.1 ' ' 1\n",
       "\n",
       "Residual standard error: 9.231 on 29 degrees of freedom\n",
       "Multiple R-squared:  0.9584,\tAdjusted R-squared:  0.957 \n",
       "F-statistic: 668.3 on 1 and 29 DF,  p-value: < 2.2e-16\n"
      ]
     },
     "metadata": {},
     "output_type": "display_data"
    },
    {
     "data": {
      "text/html": [
       "<table>\n",
       "<thead><tr><th></th><th scope=col>Df</th><th scope=col>Sum Sq</th><th scope=col>Mean Sq</th><th scope=col>F value</th><th scope=col>Pr(&gt;F)</th></tr></thead>\n",
       "<tbody>\n",
       "\t<tr><th scope=row>x</th><td> 1          </td><td>56938.147   </td><td>56938.14661 </td><td>668.2632    </td><td>1.416233e-21</td></tr>\n",
       "\t<tr><th scope=row>Residuals</th><td>29          </td><td> 2470.892   </td><td>   85.20318 </td><td>      NA    </td><td>          NA</td></tr>\n",
       "</tbody>\n",
       "</table>\n"
      ],
      "text/latex": [
       "\\begin{tabular}{r|lllll}\n",
       "  & Df & Sum Sq & Mean Sq & F value & Pr(>F)\\\\\n",
       "\\hline\n",
       "\tx &  1           & 56938.147    & 56938.14661  & 668.2632     & 1.416233e-21\\\\\n",
       "\tResiduals & 29           &  2470.892    &    85.20318  &       NA     &           NA\\\\\n",
       "\\end{tabular}\n"
      ],
      "text/markdown": [
       "\n",
       "| <!--/--> | Df | Sum Sq | Mean Sq | F value | Pr(>F) | \n",
       "|---|---|\n",
       "| x |  1           | 56938.147    | 56938.14661  | 668.2632     | 1.416233e-21 | \n",
       "| Residuals | 29           |  2470.892    |    85.20318  |       NA     |           NA | \n",
       "\n",
       "\n"
      ],
      "text/plain": [
       "          Df Sum Sq    Mean Sq     F value  Pr(>F)      \n",
       "x          1 56938.147 56938.14661 668.2632 1.416233e-21\n",
       "Residuals 29  2470.892    85.20318       NA           NA"
      ]
     },
     "metadata": {},
     "output_type": "display_data"
    },
    {
     "data": {
      "text/html": [
       "'Estimated intercept = 1.203000'"
      ],
      "text/latex": [
       "'Estimated intercept = 1.203000'"
      ],
      "text/markdown": [
       "'Estimated intercept = 1.203000'"
      ],
      "text/plain": [
       "[1] \"Estimated intercept = 1.203000\""
      ]
     },
     "metadata": {},
     "output_type": "display_data"
    },
    {
     "data": {
      "text/html": [
       "'Estimated slope = 4.792000'"
      ],
      "text/latex": [
       "'Estimated slope = 4.792000'"
      ],
      "text/markdown": [
       "'Estimated slope = 4.792000'"
      ],
      "text/plain": [
       "[1] \"Estimated slope = 4.792000\""
      ]
     },
     "metadata": {},
     "output_type": "display_data"
    },
    {
     "data": {
      "text/html": [
       "'Estimated std. deviation = 9.231000'"
      ],
      "text/latex": [
       "'Estimated std. deviation = 9.231000'"
      ],
      "text/markdown": [
       "'Estimated std. deviation = 9.231000'"
      ],
      "text/plain": [
       "[1] \"Estimated std. deviation = 9.231000\""
      ]
     },
     "metadata": {},
     "output_type": "display_data"
    },
    {
     "data": {
      "image/png": "[encoded data removed]",
      "text/plain": [
       "Plot with title \"Test Data\""
      ]
     },
     "metadata": {},
     "output_type": "display_data"
    }
   ],
   "source": [
    "lm.1<-lm(y~x)\n",
    "plot(x,y,pch='+',col=\"blue\",main=\"Test Data\")\n",
    "abline(trueA,trueB,lwd=2.5,col=\"cyan\")\n",
    "abline(lm.1,lwd=2.5,col=\"blue\")\n",
    "legend(\"topleft\",c(\"Generating line\",\"Regression line\"), lwd=2.5,col=c(\"cyan\",\"blue\"))\n",
    "summary(lm.1)\n",
    "a.hat<-as.numeric(lm.1$coefficients[1])\n",
    "b.hat<-as.numeric(lm.1$coefficients[2])\n",
    "lm.1.anova<-anova(lm.1)\n",
    "lm.1.anova\n",
    "# str(lm.1.anova)\n",
    "sigma2.hat<-lm.1.anova$Sum[2]/lm.1.anova$Df[2]\n",
    "sigma.hat<-sqrt(sigma2.hat)\n",
    "sprintf(\"Estimated intercept = %f\",round(a.hat,3))\n",
    "sprintf(\"Estimated slope = %f\",round(b.hat,3))\n",
    "sprintf(\"Estimated std. deviation = %f\",round(sigma.hat,3))"
   ]
  },
  {
   "cell_type": "markdown",
   "metadata": {},
   "source": [
    "## Stan implementation"
   ]
  },
  {
   "cell_type": "code",
   "execution_count": 5,
   "metadata": {},
   "outputs": [
    {
     "name": "stderr",
     "output_type": "stream",
     "text": [
      "Loading required package: rstan\n",
      "Loading required package: ggplot2\n",
      "Loading required package: StanHeaders\n",
      "rstan (Version 2.17.3, GitRev: 2e1f913d3ca3)\n",
      "For execution on a local, multicore CPU with excess RAM we recommend calling\n",
      "options(mc.cores = parallel::detectCores()).\n",
      "To avoid recompilation of unchanged Stan programs, we recommend calling\n",
      "rstan_options(auto_write = TRUE)\n"
     ]
    }
   ],
   "source": [
    "#install.packages(\"rstan\", repos= \"https://cloud.r-project.org\")\n",
    "# For execution on a local, multicore CPU with excess RAM we recommend calling\n",
    "options(mc.cores = parallel::detectCores())\n",
    "require(rstan)\n",
    "# To avoid recompilation of unchanged Stan programs, we recommend calling\n",
    "rstan_options(auto_write = TRUE)"
   ]
  },
  {
   "cell_type": "code",
   "execution_count": 19,
   "metadata": {},
   "outputs": [],
   "source": [
    "# prior for a has sd=5, that is, precision 1/5^2 = 0.04\n",
    "# Likelihood, for each observation \n",
    "# Priors: normal priors for a, uniform for b and sigma, as above:\n",
    "simple.regression.stan.model<-\"\n",
    "    data{\n",
    "    int<lower=1> N;\n",
    "    vector[N] x; \n",
    "    vector[N] y; \n",
    "    }\n",
    "    parameters{\n",
    "    real a;\n",
    "    real b;\n",
    "    real<lower=0> sigma;\n",
    "    }\n",
    "    model{ \n",
    "        vector[N] y_hat;\n",
    "        y_hat=a+b*x; \n",
    "        # Likelihood   \n",
    "        y~normal(y_hat,sigma);\n",
    "        # Prior \n",
    "        a~normal(0,5);\n",
    "        b~uniform(0,10); \n",
    "        sigma~uniform(0,30);\n",
    "        }\n",
    "\"\n",
    "cat(simple.regression.stan.model,file=\"simple.regression.stan\")"
   ]
  },
  {
   "cell_type": "code",
   "execution_count": 20,
   "metadata": {},
   "outputs": [],
   "source": [
    "N<-sampleSize\n",
    "simple.regression.stan.dat<-list(y = y, x = x, N = N)"
   ]
  },
  {
   "cell_type": "code",
   "execution_count": 21,
   "metadata": {},
   "outputs": [
    {
     "data": {
      "text/html": [
       "3500"
      ],
      "text/latex": [
       "3500"
      ],
      "text/markdown": [
       "3500"
      ],
      "text/plain": [
       "[1] 3500"
      ]
     },
     "metadata": {},
     "output_type": "display_data"
    }
   ],
   "source": [
    "nChains<-3\n",
    "burnInSteps<-1500\n",
    "numSavedSteps<-6000  #across all chains\n",
    "nIter<-ceiling(burnInSteps + numSavedSteps/nChains)\n",
    "nIter"
   ]
  },
  {
   "cell_type": "code",
   "execution_count": 26,
   "metadata": {},
   "outputs": [
    {
     "name": "stderr",
     "output_type": "stream",
     "text": [
      "Warning message in readLines(file, warn = TRUE):\n",
      "\"incomplete final line found on 'C:\\josepf\\text\\classes\\Bayes\\2018-2019\\TeX\\Slides\\10.Metropolis-Hastings\\Notebook\\simple.regression.stan'\"hash mismatch so recompiling; make sure Stan code ends with a blank line\n"
     ]
    },
    {
     "name": "stdout",
     "output_type": "stream",
     "text": [
      "In file included from C:/Users/Josep/Documents/R/win-library/3.5/BH/include/boost/config.hpp:39:0,\n",
      "                 from C:/Users/Josep/Documents/R/win-library/3.5/BH/include/boost/math/tools/config.hpp:13,\n",
      "                 from C:/Users/Josep/Documents/R/win-library/3.5/StanHeaders/include/stan/math/rev/core/var.hpp:7,\n",
      "                 from C:/Users/Josep/Documents/R/win-library/3.5/StanHeaders/include/stan/math/rev/core/gevv_vvv_vari.hpp:5,\n",
      "                 from C:/Users/Josep/Documents/R/win-library/3.5/StanHeaders/include/stan/math/rev/core.hpp:12,\n",
      "                 from C:/Users/Josep/Documents/R/win-library/3.5/StanHeaders/include/stan/math/rev/mat.hpp:4,\n",
      "                 from C:/Users/Josep/Documents/R/win-library/3.5/StanHeaders/include/stan/math.hpp:4,\n",
      "                 from C:/Users/Josep/Documents/R/win-library/3.5/StanHeaders/include/src/stan/model/model_header.hpp:4,\n",
      "                 from file467c567b50dc.cpp:8:\n",
      "C:/Users/Josep/Documents/R/win-library/3.5/BH/include/boost/config/compiler/gcc.hpp:186:0: warning: \"BOOST_NO_CXX11_RVALUE_REFERENCES\" redefined\n",
      " #  define BOOST_NO_CXX11_RVALUE_REFERENCES\n",
      " ^\n",
      "<command-line>:0:0: note: this is the location of the previous definition\n",
      "In file included from C:/Users/Josep/Documents/R/win-library/3.5/StanHeaders/include/stan/math/rev/core.hpp:44:0,\n",
      "                 from C:/Users/Josep/Documents/R/win-library/3.5/StanHeaders/include/stan/math/rev/mat.hpp:4,\n",
      "                 from C:/Users/Josep/Documents/R/win-library/3.5/StanHeaders/include/stan/math.hpp:4,\n",
      "                 from C:/Users/Josep/Documents/R/win-library/3.5/StanHeaders/include/src/stan/model/model_header.hpp:4,\n",
      "                 from file467c567b50dc.cpp:8:\n",
      "C:/Users/Josep/Documents/R/win-library/3.5/StanHeaders/include/stan/math/rev/core/set_zero_all_adjoints.hpp:14:17: warning: 'void stan::math::set_zero_all_adjoints()' defined but not used [-Wunused-function]\n",
      "     static void set_zero_all_adjoints() {\n",
      "                 ^\n"
     ]
    }
   ],
   "source": [
    "simple.regression.stan.m1<-stan(file=\"simple.regression.stan\",\n",
    "                                data=simple.regression.stan.dat, \n",
    "                                chains=nChains,\n",
    "                                iter=nIter,\n",
    "                                warmup = burnInSteps,\n",
    "                                control=list(max_treedepth=15), # added after warning\n",
    "                                save_dso=TRUE)"
   ]
  },
  {
   "cell_type": "code",
   "execution_count": 27,
   "metadata": {},
   "outputs": [
    {
     "name": "stdout",
     "output_type": "stream",
     "text": [
      "Formal class 'stanfit' [package \"rstan\"] with 10 slots\n",
      "  ..@ model_name: chr \"simple\"\n",
      "  ..@ model_pars: chr [1:4] \"a\" \"b\" \"sigma\" \"lp__\"\n",
      "  ..@ par_dims  :List of 4\n",
      "  .. ..$ a    : num(0) \n",
      "  .. ..$ b    : num(0) \n",
      "  .. ..$ sigma: num(0) \n",
      "  .. ..$ lp__ : num(0) \n",
      "  ..@ mode      : int 0\n",
      "  ..@ sim       :List of 12\n",
      "  .. ..$ samples    :List of 3\n",
      "  .. .. ..$ :List of 4\n",
      "  .. .. .. ..$ a    : num [1:3500] -0.439 -0.439 -0.439 -0.439 -0.414 ...\n",
      "  .. .. .. ..$ b    : num [1:3500] 1.49 1.49 1.49 1.49 1.53 ...\n",
      "  .. .. .. ..$ sigma: num [1:3500] 4.67 4.67 4.67 4.67 5.87 ...\n",
      "  .. .. .. ..$ lp__ : num [1:3500] -723 -723 -723 -723 -473 ...\n",
      "  .. .. .. ..- attr(*, \"test_grad\")= logi FALSE\n",
      "  .. .. .. ..- attr(*, \"args\")=List of 16\n",
      "  .. .. .. .. ..$ append_samples    : logi FALSE\n",
      "  .. .. .. .. ..$ chain_id          : num 1\n",
      "  .. .. .. .. ..$ control           :List of 12\n",
      "  .. .. .. .. .. ..$ adapt_delta      : num 0.8\n",
      "  .. .. .. .. .. ..$ adapt_engaged    : logi TRUE\n",
      "  .. .. .. .. .. ..$ adapt_gamma      : num 0.05\n",
      "  .. .. .. .. .. ..$ adapt_init_buffer: num 75\n",
      "  .. .. .. .. .. ..$ adapt_kappa      : num 0.75\n",
      "  .. .. .. .. .. ..$ adapt_t0         : num 10\n",
      "  .. .. .. .. .. ..$ adapt_term_buffer: num 50\n",
      "  .. .. .. .. .. ..$ adapt_window     : num 25\n",
      "  .. .. .. .. .. ..$ max_treedepth    : int 15\n",
      "  .. .. .. .. .. ..$ metric           : chr \"diag_e\"\n",
      "  .. .. .. .. .. ..$ stepsize         : num 1\n",
      "  .. .. .. .. .. ..$ stepsize_jitter  : num 0\n",
      "  .. .. .. .. ..$ enable_random_init: logi TRUE\n",
      "  .. .. .. .. ..$ init              : chr \"random\"\n",
      "  .. .. .. .. ..$ init_list         : NULL\n",
      "  .. .. .. .. ..$ init_radius       : num 2\n",
      "  .. .. .. .. ..$ iter              : int 3500\n",
      "  .. .. .. .. ..$ method            : chr \"sampling\"\n",
      "  .. .. .. .. ..$ random_seed       : chr \"1525450561\"\n",
      "  .. .. .. .. ..$ refresh           : int 350\n",
      "  .. .. .. .. ..$ sampler_t         : chr \"NUTS(diag_e)\"\n",
      "  .. .. .. .. ..$ save_warmup       : logi TRUE\n",
      "  .. .. .. .. ..$ test_grad         : logi FALSE\n",
      "  .. .. .. .. ..$ thin              : int 1\n",
      "  .. .. .. .. ..$ warmup            : int 1500\n",
      "  .. .. .. ..- attr(*, \"inits\")= num [1:3] -0.449 1.306 2.38\n",
      "  .. .. .. ..- attr(*, \"mean_pars\")= num [1:3] 1.12 4.79 9.64\n",
      "  .. .. .. ..- attr(*, \"mean_lp__\")= num -82.8\n",
      "  .. .. .. ..- attr(*, \"adaptation_info\")= chr \"# Adaptation terminated\\n# Step size = 0.763195\\n# Diagonal elements of inverse mass matrix:\\n# 2.70437, 0.0394115, 0.017763\\n\"\n",
      "  .. .. .. ..- attr(*, \"elapsed_time\")= Named num [1:2] 0.078 0.188\n",
      "  .. .. .. .. ..- attr(*, \"names\")= chr [1:2] \"warmup\" \"sample\"\n",
      "  .. .. .. ..- attr(*, \"sampler_params\")=List of 6\n",
      "  .. .. .. .. ..$ accept_stat__: num [1:3500] 1 0 0 0 1 ...\n",
      "  .. .. .. .. ..$ stepsize__   : num [1:3500] 0.0156 14.3855 2.4312 0.2398 0.0186 ...\n",
      "  .. .. .. .. ..$ treedepth__  : num [1:3500] 2 0 0 0 1 1 2 1 2 2 ...\n",
      "  .. .. .. .. ..$ n_leapfrog__ : num [1:3500] 3 1 1 1 1 1 3 3 6 3 ...\n",
      "  .. .. .. .. ..$ divergent__  : num [1:3500] 0 1 1 1 0 0 0 1 1 0 ...\n",
      "  .. .. .. .. ..$ energy__     : num [1:3500] 2265 723 723 723 679 ...\n",
      "  .. .. .. ..- attr(*, \"return_code\")= int 0\n",
      "  .. .. ..$ :List of 4\n",
      "  .. .. .. ..$ a    : num [1:3500] -1.2 -1.2 -1.2 -1.2 -1.18 ...\n",
      "  .. .. .. ..$ b    : num [1:3500] 1.25 1.25 1.25 1.25 1.44 ...\n",
      "  .. .. .. ..$ sigma: num [1:3500] 2.69 2.69 2.69 2.69 6.02 ...\n",
      "  .. .. .. ..$ lp__ : num [1:3500] -2355 -2355 -2355 -2355 -475 ...\n",
      "  .. .. .. ..- attr(*, \"test_grad\")= logi FALSE\n",
      "  .. .. .. ..- attr(*, \"args\")=List of 16\n",
      "  .. .. .. .. ..$ append_samples    : logi FALSE\n",
      "  .. .. .. .. ..$ chain_id          : num 2\n",
      "  .. .. .. .. ..$ control           :List of 12\n",
      "  .. .. .. .. .. ..$ adapt_delta      : num 0.8\n",
      "  .. .. .. .. .. ..$ adapt_engaged    : logi TRUE\n",
      "  .. .. .. .. .. ..$ adapt_gamma      : num 0.05\n",
      "  .. .. .. .. .. ..$ adapt_init_buffer: num 75\n",
      "  .. .. .. .. .. ..$ adapt_kappa      : num 0.75\n",
      "  .. .. .. .. .. ..$ adapt_t0         : num 10\n",
      "  .. .. .. .. .. ..$ adapt_term_buffer: num 50\n",
      "  .. .. .. .. .. ..$ adapt_window     : num 25\n",
      "  .. .. .. .. .. ..$ max_treedepth    : int 15\n",
      "  .. .. .. .. .. ..$ metric           : chr \"diag_e\"\n",
      "  .. .. .. .. .. ..$ stepsize         : num 1\n",
      "  .. .. .. .. .. ..$ stepsize_jitter  : num 0\n",
      "  .. .. .. .. ..$ enable_random_init: logi TRUE\n",
      "  .. .. .. .. ..$ init              : chr \"random\"\n",
      "  .. .. .. .. ..$ init_list         : NULL\n",
      "  .. .. .. .. ..$ init_radius       : num 2\n",
      "  .. .. .. .. ..$ iter              : int 3500\n",
      "  .. .. .. .. ..$ method            : chr \"sampling\"\n",
      "  .. .. .. .. ..$ random_seed       : chr \"1525450561\"\n",
      "  .. .. .. .. ..$ refresh           : int 350\n",
      "  .. .. .. .. ..$ sampler_t         : chr \"NUTS(diag_e)\"\n",
      "  .. .. .. .. ..$ save_warmup       : logi TRUE\n",
      "  .. .. .. .. ..$ test_grad         : logi FALSE\n",
      "  .. .. .. .. ..$ thin              : int 1\n",
      "  .. .. .. .. ..$ warmup            : int 1500\n",
      "  .. .. .. ..- attr(*, \"inits\")= num [1:3] -1.19 1.05 1.16\n",
      "  .. .. .. ..- attr(*, \"mean_pars\")= num [1:3] 1.17 4.79 9.64\n",
      "  .. .. .. ..- attr(*, \"mean_lp__\")= num -82.8\n",
      "  .. .. .. ..- attr(*, \"adaptation_info\")= chr \"# Adaptation terminated\\n# Step size = 0.698341\\n# Diagonal elements of inverse mass matrix:\\n# 2.83133, 0.0362002, 0.018322\\n\"\n",
      "  .. .. .. ..- attr(*, \"elapsed_time\")= Named num [1:2] 0.078 0.078\n",
      "  .. .. .. .. ..- attr(*, \"names\")= chr [1:2] \"warmup\" \"sample\"\n",
      "  .. .. .. ..- attr(*, \"sampler_params\")=List of 6\n",
      "  .. .. .. .. ..$ accept_stat__: num [1:3500] 1 0 0 0 1 ...\n",
      "  .. .. .. .. ..$ stepsize__   : num [1:3500] 0.00781 14.38551 2.43117 0.23979 0.01863 ...\n",
      "  .. .. .. .. ..$ treedepth__  : num [1:3500] 1 0 0 0 2 1 2 1 2 2 ...\n",
      "  .. .. .. .. ..$ n_leapfrog__ : num [1:3500] 1 1 1 1 3 1 3 2 3 3 ...\n",
      "  .. .. .. .. ..$ divergent__  : num [1:3500] 0 1 1 1 0 0 0 1 0 0 ...\n",
      "  .. .. .. .. ..$ energy__     : num [1:3500] 10710 2356 2356 2358 1837 ...\n",
      "  .. .. .. ..- attr(*, \"return_code\")= int 0\n",
      "  .. .. ..$ :List of 4\n",
      "  .. .. .. ..$ a    : num [1:3500] 1.3 1.3 1.3 1.3 1.3 ...\n",
      "  .. .. .. ..$ b    : num [1:3500] 0.726 0.726 0.726 0.726 0.726 ...\n",
      "  .. .. .. ..$ sigma: num [1:3500] 1.37 1.37 1.37 1.37 1.37 ...\n",
      "  .. .. .. ..$ lp__ : num [1:3500] -11561 -11561 -11561 -11561 -11561 ...\n",
      "  .. .. .. ..- attr(*, \"test_grad\")= logi FALSE\n",
      "  .. .. .. ..- attr(*, \"args\")=List of 16\n",
      "  .. .. .. .. ..$ append_samples    : logi FALSE\n",
      "  .. .. .. .. ..$ chain_id          : num 3\n",
      "  .. .. .. .. ..$ control           :List of 12\n",
      "  .. .. .. .. .. ..$ adapt_delta      : num 0.8\n",
      "  .. .. .. .. .. ..$ adapt_engaged    : logi TRUE\n",
      "  .. .. .. .. .. ..$ adapt_gamma      : num 0.05\n",
      "  .. .. .. .. .. ..$ adapt_init_buffer: num 75\n",
      "  .. .. .. .. .. ..$ adapt_kappa      : num 0.75\n",
      "  .. .. .. .. .. ..$ adapt_t0         : num 10\n",
      "  .. .. .. .. .. ..$ adapt_term_buffer: num 50\n",
      "  .. .. .. .. .. ..$ adapt_window     : num 25\n",
      "  .. .. .. .. .. ..$ max_treedepth    : int 15\n",
      "  .. .. .. .. .. ..$ metric           : chr \"diag_e\"\n",
      "  .. .. .. .. .. ..$ stepsize         : num 1\n",
      "  .. .. .. .. .. ..$ stepsize_jitter  : num 0\n",
      "  .. .. .. .. ..$ enable_random_init: logi TRUE\n",
      "  .. .. .. .. ..$ init              : chr \"random\"\n",
      "  .. .. .. .. ..$ init_list         : NULL\n",
      "  .. .. .. .. ..$ init_radius       : num 2\n",
      "  .. .. .. .. ..$ iter              : int 3500\n",
      "  .. .. .. .. ..$ method            : chr \"sampling\"\n",
      "  .. .. .. .. ..$ random_seed       : chr \"1525450561\"\n",
      "  .. .. .. .. ..$ refresh           : int 350\n",
      "  .. .. .. .. ..$ sampler_t         : chr \"NUTS(diag_e)\"\n",
      "  .. .. .. .. ..$ save_warmup       : logi TRUE\n",
      "  .. .. .. .. ..$ test_grad         : logi FALSE\n",
      "  .. .. .. .. ..$ thin              : int 1\n",
      "  .. .. .. .. ..$ warmup            : int 1500\n",
      "  .. .. .. ..- attr(*, \"inits\")= num [1:3] 1.307 0.607 0.846\n",
      "  .. .. .. ..- attr(*, \"mean_pars\")= num [1:3] 1.03 4.78 9.67\n",
      "  .. .. .. ..- attr(*, \"mean_lp__\")= num -82.8\n",
      "  .. .. .. ..- attr(*, \"adaptation_info\")= chr \"# Adaptation terminated\\n# Step size = 0.747045\\n# Diagonal elements of inverse mass matrix:\\n# 2.65187, 0.0399\"| __truncated__\n",
      "  .. .. .. ..- attr(*, \"elapsed_time\")= Named num [1:2] 0.063 0.109\n",
      "  .. .. .. .. ..- attr(*, \"names\")= chr [1:2] \"warmup\" \"sample\"\n",
      "  .. .. .. ..- attr(*, \"sampler_params\")=List of 6\n",
      "  .. .. .. .. ..$ accept_stat__: num [1:3500] 1 0 0 0 0 1 1 1 1 1 ...\n",
      "  .. .. .. .. ..$ stepsize__   : num [1:3500] 0.00391 14.38551 2.43117 0.23979 0.01863 ...\n",
      "  .. .. .. .. ..$ treedepth__  : num [1:3500] 1 0 0 0 0 3 1 2 1 1 ...\n",
      "  .. .. .. .. ..$ n_leapfrog__ : num [1:3500] 1 1 1 1 1 7 1 3 1 1 ...\n",
      "  .. .. .. .. ..$ divergent__  : num [1:3500] 0 1 1 1 1 0 0 0 0 0 ...\n",
      "  .. .. .. .. ..$ energy__     : num [1:3500] 26625 11563 11562 11563 11562 ...\n",
      "  .. .. .. ..- attr(*, \"return_code\")= int 0\n",
      "  .. ..$ chains     : int 3\n",
      "  .. ..$ iter       : num 3500\n",
      "  .. ..$ thin       : num 1\n",
      "  .. ..$ warmup     : num 1500\n",
      "  .. ..$ n_save     : num [1:3] 3500 3500 3500\n",
      "  .. ..$ warmup2    : num [1:3] 1500 1500 1500\n",
      "  .. ..$ permutation:List of 3\n",
      "  .. .. ..$ : int [1:2000] 1196 1601 180 424 67 849 389 548 1468 1886 ...\n",
      "  .. .. ..$ : int [1:2000] 917 697 403 1358 1807 1826 1293 1922 1140 10 ...\n",
      "  .. .. ..$ : int [1:2000] 905 1634 1615 1893 1512 434 1611 1295 1335 121 ...\n",
      "  .. ..$ pars_oi    : chr [1:4] \"a\" \"b\" \"sigma\" \"lp__\"\n",
      "  .. ..$ dims_oi    :List of 4\n",
      "  .. .. ..$ a    : num(0) \n",
      "  .. .. ..$ b    : num(0) \n",
      "  .. .. ..$ sigma: num(0) \n",
      "  .. .. ..$ lp__ : num(0) \n",
      "  .. ..$ fnames_oi  : chr [1:4] \"a\" \"b\" \"sigma\" \"lp__\"\n",
      "  .. ..$ n_flatnames: int 4\n",
      "  ..@ inits     :List of 3\n",
      "  .. ..$ :List of 3\n",
      "  .. .. ..$ a    : num -0.449\n",
      "  .. .. ..$ b    : num 1.31\n",
      "  .. .. ..$ sigma: num 2.38\n",
      "  .. ..$ :List of 3\n",
      "  .. .. ..$ a    : num -1.19\n",
      "  .. .. ..$ b    : num 1.05\n",
      "  .. .. ..$ sigma: num 1.16\n",
      "  .. ..$ :List of 3\n",
      "  .. .. ..$ a    : num 1.31\n",
      "  .. .. ..$ b    : num 0.607\n",
      "  .. .. ..$ sigma: num 0.846\n",
      "  ..@ stan_args :List of 3\n",
      "  .. ..$ :List of 10\n",
      "  .. .. ..$ chain_id          : int 1\n",
      "  .. .. ..$ iter              : int 3500\n",
      "  .. .. ..$ thin              : int 1\n",
      "  .. .. ..$ seed              : int 1525450561\n",
      "  .. .. ..$ warmup            : num 1500\n",
      "  .. .. ..$ init              : chr \"random\"\n",
      "  .. .. ..$ algorithm         : chr \"NUTS\"\n",
      "  .. .. ..$ check_unknown_args: logi FALSE\n",
      "  .. .. ..$ method            : chr \"sampling\"\n",
      "  .. .. ..$ control           :List of 1\n",
      "  .. .. .. ..$ max_treedepth: num 15\n",
      "  .. ..$ :List of 10\n",
      "  .. .. ..$ chain_id          : int 2\n",
      "  .. .. ..$ iter              : int 3500\n",
      "  .. .. ..$ thin              : int 1\n",
      "  .. .. ..$ seed              : int 1525450561\n",
      "  .. .. ..$ warmup            : num 1500\n",
      "  .. .. ..$ init              : chr \"random\"\n",
      "  .. .. ..$ algorithm         : chr \"NUTS\"\n",
      "  .. .. ..$ check_unknown_args: logi FALSE\n",
      "  .. .. ..$ method            : chr \"sampling\"\n",
      "  .. .. ..$ control           :List of 1\n",
      "  .. .. .. ..$ max_treedepth: num 15\n",
      "  .. ..$ :List of 10\n",
      "  .. .. ..$ chain_id          : int 3\n",
      "  .. .. ..$ iter              : int 3500\n",
      "  .. .. ..$ thin              : int 1\n",
      "  .. .. ..$ seed              : int 1525450561\n",
      "  .. .. ..$ warmup            : num 1500\n",
      "  .. .. ..$ init              : chr \"random\"\n",
      "  .. .. ..$ algorithm         : chr \"NUTS\"\n",
      "  .. .. ..$ check_unknown_args: logi FALSE\n",
      "  .. .. ..$ method            : chr \"sampling\"\n",
      "  .. .. ..$ control           :List of 1\n",
      "  .. .. .. ..$ max_treedepth: num 15\n",
      "  ..@ stanmodel :Formal class 'stanmodel' [package \"rstan\"] with 5 slots\n",
      "  .. .. ..@ model_name  : chr \"simple\"\n",
      "  .. .. ..@ model_code  : chr \"    data{\\n    int<lower=1> N;\\n    vector[N] x; \\n    vector[N] y; \\n    }\\n    parameters{\\n    real a;\\n    \"| __truncated__\n",
      "  .. .. .. ..- attr(*, \"model_name2\")= chr \"simple\"\n",
      "  .. .. ..@ model_cpp   :List of 2\n",
      "  .. .. .. ..$ model_cppname: chr \"model467cf4a18b7_simple\"\n",
      "  .. .. .. ..$ model_cppcode: chr \"// Code generated by Stan version 2.17.0\\n\\n#include <stan/model/model_header.hpp>\\n\\nnamespace model467cf4a18b\"| __truncated__\n",
      "  .. .. ..@ mk_cppmodule:function (object)  \n",
      "  .. .. ..@ dso         :Formal class 'cxxdso' [package \"rstan\"] with 7 slots\n",
      "  .. .. .. .. ..@ sig         :List of 1\n",
      "  .. .. .. .. .. ..$ file467c567b50dc: chr(0) \n",
      "  .. .. .. .. ..@ dso_saved   : logi TRUE\n",
      "  .. .. .. .. ..@ dso_filename: chr \"file467c567b50dc\"\n",
      "  .. .. .. .. ..@ modulename  : chr \"stan_fit4model467cf4a18b7_simple_mod\"\n",
      "  .. .. .. .. ..@ system      : chr \"x86_64, mingw32\"\n",
      "  .. .. .. .. ..@ cxxflags    : chr \"CXXFLAGS = -O2 -Wall $(DEBUGFLAG) -mtune=core2\"\n",
      "  .. .. .. .. ..@ .CXXDSOMISC :<environment: 0x000000000a3dc478> \n",
      "  ..@ date      : chr \"Thu Nov 29 18:12:09 2018\"\n",
      "  ..@ .MISC     :<environment: 0x0000000007ad9830> \n"
     ]
    }
   ],
   "source": [
    "str(simple.regression.stan.m1)"
   ]
  },
  {
   "cell_type": "code",
   "execution_count": 28,
   "metadata": {},
   "outputs": [
    {
     "data": {
      "text/html": [
       "<dl>\n",
       "\t<dt>$summary</dt>\n",
       "\t\t<dd><table>\n",
       "<thead><tr><th></th><th scope=col>mean</th><th scope=col>se_mean</th><th scope=col>sd</th><th scope=col>2.5%</th><th scope=col>25%</th><th scope=col>50%</th><th scope=col>75%</th><th scope=col>97.5%</th><th scope=col>n_eff</th><th scope=col>Rhat</th></tr></thead>\n",
       "<tbody>\n",
       "\t<tr><th scope=row>a</th><td>  1.104827 </td><td>0.022642872</td><td>1.6237704  </td><td> -2.104943 </td><td>  0.0388746</td><td>  1.101910 </td><td>  2.187247 </td><td>  4.344854 </td><td>5142.641   </td><td>1.0016123  </td></tr>\n",
       "\t<tr><th scope=row>b</th><td>  4.788367 </td><td>0.002805459</td><td>0.1987834  </td><td>  4.394029 </td><td>  4.6645659</td><td>  4.790066 </td><td>  4.922227 </td><td>  5.180458 </td><td>5020.559   </td><td>1.0001021  </td></tr>\n",
       "\t<tr><th scope=row>sigma</th><td>  9.653291 </td><td>0.020766375</td><td>1.3705553  </td><td>  7.379669 </td><td>  8.7088007</td><td>  9.508451 </td><td> 10.418418 </td><td> 12.735621 </td><td>4355.838   </td><td>0.9999547  </td></tr>\n",
       "\t<tr><th scope=row>lp__</th><td>-82.788896 </td><td>0.025313349</td><td>1.3235786  </td><td>-86.166634 </td><td>-83.3844367</td><td>-82.454949 </td><td>-81.825132 </td><td>-81.303450 </td><td>2734.011   </td><td>0.9998678  </td></tr>\n",
       "</tbody>\n",
       "</table>\n",
       "</dd>\n",
       "\t<dt>$c_summary</dt>\n",
       "\t\t<dd><ol class=list-inline>\n",
       "\t<li>1.11659937371821</li>\n",
       "\t<li>4.79303270207951</li>\n",
       "\t<li>9.6423112301534</li>\n",
       "\t<li>-82.7848529422571</li>\n",
       "\t<li>1.61772163682594</li>\n",
       "\t<li>0.198085930872347</li>\n",
       "\t<li>1.37015942194453</li>\n",
       "\t<li>1.34598755770464</li>\n",
       "\t<li>-2.09976402634971</li>\n",
       "\t<li>4.40904633373224</li>\n",
       "\t<li>7.32381100992084</li>\n",
       "\t<li>-86.2817898947705</li>\n",
       "\t<li>0.0526671543863015</li>\n",
       "\t<li>4.66785344642201</li>\n",
       "\t<li>8.6969675030487</li>\n",
       "\t<li>-83.3635654076252</li>\n",
       "\t<li>1.10216786324168</li>\n",
       "\t<li>4.79202528006909</li>\n",
       "\t<li>9.50348128414466</li>\n",
       "\t<li>-82.441998711026</li>\n",
       "\t<li>2.18232381458642</li>\n",
       "\t<li>4.9231507317582</li>\n",
       "\t<li>10.4058296144889</li>\n",
       "\t<li>-81.8161306581718</li>\n",
       "\t<li>4.26396519280882</li>\n",
       "\t<li>5.19180605074473</li>\n",
       "\t<li>12.7057566444675</li>\n",
       "\t<li>-81.3163676917125</li>\n",
       "\t<li>1.17069533167884</li>\n",
       "\t<li>4.78970274959283</li>\n",
       "\t<li>9.64369445081155</li>\n",
       "\t<li>-82.7821150165708</li>\n",
       "\t<li>1.63228187116131</li>\n",
       "\t<li>0.197385292698858</li>\n",
       "\t<li>1.35310934748762</li>\n",
       "\t<li>1.29641783140885</li>\n",
       "\t<li>-2.0178583989114</li>\n",
       "\t<li>4.39703639647655</li>\n",
       "\t<li>7.36973767757882</li>\n",
       "\t<li>-85.9943157279048</li>\n",
       "\t<li>0.0887253781940231</li>\n",
       "\t<li>4.66320556517774</li>\n",
       "\t<li>8.71232761238088</li>\n",
       "\t<li>-83.3670358647356</li>\n",
       "\t<li>1.15526288015476</li>\n",
       "\t<li>4.79160866966477</li>\n",
       "\t<li>9.49893224755222</li>\n",
       "\t<li>-82.443375905434</li>\n",
       "\t<li>2.24603594399629</li>\n",
       "\t<li>4.9253534142377</li>\n",
       "\t<li>10.4339275228183</li>\n",
       "\t<li>-81.848799160308</li>\n",
       "\t<li>4.46868718071469</li>\n",
       "\t<li>5.16506351416028</li>\n",
       "\t<li>12.6136402610323</li>\n",
       "\t<li>-81.301087827742</li>\n",
       "\t<li>1.02718579335461</li>\n",
       "\t<li>4.78236560474384</li>\n",
       "\t<li>9.67386642638539</li>\n",
       "\t<li>-82.7997206278349</li>\n",
       "\t<li>1.61884251148955</li>\n",
       "\t<li>0.200811901484572</li>\n",
       "\t<li>1.38862038760002</li>\n",
       "\t<li>1.32844748879051</li>\n",
       "\t<li>-2.25185586980999</li>\n",
       "\t<li>4.3857643752663</li>\n",
       "\t<li>7.4432189857136</li>\n",
       "\t<li>-86.1629482489705</li>\n",
       "\t<li>-0.0513419633081338</li>\n",
       "\t<li>4.65915899405533</li>\n",
       "\t<li>8.71781095694279</li>\n",
       "\t<li>-83.404754225626</li>\n",
       "\t<li>1.04098417243932</li>\n",
       "\t<li>4.78402790979339</li>\n",
       "\t<li>9.51710451856417</li>\n",
       "\t<li>-82.4783655695302</li>\n",
       "\t<li>2.12900456129901</li>\n",
       "\t<li>4.91513071774109</li>\n",
       "\t<li>10.4171890116274</li>\n",
       "\t<li>-81.8117360067754</li>\n",
       "\t<li>4.28309573303313</li>\n",
       "\t<li>5.17488935250935</li>\n",
       "\t<li>12.9069432156815</li>\n",
       "\t<li>-81.2876340834243</li>\n",
       "</ol>\n",
       "</dd>\n",
       "</dl>\n"
      ],
      "text/latex": [
       "\\begin{description}\n",
       "\\item[\\$summary] \\begin{tabular}{r|llllllllll}\n",
       "  & mean & se\\_mean & sd & 2.5\\% & 25\\% & 50\\% & 75\\% & 97.5\\% & n\\_eff & Rhat\\\\\n",
       "\\hline\n",
       "\ta &   1.104827  & 0.022642872 & 1.6237704   &  -2.104943  &   0.0388746 &   1.101910  &   2.187247  &   4.344854  & 5142.641    & 1.0016123  \\\\\n",
       "\tb &   4.788367  & 0.002805459 & 0.1987834   &   4.394029  &   4.6645659 &   4.790066  &   4.922227  &   5.180458  & 5020.559    & 1.0001021  \\\\\n",
       "\tsigma &   9.653291  & 0.020766375 & 1.3705553   &   7.379669  &   8.7088007 &   9.508451  &  10.418418  &  12.735621  & 4355.838    & 0.9999547  \\\\\n",
       "\tlp\\_\\_ & -82.788896  & 0.025313349 & 1.3235786   & -86.166634  & -83.3844367 & -82.454949  & -81.825132  & -81.303450  & 2734.011    & 0.9998678  \\\\\n",
       "\\end{tabular}\n",
       "\n",
       "\\item[\\$c\\_summary] \\begin{enumerate*}\n",
       "\\item 1.11659937371821\n",
       "\\item 4.79303270207951\n",
       "\\item 9.6423112301534\n",
       "\\item -82.7848529422571\n",
       "\\item 1.61772163682594\n",
       "\\item 0.198085930872347\n",
       "\\item 1.37015942194453\n",
       "\\item 1.34598755770464\n",
       "\\item -2.09976402634971\n",
       "\\item 4.40904633373224\n",
       "\\item 7.32381100992084\n",
       "\\item -86.2817898947705\n",
       "\\item 0.0526671543863015\n",
       "\\item 4.66785344642201\n",
       "\\item 8.6969675030487\n",
       "\\item -83.3635654076252\n",
       "\\item 1.10216786324168\n",
       "\\item 4.79202528006909\n",
       "\\item 9.50348128414466\n",
       "\\item -82.441998711026\n",
       "\\item 2.18232381458642\n",
       "\\item 4.9231507317582\n",
       "\\item 10.4058296144889\n",
       "\\item -81.8161306581718\n",
       "\\item 4.26396519280882\n",
       "\\item 5.19180605074473\n",
       "\\item 12.7057566444675\n",
       "\\item -81.3163676917125\n",
       "\\item 1.17069533167884\n",
       "\\item 4.78970274959283\n",
       "\\item 9.64369445081155\n",
       "\\item -82.7821150165708\n",
       "\\item 1.63228187116131\n",
       "\\item 0.197385292698858\n",
       "\\item 1.35310934748762\n",
       "\\item 1.29641783140885\n",
       "\\item -2.0178583989114\n",
       "\\item 4.39703639647655\n",
       "\\item 7.36973767757882\n",
       "\\item -85.9943157279048\n",
       "\\item 0.0887253781940231\n",
       "\\item 4.66320556517774\n",
       "\\item 8.71232761238088\n",
       "\\item -83.3670358647356\n",
       "\\item 1.15526288015476\n",
       "\\item 4.79160866966477\n",
       "\\item 9.49893224755222\n",
       "\\item -82.443375905434\n",
       "\\item 2.24603594399629\n",
       "\\item 4.9253534142377\n",
       "\\item 10.4339275228183\n",
       "\\item -81.848799160308\n",
       "\\item 4.46868718071469\n",
       "\\item 5.16506351416028\n",
       "\\item 12.6136402610323\n",
       "\\item -81.301087827742\n",
       "\\item 1.02718579335461\n",
       "\\item 4.78236560474384\n",
       "\\item 9.67386642638539\n",
       "\\item -82.7997206278349\n",
       "\\item 1.61884251148955\n",
       "\\item 0.200811901484572\n",
       "\\item 1.38862038760002\n",
       "\\item 1.32844748879051\n",
       "\\item -2.25185586980999\n",
       "\\item 4.3857643752663\n",
       "\\item 7.4432189857136\n",
       "\\item -86.1629482489705\n",
       "\\item -0.0513419633081338\n",
       "\\item 4.65915899405533\n",
       "\\item 8.71781095694279\n",
       "\\item -83.404754225626\n",
       "\\item 1.04098417243932\n",
       "\\item 4.78402790979339\n",
       "\\item 9.51710451856417\n",
       "\\item -82.4783655695302\n",
       "\\item 2.12900456129901\n",
       "\\item 4.91513071774109\n",
       "\\item 10.4171890116274\n",
       "\\item -81.8117360067754\n",
       "\\item 4.28309573303313\n",
       "\\item 5.17488935250935\n",
       "\\item 12.9069432156815\n",
       "\\item -81.2876340834243\n",
       "\\end{enumerate*}\n",
       "\n",
       "\\end{description}\n"
      ],
      "text/markdown": [
       "$summary\n",
       ":   \n",
       "| <!--/--> | mean | se_mean | sd | 2.5% | 25% | 50% | 75% | 97.5% | n_eff | Rhat | \n",
       "|---|---|---|---|\n",
       "| a |   1.104827  | 0.022642872 | 1.6237704   |  -2.104943  |   0.0388746 |   1.101910  |   2.187247  |   4.344854  | 5142.641    | 1.0016123   | \n",
       "| b |   4.788367  | 0.002805459 | 0.1987834   |   4.394029  |   4.6645659 |   4.790066  |   4.922227  |   5.180458  | 5020.559    | 1.0001021   | \n",
       "| sigma |   9.653291  | 0.020766375 | 1.3705553   |   7.379669  |   8.7088007 |   9.508451  |  10.418418  |  12.735621  | 4355.838    | 0.9999547   | \n",
       "| lp__ | -82.788896  | 0.025313349 | 1.3235786   | -86.166634  | -83.3844367 | -82.454949  | -81.825132  | -81.303450  | 2734.011    | 0.9998678   | \n",
       "\n",
       "\n",
       "\n",
       "$c_summary\n",
       ":   1. 1.11659937371821\n",
       "2. 4.79303270207951\n",
       "3. 9.6423112301534\n",
       "4. -82.7848529422571\n",
       "5. 1.61772163682594\n",
       "6. 0.198085930872347\n",
       "7. 1.37015942194453\n",
       "8. 1.34598755770464\n",
       "9. -2.09976402634971\n",
       "10. 4.40904633373224\n",
       "11. 7.32381100992084\n",
       "12. -86.2817898947705\n",
       "13. 0.0526671543863015\n",
       "14. 4.66785344642201\n",
       "15. 8.6969675030487\n",
       "16. -83.3635654076252\n",
       "17. 1.10216786324168\n",
       "18. 4.79202528006909\n",
       "19. 9.50348128414466\n",
       "20. -82.441998711026\n",
       "21. 2.18232381458642\n",
       "22. 4.9231507317582\n",
       "23. 10.4058296144889\n",
       "24. -81.8161306581718\n",
       "25. 4.26396519280882\n",
       "26. 5.19180605074473\n",
       "27. 12.7057566444675\n",
       "28. -81.3163676917125\n",
       "29. 1.17069533167884\n",
       "30. 4.78970274959283\n",
       "31. 9.64369445081155\n",
       "32. -82.7821150165708\n",
       "33. 1.63228187116131\n",
       "34. 0.197385292698858\n",
       "35. 1.35310934748762\n",
       "36. 1.29641783140885\n",
       "37. -2.0178583989114\n",
       "38. 4.39703639647655\n",
       "39. 7.36973767757882\n",
       "40. -85.9943157279048\n",
       "41. 0.0887253781940231\n",
       "42. 4.66320556517774\n",
       "43. 8.71232761238088\n",
       "44. -83.3670358647356\n",
       "45. 1.15526288015476\n",
       "46. 4.79160866966477\n",
       "47. 9.49893224755222\n",
       "48. -82.443375905434\n",
       "49. 2.24603594399629\n",
       "50. 4.9253534142377\n",
       "51. 10.4339275228183\n",
       "52. -81.848799160308\n",
       "53. 4.46868718071469\n",
       "54. 5.16506351416028\n",
       "55. 12.6136402610323\n",
       "56. -81.301087827742\n",
       "57. 1.02718579335461\n",
       "58. 4.78236560474384\n",
       "59. 9.67386642638539\n",
       "60. -82.7997206278349\n",
       "61. 1.61884251148955\n",
       "62. 0.200811901484572\n",
       "63. 1.38862038760002\n",
       "64. 1.32844748879051\n",
       "65. -2.25185586980999\n",
       "66. 4.3857643752663\n",
       "67. 7.4432189857136\n",
       "68. -86.1629482489705\n",
       "69. -0.0513419633081338\n",
       "70. 4.65915899405533\n",
       "71. 8.71781095694279\n",
       "72. -83.404754225626\n",
       "73. 1.04098417243932\n",
       "74. 4.78402790979339\n",
       "75. 9.51710451856417\n",
       "76. -82.4783655695302\n",
       "77. 2.12900456129901\n",
       "78. 4.91513071774109\n",
       "79. 10.4171890116274\n",
       "80. -81.8117360067754\n",
       "81. 4.28309573303313\n",
       "82. 5.17488935250935\n",
       "83. 12.9069432156815\n",
       "84. -81.2876340834243\n",
       "\n",
       "\n",
       "\n",
       "\n",
       "\n"
      ],
      "text/plain": [
       "$summary\n",
       "            mean     se_mean        sd       2.5%         25%        50%\n",
       "a       1.104827 0.022642872 1.6237704  -2.104943   0.0388746   1.101910\n",
       "b       4.788367 0.002805459 0.1987834   4.394029   4.6645659   4.790066\n",
       "sigma   9.653291 0.020766375 1.3705553   7.379669   8.7088007   9.508451\n",
       "lp__  -82.788896 0.025313349 1.3235786 -86.166634 -83.3844367 -82.454949\n",
       "             75%      97.5%    n_eff      Rhat\n",
       "a       2.187247   4.344854 5142.641 1.0016123\n",
       "b       4.922227   5.180458 5020.559 1.0001021\n",
       "sigma  10.418418  12.735621 4355.838 0.9999547\n",
       "lp__  -81.825132 -81.303450 2734.011 0.9998678\n",
       "\n",
       "$c_summary\n",
       ", , chains = chain:1\n",
       "\n",
       "         stats\n",
       "parameter       mean        sd       2.5%          25%        50%        75%\n",
       "    a       1.116599 1.6177216  -2.099764   0.05266715   1.102168   2.182324\n",
       "    b       4.793033 0.1980859   4.409046   4.66785345   4.792025   4.923151\n",
       "    sigma   9.642311 1.3701594   7.323811   8.69696750   9.503481  10.405830\n",
       "    lp__  -82.784853 1.3459876 -86.281790 -83.36356541 -82.441999 -81.816131\n",
       "         stats\n",
       "parameter      97.5%\n",
       "    a       4.263965\n",
       "    b       5.191806\n",
       "    sigma  12.705757\n",
       "    lp__  -81.316368\n",
       "\n",
       ", , chains = chain:2\n",
       "\n",
       "         stats\n",
       "parameter       mean        sd       2.5%          25%        50%        75%\n",
       "    a       1.170695 1.6322819  -2.017858   0.08872538   1.155263   2.246036\n",
       "    b       4.789703 0.1973853   4.397036   4.66320557   4.791609   4.925353\n",
       "    sigma   9.643694 1.3531093   7.369738   8.71232761   9.498932  10.433928\n",
       "    lp__  -82.782115 1.2964178 -85.994316 -83.36703586 -82.443376 -81.848799\n",
       "         stats\n",
       "parameter      97.5%\n",
       "    a       4.468687\n",
       "    b       5.165064\n",
       "    sigma  12.613640\n",
       "    lp__  -81.301088\n",
       "\n",
       ", , chains = chain:3\n",
       "\n",
       "         stats\n",
       "parameter       mean        sd       2.5%          25%        50%        75%\n",
       "    a       1.027186 1.6188425  -2.251856  -0.05134196   1.040984   2.129005\n",
       "    b       4.782366 0.2008119   4.385764   4.65915899   4.784028   4.915131\n",
       "    sigma   9.673866 1.3886204   7.443219   8.71781096   9.517105  10.417189\n",
       "    lp__  -82.799721 1.3284475 -86.162948 -83.40475423 -82.478366 -81.811736\n",
       "         stats\n",
       "parameter      97.5%\n",
       "    a       4.283096\n",
       "    b       5.174889\n",
       "    sigma  12.906943\n",
       "    lp__  -81.287634\n",
       "\n"
      ]
     },
     "metadata": {},
     "output_type": "display_data"
    }
   ],
   "source": [
    "summary(simple.regression.stan.m1)"
   ]
  },
  {
   "cell_type": "code",
   "execution_count": 31,
   "metadata": {},
   "outputs": [
    {
     "name": "stdout",
     "output_type": "stream",
     "text": [
      "Inference for Stan model: simple.\n",
      "3 chains, each with iter=3500; warmup=1500; thin=1; \n",
      "post-warmup draws per chain=2000, total post-warmup draws=6000.\n",
      "\n",
      "        mean se_mean   sd   2.5%    25%    50%    75%  97.5% n_eff Rhat\n",
      "a       1.10    0.02 1.62  -2.10   0.04   1.10   2.19   4.34  5143    1\n",
      "b       4.79    0.00 0.20   4.39   4.66   4.79   4.92   5.18  5021    1\n",
      "sigma   9.65    0.02 1.37   7.38   8.71   9.51  10.42  12.74  4356    1\n",
      "lp__  -82.79    0.03 1.32 -86.17 -83.38 -82.45 -81.83 -81.30  2734    1\n",
      "\n",
      "Samples were drawn using NUTS(diag_e) at Thu Nov 29 18:12:09 2018.\n",
      "For each parameter, n_eff is a crude measure of effective sample size,\n",
      "and Rhat is the potential scale reduction factor on split chains (at \n",
      "convergence, Rhat=1).\n"
     ]
    }
   ],
   "source": [
    "print(simple.regression.stan.m1)"
   ]
  },
  {
   "cell_type": "code",
   "execution_count": 29,
   "metadata": {},
   "outputs": [
    {
     "data": {},
     "metadata": {},
     "output_type": "display_data"
    },
    {
     "data": {
      "image/png": "[encoded data removed]",
      "text/plain": [
       "plot without title"
      ]
     },
     "metadata": {},
     "output_type": "display_data"
    }
   ],
   "source": [
    "stan_trace(simple.regression.stan.m1)"
   ]
  },
  {
   "cell_type": "code",
   "execution_count": 32,
   "metadata": {},
   "outputs": [
    {
     "name": "stderr",
     "output_type": "stream",
     "text": [
      "`stat_bin()` using `bins = 30`. Pick better value with `binwidth`.\n"
     ]
    },
    {
     "data": {},
     "metadata": {},
     "output_type": "display_data"
    },
    {
     "data": {
      "image/png": "[encoded data removed]",
      "text/plain": [
       "plot without title"
      ]
     },
     "metadata": {},
     "output_type": "display_data"
    }
   ],
   "source": [
    "stan_hist(simple.regression.stan.m1)"
   ]
  },
  {
   "cell_type": "code",
   "execution_count": 33,
   "metadata": {},
   "outputs": [
    {
     "data": {},
     "metadata": {},
     "output_type": "display_data"
    },
    {
     "data": {
      "image/png": "[encoded data removed]",
      "text/plain": [
       "plot without title"
      ]
     },
     "metadata": {},
     "output_type": "display_data"
    }
   ],
   "source": [
    "stan_dens(simple.regression.stan.m1)"
   ]
  },
  {
   "cell_type": "code",
   "execution_count": 34,
   "metadata": {},
   "outputs": [
    {
     "data": {},
     "metadata": {},
     "output_type": "display_data"
    },
    {
     "data": {
      "image/png": "[encoded data removed]",
      "text/plain": [
       "plot without title"
      ]
     },
     "metadata": {},
     "output_type": "display_data"
    }
   ],
   "source": [
    "stan_ac(simple.regression.stan.m1)"
   ]
  },
  {
   "cell_type": "code",
   "execution_count": 35,
   "metadata": {},
   "outputs": [
    {
     "name": "stderr",
     "output_type": "stream",
     "text": [
      "ci_level: 0.8 (80% intervals)\n",
      "outer_level: 0.95 (95% intervals)\n"
     ]
    },
    {
     "data": {},
     "metadata": {},
     "output_type": "display_data"
    },
    {
     "data": {
      "image/png": "[encoded data removed]",
      "text/plain": [
       "plot without title"
      ]
     },
     "metadata": {},
     "output_type": "display_data"
    }
   ],
   "source": [
    "stan_plot(simple.regression.stan.m1)"
   ]
  },
  {
   "cell_type": "code",
   "execution_count": 40,
   "metadata": {},
   "outputs": [
    {
     "name": "stderr",
     "output_type": "stream",
     "text": [
      "Loading required package: lattice\n"
     ]
    }
   ],
   "source": [
    "#install.packages(\"coda\", repos= \"https://cloud.r-project.org\")\n",
    "#install.packages(\"lattice\", repos= \"https://cloud.r-project.org\")\n",
    "require(coda)\n",
    "require(lattice)"
   ]
  },
  {
   "cell_type": "code",
   "execution_count": 37,
   "metadata": {},
   "outputs": [],
   "source": [
    "simple.regression.stan.m1.mcmc<-As.mcmc.list(simple.regression.stan.m1)"
   ]
  },
  {
   "cell_type": "code",
   "execution_count": 38,
   "metadata": {},
   "outputs": [
    {
     "data": {
      "text/plain": [
       "\n",
       "Iterations = 1501:3500\n",
       "Thinning interval = 1 \n",
       "Number of chains = 3 \n",
       "Sample size per chain = 2000 \n",
       "\n",
       "1. Empirical mean and standard deviation for each variable,\n",
       "   plus standard error of the mean:\n",
       "\n",
       "         Mean     SD Naive SE Time-series SE\n",
       "a       1.105 1.6238 0.020963       0.021611\n",
       "b       4.788 0.1988 0.002566       0.002715\n",
       "sigma   9.653 1.3706 0.017694       0.020750\n",
       "lp__  -82.789 1.3236 0.017087       0.024895\n",
       "\n",
       "2. Quantiles for each variable:\n",
       "\n",
       "         2.5%       25%     50%     75%   97.5%\n",
       "a      -2.105   0.03887   1.102   2.187   4.345\n",
       "b       4.394   4.66457   4.790   4.922   5.180\n",
       "sigma   7.380   8.70880   9.508  10.418  12.736\n",
       "lp__  -86.167 -83.38444 -82.455 -81.825 -81.303\n"
      ]
     },
     "metadata": {},
     "output_type": "display_data"
    }
   ],
   "source": [
    "summary(simple.regression.stan.m1.mcmc)"
   ]
  },
  {
   "cell_type": "code",
   "execution_count": 39,
   "metadata": {},
   "outputs": [
    {
     "name": "stdout",
     "output_type": "stream",
     "text": [
      "List of 3\n",
      " $ : 'mcmc' num [1:2000, 1:4] 4.554 0.378 2.224 1.15 1.572 ...\n",
      "  ..- attr(*, \"dimnames\")=List of 2\n",
      "  .. ..$ : NULL\n",
      "  .. ..$ : chr [1:4] \"a\" \"b\" \"sigma\" \"lp__\"\n",
      "  ..- attr(*, \"mcpar\")= num [1:3] 1501 3500 1\n",
      " $ : 'mcmc' num [1:2000, 1:4] -1.1195 -0.0397 1.4872 2.4093 1.4175 ...\n",
      "  ..- attr(*, \"dimnames\")=List of 2\n",
      "  .. ..$ : NULL\n",
      "  .. ..$ : chr [1:4] \"a\" \"b\" \"sigma\" \"lp__\"\n",
      "  ..- attr(*, \"mcpar\")= num [1:3] 1501 3500 1\n",
      " $ : 'mcmc' num [1:2000, 1:4] 1.4016 3.4946 0.7058 0.0758 0.8383 ...\n",
      "  ..- attr(*, \"dimnames\")=List of 2\n",
      "  .. ..$ : NULL\n",
      "  .. ..$ : chr [1:4] \"a\" \"b\" \"sigma\" \"lp__\"\n",
      "  ..- attr(*, \"mcpar\")= num [1:3] 1501 3500 1\n",
      " - attr(*, \"class\")= chr \"mcmc.list\"\n"
     ]
    }
   ],
   "source": [
    "str(simple.regression.stan.m1.mcmc)"
   ]
  },
  {
   "cell_type": "code",
   "execution_count": 41,
   "metadata": {},
   "outputs": [
    {
     "data": {},
     "metadata": {},
     "output_type": "display_data"
    },
    {
     "data": {
      "image/png": "[encoded data removed]",
      "text/plain": [
       "plot without title"
      ]
     },
     "metadata": {},
     "output_type": "display_data"
    }
   ],
   "source": [
    "xyplot(simple.regression.stan.m1.mcmc)"
   ]
  },
  {
   "cell_type": "code",
   "execution_count": 42,
   "metadata": {},
   "outputs": [
    {
     "data": {},
     "metadata": {},
     "output_type": "display_data"
    },
    {
     "data": {
      "image/png": "[encoded data removed]",
      "text/plain": [
       "plot without title"
      ]
     },
     "metadata": {},
     "output_type": "display_data"
    }
   ],
   "source": [
    "densityplot(simple.regression.stan.m1.mcmc)"
   ]
  },
  {
   "cell_type": "code",
   "execution_count": 43,
   "metadata": {
    "scrolled": false
   },
   "outputs": [
    {
     "data": {
      "image/png": "[encoded data removed]",
      "text/plain": [
       "Plot with title \"lp__\""
      ]
     },
     "metadata": {},
     "output_type": "display_data"
    },
    {
     "data": {
      "image/png": "[encoded data removed]",
      "text/plain": [
       "Plot with title \"lp__\""
      ]
     },
     "metadata": {},
     "output_type": "display_data"
    },
    {
     "data": {
      "image/png": "[encoded data removed]",
      "text/plain": [
       "Plot with title \"lp__\""
      ]
     },
     "metadata": {},
     "output_type": "display_data"
    }
   ],
   "source": [
    "autocorr.plot(simple.regression.stan.m1.mcmc)"
   ]
  },
  {
   "cell_type": "code",
   "execution_count": 44,
   "metadata": {},
   "outputs": [
    {
     "data": {},
     "metadata": {},
     "output_type": "display_data"
    },
    {
     "data": {
      "image/png": "[encoded data removed]",
      "text/plain": [
       "plot without title"
      ]
     },
     "metadata": {},
     "output_type": "display_data"
    }
   ],
   "source": [
    "acfplot(simple.regression.stan.m1.mcmc)"
   ]
  },
  {
   "cell_type": "code",
   "execution_count": null,
   "metadata": {},
   "outputs": [],
   "source": []
  }
 ],
 "metadata": {
  "kernelspec": {
   "display_name": "R",
   "language": "R",
   "name": "ir"
  },
  "language_info": {
   "codemirror_mode": "r",
   "file_extension": ".r",
   "mimetype": "text/x-r-source",
   "name": "R",
   "pygments_lexer": "r",
   "version": "3.4.3"
  }
 },
 "nbformat": 4,
 "nbformat_minor": 2
}
