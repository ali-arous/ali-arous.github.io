{
 "cells": [
  {
   "cell_type": "markdown",
   "metadata": {},
   "source": [
    "# Metropolis-Hastings 04b\n",
    "\n",
    "## A mixture model, with JAGS\n",
    "\n",
    "Example 04 is not actually a complete Bayesian analysis, since it gives just a target function to simulate. Here we \n",
    "study a model with an analogous posterior pdf.\n",
    "We consider the example in [John Kruschke' blog (Doing Bayesian Data Analysis) - Mixture of Normal Distributions ](http://doingbayesiandataanalysis.blogspot.com/2012/06/mixture-of-normal-distributions.html)."
   ]
  },
  {
   "cell_type": "code",
   "execution_count": 1,
   "metadata": {},
   "outputs": [
    {
     "name": "stderr",
     "output_type": "stream",
     "text": [
      "Loading required package: R2jags\n",
      "Loading required package: rjags\n",
      "Loading required package: coda\n",
      "Linked to JAGS 4.3.0\n",
      "Loaded modules: basemod,bugs\n",
      "\n",
      "Attaching package: 'R2jags'\n",
      "\n",
      "The following object is masked from 'package:coda':\n",
      "\n",
      "    traceplot\n",
      "\n"
     ]
    }
   ],
   "source": [
    "#install.packages(\"R2jags\", repos= \"https://cloud.r-project.org\")\n",
    "require(R2jags)"
   ]
  },
  {
   "cell_type": "markdown",
   "metadata": {},
   "source": [
    "## Data\n",
    "\n",
    "Samples from two normal pdf's with equal sd and different means. The actual model is prepared for a more general setting, as a mixture of `Nclust` normal pdf's."
   ]
  },
  {
   "cell_type": "code",
   "execution_count": 2,
   "metadata": {},
   "outputs": [],
   "source": [
    "# Given parameters for data\n",
    "trueM1<-100\n",
    "N1<-200\n",
    "trueM2<-145 # 145 for first example below; 130 for second example\n",
    "N2<-200\n",
    "trueSD<-15\n",
    "effsz<-abs( trueM2 - trueM1 ) / trueSD"
   ]
  },
  {
   "cell_type": "code",
   "execution_count": 3,
   "metadata": {},
   "outputs": [],
   "source": [
    "# Generate random data from known parameter values:\n",
    "set.seed(47405)\n",
    "y1<-rnorm( N1 )\n",
    "y1<-(y1-mean(y1))/sd(y1) * trueSD + trueM1\n",
    "y2<-rnorm( N2 )\n",
    "y2<-(y2-mean(y2))/sd(y2) * trueSD + trueM2\n",
    "y<-c(y1,y2)\n",
    "N<-length(y)"
   ]
  },
  {
   "cell_type": "code",
   "execution_count": 4,
   "metadata": {},
   "outputs": [],
   "source": [
    "# clust is a length N vector, containing the assignment of each sample to one of the clusters. In the general setting,\n",
    "# each entry in clust will be an integer comprised between 1 and Nclust.\n",
    "Nclust<-2"
   ]
  },
  {
   "cell_type": "code",
   "execution_count": 5,
   "metadata": {},
   "outputs": [],
   "source": [
    "# Initial values in clust\n",
    "clust<-rep(NA,N)\n",
    "# Must have at least one data point with fixed assignment to each cluster,\n",
    "# otherwise some clusters will end up empty:\n",
    "clust[which.min(y)]<-1 # smallest value assigned to cluster 1\n",
    "clust[which.max(y)]<-2 # highest value assigned to cluster 2"
   ]
  },
  {
   "cell_type": "markdown",
   "metadata": {},
   "source": [
    "### Mixture implementation\n",
    "\n",
    "The mixture is implemented as a convex combination:\n",
    "\n",
    "$$\n",
    "    Y=I\\cdot Y_{1} + (1-I)\\cdot Y_{2},\n",
    "$$\n",
    "\n",
    "where $Y_{1}\\sim\\operatorname{N}(\\mu_{1},\\sigma^{2})$, $Y_{2}\\sim\\operatorname{N}(\\mu_{2},\\sigma^{2})$, and\n",
    "$I\\sim\\operatorname{Bernoulli}(p)$. \n",
    "The vector of indicators $(I,1-I)$ is implemented, more generally, as a multivariate Bernoulli vector `pClust` of length `Nclust`. "
   ]
  },
  {
   "cell_type": "markdown",
   "metadata": {},
   "source": [
    "This parameter $p$ is assumed to be unknown, hence it must be given a prior pdf. Here we model the multivariate Bernoulli vector `pClust` with a conjugate prior Dirichlet distribution with parameter a vector of ones of length `Nclust`, the natural Non Informative Prior. \n",
    "\n",
    "This vector of ones `onesRepNclust` must be added to the initial data."
   ]
  },
  {
   "cell_type": "code",
   "execution_count": 6,
   "metadata": {},
   "outputs": [],
   "source": [
    "mixture.data<-list(\n",
    "    y = y,\n",
    "    N = N,\n",
    "    Nclust = Nclust,\n",
    "    clust = clust,\n",
    "    onesRepNclust=rep(1,Nclust)\n",
    "    )"
   ]
  },
  {
   "cell_type": "markdown",
   "metadata": {},
   "source": [
    "### Likelihood\n",
    "\n",
    "Each $i$-th observation, $1\\leq i\\leq N$  is assigned to the cluster $\\alpha(i)$, and follows a normal distribution\n",
    "with mean $\\mu_{i}$ and common precision parameter $\\tau$.\n",
    "\n",
    "The mean $\\mu$ is equal to the mean of its group: $\\mu_{i}=\\mu_{\\alpha(i)}$ (observe the deterministic node below).\n",
    "The assignment $\\alpha(i)$ (the value `clust[i]`) is obtained from the multivariate Bernoulli distribution, modelled as\n",
    "the `dcat` JAGS function, which has integer values from 1 to `Nclust`, and parameter a length `Nclust` vector `pClust` of _probabilites,_ that is, non negative values not required to be normalized. They will be internally.\n",
    "\n",
    "### Prior\n",
    "\n",
    "The common precision parameter is given a $\\operatorname{Gamma}(0.01,0.01)$ prior.\n",
    "\n",
    "Both group means $\\mu_{\\alpha(i)}$ are given normal priors with mean 0 and a very small precision (essentially a NIP precision prior).\n",
    "\n",
    "The multivariate Bernoulli assignment distribution is given a Dirichlet NIP prior as described above."
   ]
  },
  {
   "cell_type": "code",
   "execution_count": 15,
   "metadata": {},
   "outputs": [],
   "source": [
    "cat(\"model {\n",
    "    # Likelihood:\n",
    "    for( i in 1 : N ) {\n",
    "      y[i] ~ dnorm(mu[i],tau )\n",
    "      mu[i] <- muOfClust[ clust[i] ]\n",
    "      clust[i] ~ dcat(pClust[1:Nclust])\n",
    "        }\n",
    "    sigma<-1/sqrt(tau)\n",
    "    # Prior:\n",
    "    tau~dgamma(0.01,0.01)\n",
    "    for(clustIdx in 1:Nclust){\n",
    "        muOfClust[clustIdx]~dnorm(0,1.0E-10)\n",
    "        }\n",
    "    pClust[1:Nclust]~ddirch(onesRepNclust)\n",
    "}\",file=\"mixture.jags\")"
   ]
  },
  {
   "cell_type": "code",
   "execution_count": 16,
   "metadata": {},
   "outputs": [
    {
     "name": "stdout",
     "output_type": "stream",
     "text": [
      "Compiling model graph\n",
      "   Resolving undeclared variables\n",
      "   Allocating nodes\n",
      "Graph information:\n",
      "   Observed stochastic nodes: 402\n",
      "   Unobserved stochastic nodes: 402\n",
      "   Total graph size: 1213\n",
      "\n",
      "Initializing model\n",
      "\n"
     ]
    }
   ],
   "source": [
    "mixture.m1<-jags(data=mixture.data, n.chains=3,\n",
    "        parameters.to.save=c(\"muOfClust\", \"sigma\",\"pClust\"), \n",
    "        model.file=\"mixture.jags\",n.iter=10000,n.burnin=2000)"
   ]
  },
  {
   "cell_type": "code",
   "execution_count": 17,
   "metadata": {},
   "outputs": [],
   "source": [
    "mixture.m1.mcmc<-as.mcmc(mixture.m1)"
   ]
  },
  {
   "cell_type": "code",
   "execution_count": 18,
   "metadata": {},
   "outputs": [
    {
     "data": {
      "text/plain": [
       "\n",
       "Iterations = 2001:9993\n",
       "Thinning interval = 8 \n",
       "Number of chains = 3 \n",
       "Sample size per chain = 1000 \n",
       "\n",
       "1. Empirical mean and standard deviation for each variable,\n",
       "   plus standard error of the mean:\n",
       "\n",
       "                  Mean       SD  Naive SE Time-series SE\n",
       "deviance     3332.1419 62.81562 1.1468510       7.694330\n",
       "muOfClust[1]  100.7004  2.92192 0.0533467       0.285230\n",
       "muOfClust[2]  144.6245  2.71700 0.0496054       0.165274\n",
       "pClust[1]       0.5052  0.04446 0.0008117       0.002618\n",
       "pClust[2]       0.4948  0.04446 0.0008117       0.002618\n",
       "sigma          15.5705  1.63905 0.0299249       0.136092\n",
       "\n",
       "2. Quantiles for each variable:\n",
       "\n",
       "                  2.5%       25%      50%       75%     97.5%\n",
       "deviance     3278.8548 3306.1200 3322.866 3341.7785 3401.6707\n",
       "muOfClust[1]   97.5479   99.4521  100.416  101.3689  103.7181\n",
       "muOfClust[2]  141.3512  143.8692  144.874  145.8702  147.7786\n",
       "pClust[1]       0.4375    0.4818    0.503    0.5248    0.5775\n",
       "pClust[2]       0.4225    0.4752    0.497    0.5182    0.5625\n",
       "sigma          14.0342   14.8426   15.343   15.8966   17.5078\n"
      ]
     },
     "metadata": {},
     "output_type": "display_data"
    }
   ],
   "source": [
    "summary(mixture.m1.mcmc)"
   ]
  },
  {
   "cell_type": "code",
   "execution_count": null,
   "metadata": {},
   "outputs": [],
   "source": []
  }
 ],
 "metadata": {
  "kernelspec": {
   "display_name": "R",
   "language": "R",
   "name": "ir"
  },
  "language_info": {
   "codemirror_mode": "r",
   "file_extension": ".r",
   "mimetype": "text/x-r-source",
   "name": "R",
   "pygments_lexer": "r",
   "version": "3.4.3"
  }
 },
 "nbformat": 4,
 "nbformat_minor": 2
}
