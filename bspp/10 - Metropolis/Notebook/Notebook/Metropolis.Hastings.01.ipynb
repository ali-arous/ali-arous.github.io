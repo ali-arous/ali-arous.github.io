{
 "cells": [
  {
   "cell_type": "markdown",
   "metadata": {},
   "source": [
    "# Metropolis-Hastings 01"
   ]
  },
  {
   "cell_type": "markdown",
   "metadata": {},
   "source": [
    "#### Josep Fortiana 2018-11-28"
   ]
  },
  {
   "cell_type": "markdown",
   "metadata": {},
   "source": [
    "## Exercise 1"
   ]
  },
  {
   "cell_type": "markdown",
   "metadata": {},
   "source": [
    "Prepare and run a Metropolis-Hastings MCMC simulation for a binomial model $X\\sim\\operatorname{B}(n,\\theta)$, where $n$ is a positive integer and the probability parameter $\\theta$ takes values in $(0,1)$ with a prior $\\operatorname{Beta}(\\alpha,\\beta)$.\n",
    "\t\n",
    "For instance, we can retake the drug response data from [DiMaggio's _Bayesian Analysis for Epidemiologists_](http://www.columbia.edu/~cjd11/charles_dimaggio/DIRE/styled-4/styled-11/code-4/###binomial-example:-drug-response). There, from prior knowledge, we decided $\\alpha=9.2$, $\\beta=13.8$ and we learnt of an experiment with $n=20$ patients where $x=15$ of them responded to the drug treatment.\n",
    "\n",
    "Generate a simulated sample for the posterior pdf and, from it, the posterior expectation, variance, mode, and a 95% credible interval. Compare these results, obtained with with several chain lengths, burn-in interval (the discarded initial segment in the chain after which samples are assumed to be distributed following the stationary pdf), and candidate generation densities with the corresponding theoretical ones, derived from the exact posterior pdf, which we know is a $\\operatorname{Beta}(\\alpha+x,\\beta+n-x)$.\n",
    "\n",
    "Obtain a simulated sample for the prior predictive pmf for $x$, for a sample size $n=20$. Plot the estimated pmf and compare it with the corresponding theoretical object. Do the same for the posterior predictive pmf for the number $y$ of patients from a new batch of $m=18$ patients, including the observed evidence that $x=15$ out of $n=20$ patients\n",
    "have responded to the drug treatment."
   ]
  },
  {
   "cell_type": "markdown",
   "metadata": {
    "collapsed": true
   },
   "source": [
    "#### Mean, variance and mode for a Beta(a,b) distribution"
   ]
  },
  {
   "cell_type": "code",
   "execution_count": 2,
   "metadata": {},
   "outputs": [],
   "source": [
    "Beta.mu<-function(a,b){\n",
    " mu<-a/(a+b)\n",
    " return(mu)\n",
    " }\n",
    "Beta.var<-function(a,b){\n",
    " sigma2<-a*b/((a+b)^2*(a+b+1))\n",
    " return(sigma2)\n",
    " }\n",
    "Beta.mode<-function(a,b){\n",
    " mode<-(a-1)/(a+b-2)\n",
    " }"
   ]
  },
  {
   "cell_type": "markdown",
   "metadata": {
    "collapsed": true
   },
   "source": [
    "#### Solving `a`, `b` in terms of `mu`, `sigma`\n",
    "\n",
    "From the observed `mu` and `sigma`:"
   ]
  },
  {
   "cell_type": "code",
   "execution_count": 3,
   "metadata": {},
   "outputs": [
    {
     "data": {
      "text/html": [
       "9.2"
      ],
      "text/latex": [
       "9.2"
      ],
      "text/markdown": [
       "9.2"
      ],
      "text/plain": [
       "[1] 9.2"
      ]
     },
     "metadata": {},
     "output_type": "display_data"
    },
    {
     "data": {
      "text/html": [
       "13.8"
      ],
      "text/latex": [
       "13.8"
      ],
      "text/markdown": [
       "13.8"
      ],
      "text/plain": [
       "[1] 13.8"
      ]
     },
     "metadata": {},
     "output_type": "display_data"
    }
   ],
   "source": [
    "mu<-0.4\n",
    "sigma<-0.1\n",
    "sigma2<-sigma^2\n",
    "G<-(mu*(1-mu))/sigma2-1\n",
    "a<-mu*G\n",
    "b<-(1-mu)*G\n",
    "round(a,3)\n",
    "round(b,3)"
   ]
  },
  {
   "cell_type": "markdown",
   "metadata": {
    "collapsed": true
   },
   "source": [
    "#### Observed data"
   ]
  },
  {
   "cell_type": "code",
   "execution_count": 4,
   "metadata": {},
   "outputs": [],
   "source": [
    "n<-20\n",
    "x<-15"
   ]
  },
  {
   "cell_type": "markdown",
   "metadata": {},
   "source": [
    "#### Likelihood \n",
    "\n",
    "(alternatively, we can use log-likelihood)"
   ]
  },
  {
   "cell_type": "code",
   "execution_count": 5,
   "metadata": {},
   "outputs": [],
   "source": [
    "Lik<-function(theta){\n",
    "    dbinom(x,size=n,prob=theta)\n",
    "    }\n",
    "\n",
    "#~ Possible alternative to work with the log liklihood to avoid dealing with small numbers raised to a big power\n",
    "log.Lik<-function(theta){\n",
    "    dbinom(x,size=n,prob=theta,log=TRUE)\n",
    "    }"
   ]
  },
  {
   "cell_type": "markdown",
   "metadata": {},
   "source": [
    "#### Prior\n",
    "\n",
    "(and log-prior)"
   ]
  },
  {
   "cell_type": "code",
   "execution_count": 6,
   "metadata": {},
   "outputs": [],
   "source": [
    "h<-function(theta){\n",
    "    return(dbeta(theta,shape1=a,shape2=b))\n",
    "    }\n",
    "log.h<-function(theta){\n",
    "    return(dbeta(theta,shape1=a,shape2=b,log=TRUE))\n",
    "    }"
   ]
  },
  {
   "cell_type": "markdown",
   "metadata": {},
   "source": [
    "#### Posterior (Non-normalized)"
   ]
  },
  {
   "cell_type": "code",
   "execution_count": 7,
   "metadata": {},
   "outputs": [],
   "source": [
    "posterior <- function(theta){\n",
    "    return (Lik(theta)*h(theta)) #~ Likelihood (times) posterior\n",
    "    }\n",
    "log.posterior <- function(theta){\n",
    "    return (log.Lik(theta)+log.h(theta))\n",
    "    }"
   ]
  },
  {
   "cell_type": "markdown",
   "metadata": {},
   "source": [
    "#### Candidate proposal 1\n",
    "\n",
    "Normal with `sd=0.1` (try other sd values).\n",
    "\n",
    "Truncate at theta=0 and theta=1 to avoid out-of-space points.\n",
    "\n",
    "This is an (almost) symmetric pdf."
   ]
  },
  {
   "cell_type": "code",
   "execution_count": 62,
   "metadata": {},
   "outputs": [],
   "source": [
    "sd.proposal.1<- 0.01\n",
    "proposal.1<-function(old.theta){\n",
    "    t<-rnorm(1,mean=old.theta, sd=sd.proposal.1) #~ random numbers around old theta\n",
    "    return(max(0,min(1,t)))\n",
    "    }"
   ]
  },
  {
   "cell_type": "markdown",
   "metadata": {},
   "source": [
    "#### Candidate proposal 2\n",
    "\n",
    "A uniform on the interval `(old.theta-Delta,old.theta+Delta)`, with `Delta=0.1` - Try other `Delta` values.\n",
    "\n",
    "Truncate at `theta=0` and `theta=1` to avoid out-of-space points.\n",
    "\n",
    "This is an (almost) symmetric pdf."
   ]
  },
  {
   "cell_type": "code",
   "execution_count": 63,
   "metadata": {},
   "outputs": [],
   "source": [
    "Delta<-0.1\n",
    "proposal.2 <- function(old.theta){\n",
    "    t<-runif(1,min=old.theta-Delta,min=old.theta+Delta)\n",
    "    return(max(0,min(1,t))) #~ sort of drastic cutting of values in the middle of operation and it's quite save in monte-carlo, but do not use it wherever\n",
    "}"
   ]
  },
  {
   "cell_type": "markdown",
   "metadata": {},
   "source": [
    "#### Candidate proposal 3\n",
    "\n",
    "Here `old.theta` is transformed from `(0,1)` to the real line with the `logit` function, there it undergoes a random increment, uniform on the interval: \n",
    "\n",
    "`(logit(old.theta)-L,logit(old.theta)+L)`, with `L=1.0` - Try other `L` values\n",
    "\n",
    "Then the result is transformed back to `(0,1)` with the logistic function."
   ]
  },
  {
   "cell_type": "code",
   "execution_count": 64,
   "metadata": {},
   "outputs": [],
   "source": [
    "L<-1.0\n",
    "logit<-function(p){return(log(p/(1-p)))}\n",
    "logistic<-function(z){return(1/(1+exp(-z)))}\n",
    "proposal.3<-function(old.theta){\n",
    "    t<-runif(1,min=logit(old.theta)-L,max=logit(old.theta)+L)\n",
    "    return(logistic(t))\n",
    "    }"
   ]
  },
  {
   "cell_type": "markdown",
   "metadata": {},
   "source": [
    "#### Simulate a trajectory of the Metropolis Markov chain\n",
    "\n",
    "Either using the original posterior or its logarithm."
   ]
  },
  {
   "cell_type": "code",
   "execution_count": 65,
   "metadata": {},
   "outputs": [],
   "source": [
    "run.metropolis<-function(startvalue, iterations,proposal){ #~ plain implementation of slide. 11/24\n",
    "    epsilon<-1.0e-8\n",
    "    chain<-rep(0,iterations+1)\n",
    "    chain[1]<-startvalue\n",
    "    for (i in 1:iterations){\n",
    "        candidate<-proposal(chain[i])\n",
    "        #print(sprintf(\"candidate = %f\",candidate))\n",
    "        pp<-posterior(chain[i])\n",
    "        #print(sprintf(\"pp = %f\",pp))\n",
    "        if(pp<epsilon)    # avoid division by 0\n",
    "            prob<-1\n",
    "        else\n",
    "            prob<-min(1,posterior(candidate)/pp) #~ prob. of acceptance\n",
    "        #print(sprintf(\"prob = %f\",prob))\n",
    "        if(runif(1)<prob)\n",
    "            chain[i+1]<-candidate\n",
    "        else\n",
    "            chain[i+1]<-chain[i]\n",
    "        }\n",
    "     return(chain)\n",
    "    }\n",
    "# \n",
    "run.metropolis.with.logs<-function(startvalue, iterations,proposal){\n",
    "    M<-1.0e+12\n",
    "    chain<-rep(0,iterations+1)\n",
    "    chain[1]<-startvalue\n",
    "    for (i in 1:iterations){\n",
    "        candidate<-proposal(chain[i])\n",
    "        #print(sprintf(\"candidate = %f\",candidate))\n",
    "        log.pp<-log.posterior(chain[i])\n",
    "        #print(sprintf(\"pp = %f\",log.pp))\n",
    "        if(abs(log.pp)>M) # Avoid minus infinity in the exponential \n",
    "            prob<-1\n",
    "        else\n",
    "            prob<-min(1,exp(log.posterior(candidate)-log.pp))\n",
    "        #print(sprintf(\"prob = %f\",prob))\n",
    "        if (runif(1) < prob)\n",
    "            chain[i+1]<-candidate\n",
    "        else\n",
    "            chain[i+1]<-chain[i] #~\n",
    "        }\n",
    "    return(chain)\n",
    "    }"
   ]
  },
  {
   "cell_type": "markdown",
   "metadata": {},
   "source": [
    "#### MCMC: Run simulation\n",
    "\n",
    "- Choose one of the candidate generation pdf's\n",
    "\n",
    "- Discard first `burnIn` values (Values of `Chain.Length` and `burnIn` below are just indicative). Several possibilities should be tested.\n",
    "\n",
    "- Compare statistics from the chain with the known ones from the true posterior pdf.\n",
    "\n",
    "- Repeat steps above changing candidate generation pdf, chain length, `burnIn` length, thinning parameter."
   ]
  },
  {
   "cell_type": "code",
   "execution_count": 66,
   "metadata": {},
   "outputs": [],
   "source": [
    "Chain.Length<-50000\n",
    "startvalue<-0.5   # initial theta value\n",
    "burnIn<-5000\n",
    "chain1.raw<-run.metropolis(startvalue,Chain.Length,proposal.1)\n",
    "chain1<-chain1.raw[(burnIn+1):Chain.Length]"
   ]
  },
  {
   "cell_type": "code",
   "execution_count": 67,
   "metadata": {},
   "outputs": [
    {
     "name": "stdout",
     "output_type": "stream",
     "text": [
      " num [1:45000] 0.638 0.632 0.641 0.642 0.65 ...\n"
     ]
    }
   ],
   "source": [
    "str(chain1)"
   ]
  },
  {
   "cell_type": "markdown",
   "metadata": {},
   "source": [
    "#### Traceplot and ACF of the resulting trajectory"
   ]
  },
  {
   "cell_type": "code",
   "execution_count": 68,
   "metadata": {},
   "outputs": [
    {
     "data": {
      "image/png": "[encoded data removed]",
      "text/plain": [
       "Plot with title \"ACF\""
      ]
     },
     "metadata": {},
     "output_type": "display_data"
    }
   ],
   "source": [
    "# plot the original trajectory, to assess whether burnIn is adequate\n",
    "old.par<-par(mfrow=c(2,1))\n",
    "plot(chain1.raw,type=\"l\",lwd=0.1,col=\"cyan\",ylab=\"theta\",main=\"Trajectory\")\n",
    "acf(chain1.raw,col=\"cyan\",lwd=1,main=\"ACF\") #~ auto correlation function\n",
    "par(old.par)"
   ]
  },
  {
   "cell_type": "code",
   "execution_count": 69,
   "metadata": {},
   "outputs": [
    {
     "data": {
      "image/png": "[encoded data removed]",
      "text/plain": [
       "Plot with title \"ACF\""
      ]
     },
     "metadata": {},
     "output_type": "display_data"
    }
   ],
   "source": [
    "old.par<-par(mfrow=c(2,1))\n",
    "plot(chain1,type=\"l\",col=\"cyan\",lwd=0.1,ylab=\"theta\",main=\"Trajectory\")\n",
    "acf(chain1,col=\"cyan\",lwd=1,main=\"ACF\")\n",
    "par(old.par)"
   ]
  },
  {
   "cell_type": "markdown",
   "metadata": {},
   "source": [
    "#### Plot histogram with superimposed kernel density estimation"
   ]
  },
  {
   "cell_type": "code",
   "execution_count": 70,
   "metadata": {},
   "outputs": [
    {
     "data": {
      "image/png": "[encoded data removed]",
      "text/plain": [
       "Plot with title \"Histogram\""
      ]
     },
     "metadata": {},
     "output_type": "display_data"
    }
   ],
   "source": [
    "require(MASS)\n",
    "truehist(chain1,main=\"Histogram\")\n",
    "lines(density(chain1),lwd=1.5,col=\"blue\")"
   ]
  },
  {
   "cell_type": "markdown",
   "metadata": {},
   "source": [
    "#### Acceptance rate\n",
    "\n",
    "A duplicated entry in the chain results from a rejected candidate.\n",
    "\n",
    "For an overall measure of eficiency we should add both duplications and lost chain steps due to burn-in segment length."
   ]
  },
  {
   "cell_type": "code",
   "execution_count": 71,
   "metadata": {},
   "outputs": [
    {
     "data": {
      "text/html": [
       "0.96"
      ],
      "text/latex": [
       "0.96"
      ],
      "text/markdown": [
       "0.96"
      ],
      "text/plain": [
       "[1] 0.96"
      ]
     },
     "metadata": {},
     "output_type": "display_data"
    },
    {
     "data": {
      "text/html": [
       "0.86"
      ],
      "text/latex": [
       "0.86"
      ],
      "text/markdown": [
       "0.86"
      ],
      "text/plain": [
       "[1] 0.86"
      ]
     },
     "metadata": {},
     "output_type": "display_data"
    }
   ],
   "source": [
    "acceptance.rate<-1-mean(duplicated(chain1)) # duplicated: counts the number of duplicated entries in a sequence\n",
    "round(acceptance.rate,2)\n",
    "overall.performance<-1-(burnIn+sum(duplicated(chain1)))/Chain.Length\n",
    "round(overall.performance,2)"
   ]
  },
  {
   "cell_type": "markdown",
   "metadata": {},
   "source": [
    "### Experiment\n",
    "\n",
    "Repeat the above computations, changing:\n",
    "\n",
    "(1) Dispersion of the candidate generation pdf\n",
    "(2) The candidate generation pdf itself \n",
    "\n",
    "Try to find a good choice of a candidate generation pdf (and its dispersion parameter)."
   ]
  },
  {
   "cell_type": "code",
   "execution_count": 72,
   "metadata": {},
   "outputs": [],
   "source": [
    "#\n",
    "#\n",
    "#"
   ]
  },
  {
   "cell_type": "markdown",
   "metadata": {},
   "source": [
    "#### Compare chain average, variance, mode with the theoretical posterior quantities\n",
    "\n",
    "We known the posterior pdf is a beta distribution $Beta(a_1,b_1)$, with parameters:"
   ]
  },
  {
   "cell_type": "code",
   "execution_count": 73,
   "metadata": {},
   "outputs": [
    {
     "data": {
      "text/html": [
       "24.2"
      ],
      "text/latex": [
       "24.2"
      ],
      "text/markdown": [
       "24.2"
      ],
      "text/plain": [
       "[1] 24.2"
      ]
     },
     "metadata": {},
     "output_type": "display_data"
    },
    {
     "data": {
      "text/html": [
       "18.8"
      ],
      "text/latex": [
       "18.8"
      ],
      "text/markdown": [
       "18.8"
      ],
      "text/plain": [
       "[1] 18.8"
      ]
     },
     "metadata": {},
     "output_type": "display_data"
    },
    {
     "data": {
      "text/html": [
       "0.563"
      ],
      "text/latex": [
       "0.563"
      ],
      "text/markdown": [
       "0.563"
      ],
      "text/plain": [
       "[1] 0.563"
      ]
     },
     "metadata": {},
     "output_type": "display_data"
    },
    {
     "data": {
      "text/html": [
       "0.006"
      ],
      "text/latex": [
       "0.006"
      ],
      "text/markdown": [
       "0.006"
      ],
      "text/plain": [
       "[1] 0.006"
      ]
     },
     "metadata": {},
     "output_type": "display_data"
    },
    {
     "data": {
      "text/html": [
       "0.566"
      ],
      "text/latex": [
       "0.566"
      ],
      "text/markdown": [
       "0.566"
      ],
      "text/plain": [
       "[1] 0.566"
      ]
     },
     "metadata": {},
     "output_type": "display_data"
    },
    {
     "data": {
      "text/html": [
       "0.565"
      ],
      "text/latex": [
       "0.565"
      ],
      "text/markdown": [
       "0.565"
      ],
      "text/plain": [
       "[1] 0.565"
      ]
     },
     "metadata": {},
     "output_type": "display_data"
    },
    {
     "data": {
      "text/html": [
       "0.005"
      ],
      "text/latex": [
       "0.005"
      ],
      "text/markdown": [
       "0.005"
      ],
      "text/plain": [
       "[1] 0.005"
      ]
     },
     "metadata": {},
     "output_type": "display_data"
    },
    {
     "data": {
      "text/html": [
       "0.575"
      ],
      "text/latex": [
       "0.575"
      ],
      "text/markdown": [
       "0.575"
      ],
      "text/plain": [
       "[1] 0.575"
      ]
     },
     "metadata": {},
     "output_type": "display_data"
    }
   ],
   "source": [
    "a1<-a+x\n",
    "b1<-b+n-x\n",
    "round(a1,3)\n",
    "round(b1,3)\n",
    "#\n",
    "post.mu<-Beta.mu(a1,b1)\n",
    "round(post.mu,3)\n",
    "post.var<-Beta.var(a1,b1)\n",
    "round(post.var,3)\n",
    "post.mode<-Beta.mode(a1,b1)\n",
    "round(post.mode,3)\n",
    "#\n",
    "round(mean(chain1),3)\n",
    "round(var(chain1),3)\n",
    "h1<-hist(chain1,plot=FALSE)\n",
    "chain1.mode<-h1$mids[which.max(h1$counts)]\n",
    "round(chain1.mode,3)"
   ]
  },
  {
   "cell_type": "code",
   "execution_count": null,
   "metadata": {},
   "outputs": [],
   "source": []
  }
 ],
 "metadata": {
  "kernelspec": {
   "display_name": "R",
   "language": "R",
   "name": "ir"
  },
  "language_info": {
   "codemirror_mode": "r",
   "file_extension": ".r",
   "mimetype": "text/x-r-source",
   "name": "R",
   "pygments_lexer": "r",
   "version": "3.4.3"
  }
 },
 "nbformat": 4,
 "nbformat_minor": 2
}
