{
 "cells": [
  {
   "cell_type": "markdown",
   "metadata": {},
   "source": [
    "# Metropolis-Hastings"
   ]
  },
  {
   "cell_type": "markdown",
   "metadata": {},
   "source": [
    "#### Josep Fortiana 2018-11-26"
   ]
  },
  {
   "cell_type": "markdown",
   "metadata": {},
   "source": [
    "## Exercise 1"
   ]
  },
  {
   "cell_type": "markdown",
   "metadata": {},
   "source": [
    "Prepare and run a Metropolis-Hastings MCMC simulation for a binomial model $X\\sim\\operatorname{B}(n,\\theta)$, where $n$ is a positive integer and the probability parameter $\\theta$ takes values in $(0,1)$ with a prior $\\operatorname{Beta}(\\alpha,\\beta)$.\n",
    "\t\n",
    "For instance, we can retake the drug response data from [DiMaggio's _Bayesian Analysis for Epidemiologists_](http://www.columbia.edu/~cjd11/charles_dimaggio/DIRE/styled-4/styled-11/code-4/###binomial-example:-drug-response). There, from prior knowledge, we decided $\\alpha=9.2$, $\\beta=13.8$ and we learnt of an experiment with $n=20$ patients where $x=15$ of them responded to the drug treatment.\n",
    "\n",
    "Generate a simulated sample for the posterior pdf and, from it, the posterior expectation, variance, mode, and a 95% credible interval. Compare these results, obtained with with several chain lengths, burn-in interval (the discarded initial segment in the chain after which samples are assumed to be distributed following the stationary pdf), and candidate generation densities with the corresponding theoretical ones, derived from the exact posterior pdf, which we know is a $\\operatorname{Beta}(\\alpha+x,\\beta+n-x)$.\n",
    "\n",
    "Obtain a simulated sample for the prior predictive pmf for $x$, for a sample size $n=20$. Plot the estimated pmf and compare it with the corresponding theoretical object. Do the same for the posterior predictive pmf for the number $y$ of patients from a new batch of $m=18$ patients, including the observed evidence that $x=15$ out of $n=20$ patients\n",
    "have responded to the drug treatment."
   ]
  },
  {
   "cell_type": "markdown",
   "metadata": {
    "collapsed": true
   },
   "source": [
    "#### Mean, variance and mode for a Beta(a,b) distribution"
   ]
  },
  {
   "cell_type": "code",
   "execution_count": 2,
   "metadata": {},
   "outputs": [],
   "source": [
    "Beta.mu<-function(a,b){\n",
    " mu<-a/(a+b)\n",
    " return(mu)\n",
    " }\n",
    "Beta.var<-function(a,b){\n",
    " sigma2<-a*b/((a+b)^2*(a+b+1))\n",
    " return(sigma2)\n",
    " }\n",
    "Beta.mode<-function(a,b){\n",
    " mode<-(a-1)/(a+b-2)\n",
    " }"
   ]
  },
  {
   "cell_type": "markdown",
   "metadata": {
    "collapsed": true
   },
   "source": [
    "#### Solving `a`, `b` in terms of `mu`, `sigma`\n",
    "\n",
    "From the observed `mu` and `sigma`:"
   ]
  },
  {
   "cell_type": "code",
   "execution_count": 3,
   "metadata": {},
   "outputs": [
    {
     "data": {
      "text/html": [
       "9.2"
      ],
      "text/latex": [
       "9.2"
      ],
      "text/markdown": [
       "9.2"
      ],
      "text/plain": [
       "[1] 9.2"
      ]
     },
     "metadata": {},
     "output_type": "display_data"
    },
    {
     "data": {
      "text/html": [
       "13.8"
      ],
      "text/latex": [
       "13.8"
      ],
      "text/markdown": [
       "13.8"
      ],
      "text/plain": [
       "[1] 13.8"
      ]
     },
     "metadata": {},
     "output_type": "display_data"
    }
   ],
   "source": [
    "mu<-0.4\n",
    "sigma<-0.1\n",
    "sigma2<-sigma^2\n",
    "G<-(mu*(1-mu))/sigma2-1\n",
    "a<-mu*G\n",
    "b<-(1-mu)*G\n",
    "round(a,3)\n",
    "round(b,3)"
   ]
  },
  {
   "cell_type": "markdown",
   "metadata": {
    "collapsed": true
   },
   "source": [
    "#### Observed data"
   ]
  },
  {
   "cell_type": "code",
   "execution_count": 4,
   "metadata": {},
   "outputs": [],
   "source": [
    "n<-20\n",
    "x<-15"
   ]
  },
  {
   "cell_type": "markdown",
   "metadata": {},
   "source": [
    "#### Likelihood \n",
    "\n",
    "(alternatively, we can use log-likelihood)"
   ]
  },
  {
   "cell_type": "code",
   "execution_count": 16,
   "metadata": {},
   "outputs": [],
   "source": [
    "Lik<-function(theta){\n",
    "    dbinom(x,size=n,prob=theta)\n",
    "    }\n",
    "log.Lik<-function(theta){\n",
    "    dbinom(x,size=n,prob=theta,log=TRUE)\n",
    "    }"
   ]
  },
  {
   "cell_type": "markdown",
   "metadata": {},
   "source": [
    "#### Prior\n",
    "\n",
    "(and log-prior)"
   ]
  },
  {
   "cell_type": "code",
   "execution_count": 6,
   "metadata": {},
   "outputs": [],
   "source": [
    "h<-function(theta){\n",
    "    return(dbeta(theta,shape1=a,shape2=b))\n",
    "    }\n",
    "log.h<-function(theta){\n",
    "    return(dbeta(theta,shape1=a,shape2=b,log=TRUE))\n",
    "    }"
   ]
  },
  {
   "cell_type": "markdown",
   "metadata": {},
   "source": [
    "#### Posterior (Non-normalized)"
   ]
  },
  {
   "cell_type": "code",
   "execution_count": 8,
   "metadata": {},
   "outputs": [],
   "source": [
    "posterior <- function(theta){\n",
    "    return (Lik(theta)*h(theta))\n",
    "    }\n",
    "log.posterior <- function(theta){\n",
    "    return (log.Lik(theta)+log.h(theta))\n",
    "    }"
   ]
  },
  {
   "cell_type": "markdown",
   "metadata": {},
   "source": [
    "#### Candidate proposal 1\n",
    "\n",
    "Normal with `sd=0.1` (try other sd values).\n",
    "\n",
    "Truncate at theta=0 and theta=1 to avoid out-of-space points.\n",
    "\n",
    "This is an (almost) symmetric pdf."
   ]
  },
  {
   "cell_type": "code",
   "execution_count": 10,
   "metadata": {},
   "outputs": [],
   "source": [
    "sd.proposal.1<-0.1\n",
    "proposal.1<-function(old.theta){\n",
    "    t<-rnorm(1,mean=old.theta, sd=sd.proposal.1)\n",
    "    return(max(0,min(1,t)))\n",
    "    }"
   ]
  },
  {
   "cell_type": "markdown",
   "metadata": {},
   "source": [
    "#### Candidate proposal 2\n",
    "\n",
    "A uniform on the interval `(old.theta-Delta,old.theta+Delta)`, with `Delta=0.1` - Try other `Delta` values.\n",
    "\n",
    "Truncate at `theta=0` and `theta=1` to avoid out-of-space points.\n",
    "\n",
    "This is an (almost) symmetric pdf."
   ]
  },
  {
   "cell_type": "code",
   "execution_count": 11,
   "metadata": {},
   "outputs": [],
   "source": [
    "Delta<-0.1\n",
    "proposal.2 <- function(old.theta){\n",
    "    t<-runif(1,min=old.theta-Delta,min=old.theta+Delta)\n",
    "    return(max(0,min(1,t)))\n",
    "}"
   ]
  },
  {
   "cell_type": "markdown",
   "metadata": {},
   "source": [
    "#### Candidate proposal 3\n",
    "\n",
    "Here `old.theta` is transformed from `(0,1)` to the real line with the `logit` function, there it undergoes a random increment, uniform on the interval: \n",
    "\n",
    "`(logit(old.theta)-L,logit(old.theta)+L)`, with `L=1.0` - Try other `L` values\n",
    "\n",
    "Then the result is transformed back to `(0,1)` with the logistic function."
   ]
  },
  {
   "cell_type": "code",
   "execution_count": null,
   "metadata": {},
   "outputs": [],
   "source": [
    "L<-1.0\n",
    "logit<-function(p){return(log(p/(1-p)))}\n",
    "logistic<-function(z){return(1/(1+exp(-z)))}\n",
    "proposal.3<-function(old.theta){\n",
    "    t<-runif(1,min=logit(old.theta)-L,max=logit(old.theta)+L)\n",
    "    return(logistic(t))\n",
    "    }"
   ]
  },
  {
   "cell_type": "markdown",
   "metadata": {},
   "source": [
    "#### Simulate a trajectory of the Metropolis Markov chain\n",
    "\n",
    "Either using the original posterior or its logarithm."
   ]
  },
  {
   "cell_type": "code",
   "execution_count": 12,
   "metadata": {},
   "outputs": [],
   "source": [
    "run.metropolis<-function(startvalue, iterations){\n",
    "    epsilon<-1.0e-8\n",
    "    chain<-rep(0,iterations+1)\n",
    "    chain[1]<-startvalue\n",
    "    for (i in 1:iterations){\n",
    "        candidate<-proposal(chain[i])\n",
    "        #print(sprintf(\"candidate = %f\",candidate))\n",
    "        pp<-posterior(chain[i])\n",
    "        #print(sprintf(\"pp = %f\",pp))\n",
    "        if(pp<epsilon)    # avoid division by 0\n",
    "            prob<-1\n",
    "        else\n",
    "            prob<-min(1,posterior(candidate)/pp)\n",
    "        #print(sprintf(\"prob = %f\",prob))\n",
    "        if(runif(1)<prob)\n",
    "            chain[i+1]<-candidate\n",
    "        else\n",
    "            chain[i+1]<-chain[i]\n",
    "        }\n",
    "     return(chain)\n",
    "    }\n",
    "# \n",
    "run.metropolis.with.logs<-function(startvalue, iterations){\n",
    "    M<-1.0e+12\n",
    "    chain<-rep(0,iterations+1)\n",
    "    chain[1]<-startvalue\n",
    "    for (i in 1:iterations){\n",
    "        candidate<-proposal(chain[i])\n",
    "        #print(sprintf(\"candidate = %f\",candidate))\n",
    "        log.pp<-log.posterior(chain[i])\n",
    "        #print(sprintf(\"pp = %f\",log.pp))\n",
    "        if(abs(log.pp)>M) # Avoid minus infinity in the exponential \n",
    "            prob<-1\n",
    "        else\n",
    "            prob<-min(1,exp(posterior(candidate)-log.pp))\n",
    "        #print(sprintf(\"prob = %f\",prob))\n",
    "        if (runif(1) < prob)\n",
    "            chain[i+1]<-candidate\n",
    "        else\n",
    "            chain[i+1]<-chain[i]\n",
    "        }\n",
    "    return(chain)\n",
    "    }"
   ]
  },
  {
   "cell_type": "markdown",
   "metadata": {},
   "source": [
    "#### MCMC: Run simulation\n",
    "\n",
    "- Choose one of the candidate generation pdf's\n",
    "\n",
    "- Discard first `burnIn` values (Values of `Chain.Length` and `burnIn` below are just indicative). Several possibilities should be tested.\n",
    "\n",
    "- Compare statistics from the chain with the known ones from the true posterior pdf.\n",
    "\n",
    "- Repeat steps above changing candidate generation pdf, chain length, `burnIn` length, thinning parameter."
   ]
  },
  {
   "cell_type": "code",
   "execution_count": 17,
   "metadata": {},
   "outputs": [],
   "source": [
    "proposal<-proposal.1\n",
    "Chain.Length<-15000\n",
    "startvalue<-0.5   # initial theta value\n",
    "chain<-run.metropolis(startvalue,Chain.Length)\n",
    "burnIn<-4000\n",
    "chain1<-chain[(burnIn+1):length(chain)]"
   ]
  },
  {
   "cell_type": "markdown",
   "metadata": {},
   "source": [
    "#### Traceplot and ACF of the resulting trajectory"
   ]
  },
  {
   "cell_type": "code",
   "execution_count": 19,
   "metadata": {},
   "outputs": [
    {
     "data": {
      "image/png": "[encoded data removed]",
      "text/plain": [
       "Plot with title \"ACF\""
      ]
     },
     "metadata": {},
     "output_type": "display_data"
    }
   ],
   "source": [
    "# plot the original trajectory, to assess whether burnIn is adequate\n",
    "#old.par<-par(mfrow=c(2,1))\n",
    "#plot(chain,type=\"l\",col=\"cyan\",ylab=\"theta\",main=\"Trajectory\")\n",
    "#acf(chain,col=\"cyan\",main=\"ACF\")\n",
    "#par(old.par)\n",
    "old.par<-par(mfrow=c(2,1))\n",
    "plot(chain1,type=\"l\",col=\"cyan\",ylab=\"theta\",main=\"Trajectory\")\n",
    "acf(chain1,col=\"cyan\",main=\"ACF\")\n",
    "par(old.par)"
   ]
  },
  {
   "cell_type": "markdown",
   "metadata": {},
   "source": [
    "#### Plot histogram with superimposed kernel density estimation"
   ]
  },
  {
   "cell_type": "code",
   "execution_count": 20,
   "metadata": {},
   "outputs": [
    {
     "name": "stderr",
     "output_type": "stream",
     "text": [
      "Loading required package: MASS\n"
     ]
    },
    {
     "data": {
      "image/png": "[encoded data removed]",
      "text/plain": [
       "Plot with title \"Histogram\""
      ]
     },
     "metadata": {},
     "output_type": "display_data"
    }
   ],
   "source": [
    "require(MASS)\n",
    "truehist(chain1,main=\"Histogram\")\n",
    "lines(density(chain1),lwd=2.5,col=\"blue\")"
   ]
  },
  {
   "cell_type": "markdown",
   "metadata": {},
   "source": [
    "#### Acceptance rate\n",
    "\n",
    "A duplicated entry in the chain results from a rejected candidate.\n",
    "\n",
    "For an overall measure of eficiency we should add both duplications and lost chain steps due to burn-in segment length."
   ]
  },
  {
   "cell_type": "code",
   "execution_count": 22,
   "metadata": {},
   "outputs": [
    {
     "data": {
      "text/html": [
       "0.63"
      ],
      "text/latex": [
       "0.63"
      ],
      "text/markdown": [
       "0.63"
      ],
      "text/plain": [
       "[1] 0.63"
      ]
     },
     "metadata": {},
     "output_type": "display_data"
    },
    {
     "data": {
      "text/html": [
       "0.46"
      ],
      "text/latex": [
       "0.46"
      ],
      "text/markdown": [
       "0.46"
      ],
      "text/plain": [
       "[1] 0.46"
      ]
     },
     "metadata": {},
     "output_type": "display_data"
    }
   ],
   "source": [
    "acceptance.rate<-1-mean(duplicated(chain1))\n",
    "round(acceptance.rate,2)\n",
    "overall.performance<-1-(burnIn+sum(duplicated(chain1)))/Chain.Length\n",
    "round(overall.performance,2)"
   ]
  },
  {
   "cell_type": "markdown",
   "metadata": {},
   "source": [
    "#### Compare chain average, variance, mode with the theoretical posterior quantities\n",
    "\n",
    "We known the posterior pdf is a beta distribution $Beta(a_1,b_1)$, with parameters:"
   ]
  },
  {
   "cell_type": "code",
   "execution_count": 23,
   "metadata": {},
   "outputs": [
    {
     "data": {
      "text/html": [
       "24.2"
      ],
      "text/latex": [
       "24.2"
      ],
      "text/markdown": [
       "24.2"
      ],
      "text/plain": [
       "[1] 24.2"
      ]
     },
     "metadata": {},
     "output_type": "display_data"
    },
    {
     "data": {
      "text/html": [
       "18.8"
      ],
      "text/latex": [
       "18.8"
      ],
      "text/markdown": [
       "18.8"
      ],
      "text/plain": [
       "[1] 18.8"
      ]
     },
     "metadata": {},
     "output_type": "display_data"
    },
    {
     "data": {
      "text/html": [
       "0.563"
      ],
      "text/latex": [
       "0.563"
      ],
      "text/markdown": [
       "0.563"
      ],
      "text/plain": [
       "[1] 0.563"
      ]
     },
     "metadata": {},
     "output_type": "display_data"
    },
    {
     "data": {
      "text/html": [
       "0.006"
      ],
      "text/latex": [
       "0.006"
      ],
      "text/markdown": [
       "0.006"
      ],
      "text/plain": [
       "[1] 0.006"
      ]
     },
     "metadata": {},
     "output_type": "display_data"
    },
    {
     "data": {
      "text/html": [
       "0.566"
      ],
      "text/latex": [
       "0.566"
      ],
      "text/markdown": [
       "0.566"
      ],
      "text/plain": [
       "[1] 0.566"
      ]
     },
     "metadata": {},
     "output_type": "display_data"
    },
    {
     "data": {
      "text/html": [
       "0.564"
      ],
      "text/latex": [
       "0.564"
      ],
      "text/markdown": [
       "0.564"
      ],
      "text/plain": [
       "[1] 0.564"
      ]
     },
     "metadata": {},
     "output_type": "display_data"
    },
    {
     "data": {
      "text/html": [
       "0.006"
      ],
      "text/latex": [
       "0.006"
      ],
      "text/markdown": [
       "0.006"
      ],
      "text/plain": [
       "[1] 0.006"
      ]
     },
     "metadata": {},
     "output_type": "display_data"
    },
    {
     "data": {
      "text/html": [
       "0.575"
      ],
      "text/latex": [
       "0.575"
      ],
      "text/markdown": [
       "0.575"
      ],
      "text/plain": [
       "[1] 0.575"
      ]
     },
     "metadata": {},
     "output_type": "display_data"
    }
   ],
   "source": [
    "a1<-a+x\n",
    "b1<-b+n-x\n",
    "round(a1,3)\n",
    "round(b1,3)\n",
    "#\n",
    "post.mu<-Beta.mu(a1,b1)\n",
    "round(post.mu,3)\n",
    "post.var<-Beta.var(a1,b1)\n",
    "round(post.var,3)\n",
    "post.mode<-Beta.mode(a1,b1)\t\n",
    "round(post.mode,3)\n",
    "#\n",
    "round(mean(chain1),3)\n",
    "round(var(chain1),3)\n",
    "h1<-hist(chain1,plot=FALSE)\n",
    "chain1.mode<-h1$mids[which.max(h1$counts)]\n",
    "round(chain1.mode,3)"
   ]
  },
  {
   "cell_type": "markdown",
   "metadata": {},
   "source": [
    "## Exercise 2"
   ]
  },
  {
   "cell_type": "markdown",
   "metadata": {},
   "source": [
    "Prepare and run a Metropolis-Hastings MCMC simulation for a simple least squares regression model.\n",
    "\n",
    "This exercise closely follows the explanatory text and R scripts in [Florian Hartig's blog.](https://theoreticalecology.wordpress.com/2010/09/17/metropolis-hastings-mcmc-in-r/)\n",
    "\n",
    "It is advisable to work in parallel, performing computations here and reading the blog explanations.\n",
    "\n",
    "Warning: I switched labels `a` and `b` for intercept and slope from Hartig's notation."
   ]
  },
  {
   "cell_type": "markdown",
   "metadata": {
    "collapsed": true
   },
   "source": [
    "#### Creating test data"
   ]
  },
  {
   "cell_type": "code",
   "execution_count": 5,
   "metadata": {},
   "outputs": [
    {
     "data": {
      "image/png": "[encoded data removed]",
      "text/plain": [
       "Plot with title \"Test Data\""
      ]
     },
     "metadata": {},
     "output_type": "display_data"
    }
   ],
   "source": [
    "trueA<-0  # R notation for abline: b is the slope\n",
    "trueB<-5\n",
    "trueSd<-10\n",
    "sampleSize<-31\n",
    "# create independent x-values \n",
    "x<-(-(sampleSize-1)/2):((sampleSize-1)/2)\n",
    "# create dependent values according to a + b*x + N(0,sd)\n",
    "y<-trueA+trueB*x+rnorm(n=sampleSize,mean=0,sd=trueSd)\n",
    "plot(x,y,pch='+',col=\"blue\",main=\"Test Data\")\n",
    "abline(trueA,trueB,lwd=2.5,col=\"cyan\")"
   ]
  },
  {
   "cell_type": "markdown",
   "metadata": {},
   "source": [
    "#### Adjust a classical linear model\n",
    "\n",
    "Assuming the common standard deviation is a known constant."
   ]
  },
  {
   "cell_type": "code",
   "execution_count": 30,
   "metadata": {},
   "outputs": [
    {
     "data": {
      "text/plain": [
       "\n",
       "Call:\n",
       "lm(formula = y ~ x)\n",
       "\n",
       "Residuals:\n",
       "    Min      1Q  Median      3Q     Max \n",
       "-20.676  -7.802  -1.271   9.761  21.010 \n",
       "\n",
       "Coefficients:\n",
       "            Estimate Std. Error t value Pr(>|t|)    \n",
       "(Intercept)   2.8983     1.9937   1.454    0.157    \n",
       "x             5.1198     0.2229  22.969   <2e-16 ***\n",
       "---\n",
       "Signif. codes:  0 '***' 0.001 '**' 0.01 '*' 0.05 '.' 0.1 ' ' 1\n",
       "\n",
       "Residual standard error: 11.1 on 29 degrees of freedom\n",
       "Multiple R-squared:  0.9479,\tAdjusted R-squared:  0.9461 \n",
       "F-statistic: 527.6 on 1 and 29 DF,  p-value: < 2.2e-16\n"
      ]
     },
     "metadata": {},
     "output_type": "display_data"
    },
    {
     "data": {
      "text/html": [
       "<table>\n",
       "<thead><tr><th></th><th scope=col>Df</th><th scope=col>Sum Sq</th><th scope=col>Mean Sq</th><th scope=col>F value</th><th scope=col>Pr(&gt;F)</th></tr></thead>\n",
       "<tbody>\n",
       "\t<tr><th scope=row>x</th><td> 1          </td><td>65007.444   </td><td>65007.4436  </td><td>527.5786    </td><td>3.736689e-20</td></tr>\n",
       "\t<tr><th scope=row>Residuals</th><td>29          </td><td> 3573.336   </td><td>  123.2185  </td><td>      NA    </td><td>          NA</td></tr>\n",
       "</tbody>\n",
       "</table>\n"
      ],
      "text/latex": [
       "\\begin{tabular}{r|lllll}\n",
       "  & Df & Sum Sq & Mean Sq & F value & Pr(>F)\\\\\n",
       "\\hline\n",
       "\tx &  1           & 65007.444    & 65007.4436   & 527.5786     & 3.736689e-20\\\\\n",
       "\tResiduals & 29           &  3573.336    &   123.2185   &       NA     &           NA\\\\\n",
       "\\end{tabular}\n"
      ],
      "text/markdown": [
       "\n",
       "| <!--/--> | Df | Sum Sq | Mean Sq | F value | Pr(>F) | \n",
       "|---|---|\n",
       "| x |  1           | 65007.444    | 65007.4436   | 527.5786     | 3.736689e-20 | \n",
       "| Residuals | 29           |  3573.336    |   123.2185   |       NA     |           NA | \n",
       "\n",
       "\n"
      ],
      "text/plain": [
       "          Df Sum Sq    Mean Sq    F value  Pr(>F)      \n",
       "x          1 65007.444 65007.4436 527.5786 3.736689e-20\n",
       "Residuals 29  3573.336   123.2185       NA           NA"
      ]
     },
     "metadata": {},
     "output_type": "display_data"
    },
    {
     "data": {
      "text/html": [
       "'Estimated intercept = 2.898000'"
      ],
      "text/latex": [
       "'Estimated intercept = 2.898000'"
      ],
      "text/markdown": [
       "'Estimated intercept = 2.898000'"
      ],
      "text/plain": [
       "[1] \"Estimated intercept = 2.898000\""
      ]
     },
     "metadata": {},
     "output_type": "display_data"
    },
    {
     "data": {
      "text/html": [
       "'Estimated slope = 5.120000'"
      ],
      "text/latex": [
       "'Estimated slope = 5.120000'"
      ],
      "text/markdown": [
       "'Estimated slope = 5.120000'"
      ],
      "text/plain": [
       "[1] \"Estimated slope = 5.120000\""
      ]
     },
     "metadata": {},
     "output_type": "display_data"
    },
    {
     "data": {
      "text/html": [
       "'Estimated std. deviation = 11.100000'"
      ],
      "text/latex": [
       "'Estimated std. deviation = 11.100000'"
      ],
      "text/markdown": [
       "'Estimated std. deviation = 11.100000'"
      ],
      "text/plain": [
       "[1] \"Estimated std. deviation = 11.100000\""
      ]
     },
     "metadata": {},
     "output_type": "display_data"
    },
    {
     "data": {
      "image/png": "[encoded data removed]",
      "text/plain": [
       "Plot with title \"Test Data\""
      ]
     },
     "metadata": {},
     "output_type": "display_data"
    }
   ],
   "source": [
    "lm.1<-lm(y~x)\n",
    "plot(x,y,pch='+',col=\"blue\",main=\"Test Data\")\n",
    "abline(trueA,trueB,lwd=2.5,col=\"cyan\")\n",
    "abline(lm.1,lwd=2.5,col=\"blue\")\n",
    "legend(\"topleft\",c(\"Generating line\",\"Regression line\"), lwd=2.5,col=c(\"cyan\",\"blue\"))\n",
    "summary(lm.1)\n",
    "a.hat<-as.numeric(lm.1$coefficients[1])\n",
    "b.hat<-as.numeric(lm.1$coefficients[2])\n",
    "lm.1.anova<-anova(lm.1)\n",
    "lm.1.anova\n",
    "# str(lm.1.anova)\n",
    "sigma2.hat<-lm.1.anova$Sum[2]/lm.1.anova$Df[2]\n",
    "sigma.hat<-sqrt(sigma2.hat)\n",
    "sprintf(\"Estimated intercept = %f\",round(a.hat,3))\n",
    "sprintf(\"Estimated slope = %f\",round(b.hat,3))\n",
    "sprintf(\"Estimated std. deviation = %f\",round(sigma.hat,3))"
   ]
  },
  {
   "cell_type": "markdown",
   "metadata": {},
   "source": [
    "#### Log-Likelihood\n",
    "\n",
    "We assume a normal linear model, that is, each observation $y_i\\sim\\operatorname{N}(a+b\\cdot x_i,\\sigma^2)$. \n",
    "\n",
    "Parameters are $a$ (intercept), $b$ (slope) and the common standard deviation $\\sigma$."
   ]
  },
  {
   "cell_type": "code",
   "execution_count": 13,
   "metadata": {},
   "outputs": [],
   "source": [
    "log.likelihood <- function(param){\n",
    "    a<-param[1]\n",
    "    b<-param[2]\n",
    "    sd<-param[3]\n",
    "    pred<-a+b*x\n",
    "    singleloglikelihoods = dnorm(y,mean=pred,sd=sd,log=TRUE)\n",
    "    sumll<-sum(singleloglikelihoods)\n",
    "    return(sumll)   \n",
    "    }"
   ]
  },
  {
   "cell_type": "code",
   "execution_count": 14,
   "metadata": {},
   "outputs": [
    {
     "data": {
      "image/png": "[encoded data removed]",
      "text/plain": [
       "plot without title"
      ]
     },
     "metadata": {},
     "output_type": "display_data"
    }
   ],
   "source": [
    "# Example: plot the loglikelihood profile of the slope b\n",
    "slopevalues<-function(b){return(log.likelihood(c(trueA,b,trueSd)))}\n",
    "slopelikelihoods<-lapply(seq(3,7,by=0.05),slopevalues)\n",
    "plot(seq(3,7,by=0.05),slopelikelihoods,type=\"l\",lwd=2.5,col=\"magenta\",xlab=\"Values of slope parameter b\", \n",
    "     ylab=\"Log likelihood\")\n",
    "abline(v=b.hat,col=\"cyan\",lwd=2.0) # Max likelihood estimator of b"
   ]
  },
  {
   "cell_type": "markdown",
   "metadata": {},
   "source": [
    "#### Prior\n",
    "\n",
    "- Normal prior for the intercept, with mean=0 and sd=5.\n",
    "- Uniform(0,10) for the slope.\n",
    "- Uniform(0,30) for the sd parameter."
   ]
  },
  {
   "cell_type": "code",
   "execution_count": 15,
   "metadata": {},
   "outputs": [],
   "source": [
    "log.prior <- function(param){\n",
    "    a<-param[1]\n",
    "    b<-param[2]\n",
    "    sd<-param[3]\n",
    "    aprior<-dnorm(a,mean=0,sd=5,log=TRUE)\n",
    "    bprior<-dunif(b,min=0,max=10,log=TRUE)\n",
    "    sdprior<-dunif(sd, min=0, max=30, log = TRUE)\n",
    "    return(aprior+bprior+sdprior)\n",
    "    }"
   ]
  },
  {
   "cell_type": "markdown",
   "metadata": {},
   "source": [
    "#### Unnormalized log-posterior"
   ]
  },
  {
   "cell_type": "code",
   "execution_count": 17,
   "metadata": {},
   "outputs": [],
   "source": [
    "log.posterior <- function(param){\n",
    "    return (log.likelihood(param)+log.prior(param))\n",
    "    }"
   ]
  },
  {
   "cell_type": "markdown",
   "metadata": {},
   "source": [
    "#### Proposal function for the Metropolis algorithm\n",
    "\n",
    "A normal pdf for each of the three parameters.\n",
    "\n",
    "The standard deviations should be decided by trial and error."
   ]
  },
  {
   "cell_type": "code",
   "execution_count": 18,
   "metadata": {},
   "outputs": [],
   "source": [
    "proposalfunction <- function(param){\n",
    "    return(rnorm(3,mean = param, sd= c(0.5,0.1,0.3)))\n",
    "    }"
   ]
  },
  {
   "cell_type": "markdown",
   "metadata": {},
   "source": [
    "#### Metropolis chain generation"
   ]
  },
  {
   "cell_type": "code",
   "execution_count": 21,
   "metadata": {},
   "outputs": [],
   "source": [
    "metropolis_MCMC <- function(startvalue, iterations){\n",
    "    chain<-array(dim = c(iterations+1,3))\n",
    "    chain[1,]<-startvalue\n",
    "    for (i in 1:iterations){\n",
    "        proposal<-proposalfunction(chain[i,])\n",
    "        probab<-exp(log.posterior(proposal) - log.posterior(chain[i,]))\n",
    "        if (runif(1)<probab)\n",
    "            chain[i+1,]<-proposal\n",
    "        else\n",
    "            chain[i+1,]<-chain[i,]\n",
    "        }\n",
    "    return(chain)\n",
    "    }"
   ]
  },
  {
   "cell_type": "markdown",
   "metadata": {},
   "source": [
    "#### Run simulation \n",
    "\n",
    "- Decide chain length and `burnIn`\n",
    "\n",
    "- Run simulation and discard first `burnIn` values\n",
    "\n",
    "- Compute the acceptance rate"
   ]
  },
  {
   "cell_type": "code",
   "execution_count": 23,
   "metadata": {},
   "outputs": [
    {
     "data": {
      "text/html": [
       "0.805"
      ],
      "text/latex": [
       "0.805"
      ],
      "text/markdown": [
       "0.805"
      ],
      "text/plain": [
       "[1] 0.805"
      ]
     },
     "metadata": {},
     "output_type": "display_data"
    }
   ],
   "source": [
    "#ChainLength<-10000\n",
    "ChainLength<-50000\n",
    "startvalue<-c(0,4,10)\n",
    "chain<-metropolis_MCMC(startvalue,ChainLength)\n",
    "# \n",
    "#burnIn<-5000\n",
    "burnIn<-10000\n",
    "acceptance<-1-mean(duplicated(chain[-(1:burnIn),]))\n",
    "round(acceptance,3)"
   ]
  },
  {
   "cell_type": "markdown",
   "metadata": {},
   "source": [
    "#### Posterior histograms\n",
    "\n",
    "With superimposed vertical lines indicating \"True\" values (i.e., values originally used for generating the sample), and estimated values, the LS=ML estimates obtained from the classical linear model adjustment."
   ]
  },
  {
   "cell_type": "code",
   "execution_count": 31,
   "metadata": {
    "scrolled": true
   },
   "outputs": [
    {
     "data": {
      "image/png": "[encoded data removed]",
      "text/plain": [
       "Plot with title \"Posterior of sd\""
      ]
     },
     "metadata": {},
     "output_type": "display_data"
    }
   ],
   "source": [
    "old.par<-par(mfrow = c(3,1))\n",
    "hist(chain[-(1:burnIn),1],nclass=30, , main=\"Posterior of a\", xlab=\"True = red line; estimated = cyan line\")\n",
    "abline(v = mean(chain[-(1:burnIn),1]),lwd=2.5)\n",
    "abline(v = trueA,lwd=2.5, col=\"red\")\n",
    "abline(v=a.hat,lwd=2.5,col=\"cyan\")\n",
    "hist(chain[-(1:burnIn),2],nclass=30, main=\"Posterior of b\", xlab=\"True = red line; estimated = cyan line\")\n",
    "abline(v = mean(chain[-(1:burnIn),2]))\n",
    "abline(v = trueB,lwd=2.5, col=\"red\")\n",
    "abline(v=b.hat,lwd=2.5,col=\"cyan\")\n",
    "hist(chain[-(1:burnIn),3],nclass=30, main=\"Posterior of sd\", xlab=\"True = red line; estimated = cyan line\")\n",
    "abline(v = mean(chain[-(1:burnIn),3]))\n",
    "abline(v = trueSd,lwd=2.5, col=\"red\" )\n",
    "abline(v = sigma.hat,lwd=2.5, col=\"cyan\")\n",
    "par(old.par)"
   ]
  },
  {
   "cell_type": "markdown",
   "metadata": {},
   "source": [
    "#### Traceplot"
   ]
  },
  {
   "cell_type": "code",
   "execution_count": 32,
   "metadata": {},
   "outputs": [
    {
     "data": {
      "image/png": "[encoded data removed]",
      "text/plain": [
       "Plot with title \"Chain values of sd\""
      ]
     },
     "metadata": {},
     "output_type": "display_data"
    }
   ],
   "source": [
    "old.par<-par(mfrow = c(3,1))\n",
    "plot(chain[-(1:burnIn),1], type = \"l\", xlab=\"True value = red line\" , main = \"Chain values of a\", )\n",
    "abline(h=trueA,lwd=2.0,col=\"red\")\n",
    "abline(h=a.hat,lwd=2.0,col=\"cyan\")\n",
    "plot(chain[-(1:burnIn),2], type = \"l\", xlab=\"True value = red line\" , main = \"Chain values of b\", )\n",
    "abline(h=trueB,lwd=2.0,col=\"red\")\n",
    "abline(h=b.hat,lwd=2.0,col=\"cyan\")\n",
    "plot(chain[-(1:burnIn),3], type = \"l\", xlab=\"True value = red line\" , main = \"Chain values of sd\", )\n",
    "abline(h=trueSd,lwd=2.0,col=\"red\")\n",
    "abline(h=sigma.hat,lwd=2.0,col=\"cyan\")\n",
    "par(old.par) "
   ]
  }
 ],
 "metadata": {
  "kernelspec": {
   "display_name": "R",
   "language": "R",
   "name": "ir"
  },
  "language_info": {
   "codemirror_mode": "r",
   "file_extension": ".r",
   "mimetype": "text/x-r-source",
   "name": "R",
   "pygments_lexer": "r",
   "version": "3.4.3"
  }
 },
 "nbformat": 4,
 "nbformat_minor": 2
}
