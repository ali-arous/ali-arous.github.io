{
 "cells": [
  {
   "cell_type": "markdown",
   "metadata": {},
   "source": [
    "# Gibbs sampling 03"
   ]
  },
  {
   "cell_type": "markdown",
   "metadata": {},
   "source": [
    "#### Josep Fortiana 2018-12-05"
   ]
  },
  {
   "cell_type": "markdown",
   "metadata": {},
   "source": [
    "## Exercise 3"
   ]
  },
  {
   "cell_type": "markdown",
   "metadata": {},
   "source": [
    "Write a function that applies slice sampling to generate a sequence of random numbers distributed according to the density:\n",
    "    \n",
    "$$\n",
    "\tf(x)=\\frac{1}{2}\\,e^{-\\sqrt{x}},\\mskip30mu x>0.\n",
    "$$\n",
    "\n",
    "Check that this function is indeed a regular pdf. With the same effort compute the cdf for this pdf. \n",
    "\t\n",
    "Plot the traceplot and the  ACF of the resulting sequence. What do you observe?\n",
    "\t\n",
    "What sample size is needed to obtain an acceptable adjustment to the theoretical pdf? _Hint:_ See the Kolmogorov-Smirnov test, function `ks.test` in the `stats` package.\n",
    "\t\n",
    "Is it straightforward to design a RNG for this distribution by the inverse cdf method?\n",
    "\n",
    "Make the transformation $Y=\\sqrt{X}$ and show that $Y\\sim\\operatorname{Gamma}(2,1)$, i.e., a sum of two independent exponentials. Use this fact to simulate directly $X$. Compare with the slice sampler."
   ]
  },
  {
   "cell_type": "code",
   "execution_count": null,
   "metadata": {},
   "outputs": [],
   "source": [
    "#\n",
    "# Insert here your code\n",
    "#"
   ]
  }
 ],
 "metadata": {
  "kernelspec": {
   "display_name": "R",
   "language": "R",
   "name": "ir"
  },
  "language_info": {
   "codemirror_mode": "r",
   "file_extension": ".r",
   "mimetype": "text/x-r-source",
   "name": "R",
   "pygments_lexer": "r",
   "version": "3.4.2"
  }
 },
 "nbformat": 4,
 "nbformat_minor": 2
}
