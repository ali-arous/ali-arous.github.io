{
 "cells": [
  {
   "cell_type": "markdown",
   "metadata": {},
   "source": [
    "# Gibbs sampling 04"
   ]
  },
  {
   "cell_type": "markdown",
   "metadata": {},
   "source": [
    "#### Josep Fortiana 2018-12-05"
   ]
  },
  {
   "cell_type": "markdown",
   "metadata": {},
   "source": [
    "## Exercise 4"
   ]
  },
  {
   "cell_type": "markdown",
   "metadata": {},
   "source": [
    "Robert, Casella (2010), _Introducing Monte Carlo Methods with R,_ Chapter 7, Example 7.2 and Exercise 7.2. \n",
    "\n",
    "The pair of distributions:\n",
    "\n",
    "$$\n",
    "\tX\\,|\\,\\theta \\sim\\operatorname{B}(n,\\theta) ; \\mskip60mu \\theta\\sim \\operatorname{Beta}(\\alpha,\\beta)\n",
    "$$\n",
    "\n",
    "leads to the joint distribution:\n",
    "\n",
    "$$\n",
    "\tf(x,\\theta\\,|\\,\\alpha,\\beta) ={n \\choose x}\\cdot\\dfrac{\\Gamma(\\alpha+\\beta)}{\\Gamma(\\alpha)\\,\\Gamma(\\beta)}\\,\n",
    "\t\\theta^{x+\\alpha-1}\\,(1-\\theta)^{n-x+\\beta-1},\\mskip40mu x=0,1,\\dots,n,\\quad\\theta\\in(0,1).\n",
    "$$\n",
    "\n",
    "Taking into account that the conditional distribution of $X\\,|\\,\\theta$ is given above, while $\\theta\\,|\\,x \\sim\\operatorname{Beta}(x+\\alpha,n-x+\\beta)$, implement the associated Gibbs sampler, run it and assess its performance.\n",
    "\t\n",
    "Recall, from the Binomial model chapter, that the $X$ marginal (prior predictive pdf) is known to be a Beta-binomial distribution $\\operatorname{Beta-binomial}(n,\\alpha,\\beta)$. Compare the frequency table and histogram (or bar plot) of the $X$ output from the Gibbs sampler to the pmf and corresponding graph for the Beta-binomial distribution. You may use the implementation `BetaBinom` in the `extraDistr` package\n",
    "\n",
    "Package `mcsm` contains data and functions for the Robert and Casella book. In particular, under `Code demonstrations` for Chapter 7 you can find a code excerpt for this exercise."
   ]
  },
  {
   "cell_type": "code",
   "execution_count": null,
   "metadata": {},
   "outputs": [],
   "source": [
    "#\n",
    "# Insert here your code\n",
    "#"
   ]
  }
 ],
 "metadata": {
  "kernelspec": {
   "display_name": "R",
   "language": "R",
   "name": "ir"
  },
  "language_info": {
   "codemirror_mode": "r",
   "file_extension": ".r",
   "mimetype": "text/x-r-source",
   "name": "R",
   "pygments_lexer": "r",
   "version": "3.4.2"
  }
 },
 "nbformat": 4,
 "nbformat_minor": 2
}
