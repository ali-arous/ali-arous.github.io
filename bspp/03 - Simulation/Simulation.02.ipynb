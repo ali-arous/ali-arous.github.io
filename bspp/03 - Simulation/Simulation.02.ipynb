{
 "cells": [
  {
   "cell_type": "markdown",
   "metadata": {},
   "source": [
    "# Simulation 02"
   ]
  },
  {
   "cell_type": "markdown",
   "metadata": {},
   "source": [
    "#### 2018-10-03                                     Josep Fortiana "
   ]
  },
  {
   "cell_type": "markdown",
   "metadata": {},
   "source": [
    "## Non uniform random numbers 01: Inverse transformation"
   ]
  },
  {
   "cell_type": "markdown",
   "metadata": {},
   "source": [
    "The most frequent methods used to generate random numbers following non-uniform distributions, including those we saw in last session, hardwired inside the pre-programmed `r*` `R` functions for well-known distributions, are:\n",
    "\n",
    "1.  The inverse transformation method (for univariate distributions)\n",
    "\n",
    "2.  For discrete distributions, random sampling following a given pmf (which may be considered a particular instance\n",
    "    of the above)\n",
    "\n",
    "3.  The acceptance-rejection method.\n",
    "\n",
    "4.  Other transformation-based methods, specific for certain distributions.\n",
    "\n",
    "In this session we will be working with the first two. Next session will be devoted to the rejection sampling method of generating random numbers, which is important both in itself and as a hint to the all-important MCMC methods, which feature a rejection scheme as a crucial step.\n",
    "\n",
    "Based on the following property: assume $F:\\mathbf{R}\\to[0,1]$ is a univariate cdf, that is, a function such that,\n",
    "\n",
    "-   $F: \\mathbf{R}\\to[0,1]$ is a non-decreasing, right-continuous function,\n",
    "\n",
    "-   $F(-\\infty)=0$, $F(+\\infty)=1$.\n",
    "\n",
    "Consider the *quantile, or (left-continuous) pseudoinverse* $F^{-}:[0,1]\\to \\mathbf{R}$ of $F$ (when $F$ is an is an injective function, $F^{-}=F^{-1}$, the ordinary inverse function).\n",
    "\n",
    "Given a $U\\sim\\mbox{Unif}[0,1]$, we define the new : \n",
    "$$\n",
    "    X\\equiv F^{-}\\circ U=F^{-}(U).\n",
    "$$\n",
    "\n",
    "\n",
    "It can be proved that $X$ is a r.v.  whose cdf is $F$. This fact is very intuitive when $F$ is a continuous injective function, with inverse function $F^{-1}$. Given any real number $x\\in\\mathbf{R}$, the value at $x$ of the probability distribution function of $X$ is, by definition:\n",
    "\n",
    "$$\n",
    "    P[X\\leq x]=P[F^{-1}(U)\\leq x]=P[U\\leq F(x)]=F(x).\n",
    "$$\n",
    "\n",
    "The last equality is due to the fact that the cdf of a $\\mbox{Unif}[0,1]$ coincides with the identity function on the interval $(0,1)$. For a proof in the general case, see the Appendix to Chapter 3 in [Fortiana, J.; Nualart, D. (1999) Estadística (catalan)](http://cataleg.ub.edu/record=b1396567~S1*cat).\n",
    "\n",
    "If $\\mathbf{u}$ is a RSN (Random Sequence of Numbers), distributed as a $\\mbox{Unif}[0,1]$, then the sequence $\\mathbf{x}$ defined as: \n",
    "$$\n",
    "    x_{t}=F^{-}(u_{t}),\\quad t\\geq 1,\n",
    "$$\n",
    "is a RSN with distribution $F$.\n",
    "\n",
    "This method has two important limitations:\n",
    "\n",
    "1.  Valid only for one-dimensional ,\n",
    "\n",
    "2.  Requires that $F^{-}$ can be computed.\n"
   ]
  },
  {
   "cell_type": "markdown",
   "metadata": {},
   "source": [
    "### Exercise"
   ]
  },
  {
   "cell_type": "markdown",
   "metadata": {},
   "source": [
    "Design and write the code for a generator of random numbers for the $\\mbox{Exp}(\\lambda)$ distribution based on the inverse cdf transformation method."
   ]
  },
  {
   "cell_type": "markdown",
   "metadata": {},
   "source": [
    "### Solution"
   ]
  },
  {
   "cell_type": "markdown",
   "metadata": {},
   "source": [
    "1. Compute the quantile function $Q(y)=F^{-1}(y)$:\n",
    "$$\n",
    "\t\t{\\renewcommand{\\arraystretch}{1.2}\\begin{array}{lcl}\n",
    "\t\tF(x)\t\t&=\t&1-\\exp(-\\lambda\\,x)=y,\\\\\n",
    "\t\t1-y\t\t\t&=\t&\\exp(-\\lambda\\,x),\\\\\n",
    "\t\t\\log(1-y)\t&=\t&-\\lambda\\,x,\\\\\n",
    "\t\tx\t\t\t&=\t&-\\dfrac{1}{\\lambda}\\,\\log(1-y).\n",
    "\t\t\\end{array}}%\n",
    "$$\n",
    "\n",
    "2. Code for a function to compute random numbers following the $\\mbox{Exp}(\\lambda)$ distribution.\n",
    "```\n",
    "my.rexp<-function(n,rate=1){\n",
    "            return(-log(1-runif(n))/rate)\n",
    "            }\n",
    "```\n",
    "\n",
    "3. Compare to the `rexp` function from the R `stats` package."
   ]
  },
  {
   "cell_type": "code",
   "execution_count": 14,
   "metadata": {},
   "outputs": [
    {
     "data": {
      "image/png": "[encoded data removed]",
      "text/plain": [
       "Plot with title \"Generated with my.rexp\""
      ]
     },
     "metadata": {},
     "output_type": "display_data"
    }
   ],
   "source": [
    "require(MASS)\n",
    "my.rexp<-function(n,rate=1){\n",
    "         return(-log(1-runif(n))/rate)\n",
    "         }\n",
    "n<-10000\n",
    "lambda<-2.5\n",
    "x1<-rexp(n,rate=lambda)\n",
    "x2<-my.rexp(n,rate=lambda)\n",
    "old.par<-par(mfrow=c(1,2))\n",
    "u<-seq(0,2*lambda,length=500)\n",
    "truehist(x1,main=\"Generated with rexp\")\n",
    "lines(u,dexp(u,rate=lambda),lwd=2.5,col=\"blue\")\n",
    "truehist(x2,main=\"Generated with my.rexp\")\n",
    "lines(u,dexp(u,rate=lambda),lwd=2.5,col=\"blue\")\n",
    "par(old.par)\n"
   ]
  },
  {
   "cell_type": "code",
   "execution_count": null,
   "metadata": {},
   "outputs": [],
   "source": [
    "hist(x2,col, )\n",
    "\n",
    "\n",
    "# ?hist"
   ]
  },
  {
   "cell_type": "markdown",
   "metadata": {},
   "source": [
    "### Exercise"
   ]
  },
  {
   "cell_type": "markdown",
   "metadata": {},
   "source": [
    "Design, write the code for and test (by comparing its output with that of the pre-programmed R function) a generator of random numbers for the $\\mbox{Cauchy}(x_{0},\\gamma)$ distribution  based on the inverse cdf transformation method. "
   ]
  },
  {
   "cell_type": "code",
   "execution_count": 2,
   "metadata": {},
   "outputs": [],
   "source": [
    "#\n",
    "# (Insert here your code)\n",
    "#"
   ]
  },
  {
   "cell_type": "markdown",
   "metadata": {},
   "source": [
    "### Exercise"
   ]
  },
  {
   "cell_type": "markdown",
   "metadata": {},
   "source": [
    "Design, write the code for and test (by comparing its output with that of the pre-programmed R function) a generator of random numbers for the $\\mbox{Logistic}(\\mu,s)$ distribution based on the inverse cdf transformation method. "
   ]
  },
  {
   "cell_type": "code",
   "execution_count": 3,
   "metadata": {},
   "outputs": [],
   "source": [
    "#\n",
    "#(Insert here your code)\n",
    "#"
   ]
  },
  {
   "cell_type": "markdown",
   "metadata": {},
   "source": [
    "## Non uniform random numbers 02: Discrete distributions"
   ]
  },
  {
   "cell_type": "markdown",
   "metadata": {},
   "source": [
    "A vector $\\mathbf{z}$ of $n$ random numbers following a given discrete distribution, with vector of values $\\mathbf{x}=(x_{1},\\dots,x_{m})$ and vector of probabilities $\\mathbf{d}=(d_{1},\\dots,d_{m})$, can be generated from a vector $\\mathbf{u}$ of $n$ $\\mbox{Unif}(0,1)$-distributed random numbers by relying on the fact that a $\\mbox{Unif}(0,1)$ distribution is characterized by the property that the probability of any subsegment of $[0,1]$ is equal to its length.\n",
    "\n",
    "Thus, if we subdivide the $[0,1]$ segment into $m$ pieces of lengths $(d_{1},\\dots,d_{m})$, respectively, each $(0,1)$-uniform random number $u_{i}$ will fall onto a $j$-th piece of length $d_{j}$ with probability equal to $d_{j}$. Then we assign:\n",
    "\n",
    "$$\n",
    "    z_{i}=x_{j},\\quad\\text{  if }\\quad u_{i}\\quad\\text{ falls onto the segment of length }d_{j}.\n",
    "$$\n",
    "\n",
    "The following code is an (admittedly suboptimal) implementation of this principle:"
   ]
  },
  {
   "cell_type": "code",
   "execution_count": 19,
   "metadata": {},
   "outputs": [
    {
     "name": "stdout",
     "output_type": "stream",
     "text": [
      " [1] 0.000 0.100 0.105 0.110 0.205 0.285 0.300 0.700 0.900 0.950\n",
      " [1] 0.100 0.105 0.110 0.205 0.285 0.300 0.700 0.900 0.950 1.000\n"
     ]
    },
    {
     "data": {
      "text/html": [
       "<ol class=list-inline>\n",
       "\t<li>25</li>\n",
       "\t<li>23</li>\n",
       "\t<li>9</li>\n",
       "\t<li>23</li>\n",
       "\t<li>9</li>\n",
       "\t<li>23</li>\n",
       "\t<li>77</li>\n",
       "\t<li>9</li>\n",
       "\t<li>9</li>\n",
       "\t<li>77</li>\n",
       "</ol>\n"
      ],
      "text/latex": [
       "\\begin{enumerate*}\n",
       "\\item 25\n",
       "\\item 23\n",
       "\\item 9\n",
       "\\item 23\n",
       "\\item 9\n",
       "\\item 23\n",
       "\\item 77\n",
       "\\item 9\n",
       "\\item 9\n",
       "\\item 77\n",
       "\\end{enumerate*}\n"
      ],
      "text/markdown": [
       "1. 25\n",
       "2. 23\n",
       "3. 9\n",
       "4. 23\n",
       "5. 9\n",
       "6. 23\n",
       "7. 77\n",
       "8. 9\n",
       "9. 9\n",
       "10. 77\n",
       "\n",
       "\n"
      ],
      "text/plain": [
       " [1] 25 23  9 23  9 23 77  9  9 77"
      ]
     },
     "metadata": {},
     "output_type": "display_data"
    }
   ],
   "source": [
    "r.disc.rv.1<-function(n,x,d){\n",
    "    k<-length(d)\n",
    "    p<-c(0,cumsum(d))\n",
    "    \n",
    "    p0<-p[-(k+1)]\n",
    "    p1<-p[-1] #\n",
    "    print(p0) #\n",
    "    print(p1) #\n",
    "    z<-rep(0,n)\n",
    "    for (i in 1:n){\n",
    "        u<-runif(1)\n",
    "        Ind<-(p0<=u)&(u<p1)\n",
    "        z[i]=sum(x*Ind)\n",
    "        }\n",
    "    return(z)\n",
    "    } #\n",
    "r.disc.rv.1(10, c(23,55,4,21,77,6,9,88,14,25), c(0.1,0.005,0.005,0.095,0.08,0.015,0.4,0.2,0.05,0.05))"
   ]
  },
  {
   "cell_type": "markdown",
   "metadata": {},
   "source": [
    "A much more efficient code,\tusing the `sample` function in R (see its help page), is as follows:"
   ]
  },
  {
   "cell_type": "code",
   "execution_count": 5,
   "metadata": {},
   "outputs": [],
   "source": [
    "r.disc.rv<-function(n,x,d){\n",
    "    z<-sample(x,size=n,replace=TRUE,prob=d)\n",
    "    return(z)\n",
    "    }"
   ]
  },
  {
   "cell_type": "markdown",
   "metadata": {},
   "source": [
    "You can check that the first method as implemented in `r.disc.rv.1` is, in fact, just a literal implementation of the inverse cdf transformation method, where the pseudoinverse $Q=F^{-}$ of the non-injective, discrete step function cdf $F$ is used.\t\t"
   ]
  },
  {
   "cell_type": "markdown",
   "metadata": {},
   "source": [
    "### Exercise"
   ]
  },
  {
   "cell_type": "markdown",
   "metadata": {},
   "source": [
    "In the Wikipedia article [Letter frequency](https://en.wikipedia.org/wiki/Letter_frequency) you can find a table with the proportion of appearance of each letters in the English language. Using `r.disc.rv` compute a sequence of `n=10000` random letters following this distribution."
   ]
  },
  {
   "cell_type": "code",
   "execution_count": 3,
   "metadata": {
    "collapsed": true
   },
   "outputs": [],
   "source": [
    "#\n",
    "#(Insert here your code)\n",
    "#"
   ]
  },
  {
   "cell_type": "markdown",
   "metadata": {},
   "source": [
    "## Simulation in Bayesian Statistics"
   ]
  },
  {
   "cell_type": "markdown",
   "metadata": {},
   "source": [
    "Work in computational Bayesian Statistics consists most often of extracting information about a probability distribution from a sample of numbers following such distribution, generated with a more or less involved simulation procedure. The unknown distribution target will not be a _named_ well-known distribution. \n",
    "\n",
    "Now we begin to learn how to do this with the tools we have seen so far.\n",
    "\n",
    "The following code can be used to simulate the random experiment of repeatedly tossing a regular coin, stopping when it falls heads. Yes, we know that the counting r.v. $Y\\sim\\mbox{geomdist}(1/2)$, so calling `rgeom` would be easier and more efficient, but lets forget that for a while. \n",
    "\n",
    "The function returns a length `n` vector `y` containing an $n$-sample of the r.v. $Y=$ “number of tosses needed to obtain a heads result\". $N$ is a reasonable upper bound to $Y$, just to avoid a potentially too long run."
   ]
  },
  {
   "cell_type": "code",
   "execution_count": 53,
   "metadata": {},
   "outputs": [],
   "source": [
    "sim.rep.coin.y<-function(n,prob=0.5,N=500){\n",
    "    y<-rep(0,n)\n",
    "    for (i in 1:n){\n",
    "        k<-0\n",
    "        while (k<N){\n",
    "            k<-k+1\n",
    "            if (rbinom(1,size=1,prob=prob)==1) break\n",
    "            }\n",
    "        y[i]<-k\n",
    "        }\n",
    "    return(y)\n",
    "    }"
   ]
  },
  {
   "cell_type": "markdown",
   "metadata": {},
   "source": [
    "### Exercise"
   ]
  },
  {
   "cell_type": "markdown",
   "metadata": {},
   "source": [
    "There are two possible definitions for a geometric r.v., the one above and $X=$ “number of tails before the first heads result\". Obviously $X=Y-1$ and while $Y$  takes values $1,2,3,\\dots$, $X$ takes values $0,1,2,\\dots$. The `R` implementation of the geometric distribution uses the $X$ definition. Modify the code above to be able to compare output to that of `rgeom`."
   ]
  },
  {
   "cell_type": "code",
   "execution_count": 7,
   "metadata": {},
   "outputs": [],
   "source": [
    "sim.rep.coin.x<-function(n,prob=0.5,N=500){\n",
    "    #\n",
    "    #(Insert here your code)\n",
    "    #\n",
    "    }"
   ]
  },
  {
   "cell_type": "markdown",
   "metadata": {},
   "source": [
    "### Exercise"
   ]
  },
  {
   "cell_type": "markdown",
   "metadata": {},
   "source": [
    "From a sequence `x` of random numbers generated with `sim.rep.coin.x` we can estimate many things: the pmf of the $X$ by tabulating `x`, the expectation $\\mbox{E}(X)$ (How?), etc., and answer questions such as: What is the probability of $[X>4]$? Which is the most probable value of $X$?, What is the probability of some given value?"
   ]
  },
  {
   "cell_type": "code",
   "execution_count": 8,
   "metadata": {},
   "outputs": [],
   "source": [
    "# Insert here your code for estimating \n",
    "# (1) the pmf of X, \n",
    "# (2) its expectation and variance, \n",
    "# (3) the probability of [X>a] for a given a, \n",
    "# (4) a value x0 of X such that P[X>x0]>=0.9,\n",
    "# (5) the most probable value of X."
   ]
  },
  {
   "cell_type": "markdown",
   "metadata": {},
   "source": [
    "### Exercise"
   ]
  },
  {
   "cell_type": "markdown",
   "metadata": {},
   "source": [
    "We have an urn with $a$ white balls and $b$ black balls, where $a,b$ are positive integers. A ball is randomly selected from the urn, and is returned to the urn along with an additional number, $c\\in\\mathbf{Z}$ (positive or negative), of balls of its same color, from sufficiently large repositories with balls of both colors. The process is repeated $m\\in\\mathbf{N}$ times. Let $X=$ total number of white balls in the $m$ extractions. This scheme generalizes the standard models of sampling with and without replacement. For $c=-1$ we recover the *sampling without replacement scheme (hypergeometric sampling),* and for $c=0$ we recover the *sampling with replacement scheme (binomial sampling).* The general case is called *Polya’s Urn scheme.*See [Pólya's Urn Process](http://www.randomservices.org/random/urn/Polya.html) for context information.\n",
    "\n",
    "1. Write code to simulate Pólya's urn experiment.\n",
    "\n",
    "2. Then write a random number generator to obtain a sample of $n$ independent $X$ values (for some given a,b,c). \n",
    "\n",
    "3. Describe the pmf and moments of the resulting $X$ as in the exercise above."
   ]
  },
  {
   "cell_type": "code",
   "execution_count": null,
   "metadata": {
    "collapsed": true
   },
   "outputs": [],
   "source": [
    "# try all the exercises except for this one! thig might be \n",
    "#\n",
    "#(Insert here your code)\n",
    "#"
   ]
  }
 ],
 "metadata": {
  "kernelspec": {
   "display_name": "R",
   "language": "R",
   "name": "ir"
  },
  "language_info": {
   "codemirror_mode": "r",
   "file_extension": ".r",
   "mimetype": "text/x-r-source",
   "name": "R",
   "pygments_lexer": "r",
   "version": "3.4.3"
  }
 },
 "nbformat": 4,
 "nbformat_minor": 2
}
