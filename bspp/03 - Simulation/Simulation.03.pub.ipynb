{
 "cells": [
  {
   "cell_type": "markdown",
   "metadata": {},
   "source": [
    "# Simulation 03"
   ]
  },
  {
   "cell_type": "markdown",
   "metadata": {},
   "source": [
    "##### 2018-10-10  Josep Fortiana"
   ]
  },
  {
   "cell_type": "markdown",
   "metadata": {
    "collapsed": true
   },
   "source": [
    "## Basic acceptance-rejection algorithm"
   ]
  },
  {
   "cell_type": "markdown",
   "metadata": {},
   "source": [
    "A straightforward implementation of the basic acceptance-rejection algorithm. \n",
    "Code for generating a sequence of random numbers following a given probability distribution, with parameters:\n",
    "- `n` is the sequence length,\n",
    "- `f` is the target pdf, \n",
    "- `g` is the candidate pdf, \n",
    "- `rg` is a function that generates random numbers following `g`. \n",
    "- `c` is the constant such that `f(x)<=c * g(x)` for all `x`.\n",
    "\n",
    "The function returns a list with `z`, the sequence of random numbers, and `Proportion` of accepted values."
   ]
  },
  {
   "cell_type": "code",
   "execution_count": 3,
   "metadata": {},
   "outputs": [],
   "source": [
    "Accept.Reject<-function(f,g,rg,c,n=1.0e4){\n",
    "    z<-rep(0,n) \n",
    "    N<-0\n",
    "    for (i in 1:n){\n",
    "        accept<-FALSE\n",
    "        while (accept == FALSE){\n",
    "            u <- runif(1)\n",
    "            v <- rg(1)\n",
    "            N<-N+1\n",
    "            if (c*u <= f(v)/g(v)){\n",
    "                z[i] <- v\n",
    "                accept <- TRUE\n",
    "                }\n",
    "            }\n",
    "        }\n",
    "    Proportion<-n/N\n",
    "    return(list(z=z,Proportion=Proportion))\n",
    "    }"
   ]
  },
  {
   "cell_type": "markdown",
   "metadata": {
    "collapsed": true
   },
   "source": [
    "### Exercise 1"
   ]
  },
  {
   "cell_type": "markdown",
   "metadata": {},
   "source": [
    "Generate a sequence of random numbers following a $\\mbox{Beta}(2,2)$ using a $\\mbox{Unif}(0,1)$ candidate pdf.\n",
    "\n",
    "The target pdf `f(x)`is:\n",
    "\n",
    "$$\n",
    "    f(x)=6\\,x\\,(1-x)=6\\,(x-x^{2}), \\quad x\\in(0,1).\n",
    "$$\n",
    "\n",
    "The candidate $\\mbox{Unif}(0,1)$ pdf is:\n",
    "\n",
    "$$\n",
    "    g(x)=1, \\quad x\\in(0,1).\n",
    "$$\n",
    "\n",
    "The steps are:\n",
    "\n",
    "   1. Calculate `c` such that `f(x)<=c * g(x)`,  _[Hint: plot both `f(x)`and `g(x)`],_\n",
    "   2. Use the `Accept.Reject` function above (or some improvement thereof) for several `n` values,\n",
    "   3. Plot histograms of the resulting sequences, superimposing the graph of `f(x)`,\n",
    "   4. Compare the actual acceptance rate to the thoretical value `1/c`.\n"
   ]
  },
  {
   "cell_type": "code",
   "execution_count": 4,
   "metadata": {},
   "outputs": [
    {
     "name": "stderr",
     "output_type": "stream",
     "text": [
      "Loading required package: MASS\n",
      "Warning message:\n",
      "\"package 'MASS' was built under R version 3.4.4\""
     ]
    },
    {
     "name": "stdout",
     "output_type": "stream",
     "text": [
      "[1] 0.6622517\n",
      "[1] 0.660502\n"
     ]
    },
    {
     "data": {
      "image/png": "[encoded data removed]",
      "text/plain": [
       "plot without title"
      ]
     },
     "metadata": {},
     "output_type": "display_data"
    }
   ],
   "source": [
    "#\n",
    "#    Insert here your code\n",
    "#\n",
    "require(MASS)\n",
    "f<-function(x){\n",
    "    return (6*x*(1-x))\n",
    "}\n",
    "g<-function(x){\n",
    "    return (1+x*0)\n",
    "    #return (1.51*(0*x+1))\n",
    "}\n",
    "\n",
    "x<-seq(0,1,length.out=500)\n",
    "# print(x)\n",
    "# print(g(x))\n",
    "#plot(x,f(x),type='l')\n",
    "c=1.51\n",
    "#lines(x,c*g(x), col='red')\n",
    "n = 1.0e4\n",
    "x<-seq(0,1,length.out=n)\n",
    "# print(n)\n",
    "result = Accept.Reject(f,g,runif,c)\n",
    "z=result$z\n",
    "acc=result$Proportion\n",
    "truehist(z)\n",
    "lines(x, f(x), col='red', lwd=2)\n",
    "print (1/c)\n",
    "print (acc)"
   ]
  },
  {
   "cell_type": "markdown",
   "metadata": {
    "collapsed": true
   },
   "source": [
    "### Exercise 2"
   ]
  },
  {
   "cell_type": "markdown",
   "metadata": {},
   "source": [
    "Generate a sequence of random numbers following a $\\mbox{Beta}(2,3)$ using a $\\mbox{Unif}(0,1)$ candidate pdf.\n",
    "\n",
    "The target pdf `f(x)`is:\n",
    "\n",
    "$$\n",
    "    f(x)=12\\,x\\,(1-x)^2, \\quad x\\in(0,1).\n",
    "$$\n",
    "\n",
    "The candidate $\\mbox{Unif}(0,1)$ pdf is:\n",
    "\n",
    "$$\n",
    "    g(x)=1, \\quad x\\in(0,1).\n",
    "$$\n",
    "\n",
    "The steps are:\n",
    "\n",
    "   1. Calculate `c` such that `f(x)<= c * g(x)`,  \n",
    "   \n",
    "       _Hint: as above, plot both `f(x)`and `g(x)`, then locate the maximum of `f(x)` using code such as:_\n",
    "       ```\n",
    "       optimize(f=function(x){dbeta(x,2,3)},interval=c(0,1),maximum=TRUE)\n",
    "       \n",
    "       ```\n",
    "       \n",
    "   2. Use the `Accept.Reject` function above (or some improvement thereof) for several `n` values,\n",
    "   3. Plot histograms of the resulting sequences, superimposing the graph of `f(x)`,\n",
    "   4. Compare the actual acceptance rate to the thoretical value `1/c`.\n"
   ]
  },
  {
   "cell_type": "code",
   "execution_count": 13,
   "metadata": {},
   "outputs": [
    {
     "name": "stdout",
     "output_type": "stream",
     "text": [
      "[1] 0.5586592\n",
      "[1] 0.5525472\n"
     ]
    },
    {
     "data": {
      "image/png": "[encoded data removed]",
      "text/plain": [
       "plot without title"
      ]
     },
     "metadata": {},
     "output_type": "display_data"
    }
   ],
   "source": [
    "#\n",
    "#    Insert here your code\n",
    "#\n",
    "require(MASS)\n",
    "f<-function(x){\n",
    "    return (12*x*(1-x)**2)\n",
    "}\n",
    "g<-function(x){\n",
    "    return (1+x*0)\n",
    "    #return (1.51*(0*x+1))\n",
    "}\n",
    "\n",
    "x<-seq(0,1,length.out=500)\n",
    "# print(x)\n",
    "# print(g(x))\n",
    "# plot(x,f(x),type='l')\n",
    "c=1.79\n",
    "# lines(x,c*g(x), col='red')\n",
    "n = 1.0e4\n",
    "x<-seq(0,1,length.out=n)\n",
    "# print(n)\n",
    "result = Accept.Reject(f,g,runif,c)\n",
    "z=result$z\n",
    "acc=result$Proportion\n",
    "truehist(z)\n",
    "lines(x, f(x), col='red', lwd=2)\n",
    "print (1/c)\n",
    "print (acc)"
   ]
  },
  {
   "cell_type": "markdown",
   "metadata": {
    "collapsed": true
   },
   "source": [
    "## Acceptance-rejection algorithm with a candidate pdf"
   ]
  },
  {
   "cell_type": "markdown",
   "metadata": {
    "collapsed": true
   },
   "source": [
    "### Exercise 3 - Beta(2,3) with a triangular pdf candidate"
   ]
  },
  {
   "cell_type": "markdown",
   "metadata": {},
   "source": [
    "Generate a sequence of random numbers following a $\\mbox{Beta}(2,3)$ using a triangular candidate pdf.\n",
    "\n",
    "The target pdf `f(x)`is:\n",
    "\n",
    "$$\n",
    "    f(x)=12\\,x\\,(1-x)^2, \\quad x\\in(0,1).\n",
    "$$\n",
    "\n",
    "The triangular pdf `g(x)` is constructed along the following steps:\n",
    "\n",
    "   1. Plot `f(x)` and the tangent line `L1` to `f(x)` at `(0,0)`\n",
    "   \n",
    "        ![Alt text](./Beta.2.3.jpg)\n",
    "   \n",
    "   2. Find the equation of the line `L2`through the point `(1,0)` and tangent to `f(x)`\n",
    "   \n",
    "   3. The piecewise linear function with domain `(0,1)` defined by `L1` and `L2` will be the majorizing function:\n",
    "   \n",
    "   $$\n",
    "       c \\cdot g(x) = \\left\\{\n",
    "       \\begin{array}{lcl}\n",
    "       12\\,x, &\\mbox{ if }  &x\\in(0,1/5),\\\\\n",
    "       3-3\\,x,&\\mbox{ if }  &x\\in(1/5,1).\n",
    "       \\end{array}\n",
    "       \\right.\n",
    "   $$\n",
    "   \n",
    "   4. Compute $c$ by imposing the condition that $g$ must be a pdf, that is, its integral must be equal to 1. _[Hint: compute $c\\cdot G(x)$, the integral of $c\\cdot g$ on $(-\\infty,x]$, since anyway you need the cdf $G(x)$ to obtain the quantile function]_\n",
    "   \n",
    "   Result is: $c=6/5$. Thus, the candidate pdf is:\n",
    "\n",
    "   $$\n",
    "       g(x) = \\left\\{\n",
    "       \\begin{array}{lcl}\n",
    "       10\\,x, &\\mbox{ if }  &x\\in(0,1/5),\\\\\n",
    "       \\frac{5}{2}\\,(1-x),&\\mbox{ if }  &x\\in(1/5,1).\n",
    "       \\end{array}\n",
    "       \\right.\n",
    "   $$\n",
    "       \n",
    "   5. Compute the quantile function $Q(y)=G^{-1}(y)$ and use it to write a function `rg` implementing a random number generator for the candidate $g$ density by the inverse transformation method. Check that it works OK (by comparing the `hist` of its output with the triangular pdf `g`)\n",
    "   \n",
    "   6. Use the `Accept.Reject` function above (or some improvement thereof) for several `n` values,\n",
    "   7. Plot histograms of the resulting sequences, superimposing the graph of `f(x)`,\n",
    "   8. Compare the actual acceptance rate to the thoretical value `1/c`.\n"
   ]
  },
  {
   "cell_type": "code",
   "execution_count": null,
   "metadata": {
    "collapsed": true
   },
   "outputs": [],
   "source": [
    "#\n",
    "#    Insert here your code\n",
    "#"
   ]
  },
  {
   "cell_type": "markdown",
   "metadata": {
    "collapsed": true
   },
   "source": [
    "### Exercise 4 - Normal random numbers from a Laplace distribution"
   ]
  },
  {
   "cell_type": "markdown",
   "metadata": {},
   "source": [
    "Normal $\\sim\\operatorname{N}(0,1)$ from a $\\operatorname{Laplace}(\\alpha)$\n",
    "\n",
    "Assume we want to generate RN following the $\\operatorname{N}(0,1)$ distribution, whose pdf is:\n",
    "\n",
    "$$\n",
    "\tf(x)=\\dfrac{1}{\\sqrt{2\\,\\pi}}\\,\\exp\\left\\{-\\dfrac{1}{2}\\,x^{2}\\right\\}.\n",
    "$$\n",
    "\n",
    "Our candidate pdf is in the $\\operatorname{Laplace}(\\alpha)$ family:\n",
    "\n",
    "$$\n",
    "\tg(x|\\alpha)=\\dfrac{\\alpha}{2}\\,\\exp\\left\\{-\\alpha\\,x\\right\\}.\n",
    "$$"
   ]
  },
  {
   "cell_type": "markdown",
   "metadata": {},
   "source": [
    "#### Remark: \n",
    "\n",
    "The `extraDistr` package contains the Laplace distribution (and many more)."
   ]
  },
  {
   "cell_type": "code",
   "execution_count": 7,
   "metadata": {},
   "outputs": [
    {
     "name": "stderr",
     "output_type": "stream",
     "text": [
      "also installing the dependencies 'praise', 'statmod', 'survival', 'expint', 'testthat', 'LaplacesDemon', 'VGAM', 'evd', 'hoa', 'skellam', 'triangle', 'actuar'\n",
      "\n"
     ]
    },
    {
     "name": "stdout",
     "output_type": "stream",
     "text": [
      "package 'praise' successfully unpacked and MD5 sums checked\n",
      "package 'statmod' successfully unpacked and MD5 sums checked\n",
      "package 'survival' successfully unpacked and MD5 sums checked\n",
      "package 'expint' successfully unpacked and MD5 sums checked\n",
      "package 'testthat' successfully unpacked and MD5 sums checked\n",
      "package 'LaplacesDemon' successfully unpacked and MD5 sums checked\n",
      "package 'VGAM' successfully unpacked and MD5 sums checked\n",
      "package 'evd' successfully unpacked and MD5 sums checked\n",
      "package 'hoa' successfully unpacked and MD5 sums checked\n",
      "package 'skellam' successfully unpacked and MD5 sums checked\n",
      "package 'triangle' successfully unpacked and MD5 sums checked\n",
      "package 'actuar' successfully unpacked and MD5 sums checked\n",
      "package 'extraDistr' successfully unpacked and MD5 sums checked\n",
      "\n",
      "The downloaded binary packages are in\n",
      "\tC:\\Users\\ASUS\\AppData\\Local\\Temp\\RtmpoLKp7Q\\downloaded_packages\n"
     ]
    },
    {
     "name": "stderr",
     "output_type": "stream",
     "text": [
      "Loading required package: extraDistr\n",
      "Warning message:\n",
      "\"package 'extraDistr' was built under R version 3.4.4\""
     ]
    },
    {
     "data": {
      "image/png": "[encoded data removed]",
      "text/plain": [
       "Plot with title \"Normal and Laplace pdf's\""
      ]
     },
     "metadata": {},
     "output_type": "display_data"
    }
   ],
   "source": [
    "#install.packages(\"extraDistr\",dependencies=TRUE,repos=\"https://cloud.r-project.org\")\n",
    "require(extraDistr)\n",
    "x<-seq(-6,6,length=500)\n",
    "alpha<-1\n",
    "plot(x,dlaplace(x,mu=0,sigma=1),type=\"l\",lwd=2.0,col=\"DarkRed\",xlab=\"x\",ylab=\"Density\",main=\"Normal and Laplace pdf's\")\n",
    "lines(x,dnorm(x),lwd=2.0,col=\"DarkGreen\")"
   ]
  },
  {
   "cell_type": "markdown",
   "metadata": {},
   "source": [
    "#### cdf  for a $\\operatorname{Laplace}(\\alpha)$\n",
    "\n",
    "$$\n",
    "\tG(x|\\alpha)=\\left\\{\\begin{array}{lll}\n",
    "\t\\dfrac{1}{2}\\,\\exp(\\alpha\\,x),\t&\\text{ if }\t&x<0,\\\\\n",
    "\t1-\\dfrac{1}{2}\\,\\exp(-\\alpha\\,x),  &\\text{ if }\t&0\\leq x.\n",
    "\t\\end{array}\\right.\n",
    "$$"
   ]
  },
  {
   "cell_type": "markdown",
   "metadata": {},
   "source": [
    "#### Quantile function for a $\\operatorname{Laplace}(\\alpha)$\n",
    "\n",
    "$$\n",
    "\tQ(y|\\alpha)=\\left\\{\\begin{array}{lll}\n",
    "\t\\hphantom{-}\\dfrac{1}{\\alpha}\\,\\log(2\\,y),\t&\\text{ if }\t&y\\in(0,0.5),\\\\\n",
    "\t-\\dfrac{1}{\\alpha}\\,\\log(2(1-y)),  &\\text{ if }\t&y\\in(0.5,1).\n",
    "\t\\end{array}\\right.\n",
    "$$\n",
    "\n",
    "Write a RNG to generate $\\operatorname{Laplace}(\\alpha)$-distributed random numbers by the inverse cdf method"
   ]
  },
  {
   "cell_type": "code",
   "execution_count": 18,
   "metadata": {},
   "outputs": [
    {
     "data": {
      "text/html": [
       "<ol class=list-inline>\n",
       "\t<li>-0.13248938553891</li>\n",
       "\t<li>5.48627372125406</li>\n",
       "\t<li>0.520676934243175</li>\n",
       "\t<li>-0.532527502498713</li>\n",
       "\t<li>0.00507787869824748</li>\n",
       "</ol>\n"
      ],
      "text/latex": [
       "\\begin{enumerate*}\n",
       "\\item -0.13248938553891\n",
       "\\item 5.48627372125406\n",
       "\\item 0.520676934243175\n",
       "\\item -0.532527502498713\n",
       "\\item 0.00507787869824748\n",
       "\\end{enumerate*}\n"
      ],
      "text/markdown": [
       "1. -0.13248938553891\n",
       "2. 5.48627372125406\n",
       "3. 0.520676934243175\n",
       "4. -0.532527502498713\n",
       "5. 0.00507787869824748\n",
       "\n",
       "\n"
      ],
      "text/plain": [
       "[1] -0.132489386  5.486273721  0.520676934 -0.532527502  0.005077879"
      ]
     },
     "metadata": {},
     "output_type": "display_data"
    }
   ],
   "source": [
    "#\n",
    "#    Insert here your code\n",
    "#\n",
    "\n",
    "my.rlaplace<-function(n, alpha=1){\n",
    "    y = runif(n)\n",
    "    #print(y)\n",
    "    return (ifelse(y <0.5, (1/alpha)*log(2*y), (-1/alpha)*(log(2*(1-y)))))    \n",
    "}\n"
   ]
  },
  {
   "cell_type": "markdown",
   "metadata": {},
   "source": [
    "#### Find a suitable $\\alpha$ and the proportion $M$ for the acceptance-rejection algorithm\n",
    "\n",
    "Compute the quotient:\n",
    "\n",
    "$$\n",
    "\t\\dfrac{f(x)}{g(x)}=\\sqrt{\\dfrac{2}{\\pi}}\\,\\dfrac{1}{\\alpha}\\,\n",
    "\t\\exp\\left\\{-\\dfrac{1}{2}\\,x^{2}+\\alpha\\,|x|\\right\\}\n",
    "$$"
   ]
  },
  {
   "cell_type": "markdown",
   "metadata": {},
   "source": [
    "For $x>0$, the exponent is $>0$ when $x\\in(0,2\\,\\alpha)$, with maximum $\\alpha^{2}/2$ at $x=\\alpha$. \n",
    "\n",
    "Symmetrically for $x<0$.\n",
    "\t\n",
    "Substituting, we get a function of $\\alpha$:\n",
    "\n",
    "$$\n",
    "\tK(\\alpha)=\\dfrac{f(\\alpha)}{g(\\alpha)}\n",
    "\t=\\sqrt{\\dfrac{2}{\\pi}}\\,\\dfrac{1}{\\alpha}\\,e^{\\alpha^{2}/2}.\n",
    "$$\n",
    "\n",
    "The maximum of $K(\\alpha)$ is attained for $\\alpha=1$. Then,\n",
    "\n",
    "$$\n",
    "\tK(\\alpha)\\leq K_{\\max}=\\sqrt{\\dfrac{2\\,e}{\\pi}}=1.315489.\n",
    "$$\n",
    "\n",
    "We take this value as $M$.\n",
    "\n",
    "Generate a sequence of $\\operatorname{N}(0,1)$-distributed random numbers with the acceptance-rejection algorithm, using a $\\operatorname{Laplace}(\\alpha=1)$ candidate pdf and proportionality constant $M=1.315489$. Use several sample sizes $n$.\n",
    "\n",
    "Plot a histogram of the resulting numbers. Superimpose to it the $\\operatorname{N}(0,1)$ pdf.\n",
    "\n",
    "Evaluate the acceptance rate from the theoretical formula. Check that the actual observed proportion of accepted values approaches this value for large $n$."
   ]
  },
  {
   "cell_type": "code",
   "execution_count": 27,
   "metadata": {},
   "outputs": [
    {
     "name": "stdout",
     "output_type": "stream",
     "text": [
      "[1] 0.760624\n",
      "[1] 0.7601736\n"
     ]
    },
    {
     "data": {
      "image/png": "[encoded data removed]",
      "text/plain": [
       "plot without title"
      ]
     },
     "metadata": {},
     "output_type": "display_data"
    }
   ],
   "source": [
    "#\n",
    "#    Insert here your code\n",
    "#\n",
    "require(extraDistr)\n",
    "results = Accept.Reject(f=dnorm, g=dlaplace, rg=my.rlaplace, c=1.315489, n=100000)\n",
    "z = results$z\n",
    "\n",
    "truehist(z)\n",
    "x<-seq(-6,6,length=500)\n",
    "lines(x,dnorm(x), col='red', lwd=2)\n",
    "acc=results$Proportion\n",
    "print(acc)\n",
    "M = 1.315489\n",
    "print(1/M)"
   ]
  }
 ],
 "metadata": {
  "kernelspec": {
   "display_name": "R",
   "language": "R",
   "name": "ir"
  },
  "language_info": {
   "codemirror_mode": "r",
   "file_extension": ".r",
   "mimetype": "text/x-r-source",
   "name": "R",
   "pygments_lexer": "r",
   "version": "3.4.3"
  }
 },
 "nbformat": 4,
 "nbformat_minor": 2
}
