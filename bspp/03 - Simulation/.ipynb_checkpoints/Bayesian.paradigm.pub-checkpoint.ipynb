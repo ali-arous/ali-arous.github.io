{
 "cells": [
  {
   "cell_type": "markdown",
   "metadata": {},
   "source": [
    "# Experiments in frequentist Statistics"
   ]
  },
  {
   "cell_type": "markdown",
   "metadata": {},
   "source": [
    "##### 2018-10-15 Josep Fortiana"
   ]
  },
  {
   "cell_type": "markdown",
   "metadata": {},
   "source": [
    "The frequentist way of thinking about statistics relies upon an imagined experiment _(Gedanken experiment):_ \n",
    "\n",
    "Assume the operation of observing a data set, $n$ values $x_1,\\dots,x_n$, say, can be indefinitely repeated in the same conditions, yielding a large number $N$ of copies of the observed vector $\\mathbf{x}=(x_1,\\dots,x_n)$.\n",
    "\n",
    "Then statistical quantities such as bias or variance (quadratic risc) of an estimator, probabilities such as $p$-values for a hypothesis test, or the meaning of a confidence interval are interpreted in terms of this virtual _BIG_ sample."
   ]
  },
  {
   "cell_type": "markdown",
   "metadata": {},
   "source": [
    "Of course, such scenario is rarely realistic (except, approximately, in quality control from a production line whose output is a sequence of item batches). \n",
    "\n",
    "This is one of the main arguments in support of the Bayesian paradigm."
   ]
  },
  {
   "cell_type": "markdown",
   "metadata": {},
   "source": [
    "There is a way, however, of obtaining equally generated samples, namely by simulation, and this is what we will be presently doing in these experiments, designed to understand basic concepts in frequentist Statistics."
   ]
  },
  {
   "cell_type": "markdown",
   "metadata": {},
   "source": [
    "### Generating a batch of samples of a r.v."
   ]
  },
  {
   "cell_type": "markdown",
   "metadata": {},
   "source": [
    "In order to obtain a sample of a statistic we need many samples, generated according to an equal distribution. Thus we set a batch size, say:"
   ]
  },
  {
   "cell_type": "code",
   "execution_count": 1,
   "metadata": {},
   "outputs": [],
   "source": [
    "N<-300"
   ]
  },
  {
   "cell_type": "markdown",
   "metadata": {},
   "source": [
    "Function `X.sample()` allows us to generate a batch of $N$ independent samples, of equal size $n$ and a given distribution. "
   ]
  },
  {
   "cell_type": "code",
   "execution_count": 2,
   "metadata": {},
   "outputs": [],
   "source": [
    "X.sample<-function(n=10,N=100,rdist=rnorm,...){\n",
    "  X<-matrix(rdist(n*N,...),nrow=N)\n",
    "  return(X)\n",
    "}"
   ]
  },
  {
   "cell_type": "markdown",
   "metadata": {},
   "source": [
    "The following line generates a matrix with $N$ rows and $n=120$ columns. Each row will be an $n$-sample of a $\\cal{N}(0,1)$ distribution."
   ]
  },
  {
   "cell_type": "code",
   "execution_count": 3,
   "metadata": {},
   "outputs": [],
   "source": [
    "n<-120\n",
    "X<-X.sample(n,N,rdist=rnorm)"
   ]
  },
  {
   "cell_type": "markdown",
   "metadata": {},
   "source": [
    "Now we plot a histogram of the sample in the third row. In this way we can experiment with the normal and other distributions. Remark (syntax detail): the parameter `rdist` is just the _name_ of the RNG function. "
   ]
  },
  {
   "cell_type": "code",
   "execution_count": 4,
   "metadata": {},
   "outputs": [
    {
     "data": {
      "image/png": "[encoded data removed]",
      "text/plain": [
       "Plot with title \"Histogram of X[3, ]\""
      ]
     },
     "metadata": {},
     "output_type": "display_data"
    }
   ],
   "source": [
    "hist(X[3,],freq=FALSE,breaks=15,col=\"cyan\",xlab=\"x\")"
   ]
  },
  {
   "cell_type": "markdown",
   "metadata": {},
   "source": [
    "Note the dots `...` argument to the `X.sample` function. Additional parameters to the `rdist` function can (and must) be passed by name, usinig the `kwd=<value>` syntax, e.g.:"
   ]
  },
  {
   "cell_type": "code",
   "execution_count": 5,
   "metadata": {},
   "outputs": [
    {
     "data": {
      "image/png": "[encoded data removed]",
      "text/plain": [
       "Plot with title \"Empirical estimate of the pdf of X[20,]\""
      ]
     },
     "metadata": {},
     "output_type": "display_data"
    }
   ],
   "source": [
    "X<-X.sample(n=100,N,rdist=rgamma,shape=2,rate=3)\n",
    "plot(density(X[20,]),lwd=2.5,col=\"blue\",main=\"Empirical estimate of the pdf of X[20,]\")"
   ]
  },
  {
   "cell_type": "markdown",
   "metadata": {},
   "source": [
    "### Generating a sample of an estimator _(or any statistic)_"
   ]
  },
  {
   "cell_type": "markdown",
   "metadata": {},
   "source": [
    "Function `Sample.statistic` takes two parameters, an `[N,n]` matrix `X` such as that generated by `X.sample()` and the name of a statistic, as a function of a vector argument. It returns a vector of length `N`, containing the value of the statistic for each of the `N` samples."
   ]
  },
  {
   "cell_type": "code",
   "execution_count": 6,
   "metadata": {},
   "outputs": [],
   "source": [
    "Statistic.sample<-function(X,statistic=mean){\n",
    "  U<-apply(X,1,statistic)\n",
    "  return(U)\n",
    "}"
   ]
  },
  {
   "cell_type": "markdown",
   "metadata": {},
   "source": [
    "#### Exercise"
   ]
  },
  {
   "cell_type": "markdown",
   "metadata": {},
   "source": [
    "(1) Generate a batch of `N=300` i.i.d. random $n$-samples from an exponential distribution with $\\lambda=3$\n",
    "\n",
    "(2) Evaluate the vector $s$ of their sums.\n",
    "\n",
    "(3) Compare the empirical pdf (histogram or a smoothing of it) of the sum with its theoretical pdf, which a $\\mbox{Gamma}(\\alpha=20,\\beta=1/\\lambda=1/3)$, \n",
    "\n",
    "This vector $s$ is a sample of size $N=300$ of the statistic _sum of an $20$-sample of an $\\mbox{Exp}(\\lambda=3)$ distribution._ We can check that the sum of $n$ independent copies of an exponential distribution of an equal rate,\n",
    "$\\mbox{Exp}(\\lambda=3)$ follows a Gamma distribution, with parameters $\\alpha=20$, $\\beta=1/\\lambda=1/3$ (See the [Wikipedia article](https://en.wikipedia.org/wiki/Gamma_distribution) for properties of the Gamma distribution)."
   ]
  },
  {
   "cell_type": "code",
   "execution_count": 7,
   "metadata": {},
   "outputs": [],
   "source": [
    "#\n",
    "# Insert your code here\n",
    "#"
   ]
  },
  {
   "cell_type": "markdown",
   "metadata": {},
   "source": [
    "### Evaluating bias and quadratic error of an estimator"
   ]
  },
  {
   "cell_type": "markdown",
   "metadata": {},
   "source": [
    "Once we have grasped the fact that a statistic is, indeed, a random object, we understand the problem posed by our intention of using such a random value as an estimate of a parameter which, by definition, is a fixed quantity. The short answer is that we do not and will never hit the target. A more nuanced response, and the crucial idea, is that the goal is not only to propose a candidate\testimate but to obtain, _together with it,_ some quantitative measure of the magnitude and salient features of the deviation from the unknown true value.\n",
    "\n",
    "To put an example, to use the arithmetic mean as an estimator of $\\lambda$, the _rate_ parameter in an exponential distribution, is a misguided decision. \n",
    "\n",
    "Why? \n",
    "\n",
    "Because we know that the arithmetic mean of an i.i.d. random sample tends to approach the expectation of the r.v. which, in the case of an exponential distribution, is $1/\\lambda$. \n",
    "\n",
    "This is a **systematic error**. _Bias_ is a measure of such a systematic error.\n",
    "\n",
    "For instance:"
   ]
  },
  {
   "cell_type": "code",
   "execution_count": 9,
   "metadata": {},
   "outputs": [],
   "source": [
    "s<-Statistic.sample(X,statistic=mean)"
   ]
  },
  {
   "cell_type": "markdown",
   "metadata": {},
   "source": [
    "Values of `s` are random, distributed as we can see:"
   ]
  },
  {
   "cell_type": "code",
   "execution_count": 10,
   "metadata": {},
   "outputs": [
    {
     "data": {
      "image/png": "[encoded data removed]",
      "text/plain": [
       "Plot with title \"Estimate of the pdf for the statistic 'mean'\""
      ]
     },
     "metadata": {},
     "output_type": "display_data"
    }
   ],
   "source": [
    "plot(density(s,bw=0.04),lwd=2.5,col=\"magenta\",main=\"Estimate of the pdf for the statistic 'mean'\")"
   ]
  },
  {
   "cell_type": "markdown",
   "metadata": {},
   "source": [
    "Additionally, we can see they are distributed around $1/\\lambda$."
   ]
  },
  {
   "cell_type": "code",
   "execution_count": 11,
   "metadata": {},
   "outputs": [
    {
     "data": {
      "text/html": [
       "0.333"
      ],
      "text/latex": [
       "0.333"
      ],
      "text/markdown": [
       "0.333"
      ],
      "text/plain": [
       "[1] 0.333"
      ]
     },
     "metadata": {},
     "output_type": "display_data"
    }
   ],
   "source": [
    "round(1/lambda,3)"
   ]
  },
  {
   "cell_type": "markdown",
   "metadata": {},
   "source": [
    "### Summary of formulas for a normal sample"
   ]
  },
  {
   "cell_type": "markdown",
   "metadata": {},
   "source": [
    "Assume we have an $n$-sample:\n",
    "\n",
    "$$\n",
    "    X_{1},\\dots,X_{n}\\quad\\text{iid }\\sim\\mbox{N}(\\mu,\\sigma^{2}).\n",
    "$$\n",
    "\n",
    "Empirical mean and standardized empirical mean:\n",
    "\n",
    "$$\n",
    "    \\overline{X}=\\dfrac{1}{n}\\,\\displaystyle\\sum_{i=1}^{n}X_{i}\\sim\\mbox{N}(\\mu,\\dfrac{\\sigma^{2}}{n}),\\qquad\n",
    "    Z=\\dfrac{\\overline{X}-\\mu}{\\sigma}\\,\\sqrt{n}\\sim\\mbox{N}(0,1).\n",
    "$$\n",
    "\n",
    "Mean quadratic deviation with respect to $\\mu$: \n",
    "\n",
    "$$\n",
    "    S^{2}(\\mu)=\\dfrac{1}{n}\\,\\displaystyle\\sum_{i=1}^{n}(X_{i}-\\mu)^{2}.\n",
    "$$\n",
    "\n",
    "Empirical variance:\n",
    "\n",
    "$$\n",
    "    S^{2}=S^{2}(\\overline{X})=\\dfrac{1}{n}\\,\\displaystyle\\sum_{i=1}^{n}(X_{i}-\\overline{X})^{2}.\n",
    "$$\n",
    "\n",
    "Empirical corrected variance:\n",
    "\n",
    "$$\n",
    "    \\widetilde{S}^{2}=\\dfrac{1}{n-1}\\,\\displaystyle\\sum_{i=1}^{n}(X_{i}-\\overline{X})^{2}\n",
    "    =\\dfrac{n}{n-1}\\,S^{2}.\n",
    "$$ \n",
    "\n",
    "Standard deviations corresponding to the above quadratic quantities:\n",
    "\n",
    "$$\n",
    "    S(\\mu)=\\sqrt{S^{2}(\\mu)},\\qquad S=\\sqrt{S^{2}},\\qquad \\widetilde{S}=\\sqrt{\\widetilde{S}^{2}}.\n",
    "$$\n",
    "\n",
    "Standardized sums of squares: \n",
    "\n",
    "$$\n",
    "    Q(\\mu)=\\dfrac{n\\,S^{2}(\\mu)}{\\sigma^{2}}\\sim\\chi^{2}(n), \\qquad  \n",
    "    Q\\equiv Q(\\overline{X})=\\dfrac{n\\,S^{2}}{\\sigma^{2}}\\sim\\chi^{2}(n-1).\n",
    "$$ \n",
    "\n",
    "The ratio:\n",
    "\n",
    "$$\n",
    "    T=\\dfrac{Z}{\\sqrt{Q/(n-1)}}=\\dfrac{\\overline{X}-\\mu}{S}\\,\\sqrt{n-1}\n",
    "    =\\dfrac{\\overline{X}-\\mu}{\\strut\\widetilde{S}}\\,\\sqrt{n}\\sim t(n-1).\n",
    "$$\n"
   ]
  },
  {
   "cell_type": "markdown",
   "metadata": {},
   "source": [
    "### Confidence interval for $\\mu$, with a known $\\sigma$"
   ]
  },
  {
   "cell_type": "markdown",
   "metadata": {},
   "source": [
    "Pivotal function: the standardized empirical mean, \\(Z\\). \n",
    "\n",
    "Given a confidence level $\\gamma$, we compute $a$ such that $P\\left(|Z|<a\\right)=\\gamma$. For instance, when \n",
    "$\\gamma=0.95$,"
   ]
  },
  {
   "cell_type": "code",
   "execution_count": 12,
   "metadata": {},
   "outputs": [
    {
     "data": {
      "text/html": [
       "1.96"
      ],
      "text/latex": [
       "1.96"
      ],
      "text/markdown": [
       "1.96"
      ],
      "text/plain": [
       "[1] 1.96"
      ]
     },
     "metadata": {},
     "output_type": "display_data"
    }
   ],
   "source": [
    "a<-qnorm(0.975)     # Why 0.975?\n",
    "round(a,4)"
   ]
  },
  {
   "cell_type": "markdown",
   "metadata": {},
   "source": [
    "Given $n$ and $\\sigma$, we perform the pivoting, isolating $\\mu$ in:\n",
    "\n",
    "$$\n",
    "    0.95=P\\left(-a<\\dfrac{\\overline{X}_{n}-\\mu}{\\sigma}\\,\\sqrt{n}<a\\right)\n",
    "    =P\\left(\\overline{X}_{n}-a\\,\\dfrac{\\sigma}{\\sqrt{n}} <\\mu\n",
    "    <\\overline{X}_{n}+a\\,\\dfrac{\\sigma}{\\sqrt{n}}\\right).\n",
    "$$\n",
    "    For example, if $\\sigma=2$, $n=10$, we obtain:"
   ]
  },
  {
   "cell_type": "code",
   "execution_count": 13,
   "metadata": {},
   "outputs": [
    {
     "data": {
      "text/html": [
       "1.2396"
      ],
      "text/latex": [
       "1.2396"
      ],
      "text/markdown": [
       "1.2396"
      ],
      "text/plain": [
       "[1] 1.2396"
      ]
     },
     "metadata": {},
     "output_type": "display_data"
    }
   ],
   "source": [
    "sigma<-2\n",
    "n<-10\n",
    "d<-qnorm(0.975)*sigma/sqrt(n)\n",
    "round(d,4)"
   ]
  },
  {
   "cell_type": "markdown",
   "metadata": {},
   "source": [
    "Thus the interval is $\\overline{X}_{n}\\pm d$.\n",
    "\n",
    "We generate a random normal sample with $n=10$, $\\mu=4$, $\\sigma=2$, we evaluate its empirical mean and then the\n",
    "confidence interval for $\\mu$, with confidence coefficient $\\gamma=0.95$:"
   ]
  },
  {
   "cell_type": "code",
   "execution_count": 14,
   "metadata": {},
   "outputs": [
    {
     "data": {
      "text/html": [
       "4.1878"
      ],
      "text/latex": [
       "4.1878"
      ],
      "text/markdown": [
       "4.1878"
      ],
      "text/plain": [
       "[1] 4.1878"
      ]
     },
     "metadata": {},
     "output_type": "display_data"
    },
    {
     "data": {
      "text/html": [
       "<ol class=list-inline>\n",
       "\t<li>2.9482</li>\n",
       "\t<li>5.4274</li>\n",
       "</ol>\n"
      ],
      "text/latex": [
       "\\begin{enumerate*}\n",
       "\\item 2.9482\n",
       "\\item 5.4274\n",
       "\\end{enumerate*}\n"
      ],
      "text/markdown": [
       "1. 2.9482\n",
       "2. 5.4274\n",
       "\n",
       "\n"
      ],
      "text/plain": [
       "[1] 2.9482 5.4274"
      ]
     },
     "metadata": {},
     "output_type": "display_data"
    }
   ],
   "source": [
    "x<-rnorm(n,4,2)\n",
    "m<-mean(x)\n",
    "round(m,4)\n",
    "I<-c(m-d,m+d)\n",
    "round(I,4)"
   ]
  },
  {
   "cell_type": "markdown",
   "metadata": {},
   "source": [
    "To understand the frequentist interpretation of the concept of confidence interval and, within it, the meaning of $\\gamma$, we repeat many times this experiment. \n",
    "\n",
    "Of course this action is possible only within a simulation framework, never in real-life situations. Then,"
   ]
  },
  {
   "cell_type": "markdown",
   "metadata": {},
   "source": [
    "#### Frequentist interpretation: \n",
    "\n",
    "The relative frequency of occurrence of the event:\n",
    "\n",
    "$$\n",
    "\\mskip-600mu\\text{The interval $I$ contains $\\mu$}\n",
    "$$\n",
    "\n",
    "will be close to the theoretical confidence coefficient $\\gamma$. Note that in the frequentist interpretation $I$ is random and $\\mu$ is fixed."
   ]
  },
  {
   "cell_type": "markdown",
   "metadata": {},
   "source": [
    "To visualize this interpretation, we generate $N=1000$ independent normal random samples with $n=10$, $\\mu=4$, $\\sigma=2$, setting up a matrix with $N$ rows and $n$ columns, in which each row represents a sample:"
   ]
  },
  {
   "cell_type": "code",
   "execution_count": 15,
   "metadata": {},
   "outputs": [],
   "source": [
    "N<-1000 # Later on you can test other N values\n",
    "n<-10\n",
    "mu<-4\n",
    "sigma<-2\n",
    "X<-rnorm(N*n,mu,sigma)\n",
    "dim(X)<-c(N,n)"
   ]
  },
  {
   "cell_type": "markdown",
   "metadata": {},
   "source": [
    "We compute the vector `M` with the $N$ empirical means and, from it, the vectors `A` and `B` containing the lower and upper limits for the confidence interval, evaluated for each of the $N$ samples."
   ]
  },
  {
   "cell_type": "code",
   "execution_count": 16,
   "metadata": {},
   "outputs": [
    {
     "data": {
      "text/html": [
       "1.2396"
      ],
      "text/latex": [
       "1.2396"
      ],
      "text/markdown": [
       "1.2396"
      ],
      "text/plain": [
       "[1] 1.2396"
      ]
     },
     "metadata": {},
     "output_type": "display_data"
    }
   ],
   "source": [
    "M<-apply(X,1,mean)\n",
    "d<-qnorm(0.975)*sigma/sqrt(n)\n",
    "round(d,4)\n",
    "A<-M-d\n",
    "B<-M+d"
   ]
  },
  {
   "cell_type": "markdown",
   "metadata": {},
   "source": [
    "For each interval we check whether the theoretical value, $\\mu=4$ lies within the interval."
   ]
  },
  {
   "cell_type": "code",
   "execution_count": 17,
   "metadata": {},
   "outputs": [
    {
     "data": {
      "text/html": [
       "0.946"
      ],
      "text/latex": [
       "0.946"
      ],
      "text/markdown": [
       "0.946"
      ],
      "text/plain": [
       "[1] 0.946"
      ]
     },
     "metadata": {},
     "output_type": "display_data"
    }
   ],
   "source": [
    "u<-(A<mu) & (mu<B)\n",
    "Empirical.confidence<-sum(u)/N\n",
    "round(Empirical.confidence,3)"
   ]
  },
  {
   "cell_type": "markdown",
   "metadata": {},
   "source": [
    "The result  `u` is a Boolean vector, which takes the value `TRUE`, i.e., numerically $1$,  when the interval contains $4$ and `FALSE`, numerically $0$, otherwise. \n",
    "\n",
    "The proportion `Empirical.confidence` of `TRUE` values in `u` is close to the proposed $\\gamma=0.95$."
   ]
  },
  {
   "cell_type": "markdown",
   "metadata": {},
   "source": [
    "### Confidence interval for $\\mu$, with an unknown $\\sigma$"
   ]
  },
  {
   "cell_type": "markdown",
   "metadata": {},
   "source": [
    "Given a confidence level $\\gamma$, we compute $a$ such that $P\\left(|T_{n}|<a\\right)=\\gamma$. For instance, when $\\gamma=0.90$, if $n=10$ as above, with distribution $t(9)$ (Student's $t$ with $9$ degrees of freedom),"
   ]
  },
  {
   "cell_type": "code",
   "execution_count": 18,
   "metadata": {},
   "outputs": [
    {
     "data": {
      "text/html": [
       "1.833"
      ],
      "text/latex": [
       "1.833"
      ],
      "text/markdown": [
       "1.833"
      ],
      "text/plain": [
       "[1] 1.833"
      ]
     },
     "metadata": {},
     "output_type": "display_data"
    }
   ],
   "source": [
    "gamma<-0.90\n",
    "a<-qt((1+gamma)/2,n-1)  # Why (1+gamma)/2 ?\n",
    "round(a,3)"
   ]
  },
  {
   "cell_type": "markdown",
   "metadata": {},
   "source": [
    "Computing as in the above example,\n",
    "\n",
    "$$\n",
    "    \\mskip-400mu 0.90=P\\left(-a<\\dfrac{\\overline{X}_{n}-\\mu}{\\widetilde{S}_{n}}\\,\\sqrt{n}<a\\right)\n",
    "    =P\\left(\\overline{X}_{n}-a\\,\\dfrac{\\widetilde{S}_{n}}{\\sqrt{n}}<\\mu\n",
    "    <\\overline{X}_{n}+a\\,\\dfrac{\\widetilde{S}_{n}}{\\sqrt{n}}\\right)\n",
    "$$"
   ]
  },
  {
   "cell_type": "code",
   "execution_count": 19,
   "metadata": {},
   "outputs": [
    {
     "data": {
      "text/html": [
       "0.992"
      ],
      "text/latex": [
       "0.992"
      ],
      "text/markdown": [
       "0.992"
      ],
      "text/plain": [
       "[1] 0.992"
      ]
     },
     "metadata": {},
     "output_type": "display_data"
    }
   ],
   "source": [
    "d<-qt((1+gamma)/2,n-1)*sd(x)/sqrt(n)\n",
    "round(d,3)"
   ]
  },
  {
   "cell_type": "markdown",
   "metadata": {},
   "source": [
    "Thus, for the above sample:"
   ]
  },
  {
   "cell_type": "code",
   "execution_count": 20,
   "metadata": {},
   "outputs": [
    {
     "data": {
      "text/html": [
       "<ol class=list-inline>\n",
       "\t<li>3.195</li>\n",
       "\t<li>5.18</li>\n",
       "</ol>\n"
      ],
      "text/latex": [
       "\\begin{enumerate*}\n",
       "\\item 3.195\n",
       "\\item 5.18\n",
       "\\end{enumerate*}\n"
      ],
      "text/markdown": [
       "1. 3.195\n",
       "2. 5.18\n",
       "\n",
       "\n"
      ],
      "text/plain": [
       "[1] 3.195 5.180"
      ]
     },
     "metadata": {},
     "output_type": "display_data"
    }
   ],
   "source": [
    "I<-c(m-d,m+d)\n",
    "round(I,3)"
   ]
  },
  {
   "cell_type": "markdown",
   "metadata": {},
   "source": [
    "Actually, the (loaded by default) `stats` package in `R` provides a way to do this directly. The function:"
   ]
  },
  {
   "cell_type": "code",
   "execution_count": 21,
   "metadata": {},
   "outputs": [
    {
     "data": {
      "text/plain": [
       "\n",
       "\tOne Sample t-test\n",
       "\n",
       "data:  x\n",
       "t = 7.7351, df = 9, p-value = 2.894e-05\n",
       "alternative hypothesis: true mean is not equal to 0\n",
       "90 percent confidence interval:\n",
       " 3.195338 5.180237\n",
       "sample estimates:\n",
       "mean of x \n",
       " 4.187787 \n"
      ]
     },
     "metadata": {},
     "output_type": "display_data"
    }
   ],
   "source": [
    "t.test(x, conf.level=0.90)"
   ]
  },
  {
   "cell_type": "markdown",
   "metadata": {},
   "source": [
    "returns the same result we just obtained. The default confidence level `conf.level` for `t.test` is $0.95$. Here we wanted $\\gamma=0.90$, so we entered it explicitly."
   ]
  },
  {
   "cell_type": "markdown",
   "metadata": {},
   "source": [
    "#### Exercise\n",
    "\n",
    "Simulate the frequentist interpretation of a confidence interval with confidence coefficient $\\gamma$ for $\\mu$ in a normal $n$-sample with an unknown $\\sigma$.\n",
    "\n",
    "Evaluate the empirical confidence and comppare it with the given theoretical $\\gamma$."
   ]
  },
  {
   "cell_type": "code",
   "execution_count": 22,
   "metadata": {},
   "outputs": [],
   "source": [
    "#\n",
    "# Insert here your code\n",
    "#"
   ]
  },
  {
   "cell_type": "markdown",
   "metadata": {},
   "source": [
    "### Confidence interval for a proportion"
   ]
  },
  {
   "cell_type": "markdown",
   "metadata": {},
   "source": [
    "Assume we have performed $n$ independent repetitions of a binary experiment where, in each repetition, occurrence of an event \\(A\\) is registered. The indicators:\n",
    "\n",
    "$$\n",
    "    X_{1},\\dots,X_{n}\\quad\\text{i.i.d. }\\sim\\mbox{Bernoulli}(p),\n",
    "$$\n",
    "\n",
    "where $p=P(A)$. The sum of the $X_{i}$, the absolute frequency of $A$ occurrence, is a binomial r.v.:\n",
    "\n",
    "$$\n",
    "    N=\\sum_{i=1}^{n}X_{i}\\sim\\mbox{B}(n,p),\\qquad   \\mbox{E}(N)=n\\,p,\\quad\\operatorname{var}(N)=n\\,p\\,(1-p).\n",
    "$$\n",
    "\n",
    "From the Central Limit Theorem, for a sufficiently large $n$,\n",
    "    \n",
    "$$\n",
    "    Z=\\dfrac{N-n\\,p}{\\sqrt{n\\,p\\,(1-p)}}\n",
    "$$\n",
    "    \n",
    "is approximately a standard normal r.v. $\\sim\\mbox{N}(0,1)$. As a function of the relative frequency $f=N/n=\\overline{X}$,\n",
    "\n",
    "$$\n",
    "    Z=\\dfrac{f-p}{\\sqrt{p\\,(1-p)}}\\,\\sqrt{n}.\n",
    "$$\n",
    "\n",
    "It is possible to obtain an _approximate_ confidence interval for the proportion $p$, in terms of $f$ and $n$, following the procedure described in the above Section, provided that in the $\\sqrt{p\\,(1-p)}$ we substitute the\n",
    "empirical probability, i.e., the relative frequency $f$, for the probability $p$."
   ]
  },
  {
   "cell_type": "markdown",
   "metadata": {},
   "source": [
    "#### Exercise"
   ]
  },
  {
   "cell_type": "markdown",
   "metadata": {},
   "source": [
    "Write code to compute a confidence interval of a given confidence level $gamma$ for the probability $\\theta$ of an event $A$ from the proportion (relative frequency) of $A$ occurrence in a sequence of $n$ independent repetitions of a binary experiment where, in each repetition, occurrence of either $A$ or its complementary event $A^c$ is registered."
   ]
  },
  {
   "cell_type": "code",
   "execution_count": 23,
   "metadata": {},
   "outputs": [],
   "source": [
    "#\n",
    "#    Write here your code\n",
    "#"
   ]
  }
 ],
 "metadata": {
  "kernelspec": {
   "display_name": "R",
   "language": "R",
   "name": "ir"
  },
  "language_info": {
   "codemirror_mode": "r",
   "file_extension": ".r",
   "mimetype": "text/x-r-source",
   "name": "R",
   "pygments_lexer": "r",
   "version": "3.4.3"
  }
 },
 "nbformat": 4,
 "nbformat_minor": 2
}
