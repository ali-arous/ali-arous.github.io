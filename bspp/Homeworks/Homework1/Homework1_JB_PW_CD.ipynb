{
 "cells": [
  {
   "cell_type": "code",
   "execution_count": 3,
   "metadata": {},
   "outputs": [
    {
     "name": "stderr",
     "output_type": "stream",
     "text": [
      "\n",
      "Attaching package: ‘dplyr’\n",
      "\n",
      "The following object is masked from ‘package:MASS’:\n",
      "\n",
      "    select\n",
      "\n",
      "The following objects are masked from ‘package:stats’:\n",
      "\n",
      "    filter, lag\n",
      "\n",
      "The following objects are masked from ‘package:base’:\n",
      "\n",
      "    intersect, setdiff, setequal, union\n",
      "\n"
     ]
    },
    {
     "ename": "ERROR",
     "evalue": "Error in library(xtable): there is no package called ‘xtable’\n",
     "output_type": "error",
     "traceback": [
      "Error in library(xtable): there is no package called ‘xtable’\nTraceback:\n",
      "1. library(xtable)",
      "2. stop(txt, domain = NA)"
     ]
    }
   ],
   "source": [
    "options(warn=0,repr.plot.width=7, repr.plot.height=4)\n",
    "library(MASS)\n",
    "library(dplyr)\n",
    "library(extraDistr)\n",
    "library(repr)\n",
    "library(xtable)"
   ]
  },
  {
   "cell_type": "markdown",
   "metadata": {},
   "source": [
    "# Homework - 01\n",
    "## Juan Borrego, Carla Diví and Peter Weber\n",
    "Josep Fortiana\n",
    "\n",
    "Facultat de Matemàtiques i Informàtica, UB\n",
    "\n",
    "2017-10-16\n",
    "\n",
    "Instructions: Completed assignments are due on Monday, October 30. They are to be uploaded to\n",
    "the Virtual Campus.\n",
    "\n",
    "Solutions can be submitted by groups of two or three students. In this case only one copy of each\n",
    "group’s work should be uploaded (by any member), clearly stating the names of all contributors.\n",
    "Format: Exercises 2 and 3 should be submitted either as a pair (text document + code) or as a Jupyter\n",
    "notebook. Exercise 1 just as a document or notebook. Documents should be .pdf files [never as\n",
    ".doc/.docx/.odt]. Code as ASCII .r text files. When more than one file has to be entered, prepare\n",
    "a single compressed file.\n",
    "\n",
    "## Exercise 1. \n",
    "\n",
    "Consider the following experiment:\n",
    "1. We toss n fair coins. We know the number X1 of heads is a binomial r.v. ∼ B(n, 1/2).\n",
    "2. We toss again the remaining R1 = n − X1 coins and denote by X2 the number of heads obtained this second time.\n",
    "3. We toss again the remaining R2 = n − X1 − X2 coins and denote by X3 the number of heads obtained this second time.\n",
    "4. The process continues in the same manner, stopping when all n coins show heads.2. For k ≥ 2, generalize the above computations as far as you can. Meaning: some extensions are feasible, even easy, but others give unwieldy expressions as far as I know. Hence start with k = 3, observe what you get and follow any practicable way you find. Do not worry if none appears.\n",
    "3. Define the r.v. \n",
    "Y = “Total number of tosses. ”\n",
    "Obtain the cdf of Y \n",
    "\n"
   ]
  },
  {
   "cell_type": "markdown",
   "metadata": {},
   "source": [
    "### 1.1 Find the pmf of X2 conditional to a given value of X1, the joint pmf of (X1, X2), the joint pmf of (X1, X2, R2), the marginal pmf of X2 and the marginal pmf of R2."
   ]
  },
  {
   "cell_type": "markdown",
   "metadata": {},
   "source": [
    "#### Pmf of $X_2$ given $X_1$\n",
    "\n",
    "Pmf of $X_2$ given $X_1$:\n",
    "\n",
    "$$ P(X_2=x_2 | X_1=x_1) = \\binom{n-x_1}{x_2} \\frac{1}{2^{n-x_1}} $$ \n",
    "\n",
    "for $x_1 \\in \\{0,...,n\\}$, $0$ otherwise.\n",
    "\n",
    "#### Joint pmf of $(X_1,  X_2)$\n",
    "\n",
    "Pmf of $X_1$:  $ P(X_1=x_1) = \\binom{n}{k} p^k p^{n-k} = \\binom{n}{x_1} \\frac{1}{2^{n}} $ for $x_1 \\in \\{0,...,n\\}$, $0$ otherwise.\n",
    "\n",
    "Joint pmf of  $(X_1,  X_2)$:\n",
    "\n",
    "$$ P(X_1=x_1 , X_2=x_2, R_2=r_2) = P(X_2=x_2 | X_1=x_1) P(X_1=x_1) = \\binom{n-x_1}{x_2} \\frac{1}{2^{n-x_1}} \\binom{n}{x_1} \\frac{1}{2^{n}} = \\binom{n-x_1}{x_2} \\binom{n}{x_1} \\frac{1}{2^{2n-x_1}}$$\n",
    "\n",
    "for $x_1 \\in \\{0,...,n\\}$, $x_2 \\in \\{0,...,n-x_1\\}$, $0$ otherwise.\n",
    "\n",
    "#### Joint pmf of $(X_1,  X_2, R_2)$\n",
    "\n",
    "$ R_2 = n - X_1 - X_2$, so the conditional probability of $R_2$, knowing $X_1$ and $X_2$ is: $P(R_2=r_2|X_1=x_1,X_2=x_2) = 1 $\n",
    "\n",
    "Joint pmf of $(X_1,  X_2, R_2)$:\n",
    "\n",
    "$$ P(X_1=x_1 , X_2=x_2, R_2=r_2) = P(R_2=r_2 | X_1=x_1 , X_2=x_2)P(X_2=x_2, X_1=x_1) = \\binom{n-x_1}{x_2} \\binom{n}{x_1} \\frac{1}{2^{2n-x_1}}$$\n",
    "\n",
    "for $x_1 \\in \\{0,...,n\\}$, $x_2 \\in \\{0,...,n-x_1\\}$ and $r_2 = n-x_1-x_2$, $0$ otherwise.\n",
    "\n",
    "#### Marginal pmf of $X_2$\n",
    "Joint pmf of  $(R_1,  X_2)$: $P(R_1 = r_1 , X_2 = x_2) = P(X_2 = x_2 | R_1 = r_1) P(R_1 = r_1) = \\binom{r_1}{x_2} \\frac{1}{2^{r_1}} \\binom{n}{r_1} \\frac{1}{2^n}  =  \\binom{r_1}{x_2}  \\binom{n}{r_1} \\frac{1}{2^{n+r_1}}$ for $r_1 \\in \\{0,...,n\\}$ and $x_2 \\in \\{0,...,r_1\\}$, $0$ otherwise.\n",
    "\n",
    "Marginal pmf of $X_2$:\n",
    "\n",
    "$$ P(X_2 = x_2) = \\sum_{i = x_2}^n P(R_1 = i , X_2 = x_2) = \\sum_{i = x_2}^n \\frac{1}{2^{n + i}} \\binom{n}{i} \\binom{i}{x_2}   $$\n",
    "\n",
    "$P(R_1 = r_1 , X_2 = x_2) = 0$ if $r_1 < x_2$.\n",
    "\n",
    "#### Marginal pmf of $R_2$\n",
    "$R_2 = R_1 - X_2$\n",
    "\n",
    "$$\n",
    "P(R_2 = r_2) = \\sum_{k = r_2}^{n} P(R_1 = k , X_2 = k - r_2) = \\sum_{k = r_2}^{n} \\frac{1}{2^{n+k}} \\binom{n}{k} \\binom{k}{k-r_2} = \\sum_{k = r_2}^{n} \\frac{1}{2^{n+k}} \\binom{n}{k} \\binom{k}{r_2}\n",
    "$$\n",
    "\n",
    "\n",
    "$P(R_2 = r_2, R_1 = r_1, X_2 = x_2) = 0$ if $r_1 < r_2$ or $r_2 \\neq r_1 - x_2$."
   ]
  },
  {
   "cell_type": "markdown",
   "metadata": {},
   "source": [
    "### 1.2. For k ≥ 2, generalize the above computations as far as you can. Meaning: some extensions are feasible, even easy, but others give unwieldy expressions as far as I know. Hence start with k = 3, observe what you get and follow any practicable way you find. Do not worry if none appears.\n"
   ]
  },
  {
   "cell_type": "markdown",
   "metadata": {},
   "source": [
    "For k = 3, we should calculate the marginal pmf of $X_3$ and marginal pmf of $R_3$.\n",
    "\n",
    "#### Marginal pmf of $X_3$\n",
    "Joint pmf of  $(R_2,  X_3)$: \n",
    "\n",
    "$P(R_2 = r_2 , X_3 = x_3) = P(X_3 = x_3 | R_2 = r_2) P(R_2 = r_2) = \\binom{r_2}{x_3} \\frac{1}{2^{r_2}} \\sum_{i = r_2}^{n} \\frac{1}{2^{n+i}} \\binom{n}{i} \\binom{i}{r_2}$ \n",
    "\n",
    "for $r_2 \\in \\{0,...,n\\}$ and $x_3 \\in \\{0,...,r_3\\}$, $0$ otherwise.\n",
    "\n",
    "So, the marginal pmf of $X_3$:\n",
    "\n",
    "$$ P(X_3 = x_3) = \\sum_{i_2 = x_3}^n P(R_2 = i_2 , X_3 = x_3) = \\sum_{i_2 = x_3}^n \\left [ \\binom{i_2}{x_3} \\frac{1}{2^{i_2}} \\sum_{i = i_2}^{n} \\frac{1}{2^{n+i}} \\binom{n}{i} \\binom{i}{i_2} \\right ] $$\n",
    "\n",
    "$P(R_2 = r_2 , X_3 = x_3) = 0$ if $r_2 < x_3$.\n",
    "\n",
    "#### Marginal pmf of $R_3$\n",
    "$R_3 = R_2 - X_3$\n",
    "\n",
    "$$\n",
    "P(R_3 = r_3) = \\sum_{i_2 = r_3}^{n} P(R_2 = i_2 , X_3 = i_2 - r_3) = \\sum_{i_2 = r_3}^{n} \\left [ \\binom{i_2}{r_3} \\frac{1}{2^{i_2}}  \\sum_{i=i_2}{n} \\frac{1}{2^{n+i}} \\binom{n}{i} \\binom{i}{i_2}  \\right ] $$\n",
    "\n",
    "$P(R_3 = r_3, R_2 = r_2, X_3 = x_3) = 0$ if $r_2 < r_3$ or $r_3 \\neq r_2 - x_3$.\n",
    "\n",
    "After this two marginals we can generalize the computations of marginal pmf $X_k$ and marginals pmf of $R_k$:\n",
    "\n",
    "#### Marginal pmf of $X_k$\n",
    "\n",
    "$$ P(X_k = x_k) = \\sum_{i_{k-1} = x_k}^n P(R_{k-1} = i_{k-1} , X_k = x_k) = \\sum_{i_{k-1} = x_k}^n \\left [ \\binom{i_{k-1}}{x_k} \\frac{1}{2^{i_{k-1}}} ...\n",
    "\\sum_{i_2 = x_3}^n \\left [ \\binom{i_2}{x_3} \\frac{1}{2^{i_2}} \\sum_{i = i_2}^{n} \\frac{1}{2^{n+i}} \\binom{n}{i} \\binom{i}{i_2} \\right ] \\right ] $$\n",
    "\n",
    "$P(R_{k-1} = r_{k-1} , X_k = x_k) = 0$ if $r_{k-1} < x_k$.\n",
    "\n",
    "#### Marginal pmf of $R_k$\n",
    "$R_k = R_{k-1} - X_k$\n",
    "\n",
    "$$\n",
    "P(R_k = r_k) = \\sum_{i_{k-1} = r_k}^{n} P(R_{k-1} = i_{k-1} , X_k = i_{k-1} - r_k) = \\sum_{i_{k-1} = r_k}^{n} \\left [ \\binom{i_{k-1}}{r_k} \\frac{1}{2^{i_{k-1}}} ...\n",
    "\\sum_{i_2 = r_3}^{n} \\left [ \\binom{i_2}{r_3} \\frac{1}{2^{i_2}}  \\sum_{i=i_2}{n} \\frac{1}{2^{n+i}} \\binom{n}{i} \\binom{i}{i_2}  \\right ] \\right ] $$\n",
    "\n",
    "$P(R_k = r_k, R_{k-1} = r_{k-1}, X_k = x_k) = 0$ if $r_{k-1} < r_k$ or $r_k \\neq r_{k-1} - x_k$."
   ]
  },
  {
   "cell_type": "markdown",
   "metadata": {},
   "source": [
    "### 1.3. Define the r.v.  Y = “Total number of tosses. ” Obtain the cdf of Y."
   ]
  },
  {
   "cell_type": "markdown",
   "metadata": {},
   "source": [
    "Y is the total number of tosses. Therefore, we want the largest chain of crosses before that the coin take a head. For one coin the Geometric Distribution is the solution because give us the number of tosses, but how we want the largest we should take the maximum for our n coins.\n",
    "\n",
    "We used the CDF of Geometric Distribution: $F(x)=1-(1-p)^{k}\\!$ but knowing that we should found the max:\n",
    "\n",
    "$ F_{Ymax} = P(Y_{max} <= y) $\n",
    "\n",
    "$F_{Ymax}= P(Y_1 <= y, Y_2 <= y, . . . , Y_n <= y)$\n",
    "\n",
    "$F_{Ymax}= P(Y_1 <= y) P(Y_2 <= y)· · · P(Y_n <= y)$\n",
    "\n",
    "$F_{Ymax}= F_Y(y)^n$\n",
    "\n",
    "Therefore, CDF of \n",
    "\n",
    "$$ P(Y_{max} <= y) = (1-(1-p)^{y})^n $$\n",
    "\n",
    "$$ P(Y_{max} <= y) = (1-\\frac{1}{2^{y}})^n $$\n",
    "y trials  where ${\\displaystyle y\\in \\{1,2,3,\\dots \\}\\!} $"
   ]
  },
  {
   "cell_type": "markdown",
   "metadata": {},
   "source": [
    "## Exercise 2"
   ]
  },
  {
   "cell_type": "markdown",
   "metadata": {},
   "source": [
    "Write code to generate random numbers following a Beta(3,1) distribution, (a) using the\n",
    "inverse transformation and (b) the accept-reject method. With both (a) and (b) generators write and\n",
    "apply code to demonstrate graphically the goodness-of-fit of the output to the target distribution.\n",
    "Comment about the efficiency of both methods."
   ]
  },
  {
   "cell_type": "markdown",
   "metadata": {},
   "source": [
    "### Part (a)"
   ]
  },
  {
   "cell_type": "markdown",
   "metadata": {},
   "source": [
    "The pdf of the $\\mbox{Beta}(3,1)$ is \n",
    "$$\n",
    "f(x) = 3\\,x^2, \\quad x\\in(0,1),\n",
    "$$\n",
    "and the cdf is\n",
    "$$\n",
    "F(x) = \\left\\{\n",
    "        \\begin{array}{lcl}\n",
    "        0, &\\mbox{ if } & x < 0,\\\\\n",
    "        \\,x^3, &\\mbox{ if } & x\\in(0,1),\\\\\n",
    "        1, &\\mbox{ if } & x > 1.\n",
    "        \\end{array}\n",
    "        \\right.\n",
    "$$\n",
    "The inverse quantile function $Q(y) = F^{-1}(y)$ of the cdf $F(x)$ is\n",
    "$$\n",
    "F^{-1}(y) = y^{1/3}\n",
    "$$"
   ]
  },
  {
   "cell_type": "markdown",
   "metadata": {},
   "source": [
    "Hence, here are had the three functions: the pdf, the cdf and the inverse cdffunction:"
   ]
  },
  {
   "cell_type": "code",
   "execution_count": 99,
   "metadata": {},
   "outputs": [],
   "source": [
    "f <- function(x){3*x^2}\n",
    "F  <- function(x){x^3}\n",
    "Q  <- function(y){y^(1/3)}"
   ]
  },
  {
   "cell_type": "markdown",
   "metadata": {},
   "source": [
    "As a next step, the random number generator function is designed. Here the inverse cdf function is used  to extract number values following the density function related to that inverse cdf. "
   ]
  },
  {
   "cell_type": "code",
   "execution_count": 100,
   "metadata": {},
   "outputs": [],
   "source": [
    "my_rbeta_3_1<-function(n){\n",
    "        return(Q(runif(n)))\n",
    "        }"
   ]
  },
  {
   "cell_type": "markdown",
   "metadata": {},
   "source": [
    "Both initial density function and the sample obtained from the random number generator function are plotted together. A time counter is used for later purposes."
   ]
  },
  {
   "cell_type": "code",
   "execution_count": 101,
   "metadata": {
    "scrolled": true
   },
   "outputs": [
    {
     "data": {
      "image/png": "[encoded data removed]",
      "text/plain": [
       "plot without title"
      ]
     },
     "metadata": {},
     "output_type": "display_data"
    }
   ],
   "source": [
    "n = 1000\n",
    "\n",
    "t1<-proc.time()\n",
    "x1 = my_rbeta_3_1(n)\n",
    "tfi<-proc.time()-t1\n",
    "u = seq(0,1, length = n)\n",
    "\n",
    "truehist(x1)\n",
    "lines(u, f(u), col = 'red', lw = 2)"
   ]
  },
  {
   "cell_type": "markdown",
   "metadata": {},
   "source": [
    "There are two main problems when using this method to obtain random numbers that follow a concrete distribution:\n",
    "\n",
    "+ It is only valid for unidimensional random variables\n",
    "+ In most cases the cdf or its inverse, or even both, have to be computed numerically."
   ]
  },
  {
   "cell_type": "markdown",
   "metadata": {},
   "source": [
    "### Part (b)"
   ]
  },
  {
   "cell_type": "markdown",
   "metadata": {},
   "source": [
    "Here, the RNG procedure for generating random numbers following a distribution, f, with the use of a candidate function, g,  is presented. It is necessary that the candidate function accomplishes the following prerequisites:\n",
    "\n",
    "+ f and g have equal support $\\qquad f(x)>0 \\Longrightarrow g(x)>0$\n",
    "+ There exists a constant M such that $f(x)\\leq M\\cdot g(x)$ for all x.\n",
    "+ We must be able to generate random numbers following g."
   ]
  },
  {
   "cell_type": "markdown",
   "metadata": {},
   "source": [
    "The pdf of the $\\mbox{Beta}(3,1)$ is \n",
    "$$\n",
    "f(x) = 3\\,x^2, \\quad x\\in(0,1),\n",
    "$$\n",
    "and we choose the candidate function with pdf\n",
    "$$\n",
    "g(x) = 1, \\quad x\\in(0,1),\n",
    "$$\n",
    "so that $f(x) <= c \\cdot g(x)$ with $c = 3$."
   ]
  },
  {
   "cell_type": "markdown",
   "metadata": {},
   "source": [
    " The constant c has been obtained as the maximum of f to be able to accomplish the second condition."
   ]
  },
  {
   "cell_type": "markdown",
   "metadata": {},
   "source": [
    "The procedure is the following:\n",
    "\n",
    "+ For each iteration, i, in a loop from 1 until n (the number of sample generated):\n",
    "    + We generate a random number following a uniform distribution,u, and another following the candidate one, v. \n",
    "    + If $c\\cdot u \\leq \\frac{f(v)}{g(v)}$ then the random number v is accepted and is stored at the position corresponding to the iteration i. \n",
    "    + Two previous steps are repeated until the value is accepted. Each time a random number is generated a counter increases in 1.\n",
    "+ Then a sequence of the accepted values for each point in the interval is obtained and also a proportion for the proportion of accepted values.\n"
   ]
  },
  {
   "cell_type": "code",
   "execution_count": 102,
   "metadata": {},
   "outputs": [],
   "source": [
    "Accept.Reject<-function(f,g,rg,c,n=1.0e4){\n",
    "    z<-rep(0,n) \n",
    "    N<-0\n",
    "    for (i in 1:n){\n",
    "        accept<-FALSE\n",
    "        while (accept == FALSE){\n",
    "            u <- runif(1)\n",
    "            v <- rg(1)\n",
    "            N<-N+1\n",
    "            if (c*u <= f(v)/g(v)){\n",
    "                z[i] <- v\n",
    "                accept <- TRUE\n",
    "                }\n",
    "            }\n",
    "        }\n",
    "    Proportion<-n/N\n",
    "    return(list(z=z,Proportion=Proportion))\n",
    "    }"
   ]
  },
  {
   "cell_type": "code",
   "execution_count": 103,
   "metadata": {},
   "outputs": [
    {
     "data": {
      "image/png": "[encoded data removed]",
      "text/plain": [
       "plot without title"
      ]
     },
     "metadata": {},
     "output_type": "display_data"
    }
   ],
   "source": [
    "f = function(x){3*x^2}\n",
    "g = function(x){1}\n",
    "c = 3\n",
    "\n",
    "t1<-proc.time()\n",
    "ar_sampling <- Accept.Reject(f,g,runif,c,n)\n",
    "tfa<-proc.time()-t1\n",
    "\n",
    "x = seq(0,1,length = n)\n",
    "truehist(ar_sampling$z)\n",
    "lines(x,f(x),col = \"red\", lw = 2)"
   ]
  },
  {
   "cell_type": "markdown",
   "metadata": {},
   "source": [
    "In this case the a good point of this method is that can be used with multidimensiona r.v. A con is that RN following f can oly be generated up to a point."
   ]
  },
  {
   "cell_type": "markdown",
   "metadata": {},
   "source": [
    "To study the efficiency in generating points following a distribution the RMSE (root mean square error) is going to be computed for both methods."
   ]
  },
  {
   "cell_type": "markdown",
   "metadata": {},
   "source": [
    "For the acceptance-rejection with the candidate function"
   ]
  },
  {
   "cell_type": "code",
   "execution_count": 104,
   "metadata": {},
   "outputs": [
    {
     "data": {
      "text/html": [
       "0.89799"
      ],
      "text/latex": [
       "0.89799"
      ],
      "text/markdown": [
       "0.89799"
      ],
      "text/plain": [
       "[1] 0.89799"
      ]
     },
     "metadata": {},
     "output_type": "display_data"
    }
   ],
   "source": [
    "x = seq(0,1,length = n)\n",
    "rmse1 = sum(((ar_sampling$z-f(x))**2))/n\n",
    "round(rmse1,5)"
   ]
  },
  {
   "cell_type": "markdown",
   "metadata": {},
   "source": [
    "And for the method using the inverse of the cdf:"
   ]
  },
  {
   "cell_type": "code",
   "execution_count": 105,
   "metadata": {},
   "outputs": [
    {
     "data": {
      "text/html": [
       "0.90038"
      ],
      "text/latex": [
       "0.90038"
      ],
      "text/markdown": [
       "0.90038"
      ],
      "text/plain": [
       "[1] 0.90038"
      ]
     },
     "metadata": {},
     "output_type": "display_data"
    }
   ],
   "source": [
    "x = seq(0,1,length = n)\n",
    "rmse1 = sum(((x1-f(x))**2))/n\n",
    "round(rmse1,5)"
   ]
  },
  {
   "cell_type": "markdown",
   "metadata": {},
   "source": [
    "Both methods deliver a similar result regarding RMSE. But what about the time comsumption? For the acceptance rejetion criteria the time elapsed is of (column elapsed):"
   ]
  },
  {
   "cell_type": "code",
   "execution_count": 106,
   "metadata": {
    "scrolled": true
   },
   "outputs": [
    {
     "data": {
      "text/plain": [
       "   user  system elapsed \n",
       "  0.027   0.002   0.029 "
      ]
     },
     "metadata": {},
     "output_type": "display_data"
    }
   ],
   "source": [
    "tfa"
   ]
  },
  {
   "cell_type": "markdown",
   "metadata": {},
   "source": [
    "And for the inverse cdf method:"
   ]
  },
  {
   "cell_type": "code",
   "execution_count": 107,
   "metadata": {},
   "outputs": [
    {
     "data": {
      "text/plain": [
       "   user  system elapsed \n",
       "  0.002   0.000   0.003 "
      ]
     },
     "metadata": {},
     "output_type": "display_data"
    }
   ],
   "source": [
    "tfi"
   ]
  },
  {
   "cell_type": "markdown",
   "metadata": {},
   "source": [
    "As can be seen much more time is needed for the acceptance-rejection criteria than for the inverse cdf method. This is obvious since the acceptance-rejection criteria needs a lot more operations to cover all the interval. Nevertheless, the precision of the acceptance-rejection method is very similar."
   ]
  },
  {
   "cell_type": "markdown",
   "metadata": {},
   "source": [
    "# Exercise 3"
   ]
  },
  {
   "cell_type": "markdown",
   "metadata": {},
   "source": [
    "### 3.1"
   ]
  },
  {
   "cell_type": "markdown",
   "metadata": {},
   "source": [
    "Placenta previa is a problem in pregnancy where the placenta implants low on the uterus, potentially obstructing the birth canal. The data involve the proportion of births with placenta previa that are female gender. The question is whether placenta previa influences birth gender. We know that: \n",
    "\n",
    "1. The proportion of female births in this population is 48.5\\%. \n",
    "\n",
    "2. A study of 980 placenta previa births found that 437 (44.6\\%) of them were female. \n",
    "\t\n",
    "How much evidence does this provide for the claim that the proportion of female births is less than 0.485?"
   ]
  },
  {
   "cell_type": "markdown",
   "metadata": {},
   "source": [
    "Compute the posterior pdf, and both prior and posterior predictor pmf for the placenta previa problem, using a conjugate $\\mbox{Beta}(\\alpha,\\beta)$ prior, for several values of the parameters, obtaining for each of them a 95% (centered) credible interval and the MAP and posterior expectation estimators of $\\theta$. In particular, reproduce Figure 2.3 and Table 2.1 in BDA3. Do the same for those $\\alpha_0$ and $\\beta_0$ such that $\\mbox{Beta}(\\alpha_0,\\beta_0)$ has the same expectation and variance than the piecewise linear nonconjugate prior. Compare the posterior quantities with both priors. "
   ]
  },
  {
   "cell_type": "markdown",
   "metadata": {},
   "source": [
    "#### Get alpha and beta from the table in BDA3"
   ]
  },
  {
   "cell_type": "markdown",
   "metadata": {},
   "source": [
    "First of all, from the table in BDA3 the $\\alpha$ and the $\\beta$ values are extracted to be able to use them in the following computations using the Beta distribution. The relationship, as seen in the code is:\n",
    "\n",
    "$$\\begin{eqnarray}\n",
    "\\alpha = p\\cdot t\\\\\n",
    "\\beta = t\\cdot(1 - p)\\\\\n",
    "\\end{eqnarray}\n",
    "$$"
   ]
  },
  {
   "cell_type": "code",
   "execution_count": 4,
   "metadata": {},
   "outputs": [
    {
     "data": {
      "text/html": [
       "<table>\n",
       "<thead><tr><th scope=col>p</th><th scope=col>t</th><th scope=col>a</th><th scope=col>b</th></tr></thead>\n",
       "<tbody>\n",
       "\t<tr><td>0.500  </td><td>  2    </td><td> 1.000 </td><td>  1.000</td></tr>\n",
       "\t<tr><td>0.485  </td><td>  2    </td><td> 0.970 </td><td>  1.030</td></tr>\n",
       "\t<tr><td>0.485  </td><td>  5    </td><td> 2.425 </td><td>  2.575</td></tr>\n",
       "\t<tr><td>0.485  </td><td> 10    </td><td> 4.850 </td><td>  5.150</td></tr>\n",
       "\t<tr><td>0.485  </td><td> 20    </td><td> 9.700 </td><td> 10.300</td></tr>\n",
       "\t<tr><td>0.485  </td><td>100    </td><td>48.500 </td><td> 51.500</td></tr>\n",
       "\t<tr><td>0.485  </td><td>200    </td><td>97.000 </td><td>103.000</td></tr>\n",
       "</tbody>\n",
       "</table>\n"
      ],
      "text/latex": [
       "\\begin{tabular}{r|llll}\n",
       " p & t & a & b\\\\\n",
       "\\hline\n",
       "\t 0.500   &   2     &  1.000  &   1.000\\\\\n",
       "\t 0.485   &   2     &  0.970  &   1.030\\\\\n",
       "\t 0.485   &   5     &  2.425  &   2.575\\\\\n",
       "\t 0.485   &  10     &  4.850  &   5.150\\\\\n",
       "\t 0.485   &  20     &  9.700  &  10.300\\\\\n",
       "\t 0.485   & 100     & 48.500  &  51.500\\\\\n",
       "\t 0.485   & 200     & 97.000  & 103.000\\\\\n",
       "\\end{tabular}\n"
      ],
      "text/markdown": [
       "\n",
       "p | t | a | b | \n",
       "|---|---|---|---|---|---|---|\n",
       "| 0.500   |   2     |  1.000  |   1.000 | \n",
       "| 0.485   |   2     |  0.970  |   1.030 | \n",
       "| 0.485   |   5     |  2.425  |   2.575 | \n",
       "| 0.485   |  10     |  4.850  |   5.150 | \n",
       "| 0.485   |  20     |  9.700  |  10.300 | \n",
       "| 0.485   | 100     | 48.500  |  51.500 | \n",
       "| 0.485   | 200     | 97.000  | 103.000 | \n",
       "\n",
       "\n"
      ],
      "text/plain": [
       "  p     t   a      b      \n",
       "1 0.500   2  1.000   1.000\n",
       "2 0.485   2  0.970   1.030\n",
       "3 0.485   5  2.425   2.575\n",
       "4 0.485  10  4.850   5.150\n",
       "5 0.485  20  9.700  10.300\n",
       "6 0.485 100 48.500  51.500\n",
       "7 0.485 200 97.000 103.000"
      ]
     },
     "metadata": {},
     "output_type": "display_data"
    }
   ],
   "source": [
    "params  <- data.frame(p = c(0.5, rep(0.485, 6)),\n",
    "                      t = c(2, 2, 5, 10, 20, 100, 200)) %>% \n",
    "                  mutate(a = p*t,\n",
    "                         b = t - a)\n",
    "params"
   ]
  },
  {
   "cell_type": "markdown",
   "metadata": {},
   "source": [
    "####  Compute posterior, prior predictive and posterior predictive pdf"
   ]
  },
  {
   "cell_type": "markdown",
   "metadata": {},
   "source": [
    "With a $Beta(\\alpha, \\beta)$ prior pdf and a Bernoulli likelihood the posterior is $Beta(\\alpha + x, \\beta + n - x)$ where $n$ is the sample size and $x$ the number of samples of our target category. The prior predictive and the posterior predictive pdf's are $Beta$-$Binomials$, $BetaBin(\\alpha,\\beta)$ and $BetaBin(\\alpha +x, \\beta +n-x)$ with the same parameters as their relative functions prior and posterior, respectively. Also, one can find a function to obtain the Maximum a Posteriori value (mode)."
   ]
  },
  {
   "cell_type": "code",
   "execution_count": 5,
   "metadata": {},
   "outputs": [],
   "source": [
    "# The following functions sample from the Beta distribution and from the Beta Binomial, respectively.\n",
    "# The idx input parameter is used in combination with use_table_params = TRUE when alpha and beta\n",
    "# are taken from the params table above. Otherwise, one sets idx = NULL and use_table_params = FALSE\n",
    "# and sets alpha and beta manually.\n",
    "\n",
    "Prior <- function(N, idx = NULL, use_table_params = TRUE, \n",
    "                  alpha = NULL, beta = NULL){\n",
    "    if(use_table_params){\n",
    "        return(rbeta(N, params$a[idx], params$b[idx]))}\n",
    "    else{\n",
    "        return(rbeta(N, alpha, beta))}\n",
    "}\n",
    "\n",
    "#Generate N random variables from beta(alpha + x, beta + n - x)\n",
    "Posterior <- function(N, n, x, idx = NULL, use_table_params = TRUE, \n",
    "                      alpha = NULL, beta = NULL){\n",
    "    if(use_table_params){\n",
    "        return(rbeta(N, x + params$a[idx], n - x + params$b[idx]))}\n",
    "    else{\n",
    "        return(rbeta(N, x + alpha, n - x + beta))}\n",
    "}\n",
    "\n",
    "#generate N R.V's from a BetaBin()\n",
    "PriorPredictive  <- function(N, n, idx = NULL, use_table_params = TRUE, \n",
    "                             alpha = NULL, beta = NULL){\n",
    "    if(use_table_params){\n",
    "        return(rbbinom(N, n, params$a[idx], params$b[idx]))}\n",
    "    else{\n",
    "        return(rbbinom(N, n, alpha, beta))}\n",
    "}\n",
    "PostPredictive <- function(N, n, x, idx = NULL, use_table_params = TRUE, \n",
    "                           alpha = NULL, beta = NULL){\n",
    "    if(use_table_params){\n",
    "        return(rbbinom(N, n, params$a[idx] + x, params$b[idx] + n - x))}\n",
    "    else{\n",
    "        return(rbbinom(N, n, alpha + x, beta + n - x))}\n",
    "}\n",
    "\n",
    "# A function to extract the MAP\n",
    "get_mode <- function(sampling) {\n",
    "        aux <- data.frame(sample = c(sampling)) %>%\n",
    "            group_by(value = round(sample,3)) %>%\n",
    "            summarize(count = n()) %>% \n",
    "        ungroup()              \n",
    "    return(aux$value[which.max(aux$count)])\n",
    "}"
   ]
  },
  {
   "cell_type": "markdown",
   "metadata": {},
   "source": [
    "### Reproduce table 2.1 in BDA3"
   ]
  },
  {
   "cell_type": "markdown",
   "metadata": {},
   "source": [
    "To be able to reproduce the values in BDA3 the same configuration is used regarding the following variables: n the number of samples, $x$ the number of samples of our target category and  the upper, the median and lower quantiles."
   ]
  },
  {
   "cell_type": "code",
   "execution_count": 6,
   "metadata": {},
   "outputs": [],
   "source": [
    "# Experimental evidence\n",
    "n = 980\n",
    "x = 437\n",
    "\n",
    "# For simulations\n",
    "N = 1000\n",
    "\n",
    "# For credible interval extraction\n",
    "upper_quantile_draw = 976\n",
    "median_quantile_draw = 501\n",
    "lower_quantile_draw = 25"
   ]
  },
  {
   "cell_type": "markdown",
   "metadata": {},
   "source": [
    "Next, the loop where the sampling of the posterior is carried out is displayed. In it, the computations to get the values of the upper quantile, the lower quantile, the median quantile, the standard deviation and the MAP are included. Each group of latter values is given for a  group of values $(\\alpha,\\beta, n, x)$ as can be seen in the table below."
   ]
  },
  {
   "cell_type": "code",
   "execution_count": 7,
   "metadata": {},
   "outputs": [
    {
     "data": {
      "text/html": [
       "<table>\n",
       "<thead><tr><th scope=col>$\\frac{\\alpha}{\\alpha + \\beta}$</th><th scope=col>$\\alpha+\\beta$</th><th scope=col>$\\alpha$</th><th scope=col>$\\beta$</th><th scope=col>Posterior expectation estimator</th><th scope=col>Lower bound of 95% interval</th><th scope=col>Upper bound of 95% interval</th><th scope=col>MAP</th><th scope=col>Standard deviation</th></tr></thead>\n",
       "<tbody>\n",
       "\t<tr><td>0.500  </td><td>  2    </td><td> 1.000 </td><td>  1.000</td><td>0.446  </td><td>0.413  </td><td>0.476  </td><td>0.454  </td><td>0.016  </td></tr>\n",
       "\t<tr><td>0.485  </td><td>  2    </td><td> 0.970 </td><td>  1.030</td><td>0.446  </td><td>0.416  </td><td>0.477  </td><td>0.441  </td><td>0.016  </td></tr>\n",
       "\t<tr><td>0.485  </td><td>  5    </td><td> 2.425 </td><td>  2.575</td><td>0.445  </td><td>0.415  </td><td>0.479  </td><td>0.440  </td><td>0.016  </td></tr>\n",
       "\t<tr><td>0.485  </td><td> 10    </td><td> 4.850 </td><td>  5.150</td><td>0.445  </td><td>0.414  </td><td>0.476  </td><td>0.442  </td><td>0.015  </td></tr>\n",
       "\t<tr><td>0.485  </td><td> 20    </td><td> 9.700 </td><td> 10.300</td><td>0.447  </td><td>0.415  </td><td>0.474  </td><td>0.449  </td><td>0.015  </td></tr>\n",
       "\t<tr><td>0.485  </td><td>100    </td><td>48.500 </td><td> 51.500</td><td>0.450  </td><td>0.422  </td><td>0.481  </td><td>0.447  </td><td>0.015  </td></tr>\n",
       "\t<tr><td>0.485  </td><td>200    </td><td>97.000 </td><td>103.000</td><td>0.453  </td><td>0.426  </td><td>0.481  </td><td>0.452  </td><td>0.014  </td></tr>\n",
       "</tbody>\n",
       "</table>\n"
      ],
      "text/latex": [
       "\\begin{tabular}{r|lllllllll}\n",
       " \\$\\textbackslash{}frac\\{\\textbackslash{}alpha\\}\\{\\textbackslash{}alpha + \\textbackslash{}beta\\}\\$ & \\$\\textbackslash{}alpha+\\textbackslash{}beta\\$ & \\$\\textbackslash{}alpha\\$ & \\$\\textbackslash{}beta\\$ & Posterior expectation estimator & Lower bound of 95\\% interval & Upper bound of 95\\% interval & MAP & Standard deviation\\\\\n",
       "\\hline\n",
       "\t 0.500   &   2     &  1.000  &   1.000 & 0.446   & 0.413   & 0.476   & 0.454   & 0.016  \\\\\n",
       "\t 0.485   &   2     &  0.970  &   1.030 & 0.446   & 0.416   & 0.477   & 0.441   & 0.016  \\\\\n",
       "\t 0.485   &   5     &  2.425  &   2.575 & 0.445   & 0.415   & 0.479   & 0.440   & 0.016  \\\\\n",
       "\t 0.485   &  10     &  4.850  &   5.150 & 0.445   & 0.414   & 0.476   & 0.442   & 0.015  \\\\\n",
       "\t 0.485   &  20     &  9.700  &  10.300 & 0.447   & 0.415   & 0.474   & 0.449   & 0.015  \\\\\n",
       "\t 0.485   & 100     & 48.500  &  51.500 & 0.450   & 0.422   & 0.481   & 0.447   & 0.015  \\\\\n",
       "\t 0.485   & 200     & 97.000  & 103.000 & 0.453   & 0.426   & 0.481   & 0.452   & 0.014  \\\\\n",
       "\\end{tabular}\n"
      ],
      "text/markdown": [
       "\n",
       "$\\frac{\\alpha}{\\alpha + \\beta}$ | $\\alpha+\\beta$ | $\\alpha$ | $\\beta$ | Posterior expectation estimator | Lower bound of 95% interval | Upper bound of 95% interval | MAP | Standard deviation | \n",
       "|---|---|---|---|---|---|---|\n",
       "| 0.500   |   2     |  1.000  |   1.000 | 0.446   | 0.413   | 0.476   | 0.454   | 0.016   | \n",
       "| 0.485   |   2     |  0.970  |   1.030 | 0.446   | 0.416   | 0.477   | 0.441   | 0.016   | \n",
       "| 0.485   |   5     |  2.425  |   2.575 | 0.445   | 0.415   | 0.479   | 0.440   | 0.016   | \n",
       "| 0.485   |  10     |  4.850  |   5.150 | 0.445   | 0.414   | 0.476   | 0.442   | 0.015   | \n",
       "| 0.485   |  20     |  9.700  |  10.300 | 0.447   | 0.415   | 0.474   | 0.449   | 0.015   | \n",
       "| 0.485   | 100     | 48.500  |  51.500 | 0.450   | 0.422   | 0.481   | 0.447   | 0.015   | \n",
       "| 0.485   | 200     | 97.000  | 103.000 | 0.453   | 0.426   | 0.481   | 0.452   | 0.014   | \n",
       "\n",
       "\n"
      ],
      "text/plain": [
       "  $\\\\frac{\\\\alpha}{\\\\alpha + \\\\beta}$ $\\\\alpha+\\\\beta$ $\\\\alpha$ $\\\\beta$\n",
       "1 0.500                                 2               1.000      1.000 \n",
       "2 0.485                                 2               0.970      1.030 \n",
       "3 0.485                                 5               2.425      2.575 \n",
       "4 0.485                                10               4.850      5.150 \n",
       "5 0.485                                20               9.700     10.300 \n",
       "6 0.485                               100              48.500     51.500 \n",
       "7 0.485                               200              97.000    103.000 \n",
       "  Posterior expectation estimator Lower bound of 95% interval\n",
       "1 0.446                           0.413                      \n",
       "2 0.446                           0.416                      \n",
       "3 0.445                           0.415                      \n",
       "4 0.445                           0.414                      \n",
       "5 0.447                           0.415                      \n",
       "6 0.450                           0.422                      \n",
       "7 0.453                           0.426                      \n",
       "  Upper bound of 95% interval MAP   Standard deviation\n",
       "1 0.476                       0.454 0.016             \n",
       "2 0.477                       0.441 0.016             \n",
       "3 0.479                       0.440 0.016             \n",
       "4 0.476                       0.442 0.015             \n",
       "5 0.474                       0.449 0.015             \n",
       "6 0.481                       0.447 0.015             \n",
       "7 0.481                       0.452 0.014             "
      ]
     },
     "metadata": {},
     "output_type": "display_data"
    }
   ],
   "source": [
    "# Initialization\n",
    "post_pred_median <- rep(0,nrow(params))\n",
    "post_pred_lower <- rep(0,nrow(params))\n",
    "post_pred_upper <- rep(0,nrow(params))\n",
    "MAP <- rep(0,nrow(params)) # Maximum-A-Posteriori estimation\n",
    "std <- rep(0,nrow(params)) # Standard Deviation\n",
    "\n",
    "# Loop over alpha and beta from params table and extract quantiles,\n",
    "# MAP, and standard deviation\n",
    "for (idx in 1:nrow(params)){\n",
    "    posterior_sampling <- sort(Posterior(N, n, x, idx))\n",
    "    posterior_predictive_sampling <- sort(PostPredictive(N, n, x, idx))\n",
    "    post_pred_median[idx] <- posterior_sampling[median_quantile_draw]\n",
    "    post_pred_lower[idx] <- posterior_sampling[lower_quantile_draw]\n",
    "    post_pred_upper[idx] <- posterior_sampling[upper_quantile_draw]\n",
    "    std[idx]  <- sd(posterior_sampling)\n",
    "    MAP[idx] <- get_mode(round(posterior_sampling,3))\n",
    "}\n",
    "\n",
    "# Enhance table with results\n",
    "table_2_1 <- params %>%\n",
    "            dplyr::mutate(`Posterior expectation estimator` = round(post_pred_median,3),\n",
    "                       `Lower bound of 95% interval` = round(post_pred_lower,3),\n",
    "                       `Upper bound of 95% interval` = round(post_pred_upper,3),\n",
    "                       MAP = round(MAP,3),\n",
    "                       `Standard deviation` = round(std,3)\n",
    "                      ) %>% \n",
    "            dplyr::rename(`$\\\\frac{\\\\alpha}{\\\\alpha + \\\\beta}$` = p,\n",
    "                         `$\\\\alpha+\\\\beta$` = t,\n",
    "                         `$\\\\alpha$` = a,\n",
    "                          `$\\\\beta$` = b)\n",
    "\n",
    "table_2_1"
   ]
  },
  {
   "cell_type": "markdown",
   "metadata": {},
   "source": [
    "The values in the table are close to the values in BDA3. This is due to the fact, that we are sampling with a sample size of only 1000 samples."
   ]
  },
  {
   "cell_type": "markdown",
   "metadata": {},
   "source": [
    "### Reproduce figure 2.3 in BDA3"
   ]
  },
  {
   "cell_type": "markdown",
   "metadata": {},
   "source": [
    "Next the plots found in BDA3 are reproduced. The plots correspond to the female birth probability in case of placenta previa following the posterior distribution, the logit transformation of the posterior and the male to female ratio deduced form the posterior."
   ]
  },
  {
   "cell_type": "code",
   "execution_count": 8,
   "metadata": {},
   "outputs": [
    {
     "data": {
      "image/png": "[encoded data removed]",
      "text/plain": [
       "Plot with title “”"
      ]
     },
     "metadata": {},
     "output_type": "display_data"
    }
   ],
   "source": [
    "options(repr.plot.width=8, repr.plot.height=4)\n",
    "\n",
    "get_logit_transform <- function(p){log(p/(1-p))}\n",
    "get_male_to_female_ratio <- function(p){(1-p)/p}\n",
    "\n",
    "par(mfrow=c(1,3))\n",
    "truehist(Posterior(N, n, x, 1), xlim=c(0.35,0.55), \n",
    "         xlab = \"Female birth probability\", ylab = \"Draws from posterior pdf\")\n",
    "truehist(get_logit_transform(Posterior(N, n, x, 1)), \n",
    "         xlab = \"Logit transformation\",ylab = \"Draws from posterior pdf\", main=\"\")\n",
    "truehist(get_male_to_female_ratio(Posterior(N, n, x, 1)), \n",
    "         xlab = \"Male to female ratio\", ylab = \"Draws from posterior pdf\", main=\"\")"
   ]
  },
  {
   "cell_type": "markdown",
   "metadata": {},
   "source": [
    "### Get $\\alpha_0$ and $\\beta_0$ \n",
    "such that $\\mbox{Beta}(\\alpha_0,\\beta_0)$ has the same expectation and variance than the piecewise linear nonconjugate prior. Compare the posterior quantities with both priors. "
   ]
  },
  {
   "cell_type": "markdown",
   "metadata": {},
   "source": [
    "We first get the expectation and variance of the piecewise linear nonconjugate prior:\n",
    "\n",
    "$$\n",
    "    h(t)=\\left\\{\n",
    "    \\begin{array}{lcl}\n",
    "         a,        &\\text{ for }  &0<t<m-c \\quad\\text{and } m+c<t<1,\\\\\n",
    "         A+b\\cdot t/c,  &\\text{ for }  &t\\in [m-c,m],\\\\ \n",
    "         B-b\\cdot t/c   &\\text{ for }  &t\\in [m,m+c],\\\\ \n",
    "    \\end{array}\n",
    "    \\right.,\\quad t \\in[0,1]\n",
    "$$\n",
    "\n",
    "where $a=0.50$, $b=5.00$ is the height of the central triangle ($a+b$ is the peak ordinate), $A=a+b-(b\\cdot m)/c$,\n",
    "$B<-a+b+(b\\cdot m)/c$."
   ]
  },
  {
   "cell_type": "markdown",
   "metadata": {},
   "source": [
    "The values for the piecewise linear fucntion parameters:"
   ]
  },
  {
   "cell_type": "code",
   "execution_count": 9,
   "metadata": {},
   "outputs": [],
   "source": [
    "# The constants are copied from the Binomial.model notebook\n",
    "m<-0.485\n",
    "c<-0.100\n",
    "p.tails<-0.4  \n",
    "a<-0.5\n",
    "b<-5.0\n",
    "A<-a+b-(b*m)/c\n",
    "B<-a+b+(b*m)/c"
   ]
  },
  {
   "cell_type": "markdown",
   "metadata": {},
   "source": [
    "The definition of the piecewise linear function as well as the checking of the integral adding up to 1 accompanied by the expectation value and standard deviation."
   ]
  },
  {
   "cell_type": "code",
   "execution_count": 10,
   "metadata": {
    "scrolled": false
   },
   "outputs": [
    {
     "name": "stderr",
     "output_type": "stream",
     "text": [
      "The integral of h is 1\n",
      "The expected value of t is 0.49\n",
      "The standard deviation of t is 0.21\n"
     ]
    }
   ],
   "source": [
    "# Function h(t)\n",
    "h<-function(t, get_E_val = FALSE, get_var = FALSE){\n",
    "    \n",
    "    output = rep(0,length(t))\n",
    "    output[(t < m - c) | (m + c < t)] = a\n",
    "    \n",
    "    filter_1 = (m - c <= t) & (t <= m)\n",
    "    output[filter_1] = A + b*t[filter_1]/c\n",
    "    \n",
    "    filter_2 = (m < t) & (t <= m + c)\n",
    "    output[filter_2] = B - b*t[filter_2]/c\n",
    "    \n",
    "    if(get_E_val){\n",
    "        return(output*t)\n",
    "    } else if(get_var){\n",
    "        return(output*(t-m)^2)\n",
    "    } else {\n",
    "        return(output)\n",
    "    }\n",
    "}\n",
    "\n",
    "# Verify Integral(h(t)) = 1, evaluate expected value and standard deviation\n",
    "message(\"The integral of h is \", round(integrate(h, lower = 0, upper = 1)$value, 2))\n",
    "message(\"The expected value of t is \", round(integrate(h, get_E_val = TRUE, lower = 0, upper = 1)$value, 2))\n",
    "message(\"The standard deviation of t is \", round(sqrt(integrate(h, get_var = TRUE, lower = 0, upper = 1)[1]$value), 2))"
   ]
  },
  {
   "cell_type": "markdown",
   "metadata": {},
   "source": [
    "According to BDA3, a $\\mathrm{Beta}(\\alpha_0, \\beta_0)$, which has similar standard deviation and mean as the piecewise linear distribution $\\mathrm{h(t)}$, fulfills $\\alpha_0 + \\beta_0 = 5$. With this information we can write a search algorithm to get the best approximation for $\\alpha_0$ and $\\beta_0$.\n",
    "The algorithm runs over $\\beta$ from 1 to 5 in very small steps, keeping the sum $\\alpha + \\beta = 5$, and finding the combination of $\\alpha$ and $\\beta$ with the smallest deviation from the expected value and standard deviation given above.\n",
    "After that, we use the obtained $\\alpha_0$ and $\\beta_0$ to verify that the conjugate $\\mathrm{Beta}(\\alpha_0, \\beta_0)$ indeed give the same expectation and standard deviation as the piecewise linear prior."
   ]
  },
  {
   "cell_type": "code",
   "execution_count": 13,
   "metadata": {},
   "outputs": [
    {
     "name": "stderr",
     "output_type": "stream",
     "text": [
      "Warning message in X_ - mean_with_alpha0_and_beta0:\n",
      "“Recycling array of length 1 in vector-array arithmetic is deprecated.\n",
      "  Use c() or as.vector() instead.\n",
      "”beta_0 = 2.485\n",
      "alpha_0 = 2.515\n",
      "Expected value of Beta(alpha_0, beta_0) = 0.503\n",
      "Standard deviation of Beta(alpha_0, beta_0) = 0.204\n"
     ]
    }
   ],
   "source": [
    "# Set mean and standard deviation equal to the mean and standard\n",
    "# deviation of h(t)\n",
    "mean_ = integrate(h, get_E_val = TRUE, lower = 0, upper = 1)$value\n",
    "std_ = sqrt(integrate(h, get_var = TRUE, lower = 0, upper = 1)[1]$value)\n",
    "\n",
    "# Function that outputs the sum of the absolute errors of mean and \n",
    "# standard deviation between Beta prior and h(t) to find alpha_0\n",
    "# beta_0\n",
    "optimize_prior <- function(beta, N, mean_, std_){\n",
    "    alpha = 5 - beta\n",
    "    sampling <- rbeta(N, alpha, beta)\n",
    "    abs_error_std = abs(sd(sampling) - std_)\n",
    "    abs_error_mean = abs(mean(sampling) - mean_)\n",
    "    abs_total_error = abs_error_std + abs_error_mean\n",
    "    return(abs_total_error)\n",
    "}\n",
    "\n",
    "# Find alpha_0 and beta_0\n",
    "minimum = 1e6\n",
    "for(beta in seq(1, 5, length = 10000)){\n",
    "    total_error = optimize_prior(beta, N, mean_, std_)\n",
    "    \n",
    "    if(total_error < minimum){\n",
    "            minimum = total_error\n",
    "            beta_0 = beta            \n",
    "    }\n",
    "}\n",
    "alpha_0 = 5 - beta_0\n",
    "\n",
    "# Get expected value and standard deviation of Beta(alpha_0, beta_0) to verify that values are correct\n",
    "X_ = seq(0,1, length=1000)\n",
    "mean_with_alpha0_and_beta0 = 1/length(X_)*(X_ %*% dbeta(X_, alpha_0, beta_0))\n",
    "std_with_alpha0_and_beta0 = sqrt(1/length(X_)*(X_-mean_with_alpha0_and_beta0)^2 %*% dbeta(X_, alpha_0, beta_0))\n",
    "\n",
    "message(\"beta_0 = \", round(beta_0,3))\n",
    "message(\"alpha_0 = \", round(alpha_0,3))\n",
    "message(\"Expected value of Beta(alpha_0, beta_0) = \", round(mean_with_alpha0_and_beta0, 3))\n",
    "message(\"Standard deviation of Beta(alpha_0, beta_0) = \", round(std_with_alpha0_and_beta0, 3))"
   ]
  },
  {
   "cell_type": "markdown",
   "metadata": {},
   "source": [
    "Next, get $95\\%$ credible interval, median, and MAP for the posterior $\\mathrm{Beta}$ with the new values $\\mathrm{Beta(\\alpha_0 + x, \\beta_0 + n - x)}$."
   ]
  },
  {
   "cell_type": "code",
   "execution_count": 14,
   "metadata": {},
   "outputs": [
    {
     "name": "stderr",
     "output_type": "stream",
     "text": [
      "The 95% posterior credible interval of the Beta(alpha_0, beta_0) prior is: \n",
      "[0.416, 0.479]\n",
      "\n",
      "The MAP of the Beta(alpha_0, beta_0) prior is: 0.441\n",
      "\n",
      "For comparison we plot the table again\n"
     ]
    },
    {
     "data": {
      "text/html": [
       "<table>\n",
       "<thead><tr><th scope=col>$\\frac{\\alpha}{\\alpha + \\beta}$</th><th scope=col>$\\alpha+\\beta$</th><th scope=col>$\\alpha$</th><th scope=col>$\\beta$</th><th scope=col>Posterior expectation estimator</th><th scope=col>Lower bound of 95% interval</th><th scope=col>Upper bound of 95% interval</th><th scope=col>MAP</th><th scope=col>Standard deviation</th></tr></thead>\n",
       "<tbody>\n",
       "\t<tr><td>0.500  </td><td>  2    </td><td> 1.000 </td><td>  1.000</td><td>0.446  </td><td>0.413  </td><td>0.476  </td><td>0.454  </td><td>0.016  </td></tr>\n",
       "\t<tr><td>0.485  </td><td>  2    </td><td> 0.970 </td><td>  1.030</td><td>0.446  </td><td>0.416  </td><td>0.477  </td><td>0.441  </td><td>0.016  </td></tr>\n",
       "\t<tr><td>0.485  </td><td>  5    </td><td> 2.425 </td><td>  2.575</td><td>0.445  </td><td>0.415  </td><td>0.479  </td><td>0.440  </td><td>0.016  </td></tr>\n",
       "\t<tr><td>0.485  </td><td> 10    </td><td> 4.850 </td><td>  5.150</td><td>0.445  </td><td>0.414  </td><td>0.476  </td><td>0.442  </td><td>0.015  </td></tr>\n",
       "\t<tr><td>0.485  </td><td> 20    </td><td> 9.700 </td><td> 10.300</td><td>0.447  </td><td>0.415  </td><td>0.474  </td><td>0.449  </td><td>0.015  </td></tr>\n",
       "\t<tr><td>0.485  </td><td>100    </td><td>48.500 </td><td> 51.500</td><td>0.450  </td><td>0.422  </td><td>0.481  </td><td>0.447  </td><td>0.015  </td></tr>\n",
       "\t<tr><td>0.485  </td><td>200    </td><td>97.000 </td><td>103.000</td><td>0.453  </td><td>0.426  </td><td>0.481  </td><td>0.452  </td><td>0.014  </td></tr>\n",
       "</tbody>\n",
       "</table>\n"
      ],
      "text/latex": [
       "\\begin{tabular}{r|lllllllll}\n",
       " \\$\\textbackslash{}frac\\{\\textbackslash{}alpha\\}\\{\\textbackslash{}alpha + \\textbackslash{}beta\\}\\$ & \\$\\textbackslash{}alpha+\\textbackslash{}beta\\$ & \\$\\textbackslash{}alpha\\$ & \\$\\textbackslash{}beta\\$ & Posterior expectation estimator & Lower bound of 95\\% interval & Upper bound of 95\\% interval & MAP & Standard deviation\\\\\n",
       "\\hline\n",
       "\t 0.500   &   2     &  1.000  &   1.000 & 0.446   & 0.413   & 0.476   & 0.454   & 0.016  \\\\\n",
       "\t 0.485   &   2     &  0.970  &   1.030 & 0.446   & 0.416   & 0.477   & 0.441   & 0.016  \\\\\n",
       "\t 0.485   &   5     &  2.425  &   2.575 & 0.445   & 0.415   & 0.479   & 0.440   & 0.016  \\\\\n",
       "\t 0.485   &  10     &  4.850  &   5.150 & 0.445   & 0.414   & 0.476   & 0.442   & 0.015  \\\\\n",
       "\t 0.485   &  20     &  9.700  &  10.300 & 0.447   & 0.415   & 0.474   & 0.449   & 0.015  \\\\\n",
       "\t 0.485   & 100     & 48.500  &  51.500 & 0.450   & 0.422   & 0.481   & 0.447   & 0.015  \\\\\n",
       "\t 0.485   & 200     & 97.000  & 103.000 & 0.453   & 0.426   & 0.481   & 0.452   & 0.014  \\\\\n",
       "\\end{tabular}\n"
      ],
      "text/markdown": [
       "\n",
       "$\\frac{\\alpha}{\\alpha + \\beta}$ | $\\alpha+\\beta$ | $\\alpha$ | $\\beta$ | Posterior expectation estimator | Lower bound of 95% interval | Upper bound of 95% interval | MAP | Standard deviation | \n",
       "|---|---|---|---|---|---|---|\n",
       "| 0.500   |   2     |  1.000  |   1.000 | 0.446   | 0.413   | 0.476   | 0.454   | 0.016   | \n",
       "| 0.485   |   2     |  0.970  |   1.030 | 0.446   | 0.416   | 0.477   | 0.441   | 0.016   | \n",
       "| 0.485   |   5     |  2.425  |   2.575 | 0.445   | 0.415   | 0.479   | 0.440   | 0.016   | \n",
       "| 0.485   |  10     |  4.850  |   5.150 | 0.445   | 0.414   | 0.476   | 0.442   | 0.015   | \n",
       "| 0.485   |  20     |  9.700  |  10.300 | 0.447   | 0.415   | 0.474   | 0.449   | 0.015   | \n",
       "| 0.485   | 100     | 48.500  |  51.500 | 0.450   | 0.422   | 0.481   | 0.447   | 0.015   | \n",
       "| 0.485   | 200     | 97.000  | 103.000 | 0.453   | 0.426   | 0.481   | 0.452   | 0.014   | \n",
       "\n",
       "\n"
      ],
      "text/plain": [
       "  $\\\\frac{\\\\alpha}{\\\\alpha + \\\\beta}$ $\\\\alpha+\\\\beta$ $\\\\alpha$ $\\\\beta$\n",
       "1 0.500                                 2               1.000      1.000 \n",
       "2 0.485                                 2               0.970      1.030 \n",
       "3 0.485                                 5               2.425      2.575 \n",
       "4 0.485                                10               4.850      5.150 \n",
       "5 0.485                                20               9.700     10.300 \n",
       "6 0.485                               100              48.500     51.500 \n",
       "7 0.485                               200              97.000    103.000 \n",
       "  Posterior expectation estimator Lower bound of 95% interval\n",
       "1 0.446                           0.413                      \n",
       "2 0.446                           0.416                      \n",
       "3 0.445                           0.415                      \n",
       "4 0.445                           0.414                      \n",
       "5 0.447                           0.415                      \n",
       "6 0.450                           0.422                      \n",
       "7 0.453                           0.426                      \n",
       "  Upper bound of 95% interval MAP   Standard deviation\n",
       "1 0.476                       0.454 0.016             \n",
       "2 0.477                       0.441 0.016             \n",
       "3 0.479                       0.440 0.016             \n",
       "4 0.476                       0.442 0.015             \n",
       "5 0.474                       0.449 0.015             \n",
       "6 0.481                       0.447 0.015             \n",
       "7 0.481                       0.452 0.014             "
      ]
     },
     "metadata": {},
     "output_type": "display_data"
    }
   ],
   "source": [
    "sampling <- sort(Posterior(N, n, x, NULL, use_table_params = FALSE, alpha_0, beta_0))\n",
    "\n",
    "post_pred_median_a0_b0 <- sampling[median_quantile_draw]\n",
    "post_pred_lower_a0_b0 <- sampling[lower_quantile_draw]\n",
    "post_pred_upper_a0_b0 <- sampling[upper_quantile_draw]              \n",
    "MAP_a0_b0 <- get_mode(sampling)\n",
    "\n",
    "message(\"The 95% posterior credible interval of the Beta(alpha_0, beta_0) prior is: \\n[\",\n",
    "       round(post_pred_lower_a0_b0,3), \", \",round(post_pred_upper_a0_b0,3),\"]\\n\")\n",
    "message(\"The MAP of the Beta(alpha_0, beta_0) prior is: \", round(MAP_a0_b0,3))\n",
    "\n",
    "message(\"\\nFor comparison we plot the table again\")\n",
    "table_2_1"
   ]
  },
  {
   "cell_type": "code",
   "execution_count": 15,
   "metadata": {},
   "outputs": [
    {
     "name": "stderr",
     "output_type": "stream",
     "text": [
      "The 95% posterior credible interval of the Beta(alpha_0, beta_0) prior is: \n",
      "[0.103, 0.877]\n",
      "\n",
      "The MAP of the Beta(alpha_0, beta_0) prior is: 0.363\n",
      "\n",
      "For comparison we plot the table again\n"
     ]
    },
    {
     "data": {
      "text/html": [
       "<table>\n",
       "<thead><tr><th scope=col>alpha_0</th><th scope=col>beta_0</th><th scope=col>Prior_expectation_estimator</th><th scope=col>Lower.bound.of.95.interval</th><th scope=col>Upper.bound.of.95..interval</th><th scope=col>MAP</th><th scope=col>Standard.deviation</th></tr></thead>\n",
       "<tbody>\n",
       "\t<tr><td>2.515052</td><td>2.484948</td><td>0.503   </td><td>0.103   </td><td>0.877   </td><td>0.363   </td><td>0.206   </td></tr>\n",
       "</tbody>\n",
       "</table>\n"
      ],
      "text/latex": [
       "\\begin{tabular}{r|lllllll}\n",
       " alpha\\_0 & beta\\_0 & Prior\\_expectation\\_estimator & Lower.bound.of.95.interval & Upper.bound.of.95..interval & MAP & Standard.deviation\\\\\n",
       "\\hline\n",
       "\t 2.515052 & 2.484948 & 0.503    & 0.103    & 0.877    & 0.363    & 0.206   \\\\\n",
       "\\end{tabular}\n"
      ],
      "text/markdown": [
       "\n",
       "alpha_0 | beta_0 | Prior_expectation_estimator | Lower.bound.of.95.interval | Upper.bound.of.95..interval | MAP | Standard.deviation | \n",
       "|---|\n",
       "| 2.515052 | 2.484948 | 0.503    | 0.103    | 0.877    | 0.363    | 0.206    | \n",
       "\n",
       "\n"
      ],
      "text/plain": [
       "  alpha_0  beta_0   Prior_expectation_estimator Lower.bound.of.95.interval\n",
       "1 2.515052 2.484948 0.503                       0.103                     \n",
       "  Upper.bound.of.95..interval MAP   Standard.deviation\n",
       "1 0.877                       0.363 0.206             "
      ]
     },
     "metadata": {},
     "output_type": "display_data"
    }
   ],
   "source": [
    "sampling <- sort(Prior(N, NULL, use_table_params = FALSE, alpha_0, beta_0))\n",
    "\n",
    "prior_pred_median_a0_b0 <- sampling[median_quantile_draw]\n",
    "prior_pred_lower_a0_b0 <- sampling[lower_quantile_draw]\n",
    "prior_pred_upper_a0_b0 <- sampling[upper_quantile_draw]              \n",
    "MAP_a0_b0 <- get_mode(sampling)\n",
    "std_a0_b0 <- sd(sampling)\n",
    "\n",
    "message(\"The 95% posterior credible interval of the Beta(alpha_0, beta_0) prior is: \\n[\",\n",
    "       round(prior_pred_lower_a0_b0,3), \", \",round(prior_pred_upper_a0_b0,3),\"]\\n\")\n",
    "message(\"The MAP of the Beta(alpha_0, beta_0) prior is: \", round(MAP_a0_b0,3))\n",
    "\n",
    "message(\"\\nFor comparison we plot the table again\")\n",
    "\n",
    "table_3_1 <- data.frame(alpha_0 = alpha_0, beta_0 = beta_0, \n",
    "                        Prior_expectation_estimator = round(prior_pred_median_a0_b0,3),\n",
    "                       `Lower bound of 95 interval` = round(prior_pred_lower_a0_b0,3),\n",
    "                        `Upper bound of 95% interval` = round(prior_pred_upper_a0_b0,3),\n",
    "                       MAP = round(MAP_a0_b0,3),\n",
    "                       `Standard deviation` = round(std_a0_b0,3))\n",
    "\n",
    "table_3_1"
   ]
  },
  {
   "cell_type": "markdown",
   "metadata": {},
   "source": [
    "The previous table correspond to the prior with  values $\\alpha_0$ and $\\beta_0$, and the following table shows the quantiles and expectations for the different parameters of $\\alpha$ and $\\beta$ from BDA3."
   ]
  },
  {
   "cell_type": "code",
   "execution_count": 16,
   "metadata": {},
   "outputs": [
    {
     "data": {
      "text/html": [
       "<table>\n",
       "<thead><tr><th scope=col>$\\frac{\\alpha}{\\alpha + \\beta}$</th><th scope=col>$\\alpha+\\beta$</th><th scope=col>$\\alpha$</th><th scope=col>$\\beta$</th><th scope=col>Prior expectation estimator</th><th scope=col>Lower bound of 95% interval</th><th scope=col>Upper bound of 95% interval</th><th scope=col>MAP</th><th scope=col>Standard deviation</th></tr></thead>\n",
       "<tbody>\n",
       "\t<tr><td>0.500  </td><td>  2    </td><td> 1.000 </td><td>  1.000</td><td>0.504  </td><td>0.023  </td><td>0.977  </td><td>0.452  </td><td>0.014  </td></tr>\n",
       "\t<tr><td>0.485  </td><td>  2    </td><td> 0.970 </td><td>  1.030</td><td>0.475  </td><td>0.023  </td><td>0.973  </td><td>0.452  </td><td>0.014  </td></tr>\n",
       "\t<tr><td>0.485  </td><td>  5    </td><td> 2.425 </td><td>  2.575</td><td>0.488  </td><td>0.121  </td><td>0.867  </td><td>0.452  </td><td>0.014  </td></tr>\n",
       "\t<tr><td>0.485  </td><td> 10    </td><td> 4.850 </td><td>  5.150</td><td>0.480  </td><td>0.177  </td><td>0.779  </td><td>0.452  </td><td>0.014  </td></tr>\n",
       "\t<tr><td>0.485  </td><td> 20    </td><td> 9.700 </td><td> 10.300</td><td>0.490  </td><td>0.276  </td><td>0.694  </td><td>0.452  </td><td>0.014  </td></tr>\n",
       "\t<tr><td>0.485  </td><td>100    </td><td>48.500 </td><td> 51.500</td><td>0.484  </td><td>0.389  </td><td>0.580  </td><td>0.452  </td><td>0.014  </td></tr>\n",
       "\t<tr><td>0.485  </td><td>200    </td><td>97.000 </td><td>103.000</td><td>0.487  </td><td>0.418  </td><td>0.553  </td><td>0.452  </td><td>0.014  </td></tr>\n",
       "</tbody>\n",
       "</table>\n"
      ],
      "text/latex": [
       "\\begin{tabular}{r|lllllllll}\n",
       " \\$\\textbackslash{}frac\\{\\textbackslash{}alpha\\}\\{\\textbackslash{}alpha + \\textbackslash{}beta\\}\\$ & \\$\\textbackslash{}alpha+\\textbackslash{}beta\\$ & \\$\\textbackslash{}alpha\\$ & \\$\\textbackslash{}beta\\$ & Prior expectation estimator & Lower bound of 95\\% interval & Upper bound of 95\\% interval & MAP & Standard deviation\\\\\n",
       "\\hline\n",
       "\t 0.500   &   2     &  1.000  &   1.000 & 0.504   & 0.023   & 0.977   & 0.452   & 0.014  \\\\\n",
       "\t 0.485   &   2     &  0.970  &   1.030 & 0.475   & 0.023   & 0.973   & 0.452   & 0.014  \\\\\n",
       "\t 0.485   &   5     &  2.425  &   2.575 & 0.488   & 0.121   & 0.867   & 0.452   & 0.014  \\\\\n",
       "\t 0.485   &  10     &  4.850  &   5.150 & 0.480   & 0.177   & 0.779   & 0.452   & 0.014  \\\\\n",
       "\t 0.485   &  20     &  9.700  &  10.300 & 0.490   & 0.276   & 0.694   & 0.452   & 0.014  \\\\\n",
       "\t 0.485   & 100     & 48.500  &  51.500 & 0.484   & 0.389   & 0.580   & 0.452   & 0.014  \\\\\n",
       "\t 0.485   & 200     & 97.000  & 103.000 & 0.487   & 0.418   & 0.553   & 0.452   & 0.014  \\\\\n",
       "\\end{tabular}\n"
      ],
      "text/markdown": [
       "\n",
       "$\\frac{\\alpha}{\\alpha + \\beta}$ | $\\alpha+\\beta$ | $\\alpha$ | $\\beta$ | Prior expectation estimator | Lower bound of 95% interval | Upper bound of 95% interval | MAP | Standard deviation | \n",
       "|---|---|---|---|---|---|---|\n",
       "| 0.500   |   2     |  1.000  |   1.000 | 0.504   | 0.023   | 0.977   | 0.452   | 0.014   | \n",
       "| 0.485   |   2     |  0.970  |   1.030 | 0.475   | 0.023   | 0.973   | 0.452   | 0.014   | \n",
       "| 0.485   |   5     |  2.425  |   2.575 | 0.488   | 0.121   | 0.867   | 0.452   | 0.014   | \n",
       "| 0.485   |  10     |  4.850  |   5.150 | 0.480   | 0.177   | 0.779   | 0.452   | 0.014   | \n",
       "| 0.485   |  20     |  9.700  |  10.300 | 0.490   | 0.276   | 0.694   | 0.452   | 0.014   | \n",
       "| 0.485   | 100     | 48.500  |  51.500 | 0.484   | 0.389   | 0.580   | 0.452   | 0.014   | \n",
       "| 0.485   | 200     | 97.000  | 103.000 | 0.487   | 0.418   | 0.553   | 0.452   | 0.014   | \n",
       "\n",
       "\n"
      ],
      "text/plain": [
       "  $\\\\frac{\\\\alpha}{\\\\alpha + \\\\beta}$ $\\\\alpha+\\\\beta$ $\\\\alpha$ $\\\\beta$\n",
       "1 0.500                                 2               1.000      1.000 \n",
       "2 0.485                                 2               0.970      1.030 \n",
       "3 0.485                                 5               2.425      2.575 \n",
       "4 0.485                                10               4.850      5.150 \n",
       "5 0.485                                20               9.700     10.300 \n",
       "6 0.485                               100              48.500     51.500 \n",
       "7 0.485                               200              97.000    103.000 \n",
       "  Prior expectation estimator Lower bound of 95% interval\n",
       "1 0.504                       0.023                      \n",
       "2 0.475                       0.023                      \n",
       "3 0.488                       0.121                      \n",
       "4 0.480                       0.177                      \n",
       "5 0.490                       0.276                      \n",
       "6 0.484                       0.389                      \n",
       "7 0.487                       0.418                      \n",
       "  Upper bound of 95% interval MAP   Standard deviation\n",
       "1 0.977                       0.452 0.014             \n",
       "2 0.973                       0.452 0.014             \n",
       "3 0.867                       0.452 0.014             \n",
       "4 0.779                       0.452 0.014             \n",
       "5 0.694                       0.452 0.014             \n",
       "6 0.580                       0.452 0.014             \n",
       "7 0.553                       0.452 0.014             "
      ]
     },
     "metadata": {},
     "output_type": "display_data"
    }
   ],
   "source": [
    "# Initialization\n",
    "prior_pred_median <- rep(0,nrow(params))\n",
    "prior_pred_lower <- rep(0,nrow(params))\n",
    "prior_pred_upper <- rep(0,nrow(params))\n",
    "MAP <- rep(0,nrow(params)) # Maximum-A-Posteriori estimation\n",
    "std <- rep(0,nrow(params)) # Standard Deviation\n",
    "\n",
    "# Loop over alpha and beta from params table and extract quantiles,\n",
    "# MAP, and standard deviation\n",
    "for (idx in 1:nrow(params)){\n",
    "    prior_sampling <- sort(Prior(N,idx))\n",
    "    prior_predictive_sampling <- sort(PriorPredictive(N,n,idx))\n",
    "    prior_pred_median[idx] <- prior_sampling[median_quantile_draw]\n",
    "    prior_pred_lower[idx] <- prior_sampling[lower_quantile_draw]\n",
    "    prior_pred_upper[idx] <- prior_sampling[upper_quantile_draw]\n",
    "    std[idx]  <- sd(posterior_sampling)\n",
    "    MAP[idx] <- get_mode(round(posterior_sampling,3))\n",
    "}\n",
    "\n",
    "# Enhance table with results\n",
    "table_3_1 <- params %>%\n",
    "            dplyr::mutate(`Prior expectation estimator` = round(prior_pred_median,3),\n",
    "                       `Lower bound of 95% interval` = round(prior_pred_lower,3),\n",
    "                       `Upper bound of 95% interval` = round(prior_pred_upper,3),\n",
    "                       MAP = round(MAP,3),\n",
    "                       `Standard deviation` = round(std,3)\n",
    "                      ) %>% \n",
    "            dplyr::rename(`$\\\\frac{\\\\alpha}{\\\\alpha + \\\\beta}$` = p,\n",
    "                         `$\\\\alpha+\\\\beta$` = t,\n",
    "                         `$\\\\alpha$` = a,\n",
    "                          `$\\\\beta$` = b)\n",
    "\n",
    "table_3_1"
   ]
  },
  {
   "cell_type": "markdown",
   "metadata": {},
   "source": [
    "As we can see, the prior expectation estimator is close to the initial value of $\\theta = 48.5\\%$, but the credible intervals are much wider than for the posterior pdf, in particular, when $\\alpha$ and $\\beta$ are small. This happens for both the prior $\\mathrm{Beta}(\\alpha,\\beta)$ and the one that uses the parameters from the piecewise.\n",
    "\n",
    "In the case of the posterior, the posterior expectation value has shifted close to the values of the experiment as it is supposed to do, and the intervals have reduced its width. Hence, the information from the experiment has modified the distribution and its parameters according to its reality. "
   ]
  },
  {
   "cell_type": "markdown",
   "metadata": {},
   "source": [
    "### 3.2"
   ]
  },
  {
   "cell_type": "markdown",
   "metadata": {},
   "source": [
    "+ Simulate the prior predictive pmf with the nonconjugate piecewise linear pdf. Do it in both possible ways: (1) Sample from $h$ by the inverse transformation method and (2) Sample from its discretization. \n",
    "\n",
    "+ Summarize the resulting simulated sample: plot the empirical pmf, compute median, mode, expectation, standard deviation. Compare the results with those obtained from the conjugate prior $\\mbox{Beta}(\\alpha_0,\\beta_0)$. "
   ]
  },
  {
   "cell_type": "markdown",
   "metadata": {},
   "source": [
    "#### Inverse transformation method"
   ]
  },
  {
   "cell_type": "markdown",
   "metadata": {},
   "source": [
    "The cdf of h(t) is \n",
    "$$\n",
    "H(t) = \\left\\{\n",
    "        \\begin{array}{lcl}\n",
    "        0.5 t, &\\mbox{ if } & t\\in(0,0.385),\\\\\n",
    "        25t^2 - 18.75t + 3.705625, &\\mbox{ if } & t\\in[0.385,0.485],\\\\\n",
    "        -25t^2 + 29.75t - 8.055625, &\\mbox{ if } & t\\in[0.485,0.585],\\\\\n",
    "        0.5t+0.5, &\\mbox{ if } & t\\in(0.585,1).\n",
    "        \\end{array}\n",
    "        \\right.\n",
    "$$"
   ]
  },
  {
   "cell_type": "markdown",
   "metadata": {},
   "source": [
    "The quantile function of the cdf if \n",
    "$$\n",
    "Q(y) = \\left\\{\n",
    "        \\begin{array}{lcl}\n",
    "        2y, &\\mbox{ if } & y\\in(0,0.1925),\\\\\n",
    "        0.375 + 0.02 \\sqrt{100y-19}, &\\mbox{ if } & y\\in[0.1925,0.4925],\\\\\n",
    "        0.595 - 0.0141421 \\sqrt{159-200y}, &\\mbox{ if } & y\\in[0.4925,0.7925],\\\\\n",
    "        2y - 1, &\\mbox{ if } & y\\in(0.7925,1).\n",
    "        \\end{array}\n",
    "        \\right.\n",
    "$$"
   ]
  },
  {
   "cell_type": "markdown",
   "metadata": {},
   "source": [
    "First of all, the function for generating random numbers following the piecewise linear function is developed with the use of the inverse cdf of the latter. Then these values are used as input for the likelihood to finally obtain the prior predictive. The histogram for the prior predictive is plotted."
   ]
  },
  {
   "cell_type": "code",
   "execution_count": 17,
   "metadata": {},
   "outputs": [
    {
     "data": {
      "image/png": "[encoded data removed]",
      "text/plain": [
       "Plot with title “Sampling from h by the inverse transformation”"
      ]
     },
     "metadata": {},
     "output_type": "display_data"
    }
   ],
   "source": [
    "my_rtriangle = function(n){\n",
    "    output = rep(0,n)\n",
    "    y = runif(n)\n",
    "    \n",
    "    filter_1 = (0 < y) & (y < 0.1925)\n",
    "    output[filter_1] = 2*y[filter_1]\n",
    "    \n",
    "    filter_2 = (0.1925 <= y) & (y <= 0.4925)\n",
    "    output[filter_2] = 0.375 + 0.02*sqrt(100*y[filter_2]-19)\n",
    "    \n",
    "    filter_3 = (0.4925 < y) & (y <= 0.7925)\n",
    "    output[filter_3] = 0.595 - 0.0141421*sqrt(159-200*y[filter_3])\n",
    "    \n",
    "    filter_4 = (0.7925 < y) & (y < 1)\n",
    "    output[filter_4] = 2*y[filter_4] - 1                                 \n",
    "    \n",
    "    return(output)\n",
    "    }\n",
    "\n",
    "N_ = 100000\n",
    "\n",
    "inverse_h = my_rtriangle(N_)\n",
    "inverse_x<-rbinom(N_, n, inverse_h)\n",
    "t = seq(0,1, length = 1000)\n",
    "\n",
    "hist(inverse_x, xlab = \"t\", ylab = \"h(t)\",\n",
    "         main = \"Sampling from h by the inverse transformation\", nclass = 200, freq=FALSE)"
   ]
  },
  {
   "cell_type": "markdown",
   "metadata": {},
   "source": [
    "#### Discretizing the continuous prior\n",
    "\n",
    "Next we construct a grid of $N$ points $\\mathbf{t}=(t_1,\\dots,t_{N-1})$ on the $[0,1]$. On each interval $[t_{i},t_{i+1}]$, $1\\leq i\\leq N-1$, the probability from the prior pdf, the integral of $h(t)$ on it, is approximated by the rectangle area $h(t_i)\\cdot\\delta$, where $\\delta=1/N$. The discrete r.v. defined by both vectors: values $\\mathbf{t}$ and probabilities $h(\\mathbf{t})\\cdot \\delta$ is a _discretization_ of the continuous r.v. with pdf $h$, a reasonable approximation by a discrete distribution of the given continuous probability distribution. We proceed with this discrete r.v. as in the example above."
   ]
  },
  {
   "cell_type": "markdown",
   "metadata": {},
   "source": [
    "Now with the discretization method a sample is generated with probabilities vector: $h(\\textbf{t})\\cdot \\delta$. Then, as before, the histogram is plotted against the original function."
   ]
  },
  {
   "cell_type": "code",
   "execution_count": 120,
   "metadata": {},
   "outputs": [
    {
     "data": {
      "image/png": "[encoded data removed]",
      "text/plain": [
       "Plot with title “Sampling from the discretized prior”"
      ]
     },
     "metadata": {},
     "output_type": "display_data"
    }
   ],
   "source": [
    "t<-seq(0,1,length=N_)\n",
    "t<-t[-N_]\n",
    "probs = 1/N_*h(t)\n",
    "\n",
    "discrete_h = sample(t, size = N_, replace = TRUE, prob = probs)\n",
    "discrete_x<-rbinom(N_, n, discrete_h)\n",
    "\n",
    "\n",
    "hist(discrete_x,\n",
    "         xlab = \"t_i\", ylab = \"h(t_i)\",\n",
    "         main = \"Sampling from the discretized prior\", nclass=200, freq=FALSE)"
   ]
  },
  {
   "cell_type": "markdown",
   "metadata": {},
   "source": [
    "#### Compute median, mode, expectation, standard deviation"
   ]
  },
  {
   "cell_type": "markdown",
   "metadata": {},
   "source": [
    "Then, the median, the mode, the expectation and the standard deviation are obtained for each of the methods and for the sample generated from them."
   ]
  },
  {
   "cell_type": "code",
   "execution_count": 121,
   "metadata": {
    "scrolled": true
   },
   "outputs": [
    {
     "name": "stderr",
     "output_type": "stream",
     "text": [
      "From the inverse transformation we obtain the median: 477\n",
      "From the inverse transformation we obtain the mode: 493\n",
      "From the inverse transformation we obtain the expectation: 482.7\n",
      "From the inverse transformation we obtain the standard deviation: 202.8\n",
      "\n",
      "From the discretization we obtain the median: 477\n",
      "From the discretization we obtain the mode: 479\n",
      "From the discretization we obtain the expectation: 483.8\n",
      "From the discretization we obtain the standard deviation: 203\n",
      "\n"
     ]
    }
   ],
   "source": [
    "message(\"From the inverse transformation we obtain the median: \", round(median(inverse_x),1))\n",
    "message(\"From the inverse transformation we obtain the mode: \", round(get_mode(inverse_x),1))\n",
    "message(\"From the inverse transformation we obtain the expectation: \", round(mean(inverse_x),1))\n",
    "message(\"From the inverse transformation we obtain the standard deviation: \", round(sd(inverse_x),1),\"\\n\")\n",
    "\n",
    "message(\"From the discretization we obtain the median: \", round(median(discrete_x),1))\n",
    "message(\"From the discretization we obtain the mode: \", round(get_mode(discrete_x),1))\n",
    "message(\"From the discretization we obtain the expectation: \", round(mean(discrete_x),1))\n",
    "message(\"From the discretization we obtain the standard deviation: \", round(sd(discrete_x),1),\"\\n\")"
   ]
  },
  {
   "cell_type": "markdown",
   "metadata": {},
   "source": [
    "And the values from $Beta(\\alpha_{0},\\beta_{0})$ were:"
   ]
  },
  {
   "cell_type": "code",
   "execution_count": 122,
   "metadata": {},
   "outputs": [
    {
     "name": "stderr",
     "output_type": "stream",
     "text": [
      "Expected value of Beta(alpha_0, beta_0) = 476.3\n",
      "Standard deviation of Beta(alpha_0, beta_0) = 200.3\n"
     ]
    }
   ],
   "source": [
    "conjugate_prior <- PriorPredictive(N_, n, idx = NULL, use_table_params = FALSE, alpha_0, beta_0)\n",
    "\n",
    "message(\"Expected value of Beta(alpha_0, beta_0) = \", round(mean(conjugate_prior), 1))\n",
    "message(\"Standard deviation of Beta(alpha_0, beta_0) = \", round(sd(conjugate_prior), 1))"
   ]
  },
  {
   "cell_type": "markdown",
   "metadata": {},
   "source": [
    "As can be seen the values are close to the values of the piecewise linear prior."
   ]
  },
  {
   "cell_type": "markdown",
   "metadata": {},
   "source": [
    "### 3.3"
   ]
  },
  {
   "cell_type": "markdown",
   "metadata": {},
   "source": [
    "+ Simulate the posterior predictive pmf (given the observed data of 437 female births from 980 placenta previa births) with the nonconjugate piecewise linear pdf. Sample from the the discretization of the posterior pdf as in Exercise 2.\n",
    "\n",
    "+ Summarize the resulting simulated sample: plot the empirical pmf, compute median, mode, expectation, standard deviation. Compare the results with those obtained from the conjugate prior $\\mbox{Beta}(\\alpha_0,\\beta_0)$."
   ]
  },
  {
   "cell_type": "markdown",
   "metadata": {},
   "source": [
    "First of all, the discritization is generated and the last value removed to avoid problems. Next, with the likelihood function and the piecewise linear the posterior predictive is obtained. The problem of normalization is solved by dividing it by the sum of its vlaues.\n",
    "\n",
    "Then using the previous discretization a vector of probabilities is generated and with it a sample is obtained and an histogram plotted acommpanied by the corresponding density."
   ]
  },
  {
   "cell_type": "code",
   "execution_count": 20,
   "metadata": {},
   "outputs": [
    {
     "data": {
      "image/png": "[encoded data removed]",
      "text/plain": [
       "Plot with title “Sampling from the discretized posterior”"
      ]
     },
     "metadata": {},
     "output_type": "display_data"
    }
   ],
   "source": [
    "n<-980\n",
    "x<-437\n",
    "N<-1000\n",
    "t<-seq(0,1,length=N)\n",
    "t<-t[-N]\n",
    "\n",
    "Likelihood <- function(x,theta,n){theta^x*(1-theta)^(n-x)}\n",
    "nnpost <- Likelihood(x,t,n)*h(t)\n",
    "dpost<-nnpost/sum(nnpost)\n",
    "probs <- 1/N*dpost\n",
    "discrete_posterior = sample(t, size = N_, replace = TRUE, prob = probs)\n",
    "discrete_post_predictive<-rbinom(N_, n, discrete_posterior)\n",
    "\n",
    "hist(discrete_post_predictive, xlab = \"t_i\", ylab = \"h(t_i)\",\n",
    "         main = \"Sampling from the discretized posterior\", nclass = 200)"
   ]
  },
  {
   "cell_type": "markdown",
   "metadata": {
    "collapsed": true
   },
   "source": [
    "The values obtained from this discretization are:"
   ]
  },
  {
   "cell_type": "code",
   "execution_count": 124,
   "metadata": {},
   "outputs": [
    {
     "name": "stderr",
     "output_type": "stream",
     "text": [
      "From the discretization we obtain the median: 440\n",
      "From the discretization we obtain the mode: 438\n",
      "From the discretization we obtain the expectation: 440.365\n",
      "From the discretization we obtain the standard deviation: 21.655\n",
      "\n"
     ]
    }
   ],
   "source": [
    "message(\"From the discretization we obtain the median: \", round(median(discrete_post_predictive),3))\n",
    "message(\"From the discretization we obtain the mode: \", round(get_mode(discrete_post_predictive),3))\n",
    "message(\"From the discretization we obtain the expectation: \", round(mean(discrete_post_predictive),3))\n",
    "message(\"From the discretization we obtain the standard deviation: \", round(sd(discrete_post_predictive),3),\"\\n\")"
   ]
  },
  {
   "cell_type": "markdown",
   "metadata": {},
   "source": [
    "The results from the previous prior $\\mathrm{Beta}(\\alpha_{0},\\beta_{0})$ are"
   ]
  },
  {
   "cell_type": "code",
   "execution_count": 125,
   "metadata": {},
   "outputs": [
    {
     "name": "stderr",
     "output_type": "stream",
     "text": [
      "Expected value of Beta(alpha_0, beta_0) = 437.1\n",
      "Standard deviation of Beta(alpha_0, beta_0) = 22\n"
     ]
    }
   ],
   "source": [
    "conjugate_posterior <- PostPredictive(N_, n, x, idx = NULL, use_table_params = FALSE, alpha_0, beta_0)\n",
    "\n",
    "message(\"Expected value of Beta(alpha_0, beta_0) = \", round(mean(conjugate_posterior), 1))\n",
    "message(\"Standard deviation of Beta(alpha_0, beta_0) = \", round(sd(conjugate_posterior), 1))"
   ]
  },
  {
   "cell_type": "markdown",
   "metadata": {},
   "source": [
    "Comparing the values from the posterior and the prior the shift of the mean can be seen. The mean of the prior was around $\\mu = 485$ but in the posterior is around $\\mu=437$, which is in agreement with the experiment. Also can be seen that the standard deviation has been reduced due to this source of information.\n",
    "\n",
    "Comparing the results from the $Beta(\\alpha_0,\\beta_0)$ and the discretization sample, can be seen that the result from the former is more accurate."
   ]
  }
 ],
 "metadata": {
  "kernelspec": {
   "display_name": "R",
   "language": "R",
   "name": "ir"
  },
  "language_info": {
   "codemirror_mode": "r",
   "file_extension": ".r",
   "mimetype": "text/x-r-source",
   "name": "R",
   "pygments_lexer": "r",
   "version": "3.4.3"
  }
 },
 "nbformat": 4,
 "nbformat_minor": 2
}
