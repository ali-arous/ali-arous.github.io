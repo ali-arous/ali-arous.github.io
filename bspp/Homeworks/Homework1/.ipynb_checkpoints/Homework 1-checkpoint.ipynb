{
 "cells": [
  {
   "cell_type": "code",
   "execution_count": 56,
   "metadata": {},
   "outputs": [
    {
     "name": "stdout",
     "output_type": "stream",
     "text": [
      "[1] \"hello\"\n",
      "[1] 3\n"
     ]
    }
   ],
   "source": [
    "comb<-function(n, k){\n",
    "    return (choose(n,k))\n",
    "}\n",
    "\n",
    "pmf_X2_condto_X1<-function(k1, k2, n){\n",
    "    return ( (comb(n-k1, k2)*(2^k1) ) / comb(n,k1) )\n",
    "}\n",
    "\n",
    "pmf_X1_joint_X2<-function(k1, k2, n){\n",
    "    return ( comb(n-k1, k2) / 2^(n-k1) )\n",
    "}\n",
    "\n",
    "pmf_X1_X2_R2_joint<-function(k1, k2, n){\n",
    "    return (pmf_X1_joint_X2(k1, k2, n))\n",
    "}\n",
    "\n",
    "pmf_X2<-function(k2, n){\n",
    "    i<-seq(0,n, by=1)\n",
    "    x<-(comb(n-i,k2))/(2^(n-i))\n",
    "    return (sum(x))\n",
    "}\n",
    "\n",
    "pmf_R2<-function(r2, n){\n",
    "    return (pmf_X2(n-r2,n))\n",
    "}\n",
    "\n",
    "\n",
    "# for (n in seq(3,5,by=1)){\n",
    "#     print(paste('n =',n))\n",
    "#     for (k1 in seq(0,n,by=1)){\n",
    "#         print(paste(cat('\\tk1 ='), k1))\n",
    "#         for(k2 in seq(0,n-k1,by=1)){\n",
    "#             print(paste(cat('\\t\\tk2 ='), k2))\n",
    "#             #print(cat('\\n\\n'))\n",
    "#             print(paste(cat('\\t\\t\\tpmf_X2_condto_X1 ='), pmf_X2_condto_X1(k1,k2,n)))\n",
    "            \n",
    "#         }\n",
    "#     }\n",
    "    \n",
    "# }\n",
    "\n",
    "\n",
    "#print(comb(3,2))\n",
    "#print(pmf_X2(5,15))\n",
    "print('hello')\n",
    "print(pmf_X2_condto_X1(0,1,3))\n",
    "#print(combn(3,0))\n",
    "#print(choose(10,7)[1])"
   ]
  }
 ],
 "metadata": {
  "kernelspec": {
   "display_name": "R",
   "language": "R",
   "name": "ir"
  },
  "language_info": {
   "codemirror_mode": "r",
   "file_extension": ".r",
   "mimetype": "text/x-r-source",
   "name": "R",
   "pygments_lexer": "r",
   "version": "3.4.3"
  }
 },
 "nbformat": 4,
 "nbformat_minor": 2
}
