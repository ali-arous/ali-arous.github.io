{
 "cells": [
  {
   "cell_type": "markdown",
   "metadata": {},
   "source": [
    "# Binomial model 01"
   ]
  },
  {
   "cell_type": "markdown",
   "metadata": {},
   "source": [
    "##### Josep Fortiana 2018-10-17"
   ]
  },
  {
   "cell_type": "markdown",
   "metadata": {},
   "source": [
    "This session is devoted to three case studies illustrating how a Bayesian perspective enhances the statistical treatment of real-world problems. The first two examples are adapted from the web course by [Charles J. Dimaggio](http://www.columbia.edu/~cjd11/charles_dimaggio/DIRE/styled-4/styled-11/code-4/). The third one is a classical problem from the book by Andrew Gelman and others, _Bayesian Data Analysis - Third edition_ **(BDA3).**"
   ]
  },
  {
   "cell_type": "markdown",
   "metadata": {},
   "source": [
    "## Case study 1: Perchlorate and Thyroid Tumors"
   ]
  },
  {
   "cell_type": "markdown",
   "metadata": {},
   "source": [
    "Data for this example come from an online presentation by David Dunson at the US National Institute for Environmental Health Sciences. \n",
    "\n",
    "Percholorate is a ground water contaminant that has been associated with thyroid tumors. In a study, 2 of 30 lab rats exposed to perchlorate developed thyroid tumors, compared to 0 of 30 control rats. What conclusions can be drawn?\n",
    "Given the small numbers, there are difficulties in the classical framework, for instance,  because of the zero value a confidence interval collapses to infinity. What can we learn from a Bayesian approach? \n",
    "\n",
    "Clearly for each group, **Exposed** and **Control** rats, the likelihood (for the observed variable, the number of rats developing a tumor) is Binomial and we want to learn about possible different properties (i.e. probability distribution) of the probability parameter in both groups.\n",
    "\n",
    "In a first run we take a $\\mbox{Unif}(0,1)=\\mbox{Beta}(1,1)$ prior as a NIP. "
   ]
  },
  {
   "cell_type": "code",
   "execution_count": 3,
   "metadata": {
    "scrolled": true
   },
   "outputs": [
    {
     "data": {
      "text/html": [
       "0.8758"
      ],
      "text/latex": [
       "0.8758"
      ],
      "text/markdown": [
       "0.8758"
      ],
      "text/plain": [
       "[1] 0.8758"
      ]
     },
     "metadata": {},
     "output_type": "display_data"
    },
    {
     "data": {
      "image/png": "[encoded data removed]",
      "text/plain": [
       "Plot with title \"probability of tumor in control rats\""
      ]
     },
     "metadata": {},
     "output_type": "display_data"
    }
   ],
   "source": [
    "# data\n",
    "y.perchlorate <- 2; n.perchlorate <- 30\n",
    "y.control <- 0; n.control<- 30\n",
    " \n",
    "# update Beta(1,1) prior for exposed and unexposed\n",
    "N<-10000  # sample size for simulations\n",
    "theta.perchlorate <- rbeta(N,y.perchlorate+1,n.perchlorate-y.perchlorate+1)\n",
    "theta.control <- rbeta(N,y.control+1,n.control-y.control+1)\n",
    "\n",
    "# graphically compare exposed and unexposed\n",
    "old.par<-par(mfrow=c(2,1))\n",
    "plot(density(theta.perchlorate), xlim=c(0,1), main=\"probability of tumor in exposed rats\")\n",
    "plot(density(theta.control),  col=\"red\", xlim=c(0,1), main=\"probability of tumor in control rats\")\n",
    "par(old.par)\n",
    "\n",
    "# probability that exposed have more tumors than unexposed\n",
    "sum(theta.perchlorate >= theta.control)/N"
   ]
  },
  {
   "cell_type": "markdown",
   "metadata": {},
   "source": [
    "A 90% posterior credible interval for the difference of probabilities and an estimation of the pdf of this difference. The interval includes zero, so it is consistent with the non-significance of the difference (from Fisher’s exact test, see reference). But the majority of the probability lies above zero. "
   ]
  },
  {
   "cell_type": "code",
   "execution_count": 14,
   "metadata": {},
   "outputs": [
    {
     "name": "stdout",
     "output_type": "stream",
     "text": [
      "         5%         95% \n",
      "-0.02915203  0.16381831 \n"
     ]
    },
    {
     "data": {
      "image/png": "[encoded data removed]",
      "text/plain": [
       "Plot with title \"density.default(x = theta.diff)\""
      ]
     },
     "metadata": {},
     "output_type": "display_data"
    }
   ],
   "source": [
    "theta.diff<-theta.perchlorate-theta.control\n",
    "\n",
    "# 90% credible interval\n",
    "xx=quantile(theta.diff, probs=c(0.05,0.95)) #\n",
    "print(xx) #\n",
    "# plot differences\n",
    "plot(density(theta.diff))\n",
    "abline(v=xx[1],col='red') #\n",
    "abline(v=xx[2],col='blue') #"
   ]
  },
  {
   "cell_type": "markdown",
   "metadata": {},
   "source": [
    "If we have some real prior evidence or belief about the putative association of perchlorate and thyroid tumors. It would be reasonable to assume that we do. Why else would we be doing this experiment in the first place? Dr. Dunson, in his presentation, suggests a $\\mbox{Beta}(0.11, 2.6)$ as representing previous experimental evidence. Let’s use that prior, and combine it with our data to update the posterior."
   ]
  },
  {
   "cell_type": "code",
   "execution_count": 16,
   "metadata": {},
   "outputs": [
    {
     "data": {
      "text/html": [
       "<dl class=dl-horizontal>\n",
       "\t<dt>5%</dt>\n",
       "\t\t<dd>0.00834317034786911</dd>\n",
       "\t<dt>95%</dt>\n",
       "\t\t<dd>0.143237078534335</dd>\n",
       "</dl>\n"
      ],
      "text/latex": [
       "\\begin{description*}\n",
       "\\item[5\\textbackslash{}\\%] 0.00834317034786911\n",
       "\\item[95\\textbackslash{}\\%] 0.143237078534335\n",
       "\\end{description*}\n"
      ],
      "text/markdown": [
       "5%\n",
       ":   0.0083431703478691195%\n",
       ":   0.143237078534335\n",
       "\n"
      ],
      "text/plain": [
       "        5%        95% \n",
       "0.00834317 0.14323708 "
      ]
     },
     "metadata": {},
     "output_type": "display_data"
    }
   ],
   "source": [
    "theta.perchlorate <- rbeta(N,y.perchlorate+0.11,n.perchlorate-y.perchlorate+2.6)\n",
    "theta.control <- rbeta(N,y.control+.11,n.control-y.control+2.6)\n",
    "theta.diff<-theta.perchlorate-theta.control\n",
    "# plot(density(theta.diff))\n",
    "quantile(theta.diff, probs=c(0.05,0.95))"
   ]
  },
  {
   "cell_type": "markdown",
   "metadata": {},
   "source": [
    "## Case study 2: Drug response"
   ]
  },
  {
   "cell_type": "markdown",
   "metadata": {},
   "source": [
    "We are interested in the response of patients to a drug. We believe a proportion somewhere between 0.2 and 0.6 of patients will respond, with a mean of 0.4 and a standard deviation of 0.1. In a study of 20 persons, what is the probability that 15 or more will respond? Again, the problem involves a Bernoulli (or Binomial) likelihood. \n",
    "\n",
    "We will use a Beta prior (this is the easy path, see below more involved possibilities). To translate the prior information $\\mu=0.4$, $\\sigma=0.1$ into parameters of a $\\mbox{Beta}(\\alpha,\\beta)$, we must isolate $\\alpha$, $\\beta$ from the formulas for the moments of a Beta distribution:\n",
    "\n",
    "$$\\begin{aligned}\n",
    "    \\mu         &=\\dfrac{\\alpha}{\\alpha+\\beta},\\\\[0.4cm]\n",
    "    \\sigma^{2}  &=\\dfrac{\\alpha\\,\\beta}{(\\alpha+\\beta)^{2}\\,(\\alpha+\\beta+1)}.\\end{aligned}\n",
    "$$\n",
    "\n",
    "The result is:\n",
    "\n",
    "$$\\begin{aligned}\n",
    "    \\alpha  &=\\mu\\cdot\\left[\\dfrac{\\mu\\,(1-\\mu)}{\\sigma^{2}}-1\\right],\\\\[0.4cm]\n",
    "    \\beta   &=(1-\\mu)\\cdot\\left[\\dfrac{\\mu\\,(1-\\mu)}{\\sigma^{2}}-1\\right].\\end{aligned}\n",
    "$$\n",
    "\n",
    "In our case: $\\alpha=9.2$, $\\beta=13.8$."
   ]
  },
  {
   "cell_type": "code",
   "execution_count": 18,
   "metadata": {},
   "outputs": [
    {
     "data": {
      "text/html": [
       "9.2"
      ],
      "text/latex": [
       "9.2"
      ],
      "text/markdown": [
       "9.2"
      ],
      "text/plain": [
       "[1] 9.2"
      ]
     },
     "metadata": {},
     "output_type": "display_data"
    },
    {
     "data": {
      "text/html": [
       "13.8"
      ],
      "text/latex": [
       "13.8"
      ],
      "text/markdown": [
       "13.8"
      ],
      "text/plain": [
       "[1] 13.8"
      ]
     },
     "metadata": {},
     "output_type": "display_data"
    }
   ],
   "source": [
    "# For a Beta(a,b) distribution, the mean and variance are\n",
    "# mu<-a/(a+b)\n",
    "# sigma2<-ab/((a+b)^2*(a+b+1))\n",
    "# \n",
    "# Solving a,b in terms of mu, sigma2\n",
    "# \n",
    "mu<-0.4\n",
    "sigma<-0.1\n",
    "sigma2<-sigma^2\n",
    "G<-(mu*(1-mu))/sigma2-1\n",
    "a<-mu*G\n",
    "b<-(1-mu)*G\n",
    "# \n",
    "a; b"
   ]
  },
  {
   "cell_type": "markdown",
   "metadata": {},
   "source": [
    "The question we are asked, the probability that 15 or more patients will respond, is previous to any experimental evidence, hence we will get the answer from the **prior predictive distribution**  of the number $X$ of patients responding to treatment out of the $n=20$ patients participating in the study, using only prior information. \n",
    "\n",
    "From last session we know that this r.v. follows a $\\mbox{Beta-Binomial}(20,9.2,13.8)$ distribution. Thus, in principle we could use this distribution, which can be found in the `extraDistr` package. Thus we can plot the pmf and compute the exact probability we are asked:"
   ]
  },
  {
   "cell_type": "code",
   "execution_count": 19,
   "metadata": {},
   "outputs": [
    {
     "name": "stderr",
     "output_type": "stream",
     "text": [
      "Loading required package: extraDistr\n",
      "Warning message:\n",
      "\"package 'extraDistr' was built under R version 3.4.4\""
     ]
    },
    {
     "data": {
      "text/html": [
       "0.015"
      ],
      "text/latex": [
       "0.015"
      ],
      "text/markdown": [
       "0.015"
      ],
      "text/plain": [
       "[1] 0.015"
      ]
     },
     "metadata": {},
     "output_type": "display_data"
    },
    {
     "data": {
      "image/png": "[encoded data removed]",
      "text/plain": [
       "Plot with title \"Beta-Binomial prior predictive pmf\""
      ]
     },
     "metadata": {},
     "output_type": "display_data"
    }
   ],
   "source": [
    "#install.package(\"extraDistr\", repos=\"https://cloud.r-project.org\") \n",
    "require(extraDistr)\n",
    "X<-0:20\n",
    "plot(X,dbbinom(X, size=20, alpha = 9.2, beta = 13.8),pch=19,cex=0.6,col=\"blue\"\n",
    "                 ,main=\"Beta-Binomial prior predictive pmf\",ylab=\"Probability\")\n",
    "P15.exact<-1-pbbinom(14, size=20, alpha = 9.2, beta = 13.8)\n",
    "round(P15.exact,3)"
   ]
  },
  {
   "cell_type": "markdown",
   "metadata": {},
   "source": [
    "An alternative approach, both more general in scope (only rarely will we know an explicit pdf for the prior predictive) and more according to a computational statistics mindset is to sample from this distribution by simulation and infer the desired properties from the resulting sample.\n",
    "\n",
    "We generate a number $N$  of realizations of the experiment. In each one of them $\\theta$ is generated from a\n",
    "$\\mbox{Beta}(\\alpha,\\beta)=\\mbox{Beta}(9.2,13.8)$, then $x$ is generated from a $\\mbox{B}(20,\\theta)$. Note the way in which syntax takes advantage of the vectorized `theta` parameter in `rbinom()`. In the empirical pmf I use a clumsy piece of code as `table()` does not contemplate zero counts:"
   ]
  },
  {
   "cell_type": "code",
   "execution_count": 31,
   "metadata": {
    "scrolled": true
   },
   "outputs": [
    {
     "data": {
      "text/html": [
       "0.0154"
      ],
      "text/latex": [
       "0.0154"
      ],
      "text/markdown": [
       "0.0154"
      ],
      "text/plain": [
       "[1] 0.0154"
      ]
     },
     "metadata": {},
     "output_type": "display_data"
    },
    {
     "data": {
      "image/png": "[encoded data removed]",
      "text/plain": [
       "Plot with title \"Simulated prior predictive pmf\""
      ]
     },
     "metadata": {},
     "output_type": "display_data"
    }
   ],
   "source": [
    "N<-5000\n",
    "n<-20\n",
    "n1<-15\n",
    "theta<-rbeta(N,a,b)\n",
    "x<-rbinom(N,n, theta)\n",
    "accept<-(x>=n1)*1\n",
    "(prob<-sum(accept)/N) #[] Empirical proportion\n",
    "F<-rep(0,length(X))\n",
    "for (i in X){ #[] R contains table functions, but the problem, these have slot frequencies equal zero don't appear.\n",
    "    F[i]<-sum(x==X[i])\n",
    "    } #[] Quick dirty computation of a tail\n",
    "f<-F/N\n",
    "plot(X,f,,pch=19,cex=0.7,col=\"blue\",main=\"Simulated prior predictive pmf\",ylab=\"Rel. frequency\")"
   ]
  },
  {
   "cell_type": "markdown",
   "metadata": {},
   "source": [
    "Now assume we have made an experiment with $n=20$ patients and we observe that actually $x=15$ of them respond to the drug treatment. The posterior $\\theta$ distribution, including this evidence, is:\n",
    "\n",
    "$$\n",
    "    \\mbox{Beta}(\\alpha+x,\\beta+n-x)=\\mbox{Beta}(9.2+15,13.8+20-15)=\\mbox{Beta}(24.2,18.8),\n",
    "$$\n",
    "\n",
    "which has $\\mu=0.56$, $\\sigma=0.075$, a larger mean than our prior (consistent with the large observed number) and a smaller standard deviation (reflecting that we have increased information about the experiment)."
   ]
  },
  {
   "cell_type": "markdown",
   "metadata": {},
   "source": [
    "### Exercise"
   ]
  },
  {
   "cell_type": "markdown",
   "metadata": {},
   "source": [
    "Now consider further experimentation with this drug, after this first result. We test it with 40 new patients, being aware that funding will continue if we observe 25 or more successes in this trial. What is the probability of this result?"
   ]
  },
  {
   "cell_type": "code",
   "execution_count": 52,
   "metadata": {},
   "outputs": [
    {
     "data": {
      "text/html": [
       "0.3214"
      ],
      "text/latex": [
       "0.3214"
      ],
      "text/markdown": [
       "0.3214"
      ],
      "text/plain": [
       "[1] 0.3214"
      ]
     },
     "metadata": {},
     "output_type": "display_data"
    },
    {
     "data": {
      "text/html": [
       "0.329013384390143"
      ],
      "text/latex": [
       "0.329013384390143"
      ],
      "text/markdown": [
       "0.329013384390143"
      ],
      "text/plain": [
       "[1] 0.3290134"
      ]
     },
     "metadata": {},
     "output_type": "display_data"
    }
   ],
   "source": [
    "#\n",
    "# Insert here your code to answer this question.\n",
    "#\n",
    "N<-5000\n",
    "n<-40\n",
    "n1<-25\n",
    "theta<-rbeta(N, 24.2,18.8)\n",
    "x<-rbinom(N, n, theta) \n",
    "(prob<-(sum(x>=n1)/N))\n",
    "(P25.exact<-1-pbbinom(24, size=40, alpha = 24.2, beta = 18.8))"
   ]
  },
  {
   "cell_type": "markdown",
   "metadata": {},
   "source": [
    "## Case study 3: Placenta previa"
   ]
  },
  {
   "cell_type": "markdown",
   "metadata": {},
   "source": [
    "Placenta previa is a problem in pregnancy where the placenta implants low on the uterus, potentially obstructing the birth canal. The data involve the proportion of births with placenta previa that are female gender. The question is whether placenta previa influences birth gender. We know that: \n",
    "\n",
    "1. The proportion of female births in this population is 48.5\\%. \n",
    "\n",
    "2. A study of 980 placenta previa births found that 437 (44.6\\%) of them were female. \n",
    "\t\n",
    "How much evidence does this provide for the claim that the proportion of female births is less than 0.485?"
   ]
  },
  {
   "cell_type": "markdown",
   "metadata": {},
   "source": [
    "### _Analysis using a nonconjugate prior distribution (a) A discrete prior_"
   ]
  },
  {
   "cell_type": "markdown",
   "metadata": {},
   "source": [
    "In the BDA3 book they consider conjugate (Beta) priors, just as in the above two Case Studies, which you can follow as a (highly recommended) exercise. Here, instead, we will use their next suggestion, a nonconjugate prior. \n",
    "\n",
    "As a first stage, as a sort of springboard, we take a very simple, discrete prior. To this end we add a fictitious historical proportion (from another state, say) of 45.0%. We assume a priori that both historical figures are equally probable.\n",
    "\n",
    "Thus, our discrete prior is:\n",
    "\n",
    "$$\n",
    "\t\\begin{array}{lcl}\n",
    "\t\\theta_{1}=0.485\t&\\text{ with probability }\t&\\pi_{1}\\equiv P(\\theta_{1})=0.5,\\\\\n",
    "\t\\theta_{2}=0.45\t\t&\\text{ with probability }\t&\\pi_{2}\\equiv P(\\theta_{2})=0.5.\n",
    "\t\\end{array}\n",
    "$$\n",
    "\n",
    "Likelihood is the usual binomial one:\n",
    "\n",
    "$$\n",
    "    f(x|\\theta)=\\theta^{x}\\cdot(1-\\theta)^{(n-x)}.\n",
    "$$\n",
    "\n",
    "In actual computations it may be safer to use its logarithm, _Log-likelihood,_ to avoid products of very large and very small quantities."
   ]
  },
  {
   "cell_type": "code",
   "execution_count": 2,
   "metadata": {},
   "outputs": [
    {
     "data": {
      "text/html": [
       "0.446"
      ],
      "text/latex": [
       "0.446"
      ],
      "text/markdown": [
       "0.446"
      ],
      "text/plain": [
       "[1] 0.446"
      ]
     },
     "metadata": {},
     "output_type": "display_data"
    }
   ],
   "source": [
    "# Prior information\n",
    "theta.1<-0.485\n",
    "theta.2<-0.45\n",
    "Prior.1<-0.5\n",
    "Prior.2<-0.5\n",
    "LogPrior.1<-log(Prior.1)\n",
    "LogPrior.2<-log(Prior.2)\n",
    "# Observed data\n",
    "n<-980\n",
    "x<-437\n",
    "theta.obs<-x/n\n",
    "round(theta.obs,3)"
   ]
  },
  {
   "cell_type": "markdown",
   "metadata": {},
   "source": [
    "Likelihood, joint pdf and their logarithms. Bayes formula needs the x marginal in the denominator to give the posterior pdf, but we can circumvent this step by normalizing to one the _non-normalized_ posterior pdf. Observe that, consistently with the data, the posterior probability of 0.45 is much higher than its prior value:"
   ]
  },
  {
   "cell_type": "code",
   "execution_count": 3,
   "metadata": {},
   "outputs": [
    {
     "data": {
      "text/html": [
       "0.049"
      ],
      "text/latex": [
       "0.049"
      ],
      "text/markdown": [
       "0.049"
      ],
      "text/plain": [
       "[1] 0.049"
      ]
     },
     "metadata": {},
     "output_type": "display_data"
    },
    {
     "data": {
      "text/html": [
       "0.951"
      ],
      "text/latex": [
       "0.951"
      ],
      "text/markdown": [
       "0.951"
      ],
      "text/plain": [
       "[1] 0.951"
      ]
     },
     "metadata": {},
     "output_type": "display_data"
    }
   ],
   "source": [
    "Lik<-function(x,theta,n){theta^x*(1-theta)^(n-x)}\n",
    "LogLik<-function(x,theta,n){x*log(theta)+(n-x)*log(1-theta)}\n",
    "LogPost.1<-LogLik(x,theta.1,n)+LogPrior.1\n",
    "LogPost.2<-LogLik(x,theta.2,n)+LogPrior.2\n",
    "Post.1<-exp(LogPost.1)\n",
    "Post.2<-exp(LogPost.2)\n",
    "S<-(Post.1+Post.2)\n",
    "Post.1<-Post.1/S\n",
    "Post.2<-Post.2/S\n",
    "round(Post.1,3)\n",
    "round(Post.2,3)"
   ]
  },
  {
   "cell_type": "markdown",
   "metadata": {},
   "source": [
    "### _Analysis using a nonconjugate prior distribution (b) A triangular pdf_"
   ]
  },
  {
   "cell_type": "markdown",
   "metadata": {},
   "source": [
    "In the BDA3 book they consider first conjugate (Beta) priors, just the same procedure as in the two previous Case Studies, which you can follow as a (highly recommended) exercise. Here, instead, we will use their next suggestion,\n",
    "namely the triangular pdf in the figure:\n",
    "\n",
    "![alt text](Placenta.previa.Nonconjugate.prior.jpg \"Triangular prior\")\n",
    "\n",
    "This pdf has the following specifications:\n",
    "\n",
    "1. It is centered at $m=0.485$ \n",
    "\n",
    "2. 40% of the probability mass is outside the interval [m-c,m+c]=[0.385,0.585], c=0.100."
   ]
  },
  {
   "cell_type": "markdown",
   "metadata": {},
   "source": [
    "#### Exercise\n",
    "From the information above, check that the equation of this pdf is:\n",
    "\n",
    "$$\n",
    "    h(t)=\\left\\{\n",
    "    \\begin{array}{lcl}\n",
    "         a,        &\\text{ for }  &0<t<m-c \\quad\\text{and } m+c<t<1,\\\\\n",
    "         A+b\\cdot t/c,  &\\text{ for }  &t\\in [m-c,c],\\\\ \n",
    "         B-b\\cdot t/c   &\\text{ for }  &t\\in [c,m+c],\\\\ \n",
    "    \\end{array}\n",
    "    \\right.,\\quad t \\in[0,1]\n",
    "$$\n",
    "\n",
    "where $a=0.50$, $b=5.00$ is the height of the central triangle ($a+b$ is the peak ordinate), $A=a+b-(b\\cdot m)/c$,\n",
    "$B<-a+b+(b\\cdot m)/c$.\n",
    "\n",
    "Write a function `h()`to compute the pdf $h(t)$, plot it (verify that the integral on $[0,1]$ is indeed equal to 1),\n",
    "compute its expectation and variance.\n",
    "_Hint: $a$ is determined by the equation $0.40=p_{tails} = a\\cdot(1-2\\cdot c)$, then the area of the upper central isosceles triangle is $c\\cdot b = 1-a =0.5$._\n",
    "\n",
    "![alt text](Placenta.previa.Nonconjugate.prior.1.jpg \"Triangular prior (R plot)\")"
   ]
  },
  {
   "cell_type": "code",
   "execution_count": 1,
   "metadata": {
    "collapsed": true
   },
   "outputs": [],
   "source": [
    "m<-0.485\n",
    "c<-0.100\n",
    "p.tails<-0.4  \n",
    "a<-0.5\n",
    "b<-5.0\n",
    "A<-a+b-(b*m)/c\n",
    "B<-a+b+(b*m)/c\n",
    "h<-function(t){\n",
    "    #\n",
    "    # Insert here your code.\n",
    "    #\n",
    "    }"
   ]
  },
  {
   "cell_type": "markdown",
   "metadata": {},
   "source": [
    "#### Discretizing the continuous prior\n",
    "\n",
    "Next we construct a grid of $N$ points $\\mathbf{t}=(t_1,\\dots,t_{N-1})$ on the $[0,1]$. On each interval $[t_{i},t_{i+1}$, $1\\leq i\\leq N-1$, the probability from the prior pdf, the integral of $h(t)$ on it, is approximated by the rectangle area $h(t_i)\\cdot\\delta$, where $\\delta=1/N$. The discrete r.v. defined by both vectors: values $\\mathbf{t}$ and probabilities $h(\\mathbf{t})\\cdot \\delta$ is a _discretization_ of the continuous r.v. with pdf $h$, a reasonable approximation by a discrete distribution of the given continuous probability distribution. We proceed with this discrete r.v. as in the example above."
   ]
  },
  {
   "cell_type": "code",
   "execution_count": 59,
   "metadata": {},
   "outputs": [
    {
     "name": "stdout",
     "output_type": "stream",
     "text": [
      "[1] 0.001001001\n"
     ]
    },
    {
     "ename": "ERROR",
     "evalue": "Error in LogLik(x, t, n): could not find function \"LogLik\"\n",
     "output_type": "error",
     "traceback": [
      "Error in LogLik(x, t, n): could not find function \"LogLik\"\nTraceback:\n"
     ]
    }
   ],
   "source": [
    "n<-980\n",
    "x<-437\n",
    "N<-1000 # number of grid intervals\n",
    "t<-seq(0,1,length=N)\n",
    "t<-t[-N]# remove last point (equal to 1: we want N intervals)\n",
    "#\n",
    "# Lik and LogLik are the Bernoulli quantities defined above\n",
    "# uncomment only one of the following three lines:\n",
    "# Use plain likelihood or use logs and, in this case there is the alternative\n",
    "# to use the dbinom() function (which we expect has been thoughtfully and robustly designed)\n",
    "#\n",
    "# nnpost<-Lik(x,t,n)*h(t)\n",
    "log.nnpost<-LogLik(x,t,n)+log(h(t))\n",
    "# log.nnpost<-dbinom(x,size=n,prob=t,log=TRUE)+log(h(t))\n",
    "#\n",
    "nnpost<-exp(log.nnpost)\n",
    "#\n",
    "# NB. We do not bother to write delta=1/N in the probability values h(t)*delta. Furthermore,\n",
    "# dbinom() is a multiple of Lik (times the combinatorial coefficient). All these constants\n",
    "# will be taken care of when normalizing.\n",
    "#\n",
    "# Then these non normalized values, after normalized to unit sum, will be the pmf of a discretization of\n",
    "# the posterior distribution.\n",
    "#\n",
    "dpost<-nnpost/sum(nnpost) # pmf\n",
    "ppost<-c(0,cumsum(dpost)) # cdf"
   ]
  },
  {
   "cell_type": "markdown",
   "metadata": {
    "collapsed": true
   },
   "source": [
    "From this pmf/cdf for a discretization of the posterior pdf we can obtain any needed posterior quantity: popsterior quantiles, in particular the posterior median, a 95% credible interval, the MAP and posterior expectation estimators of $\\theta$, etc."
   ]
  },
  {
   "cell_type": "markdown",
   "metadata": {},
   "source": [
    "# Homework"
   ]
  },
  {
   "cell_type": "markdown",
   "metadata": {},
   "source": [
    "## Exercise 3 - Further computations with the placenta previa exercise\n",
    "\n",
    "(See exercises 1 and 2 in the assignment sheet)"
   ]
  },
  {
   "cell_type": "markdown",
   "metadata": {},
   "source": [
    "### 3.1"
   ]
  },
  {
   "cell_type": "markdown",
   "metadata": {},
   "source": [
    "Compute the posterior pdf, and both prior and posterior predictor pmf for the placenta previa problem, using a conjugate $\\mbox{Beta}(\\alpha,\\beta)$ prior, for several values of the parameters, obtaining for each of them a 95% (centered) credible interval and the MAP and posterior expectation estimators of $\\theta$. In particular, reproduce Figure 2.3 and Table 2.1 in BDA3. Do the same for those $\\alpha_0$ and $\\beta_0$ such that $\\mbox{Beta}(\\alpha_0,\\beta_0)$ has the same expectation and variance than the piecewise linear nonconjugate prior. Compare the posterior quantities with both priors. "
   ]
  },
  {
   "cell_type": "markdown",
   "metadata": {},
   "source": [
    "### 3.2"
   ]
  },
  {
   "cell_type": "markdown",
   "metadata": {},
   "source": [
    "Simulate the prior predictive pmf with the nonconjugate piecewise linear pdf. Do it in both possible ways: (1) Sample from $h$ by the inverse transformation method and (2) Sample from its discretization. \n",
    "\n",
    "Summarize the resulting simulated sample: plot the empirical pmf, compute median, mode, expectation, standard deviation. Compare the results with those obtained from the conjugate prior $\\mbox{Beta}(\\alpha_0,\\beta_0)$. "
   ]
  },
  {
   "cell_type": "markdown",
   "metadata": {},
   "source": [
    "### 3.3"
   ]
  },
  {
   "cell_type": "markdown",
   "metadata": {
    "collapsed": true
   },
   "source": [
    "Simulate the posterior predictive pmf (given the observed data of 437 female births from 980 placenta previa births) with the nonconjugate piecewise linear pdf. Sample from the the discretization of the posterior pdf as in Exercise 2.\n",
    "\n",
    "Summarize the resulting simulated sample: plot the empirical pmf, compute median, mode, expectation, standard deviation. Compare the results with those obtained from the conjugate prior $\\mbox{Beta}(\\alpha_0,\\beta_0)$."
   ]
  }
 ],
 "metadata": {
  "kernelspec": {
   "display_name": "R",
   "language": "R",
   "name": "ir"
  },
  "language_info": {
   "codemirror_mode": "r",
   "file_extension": ".r",
   "mimetype": "text/x-r-source",
   "name": "R",
   "pygments_lexer": "r",
   "version": "3.4.3"
  }
 },
 "nbformat": 4,
 "nbformat_minor": 2
}
