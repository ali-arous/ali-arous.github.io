{
 "cells": [
  {
   "cell_type": "markdown",
   "metadata": {},
   "source": [
    "# Random variables 02\n",
    "\n",
    "##### Josep Fortiana 2018-10-01"
   ]
  },
  {
   "cell_type": "code",
   "execution_count": 1,
   "metadata": {},
   "outputs": [],
   "source": [
    "source(\"Random.Vars.r\")"
   ]
  },
  {
   "cell_type": "markdown",
   "metadata": {},
   "source": [
    "## Expectation, variance, moments of a discrete random variable"
   ]
  },
  {
   "cell_type": "code",
   "execution_count": 2,
   "metadata": {},
   "outputs": [],
   "source": [
    "x<-c(1,2,3,4)\n",
    "d<-c(0.2, 0.3, 0.4, 0.1)\n",
    "EX<-sum(x*d)\n",
    "EX"
   ]
  },
  {
   "cell_type": "markdown",
   "metadata": {},
   "source": [
    "#### A function to compute the expectation of a discrete r.v."
   ]
  },
  {
   "cell_type": "code",
   "execution_count": 3,
   "metadata": {},
   "outputs": [],
   "source": [
    "E<-function(x,d){\n",
    "    EX<-sum(x*d)\n",
    "    return(EX)\n",
    "    }"
   ]
  },
  {
   "cell_type": "markdown",
   "metadata": {},
   "source": [
    "#### Variance of a random variable"
   ]
  },
  {
   "cell_type": "code",
   "execution_count": 4,
   "metadata": {},
   "outputs": [
    {
     "data": {
      "text/html": [
       "0.84"
      ],
      "text/latex": [
       "0.84"
      ],
      "text/markdown": [
       "0.84"
      ],
      "text/plain": [
       "[1] 0.84"
      ]
     },
     "metadata": {},
     "output_type": "display_data"
    }
   ],
   "source": [
    "# deviations with respect to the expectation\n",
    "D<-x-EX\n",
    "D2<-D^2\n",
    "# Variance is the expectation of the squared deviations w.r.t. the expectation\n",
    "VarX<-E(D2,d)\n",
    "VarX"
   ]
  },
  {
   "cell_type": "markdown",
   "metadata": {},
   "source": [
    "#### A function to compute the variance of a discrete r.v."
   ]
  },
  {
   "cell_type": "code",
   "execution_count": 5,
   "metadata": {},
   "outputs": [
    {
     "data": {
      "text/html": [
       "0.84"
      ],
      "text/latex": [
       "0.84"
      ],
      "text/markdown": [
       "0.84"
      ],
      "text/plain": [
       "[1] 0.84"
      ]
     },
     "metadata": {},
     "output_type": "display_data"
    }
   ],
   "source": [
    "Var<-function(x,d){\n",
    "    EX<-E(x,d)\n",
    "    D2<-(x-EX)^2\n",
    "    VarX<-E(D2,d)\n",
    "    return(VarX)\n",
    "}\n",
    "Var(x,d)"
   ]
  },
  {
   "cell_type": "markdown",
   "metadata": {},
   "source": [
    "#### Moments of a discrete r.v.\n",
    "\n",
    "For each positive integer $k$, the expectation of $X^k$.\n",
    "\n",
    "For $k=1$, $M_1$ is the expectation."
   ]
  },
  {
   "cell_type": "code",
   "execution_count": 6,
   "metadata": {},
   "outputs": [
    {
     "data": {
      "text/html": [
       "2.4"
      ],
      "text/latex": [
       "2.4"
      ],
      "text/markdown": [
       "2.4"
      ],
      "text/plain": [
       "[1] 2.4"
      ]
     },
     "metadata": {},
     "output_type": "display_data"
    }
   ],
   "source": [
    "M<-function(x,d,k){\n",
    "    Mk<-E(x^k,d)\n",
    "    return(Mk)\n",
    "}\n",
    "M(x,d,1)\n",
    "MX2<-M(x,d,2)"
   ]
  },
  {
   "cell_type": "markdown",
   "metadata": {},
   "source": [
    "#### Variance in terms of moments\n",
    "\n",
    "Identity, the variance is the difference between the second moment and the first moment squared:\n",
    "$\\operatorname{var}(X)=\\operatorname{E}(X^{2})-(\\operatorname{E}(X))^2$"
   ]
  },
  {
   "cell_type": "code",
   "execution_count": 7,
   "metadata": {},
   "outputs": [
    {
     "data": {
      "text/html": [
       "0.84"
      ],
      "text/latex": [
       "0.84"
      ],
      "text/markdown": [
       "0.84"
      ],
      "text/plain": [
       "[1] 0.84"
      ]
     },
     "metadata": {},
     "output_type": "display_data"
    }
   ],
   "source": [
    "round(M(x,d,2)-E(x,d)^2,4)"
   ]
  },
  {
   "cell_type": "markdown",
   "metadata": {},
   "source": [
    "#### Example: expectation of a binomial r.v.\n",
    "\n",
    "Repeat these computations with different parameters $n$ and $\\theta$"
   ]
  },
  {
   "cell_type": "code",
   "execution_count": 8,
   "metadata": {},
   "outputs": [
    {
     "data": {
      "text/html": [
       "8.75"
      ],
      "text/latex": [
       "8.75"
      ],
      "text/markdown": [
       "8.75"
      ],
      "text/plain": [
       "[1] 8.75"
      ]
     },
     "metadata": {},
     "output_type": "display_data"
    },
    {
     "data": {
      "text/html": [
       "8.75"
      ],
      "text/latex": [
       "8.75"
      ],
      "text/markdown": [
       "8.75"
      ],
      "text/plain": [
       "[1] 8.75"
      ]
     },
     "metadata": {},
     "output_type": "display_data"
    }
   ],
   "source": [
    "n<-25\n",
    "theta<-0.35\n",
    "x<-0:n # Values vector\n",
    "d<-dbinom(x,size=n,prob=theta)\n",
    "EX<-E(x,d)\n",
    "EX\n",
    "# Actually there is a closed formula\n",
    "n*theta"
   ]
  },
  {
   "cell_type": "code",
   "execution_count": 9,
   "metadata": {},
   "outputs": [
    {
     "data": {
      "image/png": "[encoded data removed]",
      "text/plain": [
       "Plot with title \"Probability mass function (pmf)\""
      ]
     },
     "metadata": {},
     "output_type": "display_data"
    }
   ],
   "source": [
    "plotmass(x,d)\n",
    "abline(v=EX,col=\"LightBlue\",lwd=2)"
   ]
  },
  {
   "cell_type": "markdown",
   "metadata": {},
   "source": [
    "## Expectation, variance, moments of a continuous random variable"
   ]
  },
  {
   "cell_type": "markdown",
   "metadata": {},
   "source": [
    "#### Expectation, etc., of a continuous r.v.\n",
    "\n",
    "If $X$ is a continuous r.v. with pdf $f$, we define:\n",
    "\t\n",
    "$$\n",
    "\t\\operatorname{E}(X)=\\int_{-\\infty}^{\\infty}x\\,f(x)\\,dx,\n",
    "$$\n",
    "\n",
    "if this integral exists. Similarly for a function $g(X)$ of a continuous r.v. $X$:\n",
    "\n",
    "$$\n",
    "    \\operatorname{E}(g(X))=\\int_{-\\infty}^{\\infty}g(x)\\,f(x)\\,dx.\n",
    "$$\n",
    "\n",
    "In particular, moments, variance.\n",
    "\n",
    "For some easy cases it is possible to obtain expectations analytically. For most interesting cases, expectations will be obtained by:\n",
    "\n",
    "(1) Approximation\n",
    "\n",
    "(2) Simulation"
   ]
  },
  {
   "cell_type": "markdown",
   "metadata": {},
   "source": [
    "#### Example: expectation of a gamma distribution\n",
    "\n",
    "The pdf of a $\\operatorname{Gamma}(\\alpha,\\beta)$ r.v., with _shape_ parameter $\\alpha>0$ and _rate_ parameter \n",
    "$\\beta>0$ is:\n",
    "\n",
    "$$\n",
    "    f(x|\\alpha,\\beta)=\\dfrac{\\beta^{\\alpha}}{\\Gamma(\\alpha)}\\,x^{\\alpha-1}\\,\\exp\\{-\\beta\\,x\\},\n",
    "    \\mskip20mu x>0.\n",
    "$$\n",
    "\n",
    "##### Remark:\n",
    "\n",
    "_Read the Wikipedia article about the gamma distribution._"
   ]
  },
  {
   "cell_type": "code",
   "execution_count": 10,
   "metadata": {},
   "outputs": [
    {
     "data": {
      "text/html": [
       "1.82926669865431"
      ],
      "text/latex": [
       "1.82926669865431"
      ],
      "text/markdown": [
       "1.82926669865431"
      ],
      "text/plain": [
       "[1] 1.829267"
      ]
     },
     "metadata": {},
     "output_type": "display_data"
    },
    {
     "data": {
      "text/html": [
       "1.82927"
      ],
      "text/latex": [
       "1.82927"
      ],
      "text/markdown": [
       "1.82927"
      ],
      "text/plain": [
       "[1] 1.82927"
      ]
     },
     "metadata": {},
     "output_type": "display_data"
    },
    {
     "data": {
      "image/png": "[encoded data removed]",
      "text/plain": [
       "plot without title"
      ]
     },
     "metadata": {},
     "output_type": "display_data"
    }
   ],
   "source": [
    "alpha<-4.5\n",
    "beta<-2.46\n",
    "xm<-10 # A tentative maximum x value, depending on alpha and beta (pdf should be almost zero there)\n",
    "x<-seq(0,xm,length=500)\n",
    "plot(x,dgamma(x,shape=alpha,rate=beta),type=\"l\",lwd=2.5,col=\"blue\",ylab=\"Density\")\n",
    "# Expectation by numerical integration\n",
    "xf<-function(x,...){x*dgamma(x,...)}\n",
    "EX<-integrate(xf,lower=0,upper=xm,shape=alpha,rate=beta)$value\n",
    "EX\n",
    "# Actually the expectation of a gamma pdf has a closed formula expression:\n",
    "round(alpha/beta,5)\n",
    "lines(c(EX,EX),c(0,dgamma(EX,shape=alpha,rate=beta)),lwd=2.5,col=\"LightBlue\")\n",
    "points(c(EX,EX),c(0,dgamma(EX,shape=alpha,rate=beta)),pch=19,cex=1.2,col=\"blue\")"
   ]
  },
  {
   "cell_type": "markdown",
   "metadata": {},
   "source": [
    "## Law of large numbers (LLN)"
   ]
  },
  {
   "cell_type": "markdown",
   "metadata": {},
   "source": [
    "In $n$ independent repetitions of a binary experiment where a given event $A$ with $\\operatorname{P}(A)=p$, the r.v.\n",
    "$X_{n}\\sim\\operatorname{Binom}(n,p)$ is the number of occurrences, _absolute frequency,_ of $A$. Dividing $X_{n}$ by $n$, we obtain the _relative frequency_ of $A$:\n",
    "\n",
    "$$\n",
    "\tf_{n}=\\dfrac{X_{n}}{n}.\n",
    "$$\n",
    "\n",
    "Its values are: $\\{k/n: 0\\leq k\\leq n\\}$. When $n$ increases,\n",
    "\n",
    "$$\n",
    "\t\\{f_{n}\\}\\stackrel{n\\to\\infty}\\longrightarrow p.\n",
    "$$"
   ]
  },
  {
   "cell_type": "code",
   "execution_count": 11,
   "metadata": {},
   "outputs": [
    {
     "data": {
      "image/png": "[encoded data removed]",
      "text/plain": [
       "Plot with title \"Probability mass function (pmf)\""
      ]
     },
     "metadata": {},
     "output_type": "display_data"
    }
   ],
   "source": [
    "# Binomial B(10,0.5) r.v.\n",
    "n<-10\n",
    "p<-0.5\n",
    "x<-0:n\n",
    "d<-dbinom(x, size=n,prob=p)\n",
    "plotmass(x,d)"
   ]
  },
  {
   "cell_type": "code",
   "execution_count": 12,
   "metadata": {},
   "outputs": [
    {
     "data": {
      "image/png": "[encoded data removed]",
      "text/plain": [
       "Plot with title \"Probability mass function (pmf)\""
      ]
     },
     "metadata": {},
     "output_type": "display_data"
    }
   ],
   "source": [
    "# Binomial B(50,0.5) r.v.\n",
    "n<-50\n",
    "p<-0.5\n",
    "x<-0:n\n",
    "d<-dbinom(x, size=n,prob=p)\n",
    "plotmass(x,d)"
   ]
  },
  {
   "cell_type": "code",
   "execution_count": 13,
   "metadata": {},
   "outputs": [
    {
     "data": {
      "image/png": "[encoded data removed]",
      "text/plain": [
       "Plot with title \"Probability mass function (pmf)\""
      ]
     },
     "metadata": {},
     "output_type": "display_data"
    }
   ],
   "source": [
    "# Binomial B(100,0.5) r.v.\n",
    "n<-100\n",
    "p<-0.5\n",
    "x<-0:n\n",
    "d<-dbinom(x, size=n,prob=p)\n",
    "plotmass(x,d)"
   ]
  },
  {
   "cell_type": "code",
   "execution_count": 14,
   "metadata": {},
   "outputs": [
    {
     "data": {
      "image/png": "[encoded data removed]",
      "text/plain": [
       "Plot with title \"Probability distribution (cdf)\""
      ]
     },
     "metadata": {},
     "output_type": "display_data"
    }
   ],
   "source": [
    "# Binomial B(1000,0.5) r.v.\n",
    "n<-1000\n",
    "p<-0.5\n",
    "x<-0:n\n",
    "d<-dbinom(x, size=n,prob=p)\n",
    "plotmassdist(x,d)"
   ]
  },
  {
   "cell_type": "markdown",
   "metadata": {},
   "source": [
    "Values closer to $p$ have higher probability. The distribution tends to a constant r.v. with value $p$. When $n\\to\\infty$ values with a significant probability are few and close to $p$, e.g., when $p=0.5$ and $n=1000$ only $81$ values of $f_{n}$ have probability $>0.001$."
   ]
  },
  {
   "cell_type": "code",
   "execution_count": 15,
   "metadata": {},
   "outputs": [
    {
     "data": {
      "text/html": [
       "81"
      ],
      "text/latex": [
       "81"
      ],
      "text/markdown": [
       "81"
      ],
      "text/plain": [
       "[1] 81"
      ]
     },
     "metadata": {},
     "output_type": "display_data"
    }
   ],
   "source": [
    "sum(d>0.001)"
   ]
  },
  {
   "cell_type": "markdown",
   "metadata": {},
   "source": [
    "## Central limit theorem (CLT)"
   ]
  },
  {
   "cell_type": "markdown",
   "metadata": {},
   "source": [
    "#### Sum of independent normal r.v.'s"
   ]
  },
  {
   "cell_type": "markdown",
   "metadata": {},
   "source": [
    "Normal r.v.'s are closed under the operation _\"Sum of independent r.v.'s\":_\n",
    "\n",
    "If $X_{1}\\sim\\operatorname{N}(\\mu_{1},\\sigma_{1}^{2})$, $X_{2}\\sim\\operatorname{N}(\\mu_{2},\\sigma_{2}^{2})$ and they are independent:\n",
    "\n",
    "$$\n",
    "\tX_{1}+X_{2}\\sim\\operatorname{N}(\\mu_{1}+\\mu_{2},\\sigma_{1}^{2}+\\sigma_{2}^{2}).\n",
    "$$\n",
    "\n",
    "Hence the sum $\\sum_{i=1}^{n}X_i$ of $n$ r.v., i.i.d.$\\sim\\operatorname{N}(\\mu,\\sigma^{2})$ is a normal r.v.,with mean $n\\cdot\\mu$ and variance $n\\,\\sigma^{2}$.  Also, the average:\n",
    "\n",
    "$$\n",
    "    \\dfrac{1}{n}\\,\\sum_{i=1}^{n}X_i\\sim\\operatorname{N}\\big(\\mu,\\dfrac{\\sigma^{2}}{n}\\big)\n",
    "$$"
   ]
  },
  {
   "cell_type": "markdown",
   "metadata": {},
   "source": [
    "#### Central Limit Theorem (CLT): What happens when non-normal r.v.'s are added?"
   ]
  },
  {
   "cell_type": "markdown",
   "metadata": {},
   "source": [
    "The sum of $n$ independent r.v.'s  is approximately normal, assuming some regularity conditions.\n",
    "The approximation improves as $n\\to\\infty$.\n",
    "\n",
    "In particular, in the binomial examples above, if $X_{n}\\sim\\operatorname{Binom}(n,p)$, \n",
    "\n",
    "$$\n",
    "\tX_{n}\\approx\\operatorname{N}(np,np(1-p)),\n",
    "$$\n",
    "\n",
    "the larger is $n$ the better is the approximation."
   ]
  },
  {
   "cell_type": "markdown",
   "metadata": {},
   "source": [
    "## Discrete bivariate distributions"
   ]
  },
  {
   "cell_type": "markdown",
   "metadata": {},
   "source": [
    "#### Joint pmf for two discrete variables\n",
    "\n",
    "The _joint pmf_  of a pair of discrete r.v. $(X,Y)$ is:\n",
    "\n",
    "$$\n",
    "\th(x,y)\\equiv\\operatorname{P}\\left(\\{X=x,Y=y\\}\\right),\\quad(x,y)\\in\\mathbb{R}^{2}.\n",
    "$$\n",
    "\n",
    "Example:\n",
    "\n",
    "$$\n",
    "\\begin{array}{l|c|c|c|c}\n",
    "\t\t\t&X=1&X=2&X=3\\\\\n",
    "\\hline\n",
    "\tY=0\t&0.90\t&0.03\t&0.02   &0.95\\\\\n",
    "\\hline\n",
    "\tY=1 &0.01  \t&0.02\t&0.02 \t&0.05\\\\\n",
    "\\hline\n",
    "\t\t&0.91\t&0.05\t&0.04   &1\\\\\n",
    "\\end{array}\n",
    "$$\n",
    "\n",
    "As a matrix, each $(i,j)$-th entry is $\\operatorname{P}(X=j, Y=i)$."
   ]
  },
  {
   "cell_type": "code",
   "execution_count": 16,
   "metadata": {},
   "outputs": [
    {
     "name": "stdout",
     "output_type": "stream",
     "text": [
      "   X\n",
      "Y      1    2    3\n",
      "  0 0.90 0.03 0.02\n",
      "  1 0.01 0.02 0.02\n"
     ]
    },
    {
     "data": {
      "text/html": [
       "'sum(h)= 1'"
      ],
      "text/latex": [
       "'sum(h)= 1'"
      ],
      "text/markdown": [
       "'sum(h)= 1'"
      ],
      "text/plain": [
       "[1] \"sum(h)= 1\""
      ]
     },
     "metadata": {},
     "output_type": "display_data"
    }
   ],
   "source": [
    "h<-matrix(c(0.90,0.03,0.02,0.01,0.02,0.02),nrow=2,ncol=3,byrow=TRUE)\n",
    "Xvals<-c(1,2,3)\n",
    "Yvals<-c(0,1)\n",
    "dimnames(h)<-list(Y=as.factor(Yvals),X=as.factor(Xvals))\n",
    "print(h)\n",
    "# check that h is, indeed a joint pmf\n",
    "paste(\"sum(h)=\",sum(h))"
   ]
  },
  {
   "cell_type": "markdown",
   "metadata": {},
   "source": [
    "#### Joint cdf for two r.v.'s\n",
    "\n",
    "The _Joint cumulative probability distribution function (cdf)_ of a pair of r.v.'s $(X,Y)$ is:\n",
    "\t\n",
    "$$\n",
    "    \\begin{array}{llcl}\n",
    "    H: \t&\\mathbb{R}^{2}&\\rightarrow\t&[0,1]\\\\\n",
    "\t\t&(x,y) &\\mapsto\t\t&\n",
    "\t\t\t\tH(x,y)\\equiv\n",
    "\t\t\t\t\\operatorname{P}\\left(\\{X\\leq x,Y\\leq y\\}\\right).\n",
    "    \\end{array}\n",
    "$$\n",
    "\t\n",
    "This definition is general, for any type of r.v., either discrete, or continuous, or anything else."
   ]
  },
  {
   "cell_type": "markdown",
   "metadata": {},
   "source": [
    "#### Probabilities from the joint cdf for two r.v.'s\n",
    "\n",
    "From $H$, the probability of a rectangle $R\\subset\\mathbb{R}^{2}$, determined by the\n",
    "lower left vertex $(x_{1},y_{1})$ and the upper right vertex $(x_{2},y_{2})$ is:\n",
    "\n",
    "$$\n",
    "    \\operatorname{P}(R)=H((x_{2},y_{2}))-H((x_{1},y_{2}))\n",
    "        -H((x_{2},y_{1}))+H((x_{1},y_{1})).\n",
    "$$"
   ]
  },
  {
   "cell_type": "markdown",
   "metadata": {},
   "source": [
    "#### Joint cdf for the example pmf\n",
    "\n",
    "Given $(x,y)\\in\\mathbb{R}^{2}$,\n",
    "    \n",
    "$$\n",
    "\tH(x,y)=\\left\\{{\\renewcommand{\\arraystretch}{1.2}\\begin{array}{llll}\n",
    "\t0,\t\t&\\text{ if }\t&x<1\\mskip10mu\\text{or }&y<0,\\\\\n",
    "\t0.9,\t&\\text{ if }\t&1\\leq x<2,\t\t&0\\leq y< 1,\\\\\n",
    "\t0.93,\t&\\text{ if }\t&2\\leq x<3,\t\t&0\\leq y< 1,\\\\\n",
    "\t0.95,\t&\\text{ if }\t&3\\leq x,\t\t&0\\leq y< 1,\\\\\n",
    "\t0.91,\t&\\text{ if }\t&1\\leq x<2,\t\t&1\\leq y,\\\\\n",
    "\t0.96,\t&\\text{ if }\t&2\\leq x<3,\t\t&1\\leq y,\\\\\n",
    "\t1,\t\t&\\text{ if }\t&3\\leq x,\t\t&1\\leq y.\n",
    "\t\\end{array}}\\right.\n",
    "$$"
   ]
  },
  {
   "cell_type": "markdown",
   "metadata": {},
   "source": [
    "#### Marginal univariate pmf's\n",
    "\n",
    "$f$, the _marginal pmf_ of $X$, is obtained by adding the columns, giving:\n",
    "\n",
    "$$\n",
    "\t\\operatorname{P}(X=1)=0.91,\\mskip8mu\\operatorname{P}(X=2)=0.05,\\mskip8mu\\operatorname{P}(X=3)=0.04. \n",
    "$$\n",
    "\n",
    "$g$, the _marginal pmf_ of $Y$, is obtained by adding the rows, giving:\n",
    "\n",
    "$$\n",
    "\t\\operatorname{P}(Y=0)=0.95,\\quad \\operatorname{P}(Y=1)=0.05. \n",
    "$$"
   ]
  },
  {
   "cell_type": "code",
   "execution_count": 17,
   "metadata": {},
   "outputs": [
    {
     "data": {
      "text/html": [
       "<table>\n",
       "<thead><tr><th scope=col>1</th><th scope=col>2</th><th scope=col>3</th></tr></thead>\n",
       "<tbody>\n",
       "\t<tr><td>0.91</td><td>0.05</td><td>0.04</td></tr>\n",
       "</tbody>\n",
       "</table>\n"
      ],
      "text/latex": [
       "\\begin{tabular}{lll}\n",
       " 1 & 2 & 3\\\\\n",
       "\\hline\n",
       "\t 0.91 & 0.05 & 0.04\\\\\n",
       "\\end{tabular}\n"
      ],
      "text/markdown": [
       "\n",
       "1 | 2 | 3 | \n",
       "|---|\n",
       "| 0.91 | 0.05 | 0.04 | \n",
       "\n",
       "\n"
      ],
      "text/plain": [
       "     1    2    3   \n",
       "[1,] 0.91 0.05 0.04"
      ]
     },
     "metadata": {},
     "output_type": "display_data"
    },
    {
     "data": {
      "text/html": [
       "<dl class=dl-horizontal>\n",
       "\t<dt>0</dt>\n",
       "\t\t<dd>0.95</dd>\n",
       "\t<dt>1</dt>\n",
       "\t\t<dd>0.05</dd>\n",
       "</dl>\n"
      ],
      "text/latex": [
       "\\begin{description*}\n",
       "\\item[0] 0.95\n",
       "\\item[1] 0.05\n",
       "\\end{description*}\n"
      ],
      "text/markdown": [
       "0\n",
       ":   0.951\n",
       ":   0.05\n",
       "\n"
      ],
      "text/plain": [
       "   0    1 \n",
       "0.95 0.05 "
      ]
     },
     "metadata": {},
     "output_type": "display_data"
    }
   ],
   "source": [
    "# X marginal pmf\n",
    "f<-t(apply(h,2,sum))\n",
    "f\n",
    "# Y marginal pmf\n",
    "g<-apply(h,1,sum)\n",
    "g"
   ]
  },
  {
   "cell_type": "markdown",
   "metadata": {},
   "source": [
    "#### Marginal univariate cmf's\n",
    "\n",
    "For $X$ and $Y$, respectively\n",
    "\n",
    "\\begin{eqnarray*}\n",
    "\tF(x)&=&\\lim_{y\\to\\infty}H(x,y),\\\\\n",
    "\tG(y)&=&\\lim_{x\\to\\infty}H(x,y).\n",
    "\\end{eqnarray*}\n",
    "\n",
    "This limit is equivalent to _adding,_ for each value of one of the variables, \n",
    "the probabilities of all possible values of the other."
   ]
  },
  {
   "cell_type": "markdown",
   "metadata": {},
   "source": [
    "#### Independent random variables\n",
    "\n",
    "$X$, $Y$ are (stochastically) independent if, and only if,\n",
    "\n",
    "$$\n",
    "\tH(x,y)=H_{0}(x,y)\\equiv F(x)\\cdot G(y),\\quad (x,y)\\in\\mathbb{R}^{2}.\n",
    "$$\n",
    "\n",
    "In terms of the pmf's:\n",
    "\n",
    "$$\n",
    "\th(x,y)=h_{0}(x,y)\\equiv f(x)\\cdot g(y),\\quad (x,y)\\in\\mathbb{R}^{2}.\n",
    "$$"
   ]
  },
  {
   "cell_type": "markdown",
   "metadata": {},
   "source": [
    "#### Joint pmf for two independent r.v.'s\n",
    "\n",
    "$h_{0}$, the independence joint pmf with the same marginals as the table in the example:\n",
    "\n",
    "$$\n",
    "\\begin{array}{l|c|c|c|c}\n",
    "            &X=1 &X=2 &X=3\\\\\n",
    "\\hline\n",
    "\tY=0\t&0.8645\t&0.0475\t&0.038\t&0.95\\\\\n",
    "\\hline\n",
    "\tY=1 &0.0455\t&0.0025\t&0.002\t&0.05\\\\\n",
    "\\hline\n",
    "\t\t\t&0.91\t&0.05\t&0.04\t&1\\\\\n",
    "\\end{array}\n",
    "$$"
   ]
  },
  {
   "cell_type": "code",
   "execution_count": 18,
   "metadata": {},
   "outputs": [
    {
     "name": "stdout",
     "output_type": "stream",
     "text": [
      "   X\n",
      "Y        1      2     3\n",
      "  0 0.8645 0.0475 0.038\n",
      "  1 0.0455 0.0025 0.002\n"
     ]
    }
   ],
   "source": [
    "h0<-g%*%f\n",
    "dimnames(h0)<-list(Y=as.factor(Yvals),X=as.factor(Xvals))\n",
    "print(h0)"
   ]
  },
  {
   "cell_type": "markdown",
   "metadata": {},
   "source": [
    "The usual $\\chi^2$ statistic is a measure of the difference between the given joint pmf, $h$ and the independence pmf table, $h_{0}$, obtained as the product of its marginals:\n",
    "\n",
    "$$\n",
    "    \\chi^2=\\sum_{x,y}\\dfrac{(h(x,y)-h_0(x,y))^2}{h_0(x,y)}\n",
    "$$"
   ]
  },
  {
   "cell_type": "code",
   "execution_count": 19,
   "metadata": {},
   "outputs": [
    {
     "data": {
      "text/html": [
       "<span style=white-space:pre-wrap>'chi^2 =  0.3286'</span>"
      ],
      "text/latex": [
       "'chi\\textasciicircum{}2 =  0.3286'"
      ],
      "text/markdown": [
       "<span style=white-space:pre-wrap>'chi^2 =  0.3286'</span>"
      ],
      "text/plain": [
       "[1] \"chi^2 =  0.3286\""
      ]
     },
     "metadata": {},
     "output_type": "display_data"
    }
   ],
   "source": [
    "chi2<-sum((h-h0)^2/h0)\n",
    "paste(\"chi^2 = \",round(chi2,4))"
   ]
  },
  {
   "cell_type": "markdown",
   "metadata": {},
   "source": [
    "#### Conditional table, given $Y$\n",
    "\n",
    "The _table of probabilities conditional to_ $Y$, $h(x|y)$, is obtained by dividing each \n",
    "row in the original table by its total (marginal probability of that value of $Y$). \n",
    "\n",
    "$$\n",
    "\\begin{array}{l|c|c|c|c|}\n",
    "        &X=1    &X=2    &X=3\\\\\n",
    "\\hline\n",
    "\tY=0\t&0.9474\t&0.0316\t&0.0211\t&1\\\\\n",
    "\\hline\n",
    "\tY=1 &0.2000\t&0.4000\t&0.4000\t&1\\\\\n",
    "\\hline\n",
    "\\end{array}\n",
    "$$\n",
    "\n",
    "Now the $(i,j)$-th entry is $\\operatorname{P}(X=j|Y=i)$. This table is also \n",
    "called _the matrix of row profiles._"
   ]
  },
  {
   "cell_type": "code",
   "execution_count": 20,
   "metadata": {},
   "outputs": [
    {
     "data": {
      "text/html": [
       "<table>\n",
       "<thead><tr><th></th><th scope=col>1</th><th scope=col>2</th><th scope=col>3</th></tr></thead>\n",
       "<tbody>\n",
       "\t<tr><th scope=row>0</th><td>0.9474</td><td>0.0316</td><td>0.0211</td></tr>\n",
       "\t<tr><th scope=row>1</th><td>0.2000</td><td>0.4000</td><td>0.4000</td></tr>\n",
       "</tbody>\n",
       "</table>\n"
      ],
      "text/latex": [
       "\\begin{tabular}{r|lll}\n",
       "  & 1 & 2 & 3\\\\\n",
       "\\hline\n",
       "\t0 & 0.9474 & 0.0316 & 0.0211\\\\\n",
       "\t1 & 0.2000 & 0.4000 & 0.4000\\\\\n",
       "\\end{tabular}\n"
      ],
      "text/markdown": [
       "\n",
       "| <!--/--> | 1 | 2 | 3 | \n",
       "|---|---|\n",
       "| 0 | 0.9474 | 0.0316 | 0.0211 | \n",
       "| 1 | 0.2000 | 0.4000 | 0.4000 | \n",
       "\n",
       "\n"
      ],
      "text/plain": [
       "   X\n",
       "Y   1      2      3     \n",
       "  0 0.9474 0.0316 0.0211\n",
       "  1 0.2000 0.4000 0.4000"
      ]
     },
     "metadata": {},
     "output_type": "display_data"
    },
    {
     "data": {
      "text/html": [
       "<dl class=dl-horizontal>\n",
       "\t<dt>0</dt>\n",
       "\t\t<dd>1</dd>\n",
       "\t<dt>1</dt>\n",
       "\t\t<dd>1</dd>\n",
       "</dl>\n"
      ],
      "text/latex": [
       "\\begin{description*}\n",
       "\\item[0] 1\n",
       "\\item[1] 1\n",
       "\\end{description*}\n"
      ],
      "text/markdown": [
       "0\n",
       ":   11\n",
       ":   1\n",
       "\n"
      ],
      "text/plain": [
       "0 1 \n",
       "1 1 "
      ]
     },
     "metadata": {},
     "output_type": "display_data"
    }
   ],
   "source": [
    "h.Y<-sweep(h,1,g,FUN=\"/\") # | very useful function to avoid explicit loops in R language | 1 along dimention 1 (which means along rows)\n",
    "round(h.Y,4)\n",
    "# check that the sum of each row is 1 (each row is a \"profile\", i.e., a 1-dimensional pmf)\n",
    "apply(h.Y,1,sum)"
   ]
  },
  {
   "cell_type": "markdown",
   "metadata": {},
   "source": [
    "#### Conditional table, given $X$\n",
    "\n",
    "The _table of probabilities conditional to_ $X$, or _matrix of column profiles,_\n",
    "is obtained by dividing each column by its total (marginal probability of that value of $X$). \n",
    "\n",
    "$$\n",
    "\\begin{array}{l|c|c|c|c}\n",
    "\t\t\t&X=1      &X=2& X=3\\\\\n",
    "\\hline\n",
    "        Y=0\t&0.9890\t  &0.6000\t&0.5000\\\\\n",
    "\\hline\n",
    "        Y=1 &0.0110   &0.4000\t&0.5000\\\\\n",
    "\\hline\n",
    "            &1        &1\t\t&1\\\\\n",
    "\\end{array}\n",
    "$$\n",
    "\n",
    "Now the $(i,j)$-th entry is $\\operatorname{P}(Y=i|X=j)$."
   ]
  },
  {
   "cell_type": "code",
   "execution_count": 21,
   "metadata": {
    "scrolled": true
   },
   "outputs": [
    {
     "data": {
      "text/html": [
       "<table>\n",
       "<thead><tr><th></th><th scope=col>1</th><th scope=col>2</th><th scope=col>3</th></tr></thead>\n",
       "<tbody>\n",
       "\t<tr><th scope=row>0</th><td>0.989</td><td>0.6  </td><td>0.5  </td></tr>\n",
       "\t<tr><th scope=row>1</th><td>0.011</td><td>0.4  </td><td>0.5  </td></tr>\n",
       "</tbody>\n",
       "</table>\n"
      ],
      "text/latex": [
       "\\begin{tabular}{r|lll}\n",
       "  & 1 & 2 & 3\\\\\n",
       "\\hline\n",
       "\t0 & 0.989 & 0.6   & 0.5  \\\\\n",
       "\t1 & 0.011 & 0.4   & 0.5  \\\\\n",
       "\\end{tabular}\n"
      ],
      "text/markdown": [
       "\n",
       "| <!--/--> | 1 | 2 | 3 | \n",
       "|---|---|\n",
       "| 0 | 0.989 | 0.6   | 0.5   | \n",
       "| 1 | 0.011 | 0.4   | 0.5   | \n",
       "\n",
       "\n"
      ],
      "text/plain": [
       "   X\n",
       "Y   1     2   3  \n",
       "  0 0.989 0.6 0.5\n",
       "  1 0.011 0.4 0.5"
      ]
     },
     "metadata": {},
     "output_type": "display_data"
    },
    {
     "data": {
      "text/html": [
       "<dl class=dl-horizontal>\n",
       "\t<dt>1</dt>\n",
       "\t\t<dd>1</dd>\n",
       "\t<dt>2</dt>\n",
       "\t\t<dd>1</dd>\n",
       "\t<dt>3</dt>\n",
       "\t\t<dd>1</dd>\n",
       "</dl>\n"
      ],
      "text/latex": [
       "\\begin{description*}\n",
       "\\item[1] 1\n",
       "\\item[2] 1\n",
       "\\item[3] 1\n",
       "\\end{description*}\n"
      ],
      "text/markdown": [
       "1\n",
       ":   12\n",
       ":   13\n",
       ":   1\n",
       "\n"
      ],
      "text/plain": [
       "1 2 3 \n",
       "1 1 1 "
      ]
     },
     "metadata": {},
     "output_type": "display_data"
    }
   ],
   "source": [
    "h.X<-sweep(h,2,f,FUN=\"/\") # | Sweep matrix h along columns\n",
    "round(h.X,4)\n",
    "# check that the sum of each column is 1 (each column is a \"profile\", i.e., a 1-dimensional pmf)\n",
    "apply(h.X,2,sum)\n",
    "\n",
    "#| profile is a term that usually means a pmf (a set of probabilities adding up to one.)"
   ]
  },
  {
   "cell_type": "markdown",
   "metadata": {},
   "source": [
    "#### Covariance of two discrete r.v.'s  $(X,Y)$\n",
    "\n",
    "Given $h$, joint pmf, we get $\\operatorname{E}(X)$, $\\operatorname{E}(Y)$, $\\operatorname{var}(X)$, $\\operatorname{var}(Y)$, from the marginal pmf's $f$ and $g$.\n",
    "\t\n",
    "The _covariance_ of $(X,Y)$ is:\n",
    "\n",
    "$$\n",
    "\t\\operatorname{cov}(X,Y)\\stackrel{d}{=}\\sum_{x}\\sum_{y}h(x,y)\\,(x-\\operatorname{E}(X))\\,(y-\\operatorname{E}(Y)),\n",
    "$$\n",
    "\n",
    "where $x$ and $y$ take all values of $X$ and $Y$, respectively."
   ]
  },
  {
   "cell_type": "markdown",
   "metadata": {},
   "source": [
    "Alternatively, compute the expectation of the product:\n",
    "\n",
    "$$\n",
    "\t\\operatorname{E}(X\\cdot Y)\\stackrel{d}{=}\\sum_{x}\\sum_{y}h(x,y)\\,x\\,y,\n",
    "$$\n",
    "\n",
    "\tand, then, use the equality:\n",
    "\t\n",
    "$$\n",
    "\t\\operatorname{cov}(X,Y)=\\operatorname{E}(X\\cdot Y)-\\operatorname{E}(X)\\cdot\\operatorname{E}(Y).\n",
    "$$"
   ]
  },
  {
   "cell_type": "code",
   "execution_count": 22,
   "metadata": {},
   "outputs": [
    {
     "data": {
      "text/html": [
       "<span style=white-space:pre-wrap>'E(X) =  1.13'</span>"
      ],
      "text/latex": [
       "'E(X) =  1.13'"
      ],
      "text/markdown": [
       "<span style=white-space:pre-wrap>'E(X) =  1.13'</span>"
      ],
      "text/plain": [
       "[1] \"E(X) =  1.13\""
      ]
     },
     "metadata": {},
     "output_type": "display_data"
    },
    {
     "data": {
      "text/html": [
       "<span style=white-space:pre-wrap>'E(Y) =  0.05'</span>"
      ],
      "text/latex": [
       "'E(Y) =  0.05'"
      ],
      "text/markdown": [
       "<span style=white-space:pre-wrap>'E(Y) =  0.05'</span>"
      ],
      "text/plain": [
       "[1] \"E(Y) =  0.05\""
      ]
     },
     "metadata": {},
     "output_type": "display_data"
    },
    {
     "data": {
      "text/html": [
       "<span style=white-space:pre-wrap>'var(X) =  0.193'</span>"
      ],
      "text/latex": [
       "'var(X) =  0.193'"
      ],
      "text/markdown": [
       "<span style=white-space:pre-wrap>'var(X) =  0.193'</span>"
      ],
      "text/plain": [
       "[1] \"var(X) =  0.193\""
      ]
     },
     "metadata": {},
     "output_type": "display_data"
    },
    {
     "data": {
      "text/html": [
       "<span style=white-space:pre-wrap>'var(Y) =  0.048'</span>"
      ],
      "text/latex": [
       "'var(Y) =  0.048'"
      ],
      "text/markdown": [
       "<span style=white-space:pre-wrap>'var(Y) =  0.048'</span>"
      ],
      "text/plain": [
       "[1] \"var(Y) =  0.048\""
      ]
     },
     "metadata": {},
     "output_type": "display_data"
    }
   ],
   "source": [
    "EX<-E(Xvals,f)\n",
    "EY<-E(Yvals,g)\n",
    "varX<-Var(Xvals,f)\n",
    "varY<-Var(Yvals,g)\n",
    "paste(\"E(X) = \",round(EX,3))\n",
    "paste(\"E(Y) = \",round(EY,3))\n",
    "paste(\"var(X) = \",round(varX,3))\n",
    "paste(\"var(Y) = \",round(varY,3))"
   ]
  },
  {
   "cell_type": "code",
   "execution_count": 23,
   "metadata": {},
   "outputs": [
    {
     "data": {
      "text/html": [
       "<span style=white-space:pre-wrap>'cov(X,Y) =  0.0535'</span>"
      ],
      "text/latex": [
       "'cov(X,Y) =  0.0535'"
      ],
      "text/markdown": [
       "<span style=white-space:pre-wrap>'cov(X,Y) =  0.0535'</span>"
      ],
      "text/plain": [
       "[1] \"cov(X,Y) =  0.0535\""
      ]
     },
     "metadata": {},
     "output_type": "display_data"
    }
   ],
   "source": [
    "cov<-function(h,Xvals,Yvals){\n",
    "    # X marginal pmf\n",
    "    f<-t(apply(h,2,sum))\n",
    "    # Y marginal pmf\n",
    "    g<-apply(h,1,sum)\n",
    "    # X expectation\n",
    "    EX<-E(Xvals,f)\n",
    "    # Y expectation\n",
    "    EY<-E(Yvals,g)\n",
    "    # X deviations\n",
    "    Xd<-Xvals-EX\n",
    "    # y deviations\n",
    "    Yd<-Yvals-EY\n",
    "    covXY<-sum((Yd%o%Xd)*h)\n",
    "    return(covXY)\n",
    "    }\n",
    "covXY<-cov(h,Xvals,Yvals)\n",
    "paste(\"cov(X,Y) = \",round(covXY,4))"
   ]
  },
  {
   "cell_type": "markdown",
   "metadata": {},
   "source": [
    "For the example:\n",
    "\n",
    "\\begin{align*}\n",
    "\t\\operatorname{E}(X)\t&= 1.13,\t\t&\\quad \\operatorname{E}(Y)&=0.05,\\\\\n",
    "\t\\operatorname{var}(X)&=0.1931, \t&\\quad\\operatorname{var}(Y)\t&=0.0475,\n",
    "\\end{align*}\n",
    "\n",
    "and\n",
    "\n",
    "$$\n",
    "\t\\operatorname{cov}(X,Y)=0.0535.\n",
    "$$"
   ]
  },
  {
   "cell_type": "markdown",
   "metadata": {},
   "source": [
    "#### Correlation coefficient of two discrete r.v.'s $(X,Y)$\n",
    "\n",
    "$$\n",
    "\t\\operatorname{cor}(X,Y)\\stackrel{d}{=}\\dfrac{\\operatorname{cov}(X,Y)}{\\sqrt{\\operatorname{var}(X)\\cdot\\operatorname{var}(Y)}}.\n",
    "$$\n",
    "\n",
    "Normalization of $\\operatorname{cov}(X,Y)$, $-1\\leq\\operatorname{cor}(X,Y)\\leq 1$. \n",
    "\t\n",
    "$\\operatorname{cor}(X,Y)$ measures linear dependence between $X,\\,Y$."
   ]
  },
  {
   "cell_type": "code",
   "execution_count": 24,
   "metadata": {},
   "outputs": [
    {
     "data": {
      "text/html": [
       "<span style=white-space:pre-wrap>'cor(X,Y) =  0.5586'</span>"
      ],
      "text/latex": [
       "'cor(X,Y) =  0.5586'"
      ],
      "text/markdown": [
       "<span style=white-space:pre-wrap>'cor(X,Y) =  0.5586'</span>"
      ],
      "text/plain": [
       "[1] \"cor(X,Y) =  0.5586\""
      ]
     },
     "metadata": {},
     "output_type": "display_data"
    }
   ],
   "source": [
    "corXY<-covXY/sqrt(varX*varY)\n",
    "paste(\"cor(X,Y) = \", round(corXY,4))"
   ]
  },
  {
   "cell_type": "markdown",
   "metadata": {},
   "source": [
    "For the example, $\\operatorname{cor}(X,Y)=0.5586$."
   ]
  },
  {
   "cell_type": "markdown",
   "metadata": {},
   "source": [
    "### Bayes formula for discrete r.v.'s"
   ]
  },
  {
   "cell_type": "markdown",
   "metadata": {},
   "source": [
    "#### Bayes formula for two discrete variables\n",
    "\n",
    "Each entry in the conditional table, given $X$, is the result of applying Bayes' formula,\n",
    "\n",
    "$$\n",
    "\t\\operatorname{P}(Y=i|X=j)=\\frac{\\operatorname{P}(X=j|Y=i)\\operatorname{P}(Y=i)}{\\operatorname{P}(X=j)},\n",
    "$$\n",
    "\n",
    "operating on entries in the $Y$ marginal in the original table, with the conditional table given $Y$.\n",
    "    \n",
    "Note the denominator is the total probabilities formula:\n",
    "\n",
    "$$\n",
    "\t\\operatorname{P}(X=j)=\\sum_{i}\\operatorname{P}(X=j|Y=i)\\operatorname{P}(Y=i)=\\sum_{i}\\operatorname{P}(X=j,Y=i).\n",
    "$$"
   ]
  },
  {
   "cell_type": "markdown",
   "metadata": {},
   "source": [
    "#### Interpreting Bayes formula\n",
    "\n",
    "Each $j$-th column in the  the conditional table, given $X$, is the transform of the _a priori_ $Y$ probabilities column vector, that is, the marginal pmf of $Y$, resulting from entering the knowledge that $\\{X=j\\}$ has been observed."
   ]
  },
  {
   "cell_type": "code",
   "execution_count": null,
   "metadata": {},
   "outputs": [],
   "source": []
  }
 ],
 "metadata": {
  "kernelspec": {
   "display_name": "R",
   "language": "R",
   "name": "ir"
  },
  "language_info": {
   "codemirror_mode": "r",
   "file_extension": ".r",
   "mimetype": "text/x-r-source",
   "name": "R",
   "pygments_lexer": "r",
   "version": "3.4.3"
  }
 },
 "nbformat": 4,
 "nbformat_minor": 2
}
