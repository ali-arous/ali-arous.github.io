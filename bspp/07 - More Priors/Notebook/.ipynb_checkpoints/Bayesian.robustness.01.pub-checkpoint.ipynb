{
 "cells": [
  {
   "cell_type": "markdown",
   "metadata": {},
   "source": [
    "# More priors: Bayesian robustness"
   ]
  },
  {
   "cell_type": "markdown",
   "metadata": {},
   "source": [
    "#### Josep Fortiana 2017-11-07"
   ]
  },
  {
   "cell_type": "markdown",
   "metadata": {},
   "source": [
    "## Concept of robustness\n",
    "\n",
    "How important is the choice of prior? Obviously, widely different priors will originate widely different results but, what happens when slightly different priors are used?\n",
    "\n",
    "A Bayesian analysis is said to be _robust_ to the choice of prior if the inferences derived from it do not depend on which prior pdf is chosen from a set of priors compatible with the user's beliefs.\n",
    "\n",
    "The following example is taken from Jim Albert (2009), _Bayesian computation with R (2nd ed),_ Springer, pp. 44-49. In it we investigate the results of applying two apparently very close priors (Normal and Student's $\\operatorname{t}$) to the same normal likelihood and observed data."
   ]
  },
  {
   "cell_type": "markdown",
   "metadata": {},
   "source": [
    "## Example: estimating IQ with two priors\n",
    "\n",
    "Assume the IQ of a person is $X\\sim\\operatorname{N}(\\theta,\\sigma^{2})$, where $\\sigma=15$ is known.\n",
    "\n",
    "We want to estimate $\\theta$, _\"the true IQ\"_  of a person whom we believe to be average, hence the prior distribution of $\\theta$ will have median $m=100$ (we use the _median_ as a representative central value because the Student's $\\operatorname{t}(1)$ distribution we use below has no expectation).\n",
    "\t\n",
    "Also, we believe that with 90% probability $\\theta$ falls between $80$ and $120$."
   ]
  },
  {
   "cell_type": "code",
   "execution_count": 1,
   "metadata": {},
   "outputs": [],
   "source": [
    "sigma<-15 # (assumed known)\n",
    "m<-100    # Priors will have median m"
   ]
  },
  {
   "cell_type": "markdown",
   "metadata": {},
   "source": [
    "#### First prior: Normal\n",
    "\n",
    "Firstly we take the conjugate prior $\\theta\\sim\\operatorname{N}(\\mu,\\gamma^{2})$.\n",
    "\t\n",
    "$\\mu=m=100$, and $\\gamma$ is derived from the fact that $80$ is the $0.05$ quantile of $\\theta$ or, equivalently (using the fact that the pdf is symmetrical with respect to $\\mu=100$), $120=100+(100-80)$ is the $0.95$ quantile.\n",
    "\n",
    "Since $Z=\\dfrac{\\theta-\\mu}{\\gamma}\\sim\\operatorname{N}(0,1)$:"
   ]
  },
  {
   "cell_type": "code",
   "execution_count": 2,
   "metadata": {},
   "outputs": [
    {
     "data": {
      "text/html": [
       "12.159"
      ],
      "text/latex": [
       "12.159"
      ],
      "text/markdown": [
       "12.159"
      ],
      "text/plain": [
       "[1] 12.159"
      ]
     },
     "metadata": {},
     "output_type": "display_data"
    }
   ],
   "source": [
    "q005<-80\n",
    "mu<-m\n",
    "qZ<-qnorm(0.05)\n",
    "gamma1<-(q005-m)/qZ\n",
    "round(gamma1,3)"
   ]
  },
  {
   "cell_type": "markdown",
   "metadata": {},
   "source": [
    "#### Second prior: scaled and translated Student t with 2 degrees of freedom\n",
    "\n",
    "Now we assume that $\\theta$ is the result of applying a translation and a scale change to a r.v. $Y\\sim t(2)$, a standard Student t with 2 degrees of freedom:\n",
    "\n",
    "$$\n",
    "\t\\theta=m+ s\\cdot Y,\\text{ where } Y\\sim t(2),\\mskip20mu\n",
    "\t\\text{equivalently, } \\mskip20mu Y=\\dfrac{\\theta-m}{s}\\sim t(2).\n",
    "$$\n",
    "\n",
    "\n",
    "##### pdf of the Student t prior\n",
    "\n",
    "If $h_{Y}$ is the pdf of the standard r.v. $Y\\sim \\operatorname{t}(2)$, the pdf of $\\theta=m+ s\\cdot Y$ is:\n",
    "\n",
    "$$\n",
    "\th_{\\theta}(u)=\\dfrac{1}{s}\\cdot h_{Y}\\left(\\dfrac{u-m}{s}\\right),\n",
    "$$\n",
    "\n",
    "which follows either from the pdf's change of variable formula, or directly, by differentiating the cdf:\n",
    "\n",
    "$$\n",
    "\tH_{\\theta}(u)=\\operatorname{P}(\\theta\\leq u)=\\operatorname{P}(m+ s\\cdot Y\\leq u)\n",
    "\t=H_{Y}\\left(\\dfrac{u-m}{s}\\right),\n",
    "$$\n",
    "\n",
    "where $H_{Y}$ is the cdf of $Y$."
   ]
  },
  {
   "cell_type": "code",
   "execution_count": 3,
   "metadata": {},
   "outputs": [
    {
     "data": {
      "text/html": [
       "6.849"
      ],
      "text/latex": [
       "6.849"
      ],
      "text/markdown": [
       "6.849"
      ],
      "text/plain": [
       "[1] 6.849"
      ]
     },
     "metadata": {},
     "output_type": "display_data"
    }
   ],
   "source": [
    "# Y=(theta-m)/gamma2 is a standard Student t r.v. with 2 degrees of freedom\n",
    "#\n",
    "# We derive the scale parameter gamma2 from que given quantiles as in the normal case:\n",
    "#\n",
    "t005<-qt(0.05,df=2)\n",
    "gamma2<-(q005-m)/t005\n",
    "round(gamma2,3) # scale parameter for the student distribution"
   ]
  },
  {
   "cell_type": "code",
   "execution_count": 4,
   "metadata": {},
   "outputs": [],
   "source": [
    "# Prior pdf\n",
    "dt2theta<-function(theta){\n",
    "    z<-(theta-m)/gamma2\n",
    "    return(dt(z,df=2)/gamma2)\n",
    "    }"
   ]
  },
  {
   "cell_type": "markdown",
   "metadata": {},
   "source": [
    "## Plot both prior pdf's\n",
    "\n",
    "Observe Student's t sharper peak and heavier tails:"
   ]
  },
  {
   "cell_type": "code",
   "execution_count": 5,
   "metadata": {},
   "outputs": [
    {
     "data": {
      "image/png": "[encoded data removed]",
      "text/plain": [
       "Plot with title \"Prior pdf's\""
      ]
     },
     "metadata": {},
     "output_type": "display_data"
    }
   ],
   "source": [
    "# Plot both prior pdf's\n",
    "delta<-50 # a reasonable half-width for the plotting interval\n",
    "u<-seq(m-delta,m+delta,length=600)\n",
    "plot(u,dt2theta(u),\"l\",lwd=2.2,col=\"red\",xlab=expression(theta),ylab=\"\",main=\"Prior pdf's\")\n",
    "lines(u,dnorm(u,mean=mu,sd=gamma1),lwd=2.2,col=\"blue\")\n",
    "abline(h=0,lwd=2,col=\"black\")\n",
    "legend(\"topright\",legend=c(\"Pdf1 = Normal\",\"Pdf2 = t(2)\"),lwd=2.2,col=c(\"blue\",\"red\"))"
   ]
  },
  {
   "cell_type": "markdown",
   "metadata": {},
   "source": [
    "## Observed data and posterior pdf's with both priors\n",
    "\n",
    "Our subject takes $n=4$ IQ tests, obtaining an average score $\\overline{x}$.\n",
    "\n",
    "The we obtain the posterior pdf with both prior pdf's."
   ]
  },
  {
   "cell_type": "markdown",
   "metadata": {},
   "source": [
    "### Prior influence depending on the observed data\n",
    "\n",
    "We perform our computations for three hypothetical values of $\\overline{x}$:\n",
    "\n",
    "$$\n",
    "\t\\overline{x}=110,\\mskip30mu \\overline{x}=125,\\mskip30mu \\overline{x}=140.\n",
    "$$"
   ]
  },
  {
   "cell_type": "code",
   "execution_count": 6,
   "metadata": {},
   "outputs": [
    {
     "data": {
      "image/png": "[encoded data removed]",
      "text/plain": [
       "Plot with title \"Prior pdf's with observed data\""
      ]
     },
     "metadata": {},
     "output_type": "display_data"
    }
   ],
   "source": [
    "plot(u,dt2theta(u),\"l\",lwd=2.2,col=\"red\",xlab=expression(theta),ylab=\"\",main=\"Prior pdf's with observed data\")\n",
    "lines(u,dnorm(u,mean=mu,sd=gamma1),lwd=2.2,col=\"blue\")\n",
    "abline(h=0,lwd=2,col=\"black\")\n",
    "legend(\"topright\",legend=c(\"Pdf1 = Normal\",\"Pdf2 = t(2)\"),lwd=2.2,col=c(\"blue\",\"red\"))\n",
    "n<-4\n",
    "xbar.1<-110\n",
    "xbar.2<-125\n",
    "xbar.3<-140\n",
    "xbar<-c(xbar.1,xbar.2,xbar.3)\n",
    "points(xbar,rep(0,3),pch=19,cex=2,col=\"magenta\")\n",
    "text(110,0.005,\"110\",col=\"magenta\",cex=1.5)\n",
    "text(125,0.005,\"125\",col=\"magenta\",cex=1.5)\n",
    "text(140,0.005,\"140\",col=\"magenta\",cex=1.5)"
   ]
  },
  {
   "cell_type": "markdown",
   "metadata": {},
   "source": [
    "### Posterior with a normal (conjugate) prior\n",
    "\n",
    "The posterior distribution is $\\operatorname{N}(\\mu_{x},\\tau^{2})$, where:\n",
    "\n",
    "$$\n",
    "    \\begin{array}{lcl}\n",
    "    \\operatorname{E}(\\theta\\,|\\,x)&=&\\mu_{x}\n",
    "    \\equiv\\dfrac{\\gamma^{2}}{\\sigma^{2}/n+\\gamma^{2}}\\,\\overline{x}\n",
    "    +\\dfrac{\\sigma^{2}/n}{\\sigma^{2}/n+\\gamma^{2}}\\,\\mu\\\\[0.2cm]\n",
    "    \\operatorname{var}(\\theta\\,|\\,x)&=&\\tau^{2}\\equiv\\displaystyle\n",
    "    \\frac{\\sigma^{2}\\,\\gamma^{2}}{\\sigma^{2}+n\\,\\gamma^{2}}\n",
    "    \\end{array}\n",
    "$$"
   ]
  },
  {
   "cell_type": "code",
   "execution_count": 7,
   "metadata": {},
   "outputs": [
    {
     "data": {
      "text/html": [
       "<ol class=list-inline>\n",
       "\t<li>107.244</li>\n",
       "\t<li>118.11</li>\n",
       "\t<li>128.976</li>\n",
       "</ol>\n"
      ],
      "text/latex": [
       "\\begin{enumerate*}\n",
       "\\item 107.244\n",
       "\\item 118.11\n",
       "\\item 128.976\n",
       "\\end{enumerate*}\n"
      ],
      "text/markdown": [
       "1. 107.244\n",
       "2. 118.11\n",
       "3. 128.976\n",
       "\n",
       "\n"
      ],
      "text/plain": [
       "[1] 107.244 118.110 128.976"
      ]
     },
     "metadata": {},
     "output_type": "display_data"
    },
    {
     "data": {
      "text/html": [
       "40.747"
      ],
      "text/latex": [
       "40.747"
      ],
      "text/markdown": [
       "40.747"
      ],
      "text/plain": [
       "[1] 40.747"
      ]
     },
     "metadata": {},
     "output_type": "display_data"
    },
    {
     "data": {
      "text/html": [
       "6.383"
      ],
      "text/latex": [
       "6.383"
      ],
      "text/markdown": [
       "6.383"
      ],
      "text/plain": [
       "[1] 6.383"
      ]
     },
     "metadata": {},
     "output_type": "display_data"
    }
   ],
   "source": [
    "lambda<-gamma1^2/(gamma1^2+sigma^2/n) # Coefficient of the convex combination\n",
    "mux<-lambda*xbar+(1-lambda)*mu\n",
    "round(mux,3)\n",
    "tau2<-(sigma^2*gamma1^2)/(sigma^2+ n*gamma1^2)\n",
    "round(tau2,3)\n",
    "tau<-sqrt(tau2)\n",
    "round(tau,3)"
   ]
  },
  {
   "cell_type": "markdown",
   "metadata": {},
   "source": [
    "#### Posterior pdf parameters with the normal prior\n",
    "\n",
    "Posterior expectations:\n",
    "\n",
    "$$\n",
    "\\begin{array}{|c|l|l|l|}\n",
    "\t\\hline\n",
    "\t\\text{Observed}\\mskip10mu \\overline{x}\t&110\t&125\t&140\\\\[0.2cm]\n",
    "\t\\hline\n",
    "\t\\mu_{x}  &107.24 &118.11\t&128.98\\\\[0.2cm]\n",
    "\t\\hline\n",
    "\\end{array}\n",
    "$$\n",
    "\n",
    "\n",
    "Posterior variance and standard deviation (the same for the three cases):\n",
    "\n",
    "$$\n",
    "\t\\tau^{2}=40.7471,\\mskip80mu \\tau=6.3833.\n",
    "$$"
   ]
  },
  {
   "cell_type": "markdown",
   "metadata": {},
   "source": [
    "### Posterior with the $t$ prior\n",
    "\n",
    "Since the prior pdf $h_{\\theta}(\\;\\cdot\\;)$ is not a conjugate prior for a normal mean, we evaluate the joint pdf:\n",
    "\n",
    "$$\n",
    "\tf(\\overline{x},\\theta)=f(\\overline{x}|\\theta)\\times h_{\\theta}(\\theta),\n",
    "$$\n",
    "\n",
    "on a grid, $N$ points on an interval $I=(m-\\Delta,m+\\Delta)$, where $\\Delta$ is\tchosen so that $f\\approx 0$ outside the interval and $N$ is large enough for the desired precision.\n",
    "\n",
    "Normalizing the resulting vector to sum 1 we have the pmf of a discretization of the posterior distribution.\n",
    "\t\n",
    "With this pmf we evaluate whatever posterior properties we need."
   ]
  },
  {
   "cell_type": "code",
   "execution_count": 8,
   "metadata": {},
   "outputs": [],
   "source": [
    "delta<-80 # a reasonable half-width\n",
    "N<-1000   # number of grid points\n",
    "u<-seq(m-delta,m+delta,length=N)\n",
    "Lik<-function(xbar.i=xbar.1,theta,sigma,n){dnorm(xbar.i,mean=theta,sd=sigma/sqrt(n))}\n",
    "#\n",
    "# Non-normalized posteriors: nnpost.1, nnpost.2, nnpost.3\n",
    "#\n",
    "# Then these values, after normalized to unit sum, will be the pmf of a discretization of\n",
    "# the posterior distribution.\n",
    "#\n",
    "# Normalized posteriors pmf's: dpost.1, dpost.2, dpost.3\n",
    "#\n",
    "nnpost.1<-Lik(xbar.1,theta=u,sigma,n)*dt2theta(u)\n",
    "dpost.1<-nnpost.1/sum(nnpost.1)\n",
    "ppost.1<-c(0,cumsum(dpost.1))\n",
    "nnpost.2<-Lik(xbar.2,theta=u,sigma,n)*dt2theta(u)\n",
    "dpost.2<-nnpost.2/sum(nnpost.2)\n",
    "ppost.2<-c(0,cumsum(dpost.2))\n",
    "nnpost.3<-Lik(xbar.3,theta=u,sigma,n)*dt2theta(u)\n",
    "dpost.3<-nnpost.3/sum(nnpost.3)\n",
    "ppost.3<-c(0,cumsum(dpost.3))\n",
    "#\n",
    "# Alternatively, dpost values can be normalized as ordinates of a continuous pdf instead of as pmf values. \n",
    "#\n",
    "# The area under the curve dpost.continuous.pdf must equal to 1.\n",
    "#\n",
    "# There are N-1 rectangles, the sum of their base widths will be equal to 2*delta\n",
    "#\n",
    "# Area = sum(dpost.continuous.pdf * rectangle.basis.width) = 1\n",
    "#\n",
    "# dpost.continuous.pdf = c * dpost\n",
    "#\n",
    "# 1 = c*sum(dpost)*rectangle.basis.width = c*rectangle.basis.width, \n",
    "#\n",
    "# Hence c=1/rectangle.basis.width\n",
    "#\n",
    "rectangle.basis.width<-2*delta/(N-1) \n",
    "dpost.1.continuous.pdf<-dpost.1/rectangle.basis.width\n",
    "dpost.2.continuous.pdf<-dpost.2/rectangle.basis.width\n",
    "dpost.3.continuous.pdf<-dpost.3/rectangle.basis.width"
   ]
  },
  {
   "cell_type": "markdown",
   "metadata": {},
   "source": [
    "#### Computing relevant posterior quantities"
   ]
  },
  {
   "cell_type": "code",
   "execution_count": 9,
   "metadata": {},
   "outputs": [
    {
     "data": {
      "text/html": [
       "<ol class=list-inline>\n",
       "\t<li>103.924</li>\n",
       "\t<li>117.698</li>\n",
       "\t<li>135.636</li>\n",
       "</ol>\n"
      ],
      "text/latex": [
       "\\begin{enumerate*}\n",
       "\\item 103.924\n",
       "\\item 117.698\n",
       "\\item 135.636\n",
       "\\end{enumerate*}\n"
      ],
      "text/markdown": [
       "1. 103.924\n",
       "2. 117.698\n",
       "3. 135.636\n",
       "\n",
       "\n"
      ],
      "text/plain": [
       "[1] 103.924 117.698 135.636"
      ]
     },
     "metadata": {},
     "output_type": "display_data"
    },
    {
     "data": {
      "text/html": [
       "<ol class=list-inline>\n",
       "\t<li>105.045</li>\n",
       "\t<li>118.018</li>\n",
       "\t<li>135.636</li>\n",
       "</ol>\n"
      ],
      "text/latex": [
       "\\begin{enumerate*}\n",
       "\\item 105.045\n",
       "\\item 118.018\n",
       "\\item 135.636\n",
       "\\end{enumerate*}\n"
      ],
      "text/markdown": [
       "1. 105.045\n",
       "2. 118.018\n",
       "3. 135.636\n",
       "\n",
       "\n"
      ],
      "text/plain": [
       "[1] 105.045 118.018 135.636"
      ]
     },
     "metadata": {},
     "output_type": "display_data"
    },
    {
     "data": {
      "text/html": [
       "<ol class=list-inline>\n",
       "\t<li>105.292</li>\n",
       "\t<li>118.084</li>\n",
       "\t<li>135.413</li>\n",
       "</ol>\n"
      ],
      "text/latex": [
       "\\begin{enumerate*}\n",
       "\\item 105.292\n",
       "\\item 118.084\n",
       "\\item 135.413\n",
       "\\end{enumerate*}\n"
      ],
      "text/markdown": [
       "1. 105.292\n",
       "2. 118.084\n",
       "3. 135.413\n",
       "\n",
       "\n"
      ],
      "text/plain": [
       "[1] 105.292 118.084 135.413"
      ]
     },
     "metadata": {},
     "output_type": "display_data"
    },
    {
     "data": {
      "text/html": [
       "<ol class=list-inline>\n",
       "\t<li>34.125</li>\n",
       "\t<li>62.176</li>\n",
       "\t<li>63.577</li>\n",
       "</ol>\n"
      ],
      "text/latex": [
       "\\begin{enumerate*}\n",
       "\\item 34.125\n",
       "\\item 62.176\n",
       "\\item 63.577\n",
       "\\end{enumerate*}\n"
      ],
      "text/markdown": [
       "1. 34.125\n",
       "2. 62.176\n",
       "3. 63.577\n",
       "\n",
       "\n"
      ],
      "text/plain": [
       "[1] 34.125 62.176 63.577"
      ]
     },
     "metadata": {},
     "output_type": "display_data"
    },
    {
     "data": {
      "text/html": [
       "<ol class=list-inline>\n",
       "\t<li>5.842</li>\n",
       "\t<li>7.885</li>\n",
       "\t<li>7.973</li>\n",
       "</ol>\n"
      ],
      "text/latex": [
       "\\begin{enumerate*}\n",
       "\\item 5.842\n",
       "\\item 7.885\n",
       "\\item 7.973\n",
       "\\end{enumerate*}\n"
      ],
      "text/markdown": [
       "1. 5.842\n",
       "2. 7.885\n",
       "3. 7.973\n",
       "\n",
       "\n"
      ],
      "text/plain": [
       "[1] 5.842 7.885 7.973"
      ]
     },
     "metadata": {},
     "output_type": "display_data"
    }
   ],
   "source": [
    "#\n",
    "# Mode of these posterior distributions\n",
    "#\n",
    "mode.1<-u[which.max(dpost.1)]\n",
    "mode.2<-u[which.max(dpost.2)]\n",
    "mode.3<-u[which.max(dpost.3)]\n",
    "mode.0<-c(mode.1,mode.2,mode.3)\n",
    "round(mode.0,3)\n",
    "#\n",
    "# Median of these posterior distributions\n",
    "#\n",
    "median.1<-u[min(which(ppost.1>=0.5))]\n",
    "median.2<-u[min(which(ppost.2>=0.5))]\n",
    "median.3<-u[min(which(ppost.3>=0.5))]\n",
    "median.0<-c(median.1,median.2,median.3)\n",
    "round(median.0,3)\n",
    "#\n",
    "# Expectation of these posterior distributions\n",
    "#\n",
    "mean.1<-sum(u*dpost.1)\n",
    "mean.2<-sum(u*dpost.2)\n",
    "mean.3<-sum(u*dpost.3)\n",
    "mean.0<-c(mean.1,mean.2,mean.3)\n",
    "round(mean.0,3)\n",
    "#\n",
    "# Variance and standard deviations of these posterior distributions\n",
    "#\n",
    "var.1<-sum((u-mean.1)^2*dpost.1)\n",
    "var.2<-sum((u-mean.2)^2*dpost.2)\n",
    "var.3<-sum((u-mean.3)^2*dpost.3)\n",
    "var.0<-c(var.1,var.2,var.3)\n",
    "round(var.0,3)\n",
    "sd.0<-sqrt(var.0)\n",
    "round(sd.0,3)"
   ]
  },
  {
   "cell_type": "markdown",
   "metadata": {},
   "source": [
    "##### Posterior parameters with the $t(2)$ prior\n",
    "\n",
    "Expectations, $m$, standard deviations $s$:\n",
    "\n",
    "$$\n",
    "\\begin{array}{|c|r|r|r|}\n",
    "\t\\hline\n",
    "\t\\text{Observed }\\mskip10mu \\overline{x}\t&110 &125&140\\\\\n",
    "\t\\hline\n",
    "                                        m\t& 105.292&118.084&135.413\\\\\n",
    "\t\\hline   \n",
    "                                        s\t&   5.842&  7.885&7.973\\\\\n",
    "\t\\hline\n",
    "\\end{array}\n",
    "$$"
   ]
  },
  {
   "cell_type": "markdown",
   "metadata": {},
   "source": [
    "### Posterior pdf's for each possible observed value"
   ]
  },
  {
   "cell_type": "code",
   "execution_count": 10,
   "metadata": {
    "scrolled": true
   },
   "outputs": [
    {
     "data": {
      "image/png": "[encoded data removed]",
      "text/plain": [
       "Plot with title \"Posterior pdf's for observed mean=110\""
      ]
     },
     "metadata": {},
     "output_type": "display_data"
    }
   ],
   "source": [
    "plot(u,dpost.1.continuous.pdf,\"l\",lwd=2.5,col=\"red\",xlab=expression(theta),ylab=\"\",\n",
    "    main=\"Posterior pdf's for observed mean=110\")\n",
    "lines(u,dnorm(u,mean=mux[1],sd=tau),lwd=2.5,col=\"blue\")\n",
    "abline(h=0,lwd=2,col=\"black\")\n",
    "legend(\"topright\",legend=c(\"From a Normal prior\",\"From a t(2) prior\"),lwd=2.2,col=c(\"blue\",\"red\"))\n",
    "abline(v=mux[1],lwd=1,col=\"blue\")\n",
    "abline(v=mode.1,lwd=1,col=\"red\")"
   ]
  },
  {
   "cell_type": "code",
   "execution_count": 11,
   "metadata": {},
   "outputs": [
    {
     "data": {
      "image/png": "[encoded data removed]",
      "text/plain": [
       "Plot with title \"Posterior pdf's for observed mean=125\""
      ]
     },
     "metadata": {},
     "output_type": "display_data"
    }
   ],
   "source": [
    "plot(u,dnorm(u,mean=mux[2],sd=tau),\"l\",lwd=2.5,col=\"blue\",xlab=expression(theta),ylab=\"\",\n",
    "    main=\"Posterior pdf's for observed mean=125\")\n",
    "lines(u,dpost.2.continuous.pdf,lwd=2.5,col=\"red\")\n",
    "abline(h=0,lwd=2,col=\"black\")\n",
    "legend(\"topleft\",legend=c(\"From a Normal prior\",\"From a t(2) prior\"),lwd=2.2,col=c(\"blue\",\"red\"))\n",
    "abline(v=mux[2],lwd=1,col=\"blue\")\n",
    "abline(v=mode.2,lwd=1,col=\"red\")"
   ]
  },
  {
   "cell_type": "code",
   "execution_count": 12,
   "metadata": {},
   "outputs": [
    {
     "data": {
      "image/png": "[encoded data removed]",
      "text/plain": [
       "Plot with title \"Posterior pdf's for observed mean=140\""
      ]
     },
     "metadata": {},
     "output_type": "display_data"
    }
   ],
   "source": [
    "plot(u,dnorm(u,mean=mux[3],sd=tau),\"l\",lwd=2.5,col=\"blue\",xlab=expression(theta),ylab=\"\",\n",
    "    main=\"Posterior pdf's for observed mean=140\")\n",
    "lines(u,dpost.3.continuous.pdf,lwd=2.5,col=\"red\")\n",
    "abline(h=0,lwd=2,col=\"black\")\n",
    "legend(\"topleft\",legend=c(\"From a Normal prior\",\"From a t(2) prior\"),lwd=2.2,col=c(\"blue\",\"red\"))\n",
    "abline(v=mux[3],lwd=1,col=\"blue\")\n",
    "abline(v=mode.3,lwd=1,col=\"red\")"
   ]
  },
  {
   "cell_type": "markdown",
   "metadata": {},
   "source": [
    "#### Discussion\n",
    "\n",
    "When a normal prior is used, the posterior will always be a compromise between the prior information and the observed data, even when the observed data conflicts with prior beliefs. \n",
    "\n",
    "$$\n",
    "\\begin{array}{|l|c|c|c|c|c|}\n",
    "    \\hline\n",
    "                        &\\overline{x}  &110.0     &125.0    &140.0\\\\[0.2cm]\n",
    "    \\hline\n",
    "    \\text{Normal}       &\\mu_{post}    &107.2   &118.1   &129.0\\\\[0.2cm]\n",
    "                        &\\sigma_{post} &6.4     &6.4     &  6.4\\\\[0.2cm]\n",
    "     \\hline\n",
    "     \\operatorname{t}(2)&\\mu_{post}    &105.3   &118.1   &135.4\\\\[0.2cm]\n",
    "                        &\\sigma_{post} &5.8     &7.9     &  8.0\\\\[0.2cm]\n",
    "     \\hline\n",
    "\\end{array}\n",
    "$$\n",
    "\n",
    "In contrast, when a $t$ prior is used, when the likelihood falls in the flat-tailed portion of the prior ($x=140$) the posterior will resemble the likelihood function.\n",
    "\n",
    "The conclusion is, when the observed $x$ is consistent with the prior beliefs then inference about the mean is robust to the choice of prior (normal or Student's t), but when an extreme $x$ is observed, contrary to prior belief (both with normal or Student's t prior), then inferences are not robust to the choice of prior."
   ]
  },
  {
   "cell_type": "markdown",
   "metadata": {
    "collapsed": true
   },
   "source": [
    "#### Exercise\n",
    "\n",
    "Repeat the above computations with a Student's t with one degree of freedom as alternative pdf."
   ]
  },
  {
   "cell_type": "code",
   "execution_count": null,
   "metadata": {},
   "outputs": [],
   "source": [
    "#\n",
    "# Insert here your code\n",
    "#"
   ]
  },
  {
   "cell_type": "markdown",
   "metadata": {},
   "source": [
    "#### Discussion\n",
    "\n",
    "When a normal prior is used, the posterior will always be a compromise between the prior information and the observed data, even when the observed data conflicts with prior beliefs. \n",
    "\n",
    "$$\n",
    "\\begin{array}{|l|c|c|c|c|c|}\n",
    "    \\hline\n",
    "                        &\\overline{x}  &110.0     &125.0    &140.0\\\\[0.2cm]\n",
    "    \\hline\n",
    "    \\text{Normal}       &\\mu_{post}    &107.2   &118.1   &129.0\\\\[0.2cm]\n",
    "                        &\\sigma_{post} &6.4     &6.4     &  6.4\\\\[0.2cm]\n",
    "    \\hline\n",
    "    \\operatorname{t}(2)&\\mu_{post}    &105.3   &118.1   &135.4\\\\[0.2cm]\n",
    "                        &\\sigma_{post} &5.8     &7.9     &  8.0\\\\[0.2cm]\n",
    "    \\hline\n",
    "    \\operatorname{t}(1)&\\mu_{post}    &103.4   &118.1   &136.8\\\\[0.2cm]\n",
    "                       &\\sigma_{post} &5.1     &8.9     &  7.9\\\\[0.2cm]\n",
    "    \\hline\n",
    "\\end{array}\n",
    "$$\n",
    "\n",
    "In contrast, when a $t$ prior is used, when the likelihood falls in the flat-tailed portion of the prior ($x=140$) the posterior will resemble the likelihood function.\n",
    "\n",
    "The conclusion is, when the observed $x$ is consistent with the prior beliefs then inference about the mean is robust to the choice of prior (normal or Student's t), but when an extreme $x$ is observed, contrary to prior belief (both with normal or Student's t prior), then inferences are not robust to the choice of prior.\n",
    "\n",
    "This effect is slightly enhanced for the $\\operatorname{t}(1)$ prior, with respect to which the observed $\\overline{x}=140$ is even more extreme.\n"
   ]
  },
  {
   "cell_type": "code",
   "execution_count": null,
   "metadata": {},
   "outputs": [],
   "source": []
  }
 ],
 "metadata": {
  "kernelspec": {
   "display_name": "R",
   "language": "R",
   "name": "ir"
  },
  "language_info": {
   "codemirror_mode": "r",
   "file_extension": ".r",
   "mimetype": "text/x-r-source",
   "name": "R",
   "pygments_lexer": "r",
   "version": "3.4.3"
  }
 },
 "nbformat": 4,
 "nbformat_minor": 2
}
